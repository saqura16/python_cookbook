{
 "cells": [
  {
   "cell_type": "markdown",
   "metadata": {},
   "source": [
    "##### 问题:\n",
    "我们希望函数只通过关键字的形式接受特定的参数."
   ]
  },
  {
   "cell_type": "markdown",
   "metadata": {},
   "source": [
    "##### 解决方案:\n",
    "如果将关键字参数放置在以*打头的参数或者是一个单独的*之后，这个特性就很容易实现。示例如下："
   ]
  },
  {
   "cell_type": "code",
   "execution_count": 12,
   "metadata": {},
   "outputs": [],
   "source": [
    "def recv(maxsize, *, block):\n",
    "    pass\n",
    "\n",
    "# recv(1024, True) # TypeError\n",
    "recv(1024, block=True) "
   ]
  },
  {
   "cell_type": "markdown",
   "metadata": {},
   "source": [
    "这项技术也可以用来为那些可接受任意数量的位置参数的函数来指定关键字参数。示例如下："
   ]
  },
  {
   "cell_type": "code",
   "execution_count": 13,
   "metadata": {},
   "outputs": [
    {
     "name": "stdout",
     "output_type": "stream",
     "text": [
      "-5\n",
      "0\n"
     ]
    }
   ],
   "source": [
    "def mininum(*values, clip=None):\n",
    "    m = min(values) \n",
    "    if clip is not None:\n",
    "        m = clip if clip > m else m \n",
    "    return m \n",
    "\n",
    "print(mininum(1, 5, 2, -5, 10))\n",
    "print(mininum(1, 5, 2, -5, 10, clip=0))\n"
   ]
  },
  {
   "cell_type": "markdown",
   "metadata": {},
   "source": [
    "指定可选的函数参数时，keyword-only参数常常是一种提高代码可读性的好方法。比如，考虑下面这个调用:\n"
   ]
  },
  {
   "cell_type": "markdown",
   "metadata": {},
   "source": [
    "<div>msg = recv(1024, False)</div>"
   ]
  },
  {
   "cell_type": "markdown",
   "metadata": {},
   "source": [
    "如果某些人不熟悉recv()的工作方式，他们可能会搞不清楚这里的False参数到底表示了什么意义。而另一方面，如果这个调用可以写成下面这样的话，那就显得清晰多了：<div>msg = recv(1024, block=False)</div>"
   ]
  },
  {
   "cell_type": "markdown",
   "metadata": {},
   "source": [
    "在有关**kwargs的技巧中，使用keyword-only参数常常也是很可取的。因为当用户请求帮助信息时，它们可以适时地显示出来：\n"
   ]
  },
  {
   "cell_type": "code",
   "execution_count": 14,
   "metadata": {},
   "outputs": [
    {
     "name": "stdout",
     "output_type": "stream",
     "text": [
      "Help on function recv in module __main__:\n",
      "\n",
      "recv(maxsize, *, block)\n",
      "\n"
     ]
    }
   ],
   "source": [
    "help(recv)"
   ]
  },
  {
   "cell_type": "markdown",
   "metadata": {},
   "source": [
    "keyword-only参数在更加高级的上下文环境中同样也能起到作用。比如说，可以用来为函数注入参数，这些函数利用*args和**kwargs接受所有的输入参数。可参见9.11节中的示例。"
   ]
  }
 ],
 "metadata": {
  "interpreter": {
   "hash": "9e68ebf596df7713ab296bba418491aae41f185aff501f4839864b40868f87cf"
  },
  "kernelspec": {
   "display_name": "Python 3.9.12 64-bit (windows store)",
   "language": "python",
   "name": "python3"
  },
  "language_info": {
   "codemirror_mode": {
    "name": "ipython",
    "version": 3
   },
   "file_extension": ".py",
   "mimetype": "text/x-python",
   "name": "python",
   "nbconvert_exporter": "python",
   "pygments_lexer": "ipython3",
   "version": "3.9.12"
  },
  "orig_nbformat": 4
 },
 "nbformat": 4,
 "nbformat_minor": 2
}
