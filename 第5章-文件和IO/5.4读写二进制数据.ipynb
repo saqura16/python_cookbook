{
 "cells": [
  {
   "cell_type": "markdown",
   "metadata": {},
   "source": [
    "##### 问题:\n",
    "我们需要读写二进制数据，比如图像、声音文件等。\n"
   ]
  },
  {
   "cell_type": "markdown",
   "metadata": {},
   "source": [
    "##### 解决方案:\n",
    "使用open()函数的rb或者wb模式就可以实现对二进制数据的读或写。示例如下："
   ]
  },
  {
   "cell_type": "code",
   "execution_count": 11,
   "metadata": {},
   "outputs": [],
   "source": [
    "with open('2.png', 'rb') as f:\n",
    "    data = f.read()"
   ]
  },
  {
   "cell_type": "markdown",
   "metadata": {},
   "source": [
    "当读取二进制数据时，很重要的一点是所有的数据将以字节串（byte string）的形式返回，而不是文本字符串。同样地，当写入二进制数据时，数据必须是以对象的形式来提供，而且该对象可以将数据以字节形式暴露出来（即，字节串、bytearray对象等）"
   ]
  },
  {
   "cell_type": "markdown",
   "metadata": {},
   "source": [
    "当读取二进制数据时，由于字节串和文本字符串之间存在微妙的语义差异，这可能会造成一些潜在的问题。特别要注意的是，在做索引和迭代操作时，字节串会返回代表该字节的整数值而不是字符串。示例如下："
   ]
  },
  {
   "cell_type": "code",
   "execution_count": 12,
   "metadata": {},
   "outputs": [
    {
     "data": {
      "text/plain": [
       "'H'"
      ]
     },
     "execution_count": 12,
     "metadata": {},
     "output_type": "execute_result"
    }
   ],
   "source": [
    "t = 'Hello World'\n",
    "t[0]"
   ]
  },
  {
   "cell_type": "code",
   "execution_count": 13,
   "metadata": {},
   "outputs": [
    {
     "name": "stdout",
     "output_type": "stream",
     "text": [
      "H\n",
      "e\n",
      "l\n",
      "l\n",
      "o\n",
      " \n",
      "W\n",
      "o\n",
      "r\n",
      "l\n",
      "d\n"
     ]
    }
   ],
   "source": [
    "for c in t: \n",
    "    print(c)"
   ]
  },
  {
   "cell_type": "code",
   "execution_count": 14,
   "metadata": {},
   "outputs": [
    {
     "data": {
      "text/plain": [
       "72"
      ]
     },
     "execution_count": 14,
     "metadata": {},
     "output_type": "execute_result"
    }
   ],
   "source": [
    "b = b'Hello World'\n",
    "b[0] "
   ]
  },
  {
   "cell_type": "code",
   "execution_count": 15,
   "metadata": {},
   "outputs": [
    {
     "name": "stdout",
     "output_type": "stream",
     "text": [
      "72\n",
      "101\n",
      "108\n",
      "108\n",
      "111\n",
      "32\n",
      "87\n",
      "111\n",
      "114\n",
      "108\n",
      "100\n"
     ]
    }
   ],
   "source": [
    "for c in b:\n",
    "    print(c)"
   ]
  },
  {
   "cell_type": "markdown",
   "metadata": {},
   "source": [
    "如果需要在二进制文件中读取或写入文本内容，请确保要进行编码或解码操作。示例如下："
   ]
  },
  {
   "cell_type": "code",
   "execution_count": 16,
   "metadata": {},
   "outputs": [
    {
     "data": {
      "text/plain": [
       "\"\\nwith open('somefile.bin', 'rb') as f:\\n    data = f.read(16)\\n    text = data.decode('utf-8') \\nwith open('somefile.bin', 'wb') as f:\\n    text = 'Hello World'\\n    f.write(text.encode('utf-8'))\\n\""
      ]
     },
     "execution_count": 16,
     "metadata": {},
     "output_type": "execute_result"
    }
   ],
   "source": [
    "'''\n",
    "with open('somefile.bin', 'rb') as f:\n",
    "    data = f.read(16)\n",
    "    text = data.decode('utf-8') \n",
    "with open('somefile.bin', 'wb') as f:\n",
    "    text = 'Hello World'\n",
    "    f.write(text.encode('utf-8'))\n",
    "'''"
   ]
  },
  {
   "cell_type": "markdown",
   "metadata": {},
   "source": [
    "关于二进制I/O，一个鲜为人知的行为是，像数组和C结构体这样的对象可以直接用来进行写操作，而不必先将其转换为byte对象。示例如下："
   ]
  },
  {
   "cell_type": "code",
   "execution_count": 17,
   "metadata": {},
   "outputs": [],
   "source": [
    "import array\n",
    "nums = array.array('i', [1, 2, 3, 4]) \n",
    "with open('data.bin','wb') as f:\n",
    "    f.write(nums) "
   ]
  },
  {
   "cell_type": "markdown",
   "metadata": {},
   "source": [
    "这种行为可适用于任何实现了所谓的“缓冲区接口（buffer interface）”的对象。该接口直接将对象底层的内存缓冲区暴露给可以在其上进行的操作。写入二进制数据就是这样一种操作。"
   ]
  },
  {
   "cell_type": "markdown",
   "metadata": {},
   "source": [
    "有许多对象还支持直接将二进制数据读入到它们底层的内存中，只要使用文件对象的readinto()方法就可以了。示例如下："
   ]
  },
  {
   "cell_type": "code",
   "execution_count": 18,
   "metadata": {},
   "outputs": [
    {
     "name": "stdout",
     "output_type": "stream",
     "text": [
      "array('i', [1, 2, 3, 4, 0, 0, 0, 0])\n"
     ]
    }
   ],
   "source": [
    "import array\n",
    "a = array.array('i', [0, 0, 0, 0, 0, 0, 0, 0]) \n",
    "with open('data.bin', 'rb') as f: \n",
    "    f.readinto(a)\n",
    "print(a)"
   ]
  },
  {
   "cell_type": "markdown",
   "metadata": {},
   "source": [
    "但是，使用这项技术时需要特别小心，因为这常常是与平台特性相关的，而且可能依赖于字（word）的大小和字节序（即大端和小端）等属性。"
   ]
  }
 ],
 "metadata": {
  "interpreter": {
   "hash": "9e68ebf596df7713ab296bba418491aae41f185aff501f4839864b40868f87cf"
  },
  "kernelspec": {
   "display_name": "Python 3.9.12 64-bit (windows store)",
   "language": "python",
   "name": "python3"
  },
  "language_info": {
   "codemirror_mode": {
    "name": "ipython",
    "version": 3
   },
   "file_extension": ".py",
   "mimetype": "text/x-python",
   "name": "python",
   "nbconvert_exporter": "python",
   "pygments_lexer": "ipython3",
   "version": "3.9.12"
  },
  "orig_nbformat": 4
 },
 "nbformat": 4,
 "nbformat_minor": 2
}
