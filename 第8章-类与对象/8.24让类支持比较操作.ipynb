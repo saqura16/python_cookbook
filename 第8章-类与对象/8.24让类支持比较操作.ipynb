{
 "cells": [
  {
   "cell_type": "markdown",
   "metadata": {},
   "source": [
    "##### 问题:\n",
    "我们想使用标准的比较操作符（如>=、!=、<=等）在类实例之间进行比较，但是又不\n",
    "想编写大量的特殊方法。"
   ]
  },
  {
   "cell_type": "markdown",
   "metadata": {},
   "source": [
    "##### 解决方案:\n",
    "通过为每种比较操作符实现一个特殊方法，Python 中的类可以支持比较操作。例如，\n",
    "要支持>=操作符，可以在类中定义一个__ge__()方法。虽然只定义一个方法不算什\n",
    "么，但如果要实现每种可能的比较操作，那么实现这么多特殊方法则很快会变得\n",
    "繁琐。<li><b>ge代表英文Greater than or equal to.\n",
    "<li><b>le代表英文Less than or equal to."
   ]
  },
  {
   "cell_type": "markdown",
   "metadata": {},
   "source": [
    "functools.total_ordering 装饰器可用来简化这个过程。要使用它，可以用它来装饰一个类，\n",
    "然后定义__eq__()以及另一个比较方法（\\_\\_lt\\_\\_、\\_\\_le\\_\\_、\\_\\_gt\\_\\_或者\\_\\_ge\\_\\_）。那么装\n",
    "饰器就会自动为我们实现其他的比较方法。<li><b>lt:小于,le:小于等于,gt:大于,ge:大于等于,ne:不等于,eq:等于</b></li>"
   ]
  },
  {
   "cell_type": "markdown",
   "metadata": {},
   "source": [
    "作为示例，让我们来构建一些房子并为其添加一些房间吧，然后根据房子的大小来进\n",
    "行比较："
   ]
  },
  {
   "cell_type": "code",
   "execution_count": 5,
   "metadata": {},
   "outputs": [],
   "source": [
    "from functools import total_ordering  #引入了类装饰器\n",
    "class Room:\n",
    "    def __init__(self, name, length, width):\n",
    "        self.name = name\n",
    "        self.length = length\n",
    "        self.width = width\n",
    "        self.square_feet = self.length * self.width\n",
    "@total_ordering\n",
    "class House:\n",
    "    def __init__(self, name, style):\n",
    "        self.name = name\n",
    "        self.style = style\n",
    "        self.rooms = list()\n",
    "    @property\n",
    "    def living_space_footage(self):\n",
    "        return sum(r.square_feet for r in self.rooms)\n",
    "    def add_room(self, room):\n",
    "        self.rooms.append(room)\n",
    "    def __str__(self):\n",
    "        return '{}: {} square foot {}'.format(self.name,self.living_space_footage,self.style)\n",
    "    def __eq__(self, other):\n",
    "        return self.living_space_footage == other.living_space_footage\n",
    "    def __lt__(self, other):\n",
    "        return self.living_space_footage < other.living_space_footage\n",
    "\n",
    "\n"
   ]
  },
  {
   "cell_type": "markdown",
   "metadata": {},
   "source": [
    "这里，House 类已经用@total_ordering 来进行装饰了。我们定义了__eq__()和__lt__()来\n",
    "根据房间的总面积对房子进行比较。只需要定义这两个特殊方法就能让其他所有的比\n",
    "较操作正常工作。示例如下："
   ]
  },
  {
   "cell_type": "code",
   "execution_count": 6,
   "metadata": {},
   "outputs": [
    {
     "name": "stdout",
     "output_type": "stream",
     "text": [
      "Is h1 bigger than h2? True\n",
      "Is h2 smaller than h3? True\n",
      "Is h2 greater than or equal to h1? False\n",
      "Which one is biggest? h3: 1101 square foot Split\n",
      "Which is smallest? h2: 846 square foot Ranch\n"
     ]
    }
   ],
   "source": [
    "# Build a few houses, and add rooms to them\n",
    "h1 = House('h1', 'Cape')\n",
    "h1.add_room(Room('Master Bedroom', 14, 21))\n",
    "h1.add_room(Room('Living Room', 18, 20))\n",
    "h1.add_room(Room('Kitchen', 12, 16))\n",
    "h1.add_room(Room('Office', 12, 12))\n",
    "h2 = House('h2', 'Ranch')\n",
    "h2.add_room(Room('Master Bedroom', 14, 21))\n",
    "h2.add_room(Room('Living Room', 18, 20))\n",
    "h2.add_room(Room('Kitchen', 12, 16))\n",
    "h3 = House('h3', 'Split')\n",
    "h3.add_room(Room('Master Bedroom', 14, 21))\n",
    "h3.add_room(Room('Living Room', 18, 20))\n",
    "h3.add_room(Room('Office', 12, 16))\n",
    "h3.add_room(Room('Kitchen', 15, 17))\n",
    "houses = [h1, h2, h3]\n",
    "print('Is h1 bigger than h2?', h1 > h2) # prints True\n",
    "print('Is h2 smaller than h3?', h2 < h3) # prints True\n",
    "print('Is h2 greater than or equal to h1?', h2 >= h1) # Prints False\n",
    "print('Which one is biggest?', max(houses)) # Prints 'h3: 1101-square-foot Split'\n",
    "print('Which is smallest?', min(houses)) # Prints 'h2: 846-square-foot Ranch'"
   ]
  },
  {
   "cell_type": "markdown",
   "metadata": {},
   "source": [
    "如果我们曾经编写过代码让类支持所有的基本比较操作符，那么装饰器 total_ordering\n",
    "对我们而言就并非那么神奇：它从字面上定义了从每个比较方法到其他所有需要该方\n",
    "法的映射关系。因此，如果在类中定义了__lt__()，那么就会利用它来构建其他所有的\n",
    "比较操作符。实际上就是在类中填充以下方法：\n"
   ]
  },
  {
   "cell_type": "code",
   "execution_count": 7,
   "metadata": {},
   "outputs": [],
   "source": [
    "class House:\n",
    "    def __eq__(self, other):    \n",
    "        pass\n",
    "    def __lt__(self, other):\n",
    "        pass\n",
    " # Methods created by @total_ordering    #\n",
    "\n",
    "    __le__ = lambda self, other: self < other or self == other\n",
    "    __gt__ = lambda self, other: not (self < other or self == other)\n",
    "    __ge__ = lambda self, other: not (self < other)\n",
    "    __ne__ = lambda self, other: not self == other "
   ]
  },
  {
   "cell_type": "markdown",
   "metadata": {},
   "source": [
    "的确，自行编写这些方法并不难，但@total_ordering 让这一过程变得更加简单了。"
   ]
  }
 ],
 "metadata": {
  "interpreter": {
   "hash": "cf9b60c5a2fa413cd21cce5a70eb54d8233b7f3c2bf217096b02f2c4f88c6a2d"
  },
  "kernelspec": {
   "display_name": "Python 3.9.13 64-bit (windows store)",
   "language": "python",
   "name": "python3"
  },
  "language_info": {
   "codemirror_mode": {
    "name": "ipython",
    "version": 3
   },
   "file_extension": ".py",
   "mimetype": "text/x-python",
   "name": "python",
   "nbconvert_exporter": "python",
   "pygments_lexer": "ipython3",
   "version": "3.9.13"
  },
  "orig_nbformat": 4
 },
 "nbformat": 4,
 "nbformat_minor": 2
}
