{
 "cells": [
  {
   "cell_type": "markdown",
   "metadata": {},
   "source": [
    "##### 问题:\n",
    "我们编写了许多类，把它们当做数据结构来用。但是我们厌倦了编写高度重复且样式\n",
    "相同的__init__()函数。"
   ]
  },
  {
   "cell_type": "markdown",
   "metadata": {},
   "source": [
    "##### 解决方案:\n",
    "通常我们可以将初始化数据结构的步骤归纳到一个单独的__init__()函数中，并将其定\n",
    "义在一个公共的基类中。示例如下："
   ]
  },
  {
   "cell_type": "code",
   "execution_count": 3,
   "metadata": {},
   "outputs": [],
   "source": [
    "import math\n",
    "class Structure:\n",
    "    # Class variable that specifies expected fields\n",
    "    _fields= []\n",
    "    def __init__(self, *args):\n",
    "        # len(args)指的是列表中元素的个数\n",
    "        if len(args) != len(self._fields): \n",
    "            raise TypeError('Expected {} arguments'.format(len(self._fields)))\n",
    "        # Set the arguments\n",
    "        for name, value in zip(self._fields, args):\n",
    "            setattr(self, name, value)\n",
    "# Example class definitions\n",
    "if __name__ == '__main__':\n",
    "    class Stock(Structure):                     #类的继承\n",
    "        _fields = ['name', 'shares', 'price']   #重写类内的属性\n",
    "    class Point(Structure):\n",
    "        _fields = ['x','y']\n",
    "    class Circle(Structure):\n",
    "        _fields = ['radius']\n",
    "        def area(self):\n",
    "            return math.pi * self.radius ** 2\n"
   ]
  },
  {
   "cell_type": "markdown",
   "metadata": {},
   "source": [
    "如果使用这些类，就会发现它们非常易于构建。示例如下："
   ]
  },
  {
   "cell_type": "code",
   "execution_count": 2,
   "metadata": {},
   "outputs": [],
   "source": [
    "s = Stock('ACME', 50, 91.1)\n",
    "p = Point(2, 3)\n",
    "c = Circle(4.5)\n",
    "# s2 = Stock('ACME', 50)"
   ]
  },
  {
   "cell_type": "markdown",
   "metadata": {},
   "source": [
    "我们应该提供对关键字参数的支持，这里有几种设计上的选择。一种选择就是对关键\n",
    "字参数做映射，这样它们就只对应于定义在_fields 中的属性名。示例如下："
   ]
  },
  {
   "cell_type": "code",
   "execution_count": 4,
   "metadata": {},
   "outputs": [],
   "source": [
    "class Structure:\n",
    "    _fields= []\n",
    "    def __init__(self, *args, **kwargs):\n",
    "        if len(args) > len(self._fields):\n",
    "            raise TypeError('Expected {} arguments'.format(len(self._fields)))\n",
    "        # Set all of the positional arguments\n",
    "        for name, value in zip(self._fields, args):  #把属性名和对应的值顺序打包\n",
    "            setattr(self, name, value) #设置属性并设置属性名\n",
    "        # Set the remaining keyword arguments\n",
    "        for name in self._fields[len(args):]: #对字典匹配,只匹配字典类型的。self._fields[len(args):]指的是fields中字典类型的数据\n",
    "            setattr(self, name, kwargs.pop(name))\n",
    "        # Check for any remaining unknown arguments\n",
    "        if kwargs:\n",
    "             raise TypeError('Invalid argument(s): {}'.format(','.join(kwargs)))\n",
    "# Example use\n",
    "if __name__ == '__main__':\n",
    "    class Stock(Structure):\n",
    "        _fields = ['name', 'shares', 'price'] \n",
    "    s1 = Stock('ACME', 50, 91.1) #必须顺序输入\n",
    "    s2 = Stock('ACME', 50, price=91.1)\n",
    "    s3 = Stock('ACME', price=91.1, shares=50) #字典传入数据"
   ]
  },
  {
   "cell_type": "markdown",
   "metadata": {},
   "source": [
    "另一种可能的选择是利用关键字参数来给类添加额外的属性，这些额外的属性是没有\n",
    "定义在_fields 中的。示例如下："
   ]
  },
  {
   "cell_type": "markdown",
   "metadata": {},
   "source": [
    "<b>(上下原理相似)</b>"
   ]
  },
  {
   "cell_type": "code",
   "execution_count": 6,
   "metadata": {},
   "outputs": [],
   "source": [
    "class Structure:\n",
    "    # Class variable that specifies expected fields\n",
    "    _fields= []\n",
    "    def __init__(self, *args, **kwargs):\n",
    "        if len(args) != len(self._fields):\n",
    "            raise TypeError('Expected {} arguments'.format(len(self._fields)))\n",
    "        # Set the arguments\n",
    "        for name, value in zip(self._fields, args):\n",
    "            setattr(self, name, value)\n",
    "        # Set the additional arguments (if any)\n",
    "        extra_args = kwargs.keys() - self._fields\n",
    "        for name in extra_args:\n",
    "            setattr(self, name, kwargs.pop(name))\n",
    "        if kwargs:\n",
    "            raise TypeError('Duplicate values for {}'.format(','.join(kwargs)))\n",
    "# Example use\n",
    "if __name__ == '__main__':\n",
    "    class Stock(Structure):\n",
    "        _fields = ['name', 'shares', 'price']\n",
    "        s1 = Stock('ACME', 50, 91.1)\n",
    "        s2 = Stock('ACME', 50, price=91.1)\n",
    "        # s3 = Stock('ACME', 50, 91.1, date='8/2/2012')"
   ]
  },
  {
   "cell_type": "markdown",
   "metadata": {},
   "source": [
    "如果要编写的程序中有大量小型的数据结构，那么定义一个通用型的__init__()方法会\n",
    "特别有用。相比于手动编写每个__init__()方法，这么做可使得代码量大大\n",
    "减少："
   ]
  },
  {
   "cell_type": "markdown",
   "metadata": {},
   "source": [
    "我们给出的实现中，一个微妙之处在于使用了 setattr()函数来设定属性值。与之相反的\n",
    "是，有人可能会倾向于直接访问实例字典。示例如下："
   ]
  },
  {
   "cell_type": "code",
   "execution_count": null,
   "metadata": {},
   "outputs": [],
   "source": [
    "class Structure:\n",
    "    #Class variable that specifies expected fields\n",
    "    _fields= []\n",
    "    def __init__(self, *args):\n",
    "        if len(args) != len(self._fields):\n",
    "            raise TypeError('Expected {} arguments'.format(len(self._fields)))\n",
    "        # Set the arguments (alternate)\n",
    "        self.__dict__.update(zip(self._fields,args))"
   ]
  },
  {
   "cell_type": "markdown",
   "metadata": {},
   "source": [
    "尽管这么做行得通，但像这样假设子类的实现通常是不安全的。如果某个子类决定使\n",
    "用__slots__或者用 property（也可以是描述符）包装了某个特定的属性，直接访问实例\n",
    "字典就会产生崩溃。我们给出的解决方案已经尽可能地做到通用，不会对子类的实现\n",
    "做任何假设。"
   ]
  },
  {
   "cell_type": "markdown",
   "metadata": {},
   "source": [
    "这种技术的一个潜在缺点就是会影响到 IDE（集成开发环境）的文档和帮助功能。如\n",
    "果用户针对某个特定的类寻求帮助，那么所需的参数将不会以正常的形式来表述。示\n",
    "例如下："
   ]
  },
  {
   "cell_type": "code",
   "execution_count": 7,
   "metadata": {},
   "outputs": [
    {
     "name": "stdout",
     "output_type": "stream",
     "text": [
      "Help on class Stock in module __main__:\n",
      "\n",
      "class Stock(Structure)\n",
      " |  Stock(*args, **kwargs)\n",
      " |  \n",
      " |  Method resolution order:\n",
      " |      Stock\n",
      " |      Structure\n",
      " |      builtins.object\n",
      " |  \n",
      " |  Data and other attributes defined here:\n",
      " |  \n",
      " |  _fields = ['name', 'shares', 'price']\n",
      " |  \n",
      " |  s1 = <__main__.Stock object>\n",
      " |  \n",
      " |  s2 = <__main__.Stock object>\n",
      " |  \n",
      " |  ----------------------------------------------------------------------\n",
      " |  Methods inherited from Structure:\n",
      " |  \n",
      " |  __init__(self, *args, **kwargs)\n",
      " |      Initialize self.  See help(type(self)) for accurate signature.\n",
      " |  \n",
      " |  ----------------------------------------------------------------------\n",
      " |  Data descriptors inherited from Structure:\n",
      " |  \n",
      " |  __dict__\n",
      " |      dictionary for instance variables (if defined)\n",
      " |  \n",
      " |  __weakref__\n",
      " |      list of weak references to the object (if defined)\n",
      "\n"
     ]
    }
   ],
   "source": [
    "help(Stock) \n"
   ]
  },
  {
   "cell_type": "markdown",
   "metadata": {},
   "source": [
    "这些问题可以通过在__init__()函数中强制施行类型签名来解决，相关内容请参阅 9.16 节。"
   ]
  },
  {
   "cell_type": "markdown",
   "metadata": {},
   "source": [
    "应该指出的是，也可以采用所谓的“frame hack”技巧来实现自动化的实例变量初始化\n",
    "处理，只要编写一个功能函数即可。示例如下："
   ]
  },
  {
   "cell_type": "code",
   "execution_count": null,
   "metadata": {},
   "outputs": [],
   "source": [
    "def init_fromlocals(self):\n",
    "    import sys\n",
    "    locs = sys._getframe(1).f_locals\n",
    "    for k, v in locs.items():\n",
    "        if k != 'self':\n",
    "            setattr(self, k, v)\n",
    "class Stock:\n",
    "    def __init__(self, name, shares, price):\n",
    "        init_fromlocals(self)"
   ]
  },
  {
   "cell_type": "markdown",
   "metadata": {},
   "source": [
    "在这种方法中，函数 init_fromlocals()利用 sys.\\_getframe()来获取调用方的局部变量。如\n",
    "果在__init__()方法中首先调用这个函数，那么获取到的局部变量就和传递给__init__()\n",
    "方法的参数是一致的，可以轻松用来设定属性。尽管这种方法可以避免在 IDE 中出现\n",
    "获取到不一致的调用签名问题，但比起解决方案中提供的方法要慢上 50%，也需要程\n",
    "序员输入更多的代码，这种方法在幕后也做了更加复杂的操作。如果我们的代码不需\n",
    "要这种额外的能力，那么通常更简单的方案会更好。"
   ]
  }
 ],
 "metadata": {
  "interpreter": {
   "hash": "c428d4300b96006bd89c7861a64ca1379b2ef13eb8daabe066e18431431e18b4"
  },
  "kernelspec": {
   "display_name": "Python 3.9.12 64-bit",
   "language": "python",
   "name": "python3"
  },
  "language_info": {
   "codemirror_mode": {
    "name": "ipython",
    "version": 3
   },
   "file_extension": ".py",
   "mimetype": "text/x-python",
   "name": "python",
   "nbconvert_exporter": "python",
   "pygments_lexer": "ipython3",
   "version": "3.9.12"
  },
  "orig_nbformat": 4
 },
 "nbformat": 4,
 "nbformat_minor": 2
}
