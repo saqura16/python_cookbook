{
 "cells": [
  {
   "cell_type": "markdown",
   "metadata": {},
   "source": [
    "##### 问题:\n",
    "我们使用访问者模式来遍历一个深度嵌套的树结构，但由于超出了 Python 的递归限制\n",
    "而崩溃。我们想要去掉递归，但依旧保持访问者模式的编程风格。"
   ]
  },
  {
   "cell_type": "markdown",
   "metadata": {},
   "source": [
    "##### 解决方案:\n",
    "巧妙利用生成器有时候可用来消除树的遍历或查找算法中的递归。在 8.21 节中，我们\n",
    "已经给出了一个访问者类。下面是这个类的另一种实现方式，通过堆栈和生成器来驱\n",
    "动计算，完全不使用递归。"
   ]
  },
  {
   "cell_type": "code",
   "execution_count": 28,
   "metadata": {},
   "outputs": [],
   "source": [
    "import types\n",
    "\n",
    "\n",
    "class Node:\n",
    "    pass\n",
    "\n",
    "\n",
    "class NodeVisitor:\n",
    "    def visit(self, node):\n",
    "        stack = [node]\n",
    "        last_result = None\n",
    "        while stack:\n",
    "            try:\n",
    "                last = stack[-1]\n",
    "                if isinstance(last, types.GeneratorType):\n",
    "                    stack.append(last.send(last_result))\n",
    "                    last_result = None\n",
    "                elif isinstance(last, Node):\n",
    "                    stack.append(self._visit(stack.pop()))\n",
    "                else:\n",
    "                    last_result = stack.pop()\n",
    "            except StopIteration:\n",
    "                stack.pop()\n",
    "        return last_result\n",
    "\n",
    "    def _visit(self, node):\n",
    "        methname = 'visit_' + type(node).__name__\n",
    "        meth = getattr(self, methname, None)\n",
    "        if meth is None:\n",
    "            meth = self.generic_visit\n",
    "        return meth(node)\n",
    "\n",
    "    def generic_visit(self, node):\n",
    "        raise RuntimeError('No {} method'.format(\n",
    "            'visit_' + type(node).__name__))\n"
   ]
  },
  {
   "cell_type": "markdown",
   "metadata": {},
   "source": [
    "如果使用这个类，就会发现配合之前已有的代码（可能使用了递归），程序仍然可以正\n",
    "常工作。实际上，我们可以用其替换上一节中的访问者类实现。例如，考虑下面的代\n",
    "码，其中涉及表达式树："
   ]
  },
  {
   "cell_type": "code",
   "execution_count": 29,
   "metadata": {},
   "outputs": [
    {
     "name": "stdout",
     "output_type": "stream",
     "text": [
      "0.6\n"
     ]
    }
   ],
   "source": [
    "class UnaryOperator(Node):\n",
    "    def __init__(self, operand):\n",
    "        self.operand = operand\n",
    "\n",
    "\n",
    "class BinaryOperator(Node):\n",
    "    def __init__(self, left, right):\n",
    "        self.left = left\n",
    "        self.right = right\n",
    "\n",
    "\n",
    "class Add(BinaryOperator):\n",
    "    pass\n",
    "\n",
    "\n",
    "class Sub(BinaryOperator):\n",
    "    pass\n",
    "\n",
    "\n",
    "class Mul(BinaryOperator):\n",
    "    pass\n",
    "\n",
    "\n",
    "class Div(BinaryOperator):\n",
    "    pass\n",
    "\n",
    "\n",
    "class Negate(UnaryOperator):\n",
    "    pass\n",
    "\n",
    "\n",
    "class Number(Node):\n",
    "    def __init__(self, value):\n",
    "        self.value = value\n",
    "\n",
    "# A sample visitor class that evaluates expressions\n",
    "\n",
    "\n",
    "class Evaluator(NodeVisitor):\n",
    "    def visit_Number(self, node):\n",
    "        return node.value\n",
    "\n",
    "    def visit_Add(self, node):\n",
    "        return self.visit(node.left) + self.visit(node.right)\n",
    "\n",
    "    def visit_Sub(self, node):\n",
    "        return self.visit(node.left) - self.visit(node.right)\n",
    "\n",
    "    def visit_Mul(self, node):\n",
    "        return self.visit(node.left) * self.visit(node.right)\n",
    "\n",
    "    def visit_Div(self, node):\n",
    "        return self.visit(node.left) / self.visit(node.right)\n",
    "\n",
    "    def visit_Negate(self, node):\n",
    "        return -self.visit(node.operand)\n",
    "\n",
    "\n",
    "if __name__ == '__main__':\n",
    "    # 1 + 2*(3-4) / 5\n",
    "    t1 = Sub(Number(3), Number(4))\n",
    "    t2 = Mul(Number(2), t1)\n",
    "    t3 = Div(t2, Number(5))\n",
    "    t4 = Add(Number(1), t3)\n",
    "    # Evaluate it\n",
    "    e = Evaluator()\n",
    "    print(e.visit(t4))  # Outputs 0.6"
   ]
  },
  {
   "cell_type": "markdown",
   "metadata": {},
   "source": [
    "上述代码在处理简单的表达式时是没有问题的。但是，Evaluator 的实现中使用了递归，\n",
    "如果嵌套层次太深的话程序就会崩溃。示例如下："
   ]
  },
  {
   "cell_type": "code",
   "execution_count": 30,
   "metadata": {},
   "outputs": [],
   "source": [
    "a = Number(0)\n",
    "for n in range(1, 100000):\n",
    "    a = Add(a, Number(n))\n",
    "e = Evaluator() \n",
    "# e.visit(a) \n"
   ]
  },
  {
   "cell_type": "markdown",
   "metadata": {},
   "source": [
    "\n",
    "<img src=\"3.png\" width=\"140% \">"
   ]
  },
  {
   "cell_type": "markdown",
   "metadata": {},
   "source": [
    "现在，我们把 Evaluator 类稍微修改一下："
   ]
  },
  {
   "cell_type": "code",
   "execution_count": 31,
   "metadata": {},
   "outputs": [],
   "source": [
    "class Evaluator(NodeVisitor):\n",
    "    def visit_Number(self, node):\n",
    "        return node.value\n",
    "    def visit_Add(self, node):\n",
    "        yield (yield node.left) + (yield node.right)\n",
    "    def visit_Sub(self, node):\n",
    "        yield (yield node.left) - (yield node.right)\n",
    "    def visit_Mul(self, node):\n",
    "        yield (yield node.left) * (yield node.right)\n",
    "    def visit_Div(self, node):\n",
    "        yield (yield node.left) / (yield node.right)\n",
    "    def visit_Negate(self, node):\n",
    "        yield -(yield node.operand)\n",
    "\n"
   ]
  },
  {
   "cell_type": "markdown",
   "metadata": {},
   "source": [
    "如果再次尝试同样的试验，会发现程序突然就可以正常工作了，真是神奇！"
   ]
  },
  {
   "cell_type": "code",
   "execution_count": 32,
   "metadata": {},
   "outputs": [
    {
     "data": {
      "text/plain": [
       "4999950000"
      ]
     },
     "execution_count": 32,
     "metadata": {},
     "output_type": "execute_result"
    }
   ],
   "source": [
    "a = Number(0)\n",
    "for n in range(1,100000):\n",
    "    a = Add(a, Number(n))\n",
    "e = Evaluator() \n",
    "e.visit(a)"
   ]
  },
  {
   "cell_type": "markdown",
   "metadata": {},
   "source": [
    "如果想在任意一个方法中添加自定义的处理，程序依然可以正常工作。示例如下："
   ]
  },
  {
   "cell_type": "code",
   "execution_count": 33,
   "metadata": {},
   "outputs": [],
   "source": [
    "\n",
    "class Evaluator(NodeVisitor):\n",
    "    def visit_Add(self, node):\n",
    "        print('Add:', node)\n",
    "        lhs = yield node.left   \n",
    "        print('left=', lhs)\n",
    "        rhs = yield node.right\n",
    "        print('right=', rhs)\n",
    "        yield lhs + rhs \n",
    "    def visit_Number(self, node):\n",
    "        return node.value\n",
    "    def visit_Sub(self, node):\n",
    "        yield (yield node.left) - (yield node.right)\n",
    "    def visit_Mul(self, node):\n",
    "        yield (yield node.left) * (yield node.right)\n",
    "    def visit_Div(self, node):\n",
    "        yield (yield node.left) / (yield node.right)\n",
    "    def visit_Negate(self, node):\n",
    "        yield -(yield node.operand)\n",
    "\n"
   ]
  },
  {
   "cell_type": "markdown",
   "metadata": {},
   "source": [
    "下面是示例输出："
   ]
  },
  {
   "cell_type": "code",
   "execution_count": 34,
   "metadata": {},
   "outputs": [
    {
     "name": "stdout",
     "output_type": "stream",
     "text": [
      "Add: <__main__.Add object at 0x0000015C5E2E8940>\n",
      "left= 1\n",
      "right= -0.4\n"
     ]
    },
    {
     "data": {
      "text/plain": [
       "0.6"
      ]
     },
     "execution_count": 34,
     "metadata": {},
     "output_type": "execute_result"
    }
   ],
   "source": [
    "e = Evaluator()\n",
    "e.visit(t4) "
   ]
  },
  {
   "cell_type": "markdown",
   "metadata": {},
   "source": [
    "本节很好地展示了如何利用生成器和协程来控制程序的执行流。这种令人费解的技巧\n",
    "常常能带来很大的优势。要理解本节的内容，需要深入了解几个要点。"
   ]
  },
  {
   "cell_type": "markdown",
   "metadata": {},
   "source": [
    "首先，在有关遍历树结构的问题中，为了避免使用递归，常见的策略就是利用栈或者\n",
    "队列来实现算法。例如，深度优先遍历完全可以实现为将第一个遇到的节点压入栈中，\n",
    "一旦处理结束再将其弹出。解决方案中给出的 visit()方法的核心就是按照这个思路实现\n",
    "的。算法一开始会将初始节点压入 stack 列表中（这里的栈以 Python 列表的形式来\n",
    "实现），然后继续运行直到栈为空为止。在执行算法的时候，栈会根据树结构的深度进\n",
    "行增长。\n"
   ]
  },
  {
   "cell_type": "markdown",
   "metadata": {},
   "source": [
    "第二个要点在于生成器中 yield 语句的行为。当遇到 yield 语句时，生成器会产生出一\n",
    "个值然后暂停执行。本节正是利用这个特性来取代递归。例如，现在我们不用像这样\n",
    "编写递归式的表达式了：\n"
   ]
  },
  {
   "cell_type": "markdown",
   "metadata": {},
   "source": [
    "value = self.visit(node.left)"
   ]
  },
  {
   "cell_type": "markdown",
   "metadata": {},
   "source": [
    "\n",
    "我们用下面这条语句来替代：\n"
   ]
  },
  {
   "cell_type": "markdown",
   "metadata": {},
   "source": [
    "value = yield node.left"
   ]
  },
  {
   "cell_type": "markdown",
   "metadata": {},
   "source": [
    "\n",
    "在幕后，这条语句会将 node.left 节点发送回给 visit()方法。之后，visit()就可以为该节\n",
    "点调用合适的 visit_Name()方法了。从某种意义上说，这几乎和递归算法恰好相反。也\n",
    "就是说，现在不是通过递归调用 visit()来遍历树节点了，而是在处理的过程中用 yield\n",
    "语句来暂停计算。因此，yield 本质上可当做一种信号来告诉算法当前处在 yield 状态的\n",
    "节点需要先被处理，之后剩下的处理才可以继续进行。\n"
   ]
  },
  {
   "cell_type": "markdown",
   "metadata": {},
   "source": [
    "本节中最后一个需要考虑的问题是如何传递结果。当我们使用生成器函数时，我们不能\n",
    "再使用 return 语句来发送结果了（这么做会产生 SyntaxError 异常）。因此，yield 语句\n",
    "必须来承担这个责任。在本节中，如果由 yield 语句产生出的值是非节点类型（non-Node\n",
    "type）的，则认为该值是要发送给计算过程中的下一个步骤的。这正是在代码中使用变\n",
    "量 last_return 的目的所在。一般来说，last_return 将保存某个访问方法上一次产生出的\n",
    "值。这个值会作为 yield 语句的返回值发送到上一个执行的方法中。例如，在下面的代\n",
    "码中：\n"
   ]
  },
  {
   "cell_type": "markdown",
   "metadata": {},
   "source": [
    "value = yield node.left"
   ]
  },
  {
   "cell_type": "markdown",
   "metadata": {},
   "source": [
    "\n",
    "变量 value 将获得 last_return 的值，而这个值正是在为节点 node.left 调用访问方法时返\n",
    "回的结果。"
   ]
  },
  {
   "cell_type": "markdown",
   "metadata": {},
   "source": [
    "以上所有要点都可以在下面的代码片段中找到："
   ]
  },
  {
   "cell_type": "code",
   "execution_count": null,
   "metadata": {},
   "outputs": [],
   "source": [
    "'''\n",
    "try:\n",
    "    last = stack[-1]\n",
    "    if isinstance(last, types.GeneratorType):\n",
    "        stack.append(last.send(last_result))\n",
    "        last_result = None\n",
    "    elif isinstance(last, Node):\n",
    "        stack.append(self._visit(stack.pop()))\n",
    "    else:\n",
    "        last_result = stack.pop()\n",
    "except StopIteration:\n",
    "    stack.pop()\n",
    "'''"
   ]
  },
  {
   "cell_type": "markdown",
   "metadata": {},
   "source": [
    "这段代码简单地查看栈顶并决定下一步该做什么。如果是生成器，那么就调用它的 send()\n",
    "方法将上次得到的结果（如果有结果的话）添加到栈中以待后续处理。send()返回的值\n",
    "和传给 yield 语句的值是相同的。因此，在 yield node.left 这样的语句中，send()返回的\n",
    "就是 Node 的实例 node.left，并会将其放置在栈的顶部。\n"
   ]
  },
  {
   "cell_type": "markdown",
   "metadata": {},
   "source": [
    "如果栈顶是一个 Node 实例，那么该实例会被替换为在该节点上调用合适的访问方法所\n",
    "得到的结果。正是因为这样，我们完全避免了对递归的使用。之前我们是在各个访问\n",
    "方法中以递归的方式直接调用 visit()（参见上一节解决方案中的实现），现在不必这么\n",
    "做了。只要在各个访问方法中使用 yield，那么程序就能正常工作。\n"
   ]
  },
  {
   "cell_type": "markdown",
   "metadata": {},
   "source": [
    "最后，如果栈顶元素为其他值，则可认为这是某种类型的返回值。我们将其从栈中弹\n",
    "出然后保存到 last_result 中。如果栈中的下一个元素是生成器，那么就将它作为 yield\n",
    "语句的返回值发送出去。应该提到的是，visit()的最后一个返回值也会赋给 last_result。\n",
    "这样就使得本节中的代码也能适用于传统的递归实现。如果没有用到生成器，last_result\n",
    "就保存着代码中 return 语句的返回值。\n"
   ]
  },
  {
   "cell_type": "markdown",
   "metadata": {},
   "source": [
    "本节中一个潜在的危险在于产生 Node 和非 Node 值之间的区别。在我们的实现中会自\n",
    "动遍历所有的 Node 实例。这意味着我们不能把 Node 当做返回值来进行传递。在实践\n",
    "中，这也许无关紧要。但是如果确实有这个需求，就需要对算法做轻微的调整。例如，\n",
    "可以通过引入另一个类来解决："
   ]
  },
  {
   "cell_type": "code",
   "execution_count": null,
   "metadata": {},
   "outputs": [],
   "source": [
    "class Visit:\n",
    "    def __init__(self, node):\n",
    "        self.node = node\n",
    "class NodeVisitor:\n",
    "    def visit(self, node):\n",
    "        stack = [ Visit(node) ]\n",
    "        last_result = None\n",
    "        while stack:\n",
    "            try:\n",
    "                last = stack[-1]\n",
    "                if isinstance(last, types.GeneratorType):\n",
    "                    stack.append(last.send(last_result))\n",
    "                    last_result = None\n",
    "                elif isinstance(last, Visit):\n",
    "                    stack.append(self._visit(stack.pop().node))\n",
    "                else:\n",
    "                    last_result = stack.pop()\n",
    "            except StopIteration:\n",
    "                stack.pop()\n",
    "        return last_result\n",
    "    def _visit(self, node):\n",
    "        methname = 'visit_' + type(node).__name__\n",
    "        meth = getattr(self, methname, None)\n",
    "        if meth is None:\n",
    "            meth = self.generic_visit\n",
    "        return meth(node)\n",
    "    def generic_visit(self, node):\n",
    "        raise RuntimeError('No {} method'.format('visit_' + type(node).__name__)) "
   ]
  },
  {
   "cell_type": "markdown",
   "metadata": {},
   "source": [
    "根据上面的实现，现在访问方法看起来就是这样的了："
   ]
  },
  {
   "cell_type": "code",
   "execution_count": null,
   "metadata": {},
   "outputs": [],
   "source": [
    "class Evaluator(NodeVisitor):\n",
    "\n",
    "    def visit_Add(self, node):\n",
    "        yield (yield Visit(node.left)) + (yield Visit(node.right))\n",
    "    def visit_Sub(self, node):\n",
    "        yield (yield Visit(node.left)) - (yield Visit(node.right))"
   ]
  },
  {
   "cell_type": "markdown",
   "metadata": {},
   "source": [
    "看过本节之后，你可能会倾向于去实现一种不涉及 yield 的解决方案。但是，这么做会\n",
    "使得我们必须在代码中处理本节中已经提到过的诸多问题。例如，要消除对递归的使\n",
    "用，需要维护一个栈。也需要有某种方法来管理对树结构的遍历以及调用各种访问者\n",
    "方法的逻辑。没有生成器的帮助，这种代码将演变成一锅大杂烩，其中混杂着对栈的\n",
    "操作、回调函数以及其他的组件。坦白说，使用 yield 的主要优势在于我们能够以优雅\n",
    "的风格编写出非递归式的代码，而且看起来和递归式的实现几乎一样。"
   ]
  },
  {
   "cell_type": "code",
   "execution_count": null,
   "metadata": {},
   "outputs": [],
   "source": [
    "#最终代码：\n",
    "import types\n",
    "class Node:\n",
    "    pass\n",
    "class NodeVisitor:\n",
    "    def visit(self, node):\n",
    "        stack = [node]\n",
    "        print(type(stack))\n",
    "        last_result = None\n",
    "        while stack:\n",
    "            try:\n",
    "                last = stack[-1]\n",
    "                if isinstance(last, types.GeneratorType):\n",
    "                    stack.append(last.send(last_result))\n",
    "                    last_result = None\n",
    "                elif isinstance(last, Node):\n",
    "                    stack.append(self._visit(stack.pop()))\n",
    "                else:\n",
    "                    last_result = stack.pop()\n",
    "            except StopIteration:\n",
    "                stack.pop()\n",
    "        return last_result\n",
    "\n",
    "    def _visit(self, node):\n",
    "        methname = 'visit_' + type(node).__name__\n",
    "        meth = getattr(self, methname, None)\n",
    "        if meth is None:\n",
    "            meth = self.generic_visit\n",
    "        return meth(node)\n",
    "\n",
    "    def generic_visit(self, node):\n",
    "        raise RuntimeError('No {} method'.format(\n",
    "            'visit_' + type(node).__name__))\n",
    "class UnaryOperator(Node):\n",
    "    def __init__(self, operand):\n",
    "        self.operand = operand\n",
    "\n",
    "\n",
    "class BinaryOperator(Node):\n",
    "    def __init__(self, left, right):\n",
    "        self.left = left\n",
    "        self.right = right\n",
    "\n",
    "\n",
    "class Add(BinaryOperator):\n",
    "    pass\n",
    "\n",
    "\n",
    "class Sub(BinaryOperator):\n",
    "    pass\n",
    "\n",
    "\n",
    "class Mul(BinaryOperator):\n",
    "    pass\n",
    "\n",
    "\n",
    "class Div(BinaryOperator):\n",
    "    pass\n",
    "\n",
    "\n",
    "class Negate(UnaryOperator):\n",
    "    pass\n",
    "\n",
    "\n",
    "class Number(Node):\n",
    "    def __init__(self, value):\n",
    "        self.value = value\n",
    "\n",
    "class Evaluator(NodeVisitor):\n",
    "    def visit_Number(self, node):\n",
    "        return node.value\n",
    "    def visit_Add(self, node):\n",
    "        yield (yield node.left) + (yield node.right)\n",
    "    def visit_Sub(self, node):\n",
    "        yield (yield node.left) - (yield node.right)\n",
    "    def visit_Mul(self, node):\n",
    "        yield (yield node.left) * (yield node.right)\n",
    "    def visit_Div(self, node):\n",
    "        yield (yield node.left) / (yield node.right)\n",
    "    def visit_Negate(self, node):\n",
    "        yield -(yield node.operand)\n",
    "\n",
    "a = Number(0)\n",
    "for n in range(1,6):\n",
    "    a = Add(a, Number(n))\n",
    "e = Evaluator() \n",
    "print(e.visit(a))\n",
    "\n"
   ]
  }
 ],
 "metadata": {
  "interpreter": {
   "hash": "cf9b60c5a2fa413cd21cce5a70eb54d8233b7f3c2bf217096b02f2c4f88c6a2d"
  },
  "kernelspec": {
   "display_name": "Python 3.9.13 64-bit (windows store)",
   "language": "python",
   "name": "python3"
  },
  "language_info": {
   "codemirror_mode": {
    "name": "ipython",
    "version": 3
   },
   "file_extension": ".py",
   "mimetype": "text/x-python",
   "name": "python",
   "nbconvert_exporter": "python",
   "pygments_lexer": "ipython3",
   "version": "3.9.13"
  },
  "orig_nbformat": 4
 },
 "nbformat": 4,
 "nbformat_minor": 2
}
