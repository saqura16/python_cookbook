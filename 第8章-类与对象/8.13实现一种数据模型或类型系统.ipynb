{
 "cells": [
  {
   "cell_type": "markdown",
   "metadata": {},
   "source": [
    "##### 问题:\n",
    "我们想定义各种各样的数据结构，但是对于某些特定的属性，我们想对允许赋给它们\n",
    "的值强制添加一些限制。"
   ]
  },
  {
   "cell_type": "markdown",
   "metadata": {},
   "source": [
    "##### 解决方案:\n",
    "在这个问题中，基本上我们面对的任务就是在设定特定的实例属性时添加检查或者\n",
    "断言。为了做到这点，需要对每个属性的设定做定制化处理，因此应该使用描述符来\n",
    "完成。"
   ]
  },
  {
   "cell_type": "markdown",
   "metadata": {},
   "source": [
    "下面的代码使用描述符实现了一个类型系统以及对值进行检查的框架："
   ]
  },
  {
   "cell_type": "code",
   "execution_count": 20,
   "metadata": {},
   "outputs": [],
   "source": [
    "# Base class. Uses a descriptor to set a value\n",
    "class Descriptor:\n",
    "    def __init__(self, name=None, **opts):\n",
    "        self.name = name\n",
    "        for key, value in opts.items():\n",
    "            setattr(self, key, value)\n",
    "    def __set__(self, instance, value):\n",
    "        instance.__dict__[self.name] = value\n",
    "\n",
    "# Descriptor for enforcing types\n",
    "class Typed(Descriptor):\n",
    "    expected_type = type(None) \n",
    "    def __set__(self, instance, value):\n",
    "        if not isinstance(value, self.expected_type):\n",
    "            raise TypeError('expected ' + str(self.expected_type))\n",
    "        super().__set__(instance, value)\n",
    "\n",
    "# Descriptor for enforcing values\n",
    "class Unsigned(Descriptor):\n",
    "    def __set__(self, instance, value):\n",
    "        if value < 0:\n",
    "            raise ValueError('Expected >= 0')\n",
    "        super().__set__(instance, value)\n",
    "        \n",
    "class MaxSized(Descriptor):\n",
    "    def __init__(self, name=None, **opts):\n",
    "        if 'size' not in opts:   #opts是个字典!size是key,判断是否传入了size的大小\n",
    "            raise TypeError('missing size option')\n",
    "        super().__init__(name, **opts)\n",
    "    def __set__(self, instance, value): #set方法\n",
    "        if len(value) >= self.size:\n",
    "            raise ValueError('size must be < ' + str(self.size))\n",
    "        super().__set__(instance, value)"
   ]
  },
  {
   "cell_type": "markdown",
   "metadata": {},
   "source": [
    "这些类可作为构建一个数据模型或者类型系统的基础组件。让我们继续，下面这些代\n",
    "码实现了一些不同类型的数据："
   ]
  },
  {
   "cell_type": "code",
   "execution_count": 21,
   "metadata": {},
   "outputs": [],
   "source": [
    "class Integer(Typed):\n",
    "    expected_type = int\n",
    "\n",
    "class UnsignedInteger(Integer, Unsigned):\n",
    "     pass\n",
    "\n",
    "class Float(Typed):\n",
    "    expected_type = float\n",
    "\n",
    "class UnsignedFloat(Float, Unsigned):\n",
    "    pass\n",
    "\n",
    "class String(Typed):\n",
    "    expected_type = str\n",
    "    \n",
    "class SizedString(String, MaxSized):\n",
    "    pass "
   ]
  },
  {
   "cell_type": "markdown",
   "metadata": {},
   "source": [
    "有了这些类型对象，现在就可以像这样定义一个类了："
   ]
  },
  {
   "cell_type": "code",
   "execution_count": 22,
   "metadata": {},
   "outputs": [],
   "source": [
    "class Stock:\n",
    "    # Specify constraints\n",
    "    name = SizedString('name',size=8)\n",
    "    shares = UnsignedInteger('shares')\n",
    "    price = UnsignedFloat('price')\n",
    "    def __init__(self, name, shares, price):\n",
    "        self.name = name\n",
    "        self.shares = shares\n",
    "        self.price = price"
   ]
  },
  {
   "cell_type": "markdown",
   "metadata": {},
   "source": [
    "有了这些约束后，就会发现现在对属性进行赋值是会进行验证的。示例如下："
   ]
  },
  {
   "cell_type": "code",
   "execution_count": 23,
   "metadata": {},
   "outputs": [
    {
     "name": "stdout",
     "output_type": "stream",
     "text": [
      "ACME\n"
     ]
    }
   ],
   "source": [
    "s = Stock('ACME', 50, 91.1)\n",
    "print( s.name )\n",
    "s.shares = 75\n",
    "# s.shares = -10"
   ]
  },
  {
   "cell_type": "markdown",
   "metadata": {},
   "source": [
    "可以运用一些技术来简化在类中设定约束的步骤。一种方法是使用类装饰器，示例\n",
    "如下："
   ]
  },
  {
   "cell_type": "code",
   "execution_count": 24,
   "metadata": {},
   "outputs": [],
   "source": [
    "# Class decorator to apply constraints\n",
    "def check_attributes(**kwargs):\n",
    "    def decorate(cls):\n",
    "        for key, value in kwargs.items():\n",
    "            if isinstance(value, Descriptor):\n",
    "                value.name = key\n",
    "                setattr(cls, key, value)\n",
    "            else:\n",
    "                setattr(cls, key, value(key))\n",
    "                return cls\n",
    "    return decorate\n",
    "# Example\n",
    "@check_attributes(name=SizedString(size=8),\n",
    "shares=UnsignedInteger,\n",
    "price=UnsignedFloat)\n",
    "class Stock:\n",
    " def __init__(self, name, shares, price):\n",
    "    self.name = name\n",
    "    self.shares = shares\n",
    "    self.price = price\n"
   ]
  },
  {
   "cell_type": "markdown",
   "metadata": {},
   "source": [
    "另一种方法是使用元类，示例如下："
   ]
  },
  {
   "cell_type": "code",
   "execution_count": 25,
   "metadata": {},
   "outputs": [],
   "source": [
    "\n",
    "# A metaclass that applies checking\n",
    "class checkedmeta(type):\n",
    "    def __new__(cls, clsname, bases, methods):\n",
    "    # Attach attribute names to the descriptors\n",
    "        for key, value in methods.items():\n",
    "            if isinstance(value, Descriptor):\n",
    "                value.name = key\n",
    "        return type.__new__(cls, clsname, bases, methods)\n",
    "# Example\n",
    "class Stock(metaclass=checkedmeta):\n",
    "    name = SizedString(size=8)\n",
    "    shares = UnsignedInteger()\n",
    "    price = UnsignedFloat()\n",
    "    def __init__(self, name, shares, price):\n",
    "        self.name = name\n",
    "        self.shares = shares\n",
    "        self.price = price "
   ]
  },
  {
   "cell_type": "markdown",
   "metadata": {},
   "source": [
    "本节涉及了好几种高级技术，包括描述符、mixin 类、对 super()的使用、类装饰器以及\n",
    "元类。在这里涵盖所有这些主题的基础知识显然是不现实的，读者可以在其他章节中\n",
    "找到相关的示例（参阅 8.9、8.18、9.12 以及 9.19 节）。但是，还是有几个微妙之处值得我们讨论。"
   ]
  },
  {
   "cell_type": "markdown",
   "metadata": {},
   "source": [
    "首先，在 Descriptor 基类中会发现有一个__set__()方法，但是却没有与之对应的__get__()\n",
    "方法。如果一个描述符所做的仅仅只是从底层的实例字典中提取出具有相同名称的\n",
    "值，那么定义__get__()就是不必要的了。实际上，在这里定义__get__()反而会让程序运\n",
    "行得更慢。因此，本节只会把重点放在对__set__()的实现上。"
   ]
  },
  {
   "cell_type": "markdown",
   "metadata": {},
   "source": [
    "本节中各个描述符类的总体设计是基于 mixin 类的。例如，Unsigned 和 MaxSized 类是\n",
    "用来和其他从 Typed 类中继承而来的描述符类混合在一起使用的。要处理某种特定的\n",
    "数据类型，我们使用多重继承来将所需要的功能联合在一起使用。"
   ]
  },
  {
   "cell_type": "markdown",
   "metadata": {},
   "source": [
    "我们也会注意到所有描述符的__init__()方法已经被编写为具有相同的签名形式，其中\n",
    "涉及关键字参数**opts。MaxSized 类会在 opts 中寻找它所需要的属性，但是会将其传\n",
    "递给基类 Descriptor，然后在基类中完成实际的设定。像这样的组合类（尤其是 mixin），\n",
    "一个棘手的地方在于我们并非总是知道这些类是如何串联起来的，或者 super()到底会\n",
    "调用些什么。基于这个原因，需要保证让所有可能出现的组合类都能正常工作。"
   ]
  },
  {
   "cell_type": "markdown",
   "metadata": {},
   "source": [
    "各种类型类（type classs）的定义比如 Integer、Float 以及 String 展示了一项有用的技术，\n",
    "即，使用类变量来定制化实现。描述符 Typed 仅仅是寻找一个 expected_type 属性，该\n",
    "属性是由那些子类所提供的。"
   ]
  },
  {
   "cell_type": "markdown",
   "metadata": {},
   "source": [
    "使用类装饰器或者元类常常可以简化用户代码。我们会发现在这些例子中，用户不再\n",
    "需要多次输入属性名了。示例如下："
   ]
  },
  {
   "cell_type": "code",
   "execution_count": 26,
   "metadata": {},
   "outputs": [],
   "source": [
    "# Normal\n",
    "class Point:\n",
    "    x = Integer('x')\n",
    "    y = Integer('y')\n",
    "# Metaclass\n",
    "class Point(metaclass=checkedmeta):\n",
    "    x = Integer()\n",
    "    y = Integer()"
   ]
  },
  {
   "cell_type": "markdown",
   "metadata": {},
   "source": [
    "实现类装饰器和元类的代码会扫描类字典，寻找描述符。当找到描述符后，它们会根\n",
    "据键的值自动填入描述符的名称。"
   ]
  },
  {
   "cell_type": "markdown",
   "metadata": {},
   "source": [
    "在所有方法中，类装饰器可以提供最大的灵活性和稳健性。第一，这种解决方案不\n",
    "依赖于任何高级的机制，比如说元类。第二，装饰器可以很容易地根据需要在类定\n",
    "义上添加或者移除。例如，在装饰器中，可以有一个选项来简单地忽略掉添加的\n",
    "检查机制。这样就能让检查机制可以根据需要随意打开或关闭（调试环境对比生产\n",
    "环境）。"
   ]
  },
  {
   "cell_type": "markdown",
   "metadata": {},
   "source": [
    "最后，采用类装饰器的解决方案也可以用来取代 mixin 类、多重继承以及对 super()函数的使用。下面就是使用类装饰器的备选方案：\n"
   ]
  },
  {
   "cell_type": "code",
   "execution_count": null,
   "metadata": {},
   "outputs": [],
   "source": [
    "# Base class. Uses a descriptor to set a value\n",
    "class Descriptor:\n",
    "    def __init__(self, name=None, **opts):\n",
    "        self.name = name\n",
    "        for key, value in opts.items():\n",
    "            setattr(self, key, value)\n",
    "\n",
    "    def __set__(self, instance, value):\n",
    "        instance.__dict__[self.name] = value\n",
    "\n",
    "    # Decorator for applying type checking\n",
    "    def Typed(expected_type, cls=None):\n",
    "        if cls is None:\n",
    "            return lambda cls: Typed(expected_type, cls)\n",
    "        super_set = cls.__set__\n",
    "        def __set__(self, instance, value):\n",
    "            if not isinstance(value, expected_type):\n",
    "                raise TypeError('expected ' + str(expected_type))\n",
    "            super_set(self, instance, value)\n",
    "        cls.__set__ = __set__\n",
    "        return cls\n",
    "\n",
    "# Decorator for unsigned values\n",
    "def Unsigned(cls):\n",
    "    super_set = cls.__set__\n",
    "\n",
    "    def __set__(self, instance, value):\n",
    "        if value < 0:\n",
    "            raise ValueError('Expected >= 0')\n",
    "        super_set(self, instance, value)\n",
    "    cls.__set__ = __set__\n",
    "    return cls\n",
    "\n",
    "# Decorator for allowing sized values\n",
    "def MaxSized(cls):\n",
    "    super_init = cls.__init__\n",
    "\n",
    "    def __init__(self, name=None, **opts):\n",
    "        if 'size' not in opts:\n",
    "            raise TypeError('missing size option')\n",
    "        super_init(self, name, **opts)\n",
    "    cls.__init__ = __init__\n",
    "    super_set = cls.__set__\n",
    "\n",
    "    def __set__(self, instance, value):\n",
    "        if len(value) >= self.size:\n",
    "            raise ValueError('size must be < ' + str(self.size))\n",
    "        super_set(self, instance, value)\n",
    "    cls.__set__ = __set__\n",
    "    return cls\n",
    "\n",
    "# Specialized descriptors\n",
    "@Typed(int)\n",
    "class Integer(Descriptor):\n",
    "    pass\n",
    "\n",
    "@Unsigned\n",
    "class UnsignedInteger(Integer):\n",
    "    pass\n",
    "\n",
    "@Typed(float)\n",
    "class Float(Descriptor):\n",
    "    pass\n",
    "\n",
    "@Unsigned\n",
    "class UnsignedFloat(Float):\n",
    "    pass\n",
    "\n",
    "@Typed(str)\n",
    "class String(Descriptor):\n",
    "    pass\n",
    "\n",
    "@MaxSized\n",
    "class SizedString(String):\n",
    "    pass "
   ]
  },
  {
   "cell_type": "markdown",
   "metadata": {},
   "source": [
    "在这个备选方案中定义的类能够像之前那样以完全相同的方式工作（之前的示例代码\n",
    "都不改变），只是每个部分都会比以前运行得更快。例如，对设定一个类型属性做简单\n",
    "的计时测试就能发现，采用类装饰器的方案运行速度要比采用 mixin 类的方案几乎快\n",
    "上 100%。读到这里你难道还会不开心吗？"
   ]
  }
 ],
 "metadata": {
  "interpreter": {
   "hash": "cf9b60c5a2fa413cd21cce5a70eb54d8233b7f3c2bf217096b02f2c4f88c6a2d"
  },
  "kernelspec": {
   "display_name": "Python 3.9.12 64-bit (windows store)",
   "language": "python",
   "name": "python3"
  },
  "language_info": {
   "codemirror_mode": {
    "name": "ipython",
    "version": 3
   },
   "file_extension": ".py",
   "mimetype": "text/x-python",
   "name": "python",
   "nbconvert_exporter": "python",
   "pygments_lexer": "ipython3",
   "version": "3.9.12"
  },
  "orig_nbformat": 4
 },
 "nbformat": 4,
 "nbformat_minor": 2
}
