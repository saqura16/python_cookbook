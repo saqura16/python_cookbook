{
 "cells": [
  {
   "cell_type": "markdown",
   "metadata": {},
   "source": [
    "##### 问题:\n",
    "我们正在编写一个类，但是想让用户能够以多种方式创建实例，而不局限于__init__()\n",
    "提供的这一种。"
   ]
  },
  {
   "cell_type": "markdown",
   "metadata": {},
   "source": [
    "##### 解决方案:\n",
    "要定义一个含有多个构造函数的类，应该使用类方法。下面是一个简单的示例："
   ]
  },
  {
   "cell_type": "code",
   "execution_count": 3,
   "metadata": {},
   "outputs": [],
   "source": [
    "import time\n",
    "class Date:\n",
    " # Primary constructor\n",
    "    def __init__(self, year, month, day):\n",
    "        self.year = year\n",
    "        self.month = month\n",
    "        self.day = day\n",
    "\n",
    " # Alternate constructor\n",
    "    @classmethod\n",
    "    def today(cls):\n",
    "        t = time.localtime()\n",
    "        return cls(t.tm_year, t.tm_mon, t.tm_mday) "
   ]
  },
  {
   "cell_type": "markdown",
   "metadata": {},
   "source": [
    "要使用这个备选的构造函数，只要把它当做函数来调用即可，例如 Date.today()。示例\n",
    "如下："
   ]
  },
  {
   "cell_type": "code",
   "execution_count": 4,
   "metadata": {},
   "outputs": [],
   "source": [
    "a = Date(2012, 12, 21) # Primary\n",
    "b = Date.today()       # Alternate"
   ]
  },
  {
   "cell_type": "markdown",
   "metadata": {},
   "source": [
    "类方法的一大主要用途就是定义其他可选的构造函数。类方法的一个关键特性就是把\n",
    "类作为其接收的第一个参数（cls）。我们会注意到，类方法中会用到这个类来创建并返\n",
    "回最终的实例。尽管十分微不足道，但正是这一特性使得类方法能够在继承中被正确\n",
    "使用。示例如下："
   ]
  },
  {
   "cell_type": "code",
   "execution_count": 5,
   "metadata": {},
   "outputs": [],
   "source": [
    "class NewDate(Date):\n",
    "    pass\n",
    "c = Date.today()        # Creates an instance of Date (cls=Date)\n",
    "d = NewDate.today()     # Creates an instance of NewDate (cls=NewDate)"
   ]
  },
  {
   "cell_type": "markdown",
   "metadata": {},
   "source": [
    "当定义一个有着多个构造函数的类时，应该让__init__()函数尽可能简单——除了给属\n",
    "性赋值之外什么都不做。如果需要的话，可以在其他备选的构造函数中选择实现更高\n",
    "级的操作。"
   ]
  },
  {
   "cell_type": "markdown",
   "metadata": {},
   "source": [
    "与单独定义一个类方法不同的是，我们可能会倾向于让__init__()方法支持不同的调用\n",
    "约定。示例如下："
   ]
  },
  {
   "cell_type": "code",
   "execution_count": 6,
   "metadata": {},
   "outputs": [],
   "source": [
    "class Date:\n",
    "    def __init__(self, *args):\n",
    "        if len(args) == 0:\n",
    "            t = time.localtime()\n",
    "            args = (t.tm_year, t.tm_mon, t.tm_mday)\n",
    "        self.year, self.month, self.day = args \n",
    "        \n",
    "    @classmethod\n",
    "    def today(cls):\n",
    "        t = time.localtime()\n",
    "        return cls(t.tm_year, t.tm_mon, t.tm_mday) "
   ]
  },
  {
   "cell_type": "markdown",
   "metadata": {},
   "source": [
    "尽管这种技术在某些情况下是行得通的，但常常会使代码变得难以理解也不好维护。\n",
    "比如说，这种实现不会展示出有用的帮助字符串（没有参数名称）。此外，创建 Date\n",
    "实例的代码也会变得不那么清晰。比较下面几种方式就能很容易看出区别："
   ]
  },
  {
   "cell_type": "code",
   "execution_count": 7,
   "metadata": {},
   "outputs": [],
   "source": [
    "a = Date(2012, 12, 21)      # Clear. A specific date.\n",
    "b = Date()                  # ??? What does this do?\n",
    "# Class method version\n",
    "c = Date.today()            # Clear. Today's date."
   ]
  }
 ],
 "metadata": {
  "interpreter": {
   "hash": "cf9b60c5a2fa413cd21cce5a70eb54d8233b7f3c2bf217096b02f2c4f88c6a2d"
  },
  "kernelspec": {
   "display_name": "Python 3.9.12 64-bit (windows store)",
   "language": "python",
   "name": "python3"
  },
  "language_info": {
   "codemirror_mode": {
    "name": "ipython",
    "version": 3
   },
   "file_extension": ".py",
   "mimetype": "text/x-python",
   "name": "python",
   "nbconvert_exporter": "python",
   "pygments_lexer": "ipython3",
   "version": "3.9.12"
  },
  "orig_nbformat": 4
 },
 "nbformat": 4,
 "nbformat_minor": 2
}
