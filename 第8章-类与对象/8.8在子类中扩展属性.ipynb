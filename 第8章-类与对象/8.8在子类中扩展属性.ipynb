{
 "cells": [
  {
   "cell_type": "markdown",
   "metadata": {},
   "source": [
    "##### 问题:\n",
    "我们想在子类中扩展某个属性的功能，而这个属性是在父类中定义的。"
   ]
  },
  {
   "cell_type": "markdown",
   "metadata": {},
   "source": [
    "##### 解决方案:\n",
    "考虑如下的代码，这里我们定义了一个属性 name："
   ]
  },
  {
   "cell_type": "code",
   "execution_count": 1,
   "metadata": {},
   "outputs": [],
   "source": [
    "class Person:\n",
    "    def __init__(self, name):\n",
    "        self.name = name\n",
    "    \n",
    "    # Getter function\n",
    "    @property\n",
    "    def name(self):\n",
    "        return self._name\n",
    "\n",
    "    # Setter function\n",
    "    @name.setter\n",
    "    def name(self, value):\n",
    "        if not isinstance(value, str): #如果传入的不是字符串,并报错\n",
    "            raise TypeError('Expected a string')\n",
    "        self._name = value #反之修改名字为value\n",
    "\n",
    "    # Deleter function\n",
    "    @name.deleter\n",
    "    def name(self):\n",
    "        raise AttributeError(\"Can't delete attribute\")"
   ]
  },
  {
   "cell_type": "markdown",
   "metadata": {},
   "source": [
    "下面我们从 Person 类中继承，然后在子类中扩展 name 属性的功能："
   ]
  },
  {
   "cell_type": "code",
   "execution_count": 2,
   "metadata": {},
   "outputs": [],
   "source": [
    "class SubPerson(Person):\n",
    "    @property\n",
    "    def name(self):\n",
    "        print('Getting name')\n",
    "        return super().name\n",
    "    @name.setter\n",
    "    def name(self, value):\n",
    "        print('Setting name to', value)\n",
    "        super(SubPerson, SubPerson).name.__set__(self, value)\n",
    "    @name.deleter\n",
    "    def name(self):\n",
    "        print('Deleting name')\n",
    "        super(SubPerson, SubPerson).name.__delete__(self)"
   ]
  },
  {
   "cell_type": "markdown",
   "metadata": {},
   "source": [
    "下面是使用这个新类的示例："
   ]
  },
  {
   "cell_type": "code",
   "execution_count": 3,
   "metadata": {},
   "outputs": [
    {
     "name": "stdout",
     "output_type": "stream",
     "text": [
      "Setting name to Guido\n"
     ]
    }
   ],
   "source": [
    "s = SubPerson('Guido')"
   ]
  },
  {
   "cell_type": "code",
   "execution_count": 4,
   "metadata": {},
   "outputs": [
    {
     "name": "stdout",
     "output_type": "stream",
     "text": [
      "Getting name\n"
     ]
    },
    {
     "data": {
      "text/plain": [
       "'Guido'"
      ]
     },
     "execution_count": 4,
     "metadata": {},
     "output_type": "execute_result"
    }
   ],
   "source": [
    "s.name"
   ]
  },
  {
   "cell_type": "code",
   "execution_count": 5,
   "metadata": {},
   "outputs": [
    {
     "name": "stdout",
     "output_type": "stream",
     "text": [
      "Setting name to Larry\n"
     ]
    }
   ],
   "source": [
    "s.name = 'Larry'"
   ]
  },
  {
   "cell_type": "code",
   "execution_count": 6,
   "metadata": {},
   "outputs": [],
   "source": [
    "#s.name = 42"
   ]
  },
  {
   "cell_type": "markdown",
   "metadata": {},
   "source": [
    "如果只想扩展属性中的其中一个方法，可以使用下面的代码实现："
   ]
  },
  {
   "cell_type": "code",
   "execution_count": 7,
   "metadata": {},
   "outputs": [],
   "source": [
    "class SubPerson(Person):\n",
    "    @Person.name.getter\n",
    "    def name(self):\n",
    "        print('Getting name')\n",
    "        return super().name "
   ]
  },
  {
   "cell_type": "markdown",
   "metadata": {},
   "source": [
    "或者，如果只想扩展 setter，可以这样："
   ]
  },
  {
   "cell_type": "code",
   "execution_count": 8,
   "metadata": {},
   "outputs": [],
   "source": [
    "class SubPerson(Person):\n",
    "    @Person.name.setter\n",
    "    def name(self, value):\n",
    "        print('Setting name to', value)\n",
    "        super(SubPerson, SubPerson).name.__set__(self, value)"
   ]
  },
  {
   "cell_type": "markdown",
   "metadata": {},
   "source": [
    "在子类中扩展属性会引入一些非常微妙的问题，因为属性其实是被定义为 getter、setter\n",
    "和 deleter 方法的集合，而不仅仅只是单独的方法。因此，当我们扩展一个属性时，需\n",
    "要弄清楚是要重新定义所有的方法还是只针对其中一个方法做扩展。"
   ]
  },
  {
   "cell_type": "markdown",
   "metadata": {},
   "source": [
    "在第一个例子中，所有的属性方法都被重新定义了。在每个方法中，我们利用 super()\n",
    "函数来调用之前的实现。在 setter 函数中，对 super(SubPerson, SubPerson).name.__\n",
    "set__(self, value)的调用并不是错误，下面我们来解释一下。为了调用到 setter 之前的\n",
    "实现，需要把控制流传递到之前定义的 name 属性的__set__()方法中去。但是，唯一\n",
    "能调用到这个方法的方式就是以类变量而不是实例变量的方式去访问。这正是\n",
    "<b>super(SubPerson, SubPerson)操作所完成的任务。"
   ]
  },
  {
   "cell_type": "markdown",
   "metadata": {},
   "source": [
    "如果只想重新定义其中的一个方法，只使用@property 是不够的。例如，下面这样的代\n",
    "码是无法工作的："
   ]
  },
  {
   "cell_type": "code",
   "execution_count": 9,
   "metadata": {},
   "outputs": [
    {
     "data": {
      "text/plain": [
       "\"\\nclass SubPerson(Person):\\n    @property # Doesn't work\\n    def name(self):\\n        print('Getting name')\\n        return super().name \\n\""
      ]
     },
     "execution_count": 9,
     "metadata": {},
     "output_type": "execute_result"
    }
   ],
   "source": [
    "'''\n",
    "class SubPerson(Person):\n",
    "    @property # Doesn't work\n",
    "    def name(self):\n",
    "        print('Getting name')\n",
    "        return super().name \n",
    "'''"
   ]
  },
  {
   "cell_type": "markdown",
   "metadata": {},
   "source": [
    "如果试着使用这份代码，就会发现 setter 函数完全消失不见了："
   ]
  },
  {
   "cell_type": "code",
   "execution_count": 10,
   "metadata": {},
   "outputs": [],
   "source": [
    "# s = SubPerson('Guido') "
   ]
  },
  {
   "cell_type": "markdown",
   "metadata": {},
   "source": [
    "相反，我们应该将代码修改为解决方案中的那样："
   ]
  },
  {
   "cell_type": "code",
   "execution_count": 11,
   "metadata": {},
   "outputs": [
    {
     "ename": "AttributeError",
     "evalue": "type object 'Person' has no attribute 'getter'",
     "output_type": "error",
     "traceback": [
      "\u001b[1;31m---------------------------------------------------------------------------\u001b[0m",
      "\u001b[1;31mAttributeError\u001b[0m                            Traceback (most recent call last)",
      "\u001b[1;32mc:\\Users\\Windows\\Desktop\\python\\py_cookbook\\第8章类与对象\\8.8在子类中扩展属性.ipynb Cell 22'\u001b[0m in \u001b[0;36m<module>\u001b[1;34m\u001b[0m\n\u001b[1;32m----> <a href='vscode-notebook-cell:/c%3A/Users/Windows/Desktop/python/py_cookbook/%E7%AC%AC8%E7%AB%A0%E7%B1%BB%E4%B8%8E%E5%AF%B9%E8%B1%A1/8.8%E5%9C%A8%E5%AD%90%E7%B1%BB%E4%B8%AD%E6%89%A9%E5%B1%95%E5%B1%9E%E6%80%A7.ipynb#ch0000021?line=0'>1</a>\u001b[0m \u001b[39mclass\u001b[39;00m \u001b[39mSubPerson\u001b[39;00m(Person):\n\u001b[0;32m      <a href='vscode-notebook-cell:/c%3A/Users/Windows/Desktop/python/py_cookbook/%E7%AC%AC8%E7%AB%A0%E7%B1%BB%E4%B8%8E%E5%AF%B9%E8%B1%A1/8.8%E5%9C%A8%E5%AD%90%E7%B1%BB%E4%B8%AD%E6%89%A9%E5%B1%95%E5%B1%9E%E6%80%A7.ipynb#ch0000021?line=1'>2</a>\u001b[0m     \u001b[39m@Person\u001b[39m\u001b[39m.\u001b[39mgetter\n\u001b[0;32m      <a href='vscode-notebook-cell:/c%3A/Users/Windows/Desktop/python/py_cookbook/%E7%AC%AC8%E7%AB%A0%E7%B1%BB%E4%B8%8E%E5%AF%B9%E8%B1%A1/8.8%E5%9C%A8%E5%AD%90%E7%B1%BB%E4%B8%AD%E6%89%A9%E5%B1%95%E5%B1%9E%E6%80%A7.ipynb#ch0000021?line=2'>3</a>\u001b[0m     \u001b[39mdef\u001b[39;00m \u001b[39mname\u001b[39m(\u001b[39mself\u001b[39m):\n\u001b[0;32m      <a href='vscode-notebook-cell:/c%3A/Users/Windows/Desktop/python/py_cookbook/%E7%AC%AC8%E7%AB%A0%E7%B1%BB%E4%B8%8E%E5%AF%B9%E8%B1%A1/8.8%E5%9C%A8%E5%AD%90%E7%B1%BB%E4%B8%AD%E6%89%A9%E5%B1%95%E5%B1%9E%E6%80%A7.ipynb#ch0000021?line=3'>4</a>\u001b[0m         \u001b[39mprint\u001b[39m(\u001b[39m'\u001b[39m\u001b[39mGetting name\u001b[39m\u001b[39m'\u001b[39m)\n",
      "\u001b[1;32mc:\\Users\\Windows\\Desktop\\python\\py_cookbook\\第8章类与对象\\8.8在子类中扩展属性.ipynb Cell 22'\u001b[0m in \u001b[0;36mSubPerson\u001b[1;34m()\u001b[0m\n\u001b[0;32m      <a href='vscode-notebook-cell:/c%3A/Users/Windows/Desktop/python/py_cookbook/%E7%AC%AC8%E7%AB%A0%E7%B1%BB%E4%B8%8E%E5%AF%B9%E8%B1%A1/8.8%E5%9C%A8%E5%AD%90%E7%B1%BB%E4%B8%AD%E6%89%A9%E5%B1%95%E5%B1%9E%E6%80%A7.ipynb#ch0000021?line=0'>1</a>\u001b[0m \u001b[39mclass\u001b[39;00m \u001b[39mSubPerson\u001b[39;00m(Person):\n\u001b[1;32m----> <a href='vscode-notebook-cell:/c%3A/Users/Windows/Desktop/python/py_cookbook/%E7%AC%AC8%E7%AB%A0%E7%B1%BB%E4%B8%8E%E5%AF%B9%E8%B1%A1/8.8%E5%9C%A8%E5%AD%90%E7%B1%BB%E4%B8%AD%E6%89%A9%E5%B1%95%E5%B1%9E%E6%80%A7.ipynb#ch0000021?line=1'>2</a>\u001b[0m     \u001b[39m@Person\u001b[39m\u001b[39m.\u001b[39;49mgetter\n\u001b[0;32m      <a href='vscode-notebook-cell:/c%3A/Users/Windows/Desktop/python/py_cookbook/%E7%AC%AC8%E7%AB%A0%E7%B1%BB%E4%B8%8E%E5%AF%B9%E8%B1%A1/8.8%E5%9C%A8%E5%AD%90%E7%B1%BB%E4%B8%AD%E6%89%A9%E5%B1%95%E5%B1%9E%E6%80%A7.ipynb#ch0000021?line=2'>3</a>\u001b[0m     \u001b[39mdef\u001b[39;00m \u001b[39mname\u001b[39m(\u001b[39mself\u001b[39m):\n\u001b[0;32m      <a href='vscode-notebook-cell:/c%3A/Users/Windows/Desktop/python/py_cookbook/%E7%AC%AC8%E7%AB%A0%E7%B1%BB%E4%B8%8E%E5%AF%B9%E8%B1%A1/8.8%E5%9C%A8%E5%AD%90%E7%B1%BB%E4%B8%AD%E6%89%A9%E5%B1%95%E5%B1%9E%E6%80%A7.ipynb#ch0000021?line=3'>4</a>\u001b[0m         \u001b[39mprint\u001b[39m(\u001b[39m'\u001b[39m\u001b[39mGetting name\u001b[39m\u001b[39m'\u001b[39m)\n\u001b[0;32m      <a href='vscode-notebook-cell:/c%3A/Users/Windows/Desktop/python/py_cookbook/%E7%AC%AC8%E7%AB%A0%E7%B1%BB%E4%B8%8E%E5%AF%B9%E8%B1%A1/8.8%E5%9C%A8%E5%AD%90%E7%B1%BB%E4%B8%AD%E6%89%A9%E5%B1%95%E5%B1%9E%E6%80%A7.ipynb#ch0000021?line=4'>5</a>\u001b[0m         \u001b[39mreturn\u001b[39;00m \u001b[39msuper\u001b[39m()\u001b[39m.\u001b[39mname\n",
      "\u001b[1;31mAttributeError\u001b[0m: type object 'Person' has no attribute 'getter'"
     ]
    }
   ],
   "source": [
    "class SubPerson(Person):\n",
    "    @Person.getter\n",
    "    def name(self):\n",
    "        print('Getting name')\n",
    "        return super().name"
   ]
  },
  {
   "cell_type": "markdown",
   "metadata": {},
   "source": [
    "当这么做之后，所有之前定义过的属性方法都会被拷贝过来，而 getter 函数则会被替换\n",
    "掉。现在可以按照预期的方式工作了："
   ]
  },
  {
   "cell_type": "code",
   "execution_count": null,
   "metadata": {},
   "outputs": [
    {
     "name": "stdout",
     "output_type": "stream",
     "text": [
      "Setting name to Guido\n",
      "Getting name\n"
     ]
    },
    {
     "data": {
      "text/plain": [
       "'Guido'"
      ]
     },
     "execution_count": 25,
     "metadata": {},
     "output_type": "execute_result"
    }
   ],
   "source": [
    "s = SubPerson('Guido')\n",
    "s.name"
   ]
  }
 ],
 "metadata": {
  "interpreter": {
   "hash": "cf9b60c5a2fa413cd21cce5a70eb54d8233b7f3c2bf217096b02f2c4f88c6a2d"
  },
  "kernelspec": {
   "display_name": "Python 3.9.12 64-bit (windows store)",
   "language": "python",
   "name": "python3"
  },
  "language_info": {
   "codemirror_mode": {
    "name": "ipython",
    "version": 3
   },
   "file_extension": ".py",
   "mimetype": "text/x-python",
   "name": "python",
   "nbconvert_exporter": "python",
   "pygments_lexer": "ipython3",
   "version": "3.9.12"
  },
  "orig_nbformat": 4
 },
 "nbformat": 4,
 "nbformat_minor": 2
}
