{
 "cells": [
  {
   "cell_type": "markdown",
   "metadata": {},
   "source": [
    "关于@staticmethod"
   ]
  },
  {
   "cell_type": "code",
   "execution_count": 18,
   "metadata": {},
   "outputs": [
    {
     "name": "stdout",
     "output_type": "stream",
     "text": [
      "1 12\n",
      "2 12\n"
     ]
    }
   ],
   "source": [
    "class A:\n",
    "\n",
    "    @staticmethod\n",
    "    def f(x):\n",
    "        print(x)\n",
    "        #staticmethod无法调用类中的函数,比如self.B()\n",
    "    def B(self):\n",
    "        print('This is func b')\n",
    "\n",
    "#通过类加函数名直接调用\n",
    "A.f(1)\n",
    "#或者通过实例对象进行调用\n",
    "A().f(2)\n",
    "\n"
   ]
  },
  {
   "cell_type": "markdown",
   "metadata": {},
   "source": [
    "关于@classmethod"
   ]
  },
  {
   "cell_type": "code",
   "execution_count": 19,
   "metadata": {},
   "outputs": [
    {
     "name": "stdout",
     "output_type": "stream",
     "text": [
      "<class '__main__.A'> 1\n",
      "<class '__main__.A'> 2\n"
     ]
    }
   ],
   "source": [
    "class A:\n",
    "    @classmethod\n",
    "    def f(cls,x):\n",
    "        print(cls,x)\n",
    "\n",
    "#通过类加函数名直接调用\n",
    "A.f(1)\n",
    "#或者通过实例对象进行调用\n",
    "A().f(2)\n"
   ]
  }
 ],
 "metadata": {
  "interpreter": {
   "hash": "c428d4300b96006bd89c7861a64ca1379b2ef13eb8daabe066e18431431e18b4"
  },
  "kernelspec": {
   "display_name": "Python 3.9.12 64-bit",
   "language": "python",
   "name": "python3"
  },
  "language_info": {
   "codemirror_mode": {
    "name": "ipython",
    "version": 3
   },
   "file_extension": ".py",
   "mimetype": "text/x-python",
   "name": "python",
   "nbconvert_exporter": "python",
   "pygments_lexer": "ipython3",
   "version": "3.9.12"
  },
  "orig_nbformat": 4
 },
 "nbformat": 4,
 "nbformat_minor": 2
}
