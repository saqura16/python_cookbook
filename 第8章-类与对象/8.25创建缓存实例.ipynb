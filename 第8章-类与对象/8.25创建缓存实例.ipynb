{
 "cells": [
  {
   "cell_type": "markdown",
   "metadata": {},
   "source": [
    "##### 问题:\n",
    "当创建类实例时我们想返回一个缓存引用，让其指向上一个用同样参数（如果有的话）\n",
    "创建出的类实例。"
   ]
  },
  {
   "cell_type": "markdown",
   "metadata": {},
   "source": [
    "##### 解决方案:\n",
    "本节提到的这个问题常常出现在当我们想确保针对某一组输入参数只会有一个类实例\n",
    "存在时。现实中的例子包括一些库的行为，比如在 logging 模块中，给定的一个名称只\n",
    "会关联到一个单独的 logger 实例。示例如下："
   ]
  },
  {
   "cell_type": "code",
   "execution_count": 36,
   "metadata": {},
   "outputs": [
    {
     "name": "stdout",
     "output_type": "stream",
     "text": [
      "False\n"
     ]
    },
    {
     "data": {
      "text/plain": [
       "True"
      ]
     },
     "execution_count": 36,
     "metadata": {},
     "output_type": "execute_result"
    }
   ],
   "source": [
    "import logging\n",
    "a = logging.getLogger('foo')\n",
    "b = logging.getLogger('bar')\n",
    "print(a is b)\n",
    "\n",
    "c = logging.getLogger('foo')\n",
    "a is c"
   ]
  },
  {
   "cell_type": "markdown",
   "metadata": {},
   "source": [
    "要实现这一行为，应该使用一个与类本身相分离的工厂函数。示例如下："
   ]
  },
  {
   "cell_type": "code",
   "execution_count": 37,
   "metadata": {},
   "outputs": [],
   "source": [
    "# The class in question\n",
    "class Spam:\n",
    "    def __init__(self, name):\n",
    "        self.name = name\n",
    "# Caching support\n",
    "import weakref                                      #弱链接?\n",
    "_spam_cache = weakref.WeakValueDictionary()\n",
    "def get_spam(name):\n",
    "    if name not in _spam_cache:\n",
    "        s = Spam(name)                              #创建一个实例\n",
    "        _spam_cache[name] = s                       #存入字典\n",
    "    else:\n",
    "        s = _spam_cache[name]                       #存入字典\n",
    "    return s"
   ]
  },
  {
   "cell_type": "markdown",
   "metadata": {},
   "source": [
    "如果你用上述实现，会发现 Spam 类的行为和之前展示的效果一样：\n"
   ]
  },
  {
   "cell_type": "code",
   "execution_count": 38,
   "metadata": {},
   "outputs": [
    {
     "name": "stdout",
     "output_type": "stream",
     "text": [
      "False\n",
      "True\n"
     ]
    }
   ],
   "source": [
    "a = get_spam('foo')\n",
    "b = get_spam('bar')\n",
    "print(a is b)\n",
    "\n",
    "c = get_spam('foo')\n",
    "print(a is c)\n"
   ]
  },
  {
   "cell_type": "markdown",
   "metadata": {},
   "source": [
    "要想修改实例创建的规则，编写一个特殊的工厂函数常常是一种简单的方法。此时，\n",
    "一个常被提到的问题就是是否可以用更加优雅的方式来完成呢？"
   ]
  },
  {
   "cell_type": "markdown",
   "metadata": {},
   "source": [
    "例如，我们可能会考虑重新定义类的__new__()方法："
   ]
  },
  {
   "cell_type": "code",
   "execution_count": 39,
   "metadata": {},
   "outputs": [],
   "source": [
    "# Note: This code doesn't quite work\n",
    "import weakref\n",
    "class Spam:\n",
    "    _spam_cache = weakref.WeakValueDictionary()\n",
    "    def __new__(cls, name):\n",
    "        if name in cls._spam_cache:\n",
    "            return cls._spam_cache[name]\n",
    "        else:\n",
    "            self = super().__new__(cls)\n",
    "            cls._spam_cache[name] = self\n",
    "            return self\n",
    "    def __init__(self, name):\n",
    "        print('Initializing Spam')\n",
    "        self.name = name"
   ]
  },
  {
   "cell_type": "markdown",
   "metadata": {},
   "source": [
    "初看上去，上面的代码似乎可以完成任务。但是，主要的问题在于__init__()方法总是\n",
    "会得到调用，无论对象实例有无得到缓存都是如此。示例如下："
   ]
  },
  {
   "cell_type": "code",
   "execution_count": 40,
   "metadata": {},
   "outputs": [
    {
     "name": "stdout",
     "output_type": "stream",
     "text": [
      "Initializing Spam\n",
      "Initializing Spam\n"
     ]
    },
    {
     "data": {
      "text/plain": [
       "True"
      ]
     },
     "execution_count": 40,
     "metadata": {},
     "output_type": "execute_result"
    }
   ],
   "source": [
    "s = Spam('Dave')\n",
    "t = Spam('Dave')\n",
    "s is t"
   ]
  },
  {
   "cell_type": "markdown",
   "metadata": {},
   "source": [
    "这种行为很可能不是我们想要的。因此，要解决实例缓存后会重复初始化的问题，需\n",
    "要采用一个稍有些不同的方法。"
   ]
  },
  {
   "cell_type": "markdown",
   "metadata": {},
   "source": [
    "本节中对弱引用的运用与垃圾收集有着极为重要的关系。当维护实例缓存时，只要在\n",
    "程序中实际用到了它们，那么通常希望将对象保存在缓存中。WeakValueDictionary 会\n",
    "保存着那些被引用的对象，只要它们存在于程序中的某处即可。否则，当实例不再被\n",
    "使用时，字典的键就会消失。示例如下："
   ]
  },
  {
   "cell_type": "code",
   "execution_count": 41,
   "metadata": {},
   "outputs": [
    {
     "name": "stdout",
     "output_type": "stream",
     "text": [
      "['foo', 'bar']\n",
      "['bar']\n"
     ]
    },
    {
     "data": {
      "text/plain": [
       "[]"
      ]
     },
     "execution_count": 41,
     "metadata": {},
     "output_type": "execute_result"
    }
   ],
   "source": [
    "a = get_spam('foo')\n",
    "b = get_spam('bar')\n",
    "c = get_spam('foo')\n",
    "print(list(_spam_cache))\n",
    "del a\n",
    "del c\n",
    "print(list(_spam_cache))\n",
    "del b\n",
    "list(_spam_cache)"
   ]
  },
  {
   "cell_type": "markdown",
   "metadata": {},
   "source": [
    "对于许多程序而言，使用本节中给出的框架代码通常就足够了。但是，还可以考虑一\n",
    "些更加高级的实现技术。"
   ]
  },
  {
   "cell_type": "markdown",
   "metadata": {},
   "source": [
    "我们立刻能想到的是，本节中的解决方案需要依赖全局变量以及一个与原始的类定义\n",
    "相分离的工厂函数。一种改进方式是将缓存代码放到另一个单独的管理类中，然后将\n",
    "这些组件粘合在一起："
   ]
  },
  {
   "cell_type": "code",
   "execution_count": 42,
   "metadata": {},
   "outputs": [],
   "source": [
    "import weakref\n",
    "class CachedSpamManager:\n",
    "    def __init__(self):\n",
    "        self._cache = weakref.WeakValueDictionary()  #这个字典很重要\n",
    "\n",
    "    def get_spam(self, name):\n",
    "        if name not in self._cache:\n",
    "            s = Spam(name)\n",
    "            self._cache[name] = s\n",
    "        else:\n",
    "            s = self._cache[name]\n",
    "        return s\n",
    "\n",
    "    def clear(self):\n",
    "        self._cache.clear()\n",
    "\n",
    "class Spam:\n",
    "    manager = CachedSpamManager()\n",
    "    def __init__(self, name):\n",
    "        self.name = name\n",
    "\n",
    "    def get_spam(name):\n",
    "        return Spam.manager.get_spam(name)"
   ]
  },
  {
   "cell_type": "markdown",
   "metadata": {},
   "source": [
    "这种方法的特点就是为潜在的灵活性提供了更多支持。例如，我们可以实现不同类型\n",
    "的缓存管理机制（以单独的类来实现），然后附加到 Spam 类中替换掉默认的缓存实现。\n",
    "其他的代码（比如 get_spam）不需要修改就能正常工作。"
   ]
  },
  {
   "cell_type": "markdown",
   "metadata": {},
   "source": [
    "另一种设计上的考虑是到底要不要将类的定义暴露给用户。如果什么都不做的话，用\n",
    "户可以很容易创建出实例，从而绕过缓存机制："
   ]
  },
  {
   "cell_type": "code",
   "execution_count": 43,
   "metadata": {},
   "outputs": [
    {
     "data": {
      "text/plain": [
       "False"
      ]
     },
     "execution_count": 43,
     "metadata": {},
     "output_type": "execute_result"
    }
   ],
   "source": [
    "a = Spam('foo')\n",
    "b = Spam('foo')\n",
    "a is b"
   ]
  },
  {
   "cell_type": "markdown",
   "metadata": {},
   "source": [
    "如果预防出现这种行为对程序而言很重要，我们可以采取特定的步骤来避免。例如，\n",
    "可以在类名前加一个下划线，例如_Spam，这样至少可以提醒用户不应该直接去访\n",
    "问它。\n"
   ]
  },
  {
   "cell_type": "markdown",
   "metadata": {},
   "source": [
    "或者，如果想为用户提供更强的提示，暗示他们不应该直接实例化 Spam 对象，可以让\n",
    "\\_\\_init\\_\\_()方法抛出一个异常，然后用一个类方法来实现构造函数的功能，就像下面\n",
    "这样："
   ]
  },
  {
   "cell_type": "code",
   "execution_count": null,
   "metadata": {},
   "outputs": [],
   "source": [
    "class Spam:\n",
    "    def __init__(self, *args, **kwargs):\n",
    "        raise RuntimeError(\"Can't instantiate directly\")\n",
    "\n",
    " # Alternate constructor\n",
    "    @classmethod\n",
    "    def _new(cls, name):      #写一个new方法来进行实例化对象\n",
    "        self = cls.__new__(cls)\n",
    "        self.name = name "
   ]
  },
  {
   "cell_type": "markdown",
   "metadata": {},
   "source": [
    "要使用上述代码，可以将实现缓存机制的代码修改为使用 Spam._new()来创建实例，而\n",
    "不是使用通常所见的 Spam()。示例如下："
   ]
  },
  {
   "cell_type": "code",
   "execution_count": null,
   "metadata": {},
   "outputs": [],
   "source": [
    "import weakref\n",
    "class CachedSpamManager:\n",
    "    def __init__(self):\n",
    "        self._cache = weakref.WeakValueDictionary()\n",
    "    def get_spam(self, name):\n",
    "        if name not in self._cache:\n",
    "            s = Spam._new(name) # Modified creation\n",
    "            self._cache[name] = s\n",
    "        else:\n",
    "            s = self._cache[name]\n",
    "        return s "
   ]
  },
  {
   "cell_type": "markdown",
   "metadata": {},
   "source": [
    "尽管还有更加极端的方法来隐藏 Spam 类的可见性，但也许最好不要把问题想的过于\n",
    "复杂。在类名前添加下划线或者用类方法作为构造函数通常就足以给程序员带来提\n",
    "示了。\n"
   ]
  },
  {
   "cell_type": "markdown",
   "metadata": {},
   "source": [
    "通过使用元类，缓存机制以及其他的创建模式（creational pattern）通常能够以更加优\n",
    "雅的方式得以解决。关于元类，请参阅 9.13 节。"
   ]
  }
 ],
 "metadata": {
  "interpreter": {
   "hash": "ad2bdc8ecc057115af97d19610ffacc2b4e99fae6737bb82f5d7fb13d2f2c186"
  },
  "kernelspec": {
   "display_name": "Python 3.9.7 ('base')",
   "language": "python",
   "name": "python3"
  },
  "language_info": {
   "codemirror_mode": {
    "name": "ipython",
    "version": 3
   },
   "file_extension": ".py",
   "mimetype": "text/x-python",
   "name": "python",
   "nbconvert_exporter": "python",
   "pygments_lexer": "ipython3",
   "version": "3.9.7"
  },
  "orig_nbformat": 4
 },
 "nbformat": 4,
 "nbformat_minor": 2
}
