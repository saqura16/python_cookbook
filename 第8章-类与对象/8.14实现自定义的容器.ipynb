{
 "cells": [
  {
   "cell_type": "markdown",
   "metadata": {},
   "source": [
    "##### 问题:\n",
    "我们想实现一个自定义的类，用来模仿普通的内建容器类型比如列表或者字典的行为。\n",
    "但是，我们并不完全确定需要实现什么方法来完成。"
   ]
  },
  {
   "cell_type": "markdown",
   "metadata": {},
   "source": [
    "##### 解决方案:\n",
    "collections 库中定义了各种各样的抽象基类，当实现自定义的容器类时它们会非常有\n",
    "用。为了说明清楚，假设我们希望自己的类能够支持迭代操作。要做到这点，只要简\n",
    "单地从 collections.Iterable 中继承即可，就像下面这样："
   ]
  },
  {
   "cell_type": "code",
   "execution_count": 61,
   "metadata": {},
   "outputs": [],
   "source": [
    "import collections.abc\n",
    "class A(collections.abc.Iterable):\n",
    "   def __iter__(self):  #不定义下面报错\n",
    "       pass\n"
   ]
  },
  {
   "cell_type": "markdown",
   "metadata": {},
   "source": [
    "从 collections.Iterable 中继承的好处就是可以确保必须实现所有所需的特殊方法。如果\n",
    "不这么做，那么在实例化时就会得到错误信息："
   ]
  },
  {
   "cell_type": "code",
   "execution_count": 62,
   "metadata": {},
   "outputs": [],
   "source": [
    "a = A()"
   ]
  },
  {
   "cell_type": "markdown",
   "metadata": {},
   "source": [
    "<img src=\"2.png\" width=\"140%\">"
   ]
  },
  {
   "cell_type": "markdown",
   "metadata": {},
   "source": [
    "要修正这个错误，只要在类中实现所需的__iter__()方法即可（参见 4.2 和 4.7 节）。"
   ]
  },
  {
   "cell_type": "markdown",
   "metadata": {},
   "source": [
    "在 collections 库中还有其他一些值得一提的类，包括 Sequence、MutableSequence、\n",
    "Mapping、MutableMapping、Set 以及 MutableSet。这些类中有许多是按照功能层次的\n",
    "递增来进行排列的（例如，Container、Iterable、Sized、Sequence 以及 MutableSequence\n",
    "就是一种递增式的排列）。再次说明，只要简单地对这些类进行实例化操作，就可以知\n",
    "道需要实现哪些方法才能让自定义的容器具有相同的行为："
   ]
  },
  {
   "cell_type": "code",
   "execution_count": 63,
   "metadata": {},
   "outputs": [],
   "source": [
    "import collections.abc\n",
    "# collections.abc.Sequence() 报错"
   ]
  },
  {
   "cell_type": "markdown",
   "metadata": {},
   "source": [
    "<img src=\"1.png\" width=\"140%\">"
   ]
  },
  {
   "cell_type": "markdown",
   "metadata": {},
   "source": [
    "下面有个简单的例子。我们在自定义类中实现了上述所需的方法，创建了一个 Sequence\n",
    "类，且元素总是以排序后的顺序进行存储（我们的例子实现的不是很高效，但能说明\n",
    "大意）："
   ]
  },
  {
   "cell_type": "code",
   "execution_count": 64,
   "metadata": {},
   "outputs": [],
   "source": [
    "import collections\n",
    "import bisect\n",
    "\n",
    "class SortedItems(collections.Sequence):\n",
    "    def __init__(self,initial=None):\n",
    "        self._items = sorted(initial) if initial is not None else []\n",
    "    def __getitem__(self, item):\n",
    "        return self._items[item]\n",
    "    def __len__(self):\n",
    "        return len(self._items)\n",
    "    def add(self,value):\n",
    "        bisect.insort(self._items,value)\n",
    "\n",
    "\n",
    "\n",
    "\n"
   ]
  },
  {
   "cell_type": "markdown",
   "metadata": {},
   "source": [
    "下面是使用这个类的例子："
   ]
  },
  {
   "cell_type": "code",
   "execution_count": 65,
   "metadata": {},
   "outputs": [
    {
     "name": "stdout",
     "output_type": "stream",
     "text": [
      "[1, 2, 5]\n",
      "1\n",
      "[1, 2, 2, 5]\n",
      "4\n"
     ]
    }
   ],
   "source": [
    "itemLt = SortedItems([5,1,2])\n",
    "print(list(itemLt))         #[1, 2, 5]\n",
    "print(itemLt[0])            # 1\n",
    "itemLt.add(2)               #bisect功能非常强大,可以让序列保持有序,所以插入后依旧有序\n",
    "print(list(itemLt))         #[1, 2, 2, 5]\n",
    "print(len(itemLt))          #4"
   ]
  },
  {
   "cell_type": "markdown",
   "metadata": {},
   "source": [
    "可以看到，SortedItems 的实例所表现出的行为和一个普通的序列对象完全一样，并且\n",
    "支持所有常见的操作，包括索引、迭代、len()、是否包含（in 操作符）甚至是分片。"
   ]
  },
  {
   "cell_type": "markdown",
   "metadata": {},
   "source": [
    "顺便说一句，本节中用到的 bisect 模块能够方便地让列表中的元素保持有序。\n",
    "bisect.insort()函数能够将元素插入到列表中且让列表仍然保持有序。"
   ]
  },
  {
   "cell_type": "markdown",
   "metadata": {},
   "source": [
    "从 collections 库中提供的抽象基类继承，可确保我们的自定义容器实现了所有所需的方\n",
    "法。但是，这种继承也便于我们做类型检查。"
   ]
  },
  {
   "cell_type": "markdown",
   "metadata": {},
   "source": [
    "例如，我们的自定义容器将能够满足各种各样的类型检查："
   ]
  },
  {
   "cell_type": "code",
   "execution_count": 66,
   "metadata": {},
   "outputs": [
    {
     "name": "stdout",
     "output_type": "stream",
     "text": [
      "True\n",
      "True\n",
      "False\n"
     ]
    }
   ],
   "source": [
    "items = SortedItems()\n",
    "import collections.abc\n",
    "print(isinstance(items, collections.abc.Iterable))\n",
    "print(isinstance(items, collections.abc.Container)) \n",
    "print(isinstance(items, collections.abc.Mapping)) "
   ]
  },
  {
   "cell_type": "markdown",
   "metadata": {},
   "source": [
    "collections 模块中的许多抽象基类还针对常见的容器方法提供了默认实现。为了说明，\n",
    "假设有一个类从 collections.MutableSequence 中继承而来，就像这样："
   ]
  },
  {
   "cell_type": "code",
   "execution_count": 67,
   "metadata": {},
   "outputs": [],
   "source": [
    "\n",
    "class Items(collections.MutableSequence):\n",
    "    def __init__(self, initial=None):\n",
    "        self._items = list(initial) if initial is not None else []\n",
    "\n",
    "    def __getitem__(self, index):\n",
    "        print('Getting:', index)\n",
    "        return self._items[index]\n",
    "\n",
    "    def __setitem__(self, index, value):\n",
    "        print(\"setting [{}] to {}\".format(index, value))\n",
    "        self._items[index] = value\n",
    "\n",
    "    def __delitem__(self, index):\n",
    "        print(\"delete :\", index)\n",
    "        del self._items[index]\n",
    "\n",
    "    def insert(self, index, value):\n",
    "        print(\"Inserting:\", index, value)\n",
    "        self._items.insert(index, value)\n",
    "\n",
    "    def __len__(self):\n",
    "        print(\"Len\")\n",
    "        return len(self._items)\n"
   ]
  },
  {
   "cell_type": "markdown",
   "metadata": {},
   "source": [
    "如果创建一个 Items 实例，就会发现它几乎支持列表所有的核心方法（例如 append()、\n",
    "remove()、count()等）。这些方法在实现的时候只使用了所需要的那些特殊方法。下面\n",
    "的交互式会话说明了这一点："
   ]
  },
  {
   "cell_type": "code",
   "execution_count": 68,
   "metadata": {},
   "outputs": [
    {
     "name": "stdout",
     "output_type": "stream",
     "text": [
      "Len\n",
      "3\n",
      "Len\n",
      "Inserting: 3 4\n"
     ]
    }
   ],
   "source": [
    "a = Items([1, 2, 3])\n",
    "print(len(a))\n",
    "a.append(4)     "
   ]
  },
  {
   "cell_type": "markdown",
   "metadata": {},
   "source": [
    "本节仅仅只对 Python 的抽象类功能做了简要的介绍。numbers 模块中提供了与数值数\n",
    "据类型相关的类似的抽象基类。要获得更多有关如何创建自己的抽象基类的信息，请\n",
    "参阅 8.12 节。"
   ]
  }
 ],
 "metadata": {
  "interpreter": {
   "hash": "cf9b60c5a2fa413cd21cce5a70eb54d8233b7f3c2bf217096b02f2c4f88c6a2d"
  },
  "kernelspec": {
   "display_name": "Python 3.9.12 64-bit (windows store)",
   "language": "python",
   "name": "python3"
  },
  "language_info": {
   "codemirror_mode": {
    "name": "ipython",
    "version": 3
   },
   "file_extension": ".py",
   "mimetype": "text/x-python",
   "name": "python",
   "nbconvert_exporter": "python",
   "pygments_lexer": "ipython3",
   "version": "3.9.12"
  },
  "orig_nbformat": 4
 },
 "nbformat": 4,
 "nbformat_minor": 2
}
