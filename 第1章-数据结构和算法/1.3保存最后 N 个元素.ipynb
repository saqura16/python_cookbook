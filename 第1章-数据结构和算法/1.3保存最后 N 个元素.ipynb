{
 "cells": [
  {
   "cell_type": "markdown",
   "metadata": {},
   "source": [
    "##### 问题：\n",
    "我们希望在迭代或是其他形式的处理过程中对最后几项记录做一个有限的历史记录统计\n"
   ]
  },
  {
   "cell_type": "code",
   "execution_count": 5,
   "metadata": {},
   "outputs": [
    {
     "name": "stdout",
     "output_type": "stream",
     "text": [
      "python1\n",
      "python2\n",
      "--------------------\n",
      "python1\n",
      "python3--------------------\n",
      "python2\n",
      "python3--------------------\n"
     ]
    }
   ],
   "source": [
    "\n",
    "#保存有限的历史记录可算是 collections.deque 的完美应用场景了。\n",
    "\n",
    "#例如，下面的代码对一系列文本行做简单的文本匹配操作，当发现有匹配时就输出当前的匹配行以及最后检查过的 N 行文本。\n",
    "from collections import deque\n",
    "def search(lines, pattern, history=5):\n",
    "    previous_lines = deque(maxlen=history)\n",
    "    for line in lines:\n",
    "        if pattern in line:\n",
    "            yield line, previous_lines\n",
    "            previous_lines.append(line)\n",
    "    # Example use on a file\n",
    "if __name__ == '__main__':\n",
    "    with open('1.3.txt') as f:\n",
    "        for line, prevlines in search(f, 'python', 5):\n",
    "            for pline in prevlines:\n",
    "                print(pline, end='')\n",
    "                print(line, end='')\n",
    "                print('-'*20)\n",
    " "
   ]
  },
  {
   "cell_type": "markdown",
   "metadata": {},
   "source": [
    "deque(maxlen=N)创建了一个固定长度的队列。当有新记录加入而队列已满时会自动移除最老的那条记录"
   ]
  },
  {
   "cell_type": "code",
   "execution_count": 6,
   "metadata": {},
   "outputs": [
    {
     "name": "stdout",
     "output_type": "stream",
     "text": [
      "deque([1, 2, 3], maxlen=3)\n",
      "deque([2, 3, 4], maxlen=3)\n",
      "deque([3, 4, 5], maxlen=3)\n"
     ]
    }
   ],
   "source": [
    "import collections\n",
    "q = collections.deque(maxlen=3)\n",
    "q.append(1)\n",
    "q.append(2)\n",
    "q.append(3) \n",
    "print(q) # deque([1, 2, 3], maxlen=3)\n",
    "q.append(4) \n",
    "print(q) # deque([2, 3, 4], maxlen=3)\n",
    "q.append(5) \n",
    "print(q) # deque([3, 4, 5], maxlen=3)\n"
   ]
  },
  {
   "cell_type": "markdown",
   "metadata": {},
   "source": [
    "当需要一个简单的队列结构时，deque 可祝你一臂之力。如果不指定队列的大小，也就得到了一个无界限的队列，可以在两端执行添加和弹出操作"
   ]
  },
  {
   "cell_type": "code",
   "execution_count": 7,
   "metadata": {},
   "outputs": [
    {
     "name": "stdout",
     "output_type": "stream",
     "text": [
      "deque([1, 2, 3])\n",
      "deque([4, 1, 2, 3])\n",
      "3\n",
      "4\n"
     ]
    }
   ],
   "source": [
    "q = collections.deque() \n",
    "q.append(1)\n",
    "q.append(2)\n",
    "q.append(3) \n",
    "print(q)     # deque([1, 2, 3])\n",
    "q.appendleft(4) \n",
    "print(q)     #deque([4, 1, 2, 3])\n",
    "print(q.pop())      #3\n",
    "print(q.popleft())  #4"
   ]
  },
  {
   "cell_type": "markdown",
   "metadata": {},
   "source": [
    "从队列两端添加或弹出元素的复杂度都是 O(1)。这和列表不同，当从列表的头部插入或移除元素时，列表的复杂度为 O(N)"
   ]
  }
 ],
 "metadata": {
  "interpreter": {
   "hash": "9e68ebf596df7713ab296bba418491aae41f185aff501f4839864b40868f87cf"
  },
  "kernelspec": {
   "display_name": "Python 3.9.12 64-bit (windows store)",
   "language": "python",
   "name": "python3"
  },
  "language_info": {
   "codemirror_mode": {
    "name": "ipython",
    "version": 3
   },
   "file_extension": ".py",
   "mimetype": "text/x-python",
   "name": "python",
   "nbconvert_exporter": "python",
   "pygments_lexer": "ipython3",
   "version": "3.9.12"
  },
  "orig_nbformat": 4
 },
 "nbformat": 4,
 "nbformat_minor": 2
}
