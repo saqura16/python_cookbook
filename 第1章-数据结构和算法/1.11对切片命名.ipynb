{
 "cells": [
  {
   "cell_type": "markdown",
   "metadata": {},
   "source": [
    "##### 问题:\n",
    "我们的代码已经变得无法阅读，到处都是硬编码的切片索引，我们想将它们清理干净."
   ]
  },
  {
   "cell_type": "markdown",
   "metadata": {},
   "source": [
    "##### 解决方案:\n",
    "假设有一些代码用来从字符串的固定位置中取出具体的数据（比如从一个平面文件或类似的格式）\n",
    "\n"
   ]
  },
  {
   "cell_type": "markdown",
   "metadata": {},
   "source": [
    "方法：为切片命名\n"
   ]
  },
  {
   "cell_type": "code",
   "execution_count": 32,
   "metadata": {},
   "outputs": [
    {
     "name": "stdout",
     "output_type": "stream",
     "text": [
      "100 .......5\n",
      "........\n"
     ]
    }
   ],
   "source": [
    "record = '....................100 .......513.25 ..........'\n",
    "SHARES = slice(20,32)\n",
    "PRICE = slice(40,48)\n",
    "print(record[SHARES],record[PRICE],sep='\\n')\n"
   ]
  },
  {
   "cell_type": "markdown",
   "metadata": {},
   "source": [
    "一般来说，内置的 slice()函数会创建一个切片对象，可以用在任何允许进行切片操作的地方。切片从零开始数前包后不包"
   ]
  },
  {
   "cell_type": "code",
   "execution_count": 33,
   "metadata": {},
   "outputs": [
    {
     "name": "stdout",
     "output_type": "stream",
     "text": [
      "slice(2, 4, None)\n",
      "[2, 3]\n",
      "[2, 3]\n"
     ]
    }
   ],
   "source": [
    "items = [0, 1, 2, 3, 4, 5, 6] \n",
    "a = slice(2, 4) \n",
    "print(a)\n",
    "print(items[2:4])\n",
    "print(items[a]) "
   ]
  },
  {
   "cell_type": "code",
   "execution_count": 34,
   "metadata": {},
   "outputs": [
    {
     "name": "stdout",
     "output_type": "stream",
     "text": [
      "[0, 1, 10, 11, 4, 5, 6]\n"
     ]
    }
   ],
   "source": [
    "items[a] = [10,11]\n",
    "print(items)#直接替换切片里的值"
   ]
  },
  {
   "cell_type": "code",
   "execution_count": 35,
   "metadata": {},
   "outputs": [
    {
     "name": "stdout",
     "output_type": "stream",
     "text": [
      "[0, 1, 4, 5, 6]\n"
     ]
    }
   ],
   "source": [
    "del items[a] #删除列表里切片里的值\n",
    "print(items)"
   ]
  },
  {
   "cell_type": "code",
   "execution_count": 36,
   "metadata": {},
   "outputs": [
    {
     "data": {
      "text/plain": [
       "2"
      ]
     },
     "execution_count": 36,
     "metadata": {},
     "output_type": "execute_result"
    }
   ],
   "source": [
    "a.start # 切片的起始位置"
   ]
  },
  {
   "cell_type": "code",
   "execution_count": 37,
   "metadata": {},
   "outputs": [
    {
     "data": {
      "text/plain": [
       "4"
      ]
     },
     "execution_count": 37,
     "metadata": {},
     "output_type": "execute_result"
    }
   ],
   "source": [
    "# 切片的终止位置\n",
    "a.stop"
   ]
  },
  {
   "cell_type": "code",
   "execution_count": 38,
   "metadata": {},
   "outputs": [
    {
     "name": "stdout",
     "output_type": "stream",
     "text": [
      "None\n"
     ]
    }
   ],
   "source": [
    "print(a.step) #切片的步长   "
   ]
  },
  {
   "cell_type": "markdown",
   "metadata": {},
   "source": [
    "可以通过使用 indices(size)方法将切片映射到特定大小的序列上。这会返回一个(start, stop, step)元组"
   ]
  },
  {
   "cell_type": "code",
   "execution_count": 52,
   "metadata": {},
   "outputs": [
    {
     "name": "stdout",
     "output_type": "stream",
     "text": [
      "slice(0, 10, 1)\n",
      "H\n",
      "e\n",
      "l\n",
      "l\n",
      "o\n",
      "W\n",
      "o\n",
      "r\n",
      "l\n",
      "d\n"
     ]
    }
   ],
   "source": [
    "s = 'HelloWorld'\n",
    "a=slice(0,10,1)\n",
    "print(a)\n",
    "a.indices(len(s))\n",
    "for i in range(*a.indices(len(s))): #i的值为1,2,3,4...9\n",
    "    print(s[i])"
   ]
  }
 ],
 "metadata": {
  "interpreter": {
   "hash": "9e68ebf596df7713ab296bba418491aae41f185aff501f4839864b40868f87cf"
  },
  "kernelspec": {
   "display_name": "Python 3.9.12 64-bit (windows store)",
   "language": "python",
   "name": "python3"
  },
  "language_info": {
   "codemirror_mode": {
    "name": "ipython",
    "version": 3
   },
   "file_extension": ".py",
   "mimetype": "text/x-python",
   "name": "python",
   "nbconvert_exporter": "python",
   "pygments_lexer": "ipython3",
   "version": "3.9.12"
  },
  "orig_nbformat": 4
 },
 "nbformat": 4,
 "nbformat_minor": 2
}
