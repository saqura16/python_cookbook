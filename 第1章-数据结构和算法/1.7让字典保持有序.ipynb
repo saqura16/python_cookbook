{
 "cells": [
  {
   "cell_type": "markdown",
   "metadata": {},
   "source": [
    "##### 问题:\n",
    "我们想创建一个字典，同时当对字典做迭代或序列化操作时，也能控制其中元素的顺序"
   ]
  },
  {
   "cell_type": "markdown",
   "metadata": {},
   "source": [
    "\n",
    "##### 解决方案:\n",
    "要控制字典中元素的顺序，可以使用 collections 模块中的 OrderedDict 类。当对字典做迭代时，它会严格按照元素初始添加的顺序进行"
   ]
  },
  {
   "cell_type": "code",
   "execution_count": 1,
   "metadata": {},
   "outputs": [
    {
     "name": "stdout",
     "output_type": "stream",
     "text": [
      "foo 1\n",
      "bar 2\n",
      "spam 3\n",
      "grok 4\n"
     ]
    }
   ],
   "source": [
    "from collections import OrderedDict\n",
    "d = OrderedDict()\n",
    "d['foo'] = 1\n",
    "d['bar'] = 2\n",
    "d['spam'] = 3\n",
    "d['grok'] = 4\n",
    "\n",
    "for key in d:\n",
    "    print(key, d[key])"
   ]
  },
  {
   "cell_type": "markdown",
   "metadata": {},
   "source": [
    "##### 注意：OrderedDict 内部维护了一个双向链表，它会根据元素加入的顺序来排列键的位置。\n",
    "第一个新加入的元素被放置在链表的末尾。接下来对已存在的键做重新赋值不会改变键\n",
    "的顺序。\n",
    "##### 请注意 OrderedDict 的大小是普通字典的 2 倍多，这是由于它额外创建的链表所致。\n",
    "因此，如果打算构建一个涉及大量 OrderedDict 实例的数据结构（例如从 CSV 文件中读\n",
    "取 100000 行内容到 OrderedDict 列表中），那么需要认真对应用做需求分析，从而判断\n",
    "使用 OrderedDict 所带来的好处是否能超越因额外的内存开销所带来的缺点。"
   ]
  }
 ],
 "metadata": {
  "interpreter": {
   "hash": "9e68ebf596df7713ab296bba418491aae41f185aff501f4839864b40868f87cf"
  },
  "kernelspec": {
   "display_name": "Python 3.9.12 64-bit (windows store)",
   "language": "python",
   "name": "python3"
  },
  "language_info": {
   "codemirror_mode": {
    "name": "ipython",
    "version": 3
   },
   "file_extension": ".py",
   "mimetype": "text/x-python",
   "name": "python",
   "nbconvert_exporter": "python",
   "pygments_lexer": "ipython3",
   "version": "3.9.12"
  },
  "orig_nbformat": 4
 },
 "nbformat": 4,
 "nbformat_minor": 2
}
