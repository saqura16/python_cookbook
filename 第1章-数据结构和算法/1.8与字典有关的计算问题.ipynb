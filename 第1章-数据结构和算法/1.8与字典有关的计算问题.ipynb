{
 "cells": [
  {
   "cell_type": "markdown",
   "metadata": {},
   "source": [
    "\n",
    "##### 问题:\n",
    "我们想在字典上对数据执行各式各样的计算（比如求最小值、最大值、排序等）。"
   ]
  },
  {
   "cell_type": "markdown",
   "metadata": {},
   "source": [
    "#字典排序方法之一，通过对max和min函数增加key值实现"
   ]
  },
  {
   "cell_type": "code",
   "execution_count": 16,
   "metadata": {},
   "outputs": [
    {
     "name": "stdout",
     "output_type": "stream",
     "text": [
      "AAPL 612.78\n"
     ]
    }
   ],
   "source": [
    "\n",
    "prices = {\n",
    "    'ACME': 45.23,\n",
    "    'AAPL': 612.78,\n",
    "    'IBM': 205.55,\n",
    "    'HPQ': 37.20,\n",
    "    'FB': 10.75\n",
    "}\n",
    "a=max(prices,key=lambda x : prices[x])\n",
    "max_a=prices[a]\n",
    "print(a,max_a)"
   ]
  },
  {
   "cell_type": "code",
   "execution_count": 17,
   "metadata": {},
   "outputs": [
    {
     "name": "stdout",
     "output_type": "stream",
     "text": [
      "(612.78, 'AAPL')\n"
     ]
    }
   ],
   "source": [
    "#zip来求最大值和最小值\n",
    "min_price=max(zip(prices.values(),prices.keys()))\n",
    "print(min_price)"
   ]
  },
  {
   "cell_type": "markdown",
   "metadata": {},
   "source": [
    "通过zip来排序，当在这样的元组上执行比较操作时，值会先进行比较，然后才是键。这完全符合我们\n",
    "的期望，允许我们用一条单独的语句轻松的对字典里的内容做整理和排序。"
   ]
  },
  {
   "cell_type": "code",
   "execution_count": 20,
   "metadata": {},
   "outputs": [
    {
     "name": "stdout",
     "output_type": "stream",
     "text": [
      "[(10.75, 'FB'), (37.2, 'HPQ'), (45.23, 'ACME'), (205.55, 'IBM'), (612.78, 'AAPL')]\n"
     ]
    }
   ],
   "source": [
    "#zip来排序\n",
    "ord_price=sorted(zip(prices.values(),prices.keys()))\n",
    "print(ord_price)"
   ]
  },
  {
   "cell_type": "markdown",
   "metadata": {},
   "source": [
    "注意zip()创建了一个迭代器，它的内容只能消费一次"
   ]
  },
  {
   "cell_type": "code",
   "execution_count": 19,
   "metadata": {},
   "outputs": [
    {
     "name": "stdout",
     "output_type": "stream",
     "text": [
      "(10.75, 'FB')\n"
     ]
    }
   ],
   "source": [
    "\n",
    "p=zip(prices.values(), prices.keys())\n",
    "print(min(p))\n",
    "#print(max(p))#只能消费一次，这一句会报错"
   ]
  },
  {
   "cell_type": "markdown",
   "metadata": {},
   "source": [
    "如果尝试在字典上执行常见的数据操作，将会发现它们只会处理键，而不是值。当涉及（value, key）对的比较时，如果碰巧有多个条目拥有相同的\n",
    "value 值，那么此时 key 将用来作为判定结果的依据。"
   ]
  }
 ],
 "metadata": {
  "interpreter": {
   "hash": "9e68ebf596df7713ab296bba418491aae41f185aff501f4839864b40868f87cf"
  },
  "kernelspec": {
   "display_name": "Python 3.9.12 64-bit (windows store)",
   "language": "python",
   "name": "python3"
  },
  "language_info": {
   "codemirror_mode": {
    "name": "ipython",
    "version": 3
   },
   "file_extension": ".py",
   "mimetype": "text/x-python",
   "name": "python",
   "nbconvert_exporter": "python",
   "pygments_lexer": "ipython3",
   "version": "3.9.12"
  },
  "orig_nbformat": 4
 },
 "nbformat": 4,
 "nbformat_minor": 2
}
