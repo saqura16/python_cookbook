{
 "cells": [
  {
   "cell_type": "markdown",
   "metadata": {},
   "source": [
    "##### 问题:\n",
    "我们有一个包含n个元素的元组或序列，现在想把他分解成n个单独的变量\n",
    "##### 解决方案：\n",
    "任何序列（或可迭代的对象）都可以通过一个简单的赋值操作来分解为单独的变量。\n",
    "唯一的要求是变量的总数和结构要与序列相吻合。"
   ]
  },
  {
   "cell_type": "code",
   "execution_count": 1,
   "metadata": {},
   "outputs": [
    {
     "name": "stdout",
     "output_type": "stream",
     "text": [
      "4 5\n"
     ]
    }
   ],
   "source": [
    "p=(4,5)\n",
    "x,y=p\n",
    "print(x,y,sep=' ')"
   ]
  },
  {
   "cell_type": "markdown",
   "metadata": {},
   "source": [
    "如果元素的数量不匹配，将得到一个错误提示。例如："
   ]
  },
  {
   "cell_type": "code",
   "execution_count": 2,
   "metadata": {},
   "outputs": [
    {
     "ename": "ValueError",
     "evalue": "not enough values to unpack (expected 3, got 2)",
     "output_type": "error",
     "traceback": [
      "\u001b[1;31m---------------------------------------------------------------------------\u001b[0m",
      "\u001b[1;31mValueError\u001b[0m                                Traceback (most recent call last)",
      "\u001b[1;32mc:\\Users\\Windows\\Desktop\\python\\py_cookbook\\第1章-数据结构和算法\\1.1将序列分解成单独的变量.ipynb Cell 4'\u001b[0m in \u001b[0;36m<module>\u001b[1;34m\u001b[0m\n\u001b[0;32m      <a href='vscode-notebook-cell:/c%3A/Users/Windows/Desktop/python/py_cookbook/%E7%AC%AC1%E7%AB%A0-%E6%95%B0%E6%8D%AE%E7%BB%93%E6%9E%84%E5%92%8C%E7%AE%97%E6%B3%95/1.1%E5%B0%86%E5%BA%8F%E5%88%97%E5%88%86%E8%A7%A3%E6%88%90%E5%8D%95%E7%8B%AC%E7%9A%84%E5%8F%98%E9%87%8F.ipynb#ch0000006?line=0'>1</a>\u001b[0m p \u001b[39m=\u001b[39m (\u001b[39m4\u001b[39m, \u001b[39m5\u001b[39m)\n\u001b[1;32m----> <a href='vscode-notebook-cell:/c%3A/Users/Windows/Desktop/python/py_cookbook/%E7%AC%AC1%E7%AB%A0-%E6%95%B0%E6%8D%AE%E7%BB%93%E6%9E%84%E5%92%8C%E7%AE%97%E6%B3%95/1.1%E5%B0%86%E5%BA%8F%E5%88%97%E5%88%86%E8%A7%A3%E6%88%90%E5%8D%95%E7%8B%AC%E7%9A%84%E5%8F%98%E9%87%8F.ipynb#ch0000006?line=1'>2</a>\u001b[0m x, y, z \u001b[39m=\u001b[39m p\n",
      "\u001b[1;31mValueError\u001b[0m: not enough values to unpack (expected 3, got 2)"
     ]
    }
   ],
   "source": [
    "p = (4, 5)\n",
    "x, y, z = p"
   ]
  },
  {
   "cell_type": "markdown",
   "metadata": {},
   "source": [
    "当做分解操作时，有时候可能想丢弃某些特定的值。Python 并没有提供特殊的语法来\n",
    "实现这一点，但是通常可以选一个用不到的变量名，以此来作为要丢弃的值的名称。"
   ]
  },
  {
   "cell_type": "code",
   "execution_count": null,
   "metadata": {},
   "outputs": [
    {
     "name": "stdout",
     "output_type": "stream",
     "text": [
      "50 91.1\n"
     ]
    }
   ],
   "source": [
    "data = [ 'ACME', 50, 91.1, (2012, 12, 21) ]\n",
    "_, shares, price, _ = data\n",
    "print(shares,price)"
   ]
  },
  {
   "cell_type": "markdown",
   "metadata": {},
   "source": [
    "但是请确保选择的变量名没有在其他地方用到过。"
   ]
  }
 ],
 "metadata": {
  "interpreter": {
   "hash": "9e68ebf596df7713ab296bba418491aae41f185aff501f4839864b40868f87cf"
  },
  "kernelspec": {
   "display_name": "Python 3 (ipykernel)",
   "language": "python",
   "name": "python3"
  },
  "language_info": {
   "codemirror_mode": {
    "name": "ipython",
    "version": 3
   },
   "file_extension": ".py",
   "mimetype": "text/x-python",
   "name": "python",
   "nbconvert_exporter": "python",
   "pygments_lexer": "ipython3",
   "version": "3.9.12"
  }
 },
 "nbformat": 4,
 "nbformat_minor": 2
}
