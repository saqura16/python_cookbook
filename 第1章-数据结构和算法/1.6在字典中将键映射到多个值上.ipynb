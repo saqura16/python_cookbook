{
 "cells": [
  {
   "cell_type": "markdown",
   "metadata": {},
   "source": [
    "##### 问题:\n",
    "我们想要一个能将键（key）映射到多个值的字典（即所谓的一键多值字典[multidict]）。"
   ]
  },
  {
   "cell_type": "markdown",
   "metadata": {},
   "source": [
    "\n",
    "##### 解决方案:\n",
    "字典是一种关联容器，每个键都映射到一个单独的值上。如果想让键映射到多个值，需\n",
    "要将这多个值保存到另一个容器如列表或集合中。例如，可能会像这样创建字典：\n",
    "d = {\n",
    " 'a' : [1, 2, 3],\n",
    " 'b' : [4, 5]\n",
    "    }\n",
    "  或者：\n",
    "e = {\n",
    " 'a' : {1, 2, 3},\n",
    " 'b' : {4, 5}\n",
    "    }   "
   ]
  },
  {
   "cell_type": "markdown",
   "metadata": {},
   "source": [
    "为了能方便地创建这样的字典，可以利用 collections 模块中的 defaultdict 类。defaultdict\n",
    "的一个特点就是它会自动初始化第一个值，这样只需关注添加元素即可。"
   ]
  },
  {
   "cell_type": "code",
   "execution_count": 7,
   "metadata": {},
   "outputs": [
    {
     "name": "stdout",
     "output_type": "stream",
     "text": [
      "defaultdict(<class 'list'>, {'a': [1, 2], 'b': [4]})\n",
      "defaultdict(<class 'set'>, {'a': {1, 2}, 'b': {4}})\n"
     ]
    }
   ],
   "source": [
    "from collections import defaultdict\n",
    "#list允许有重复值\n",
    "d = defaultdict(list)\n",
    "d['a'].append(1)\n",
    "d['a'].append(2)\n",
    "d['b'].append(4) \n",
    "print(d)\n",
    "#set不允许有重复值\n",
    "d = defaultdict(set)\n",
    "d['a'].add(1)\n",
    "d['a'].add(2)\n",
    "d['b'].add(4) \n",
    "print(d)"
   ]
  },
  {
   "cell_type": "markdown",
   "metadata": {},
   "source": [
    "原则上，构建一个一键多值字典是很容易的。但是如果试着自己对第一个值做初始化\n",
    "操作，这就会变得很杂乱。例如，可能会写下这样的代码：\n"
   ]
  },
  {
   "cell_type": "code",
   "execution_count": null,
   "metadata": {},
   "outputs": [],
   "source": [
    "'''\n",
    "d = {}\n",
    "for key, value in pairs:\n",
    "    if key not in d:\n",
    "    d[key] = []\n",
    "    d[key].append(value)\n",
    "使用 defaultdict 后代码会清晰得多：\n",
    "d = defaultdict(list)\n",
    "for key, value in pairs:\n",
    "    d[key].append(value) \n",
    "'''"
   ]
  }
 ],
 "metadata": {
  "interpreter": {
   "hash": "9e68ebf596df7713ab296bba418491aae41f185aff501f4839864b40868f87cf"
  },
  "kernelspec": {
   "display_name": "Python 3.9.12 64-bit (windows store)",
   "language": "python",
   "name": "python3"
  },
  "language_info": {
   "codemirror_mode": {
    "name": "ipython",
    "version": 3
   },
   "file_extension": ".py",
   "mimetype": "text/x-python",
   "name": "python",
   "nbconvert_exporter": "python",
   "pygments_lexer": "ipython3",
   "version": "3.9.12"
  },
  "orig_nbformat": 4
 },
 "nbformat": 4,
 "nbformat_minor": 2
}
