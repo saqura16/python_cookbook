{
 "cells": [
  {
   "cell_type": "markdown",
   "metadata": {},
   "source": [
    "##### 问题:\n",
    "有一系列的字典或对象实例，我们想根据某个特定的字段（比如说日期）来分组迭代数据"
   ]
  },
  {
   "cell_type": "markdown",
   "metadata": {},
   "source": [
    "##### 解决方案:\n",
    "itertools.groupby()函数在对数据进行分组时特别有用。"
   ]
  },
  {
   "cell_type": "code",
   "execution_count": 5,
   "metadata": {},
   "outputs": [],
   "source": [
    "rows = [\n",
    " {'address': '5412 N CLARK', 'date': '07/01/2012'},\n",
    " {'address': '5148 N CLARK', 'date': '07/04/2012'},\n",
    " {'address': '5800 E 58TH', 'date': '07/02/2012'},\n",
    " {'address': '2122 N CLARK', 'date': '07/03/2012'},\n",
    " {'address': '5645 N RAVENSWOOD', 'date': '07/02/2012'},\n",
    " {'address': '1060 W ADDISON', 'date': '07/02/2012'},\n",
    " {'address': '4801 N BROADWAY', 'date': '07/01/2012'},\n",
    " {'address': '1039 W GRANVILLE', 'date': '07/04/2012'},\n",
    "]\n"
   ]
  },
  {
   "cell_type": "markdown",
   "metadata": {},
   "source": [
    "现在假设想根据日期以分组的方式迭代数据。要做到这些，首先以目标字段（在这个例子中是 date）来对序列排序，然后再使用 itertools.groupby()。"
   ]
  },
  {
   "cell_type": "code",
   "execution_count": 6,
   "metadata": {},
   "outputs": [
    {
     "name": "stdout",
     "output_type": "stream",
     "text": [
      "07/01/2012\n",
      "  {'address': '5412 N CLARK', 'date': '07/01/2012'}\n",
      "  {'address': '4801 N BROADWAY', 'date': '07/01/2012'}\n",
      "07/02/2012\n",
      "  {'address': '5800 E 58TH', 'date': '07/02/2012'}\n",
      "  {'address': '5645 N RAVENSWOOD', 'date': '07/02/2012'}\n",
      "  {'address': '1060 W ADDISON', 'date': '07/02/2012'}\n",
      "07/03/2012\n",
      "  {'address': '2122 N CLARK', 'date': '07/03/2012'}\n",
      "07/04/2012\n",
      "  {'address': '5148 N CLARK', 'date': '07/04/2012'}\n",
      "  {'address': '1039 W GRANVILLE', 'date': '07/04/2012'}\n"
     ]
    }
   ],
   "source": [
    "from operator import itemgetter\n",
    "from itertools import groupby\n",
    "\n",
    "# Sort by the desired field first\n",
    "rows.sort(key=itemgetter('date')) # 因为 groupby()只能检查连续的项，不首先排序的话，将无法按所想的方式来对记录分组.\n",
    "\n",
    "# Iterate in groups\n",
    "for date, items in groupby(rows, key=itemgetter('date')):\n",
    "    print(date)\n",
    "    for i in items:\n",
    "        print(' ',i) "
   ]
  },
  {
   "cell_type": "markdown",
   "metadata": {},
   "source": [
    "函数 groupby()通过扫描序列找出拥有相同值（或是由参数 key 指定的函数所返回的值）\n",
    "的序列项，并将它们分组。"
   ]
  },
  {
   "cell_type": "markdown",
   "metadata": {},
   "source": [
    "在这里重要的是首先要根据感兴趣的字段对数据进行排序。因为 groupby()只能检查连续的项，不首先排序的话，将无法按所想的方式来对记录分组。"
   ]
  },
  {
   "cell_type": "markdown",
   "metadata": {},
   "source": [
    "如果只是简单地根据日期将数据分组到一起，放进一个大的数据结构中以允许进行随机访问，那么利用 defaultdict()构建一个一键多值字典（multidict，见 1.6 节）可能会更好。"
   ]
  },
  {
   "cell_type": "code",
   "execution_count": 7,
   "metadata": {},
   "outputs": [
    {
     "name": "stdout",
     "output_type": "stream",
     "text": [
      "07/01/2012 [{'address': '5412 N CLARK', 'date': '07/01/2012'}, {'address': '4801 N BROADWAY', 'date': '07/01/2012'}]\n",
      "07/02/2012 [{'address': '5800 E 58TH', 'date': '07/02/2012'}, {'address': '5645 N RAVENSWOOD', 'date': '07/02/2012'}, {'address': '1060 W ADDISON', 'date': '07/02/2012'}]\n",
      "07/03/2012 [{'address': '2122 N CLARK', 'date': '07/03/2012'}]\n",
      "07/04/2012 [{'address': '5148 N CLARK', 'date': '07/04/2012'}, {'address': '1039 W GRANVILLE', 'date': '07/04/2012'}]\n"
     ]
    }
   ],
   "source": [
    "from collections import defaultdict\n",
    "rows_by_date = defaultdict(list)\n",
    "for row in rows:\n",
    " rows_by_date[row['date']].append(row)\n",
    "for i,j in rows_by_date.items():\n",
    "    print(i,j)"
   ]
  },
  {
   "cell_type": "markdown",
   "metadata": {},
   "source": [
    "对于后面这个例子，我们并不需要先对记录做排序。因此，如果不考虑内存方面的因\n",
    "素，这种方式会比先排序再用 groupby()迭代要来的更快。"
   ]
  }
 ],
 "metadata": {
  "interpreter": {
   "hash": "9e68ebf596df7713ab296bba418491aae41f185aff501f4839864b40868f87cf"
  },
  "kernelspec": {
   "display_name": "Python 3.9.12 64-bit (windows store)",
   "language": "python",
   "name": "python3"
  },
  "language_info": {
   "codemirror_mode": {
    "name": "ipython",
    "version": 3
   },
   "file_extension": ".py",
   "mimetype": "text/x-python",
   "name": "python",
   "nbconvert_exporter": "python",
   "pygments_lexer": "ipython3",
   "version": "3.9.12"
  },
  "orig_nbformat": 4
 },
 "nbformat": 4,
 "nbformat_minor": 2
}
