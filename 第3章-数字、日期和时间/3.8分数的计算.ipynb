{
 "cells": [
  {
   "cell_type": "markdown",
   "metadata": {},
   "source": [
    "##### 问题:\n",
    "仿佛进入时光机一样，我们突然发现自己在做涉及分数处理的小学家庭作业。或者也许我们正在为自己的木材商店编写测量计算方面的代码。"
   ]
  },
  {
   "cell_type": "markdown",
   "metadata": {},
   "source": [
    "##### 解决方案:\n",
    "fractions模块可以用来处理涉及分数的数学计算问题。示例如下："
   ]
  },
  {
   "cell_type": "code",
   "execution_count": 5,
   "metadata": {},
   "outputs": [
    {
     "name": "stdout",
     "output_type": "stream",
     "text": [
      "27/16\n",
      "35/64\n"
     ]
    }
   ],
   "source": [
    "from fractions import Fraction \n",
    "a = Fraction(5, 4)\n",
    "b = Fraction(7, 16)\n",
    "print(a + b) \n",
    "print(a * b) "
   ]
  },
  {
   "cell_type": "code",
   "execution_count": 7,
   "metadata": {},
   "outputs": [
    {
     "name": "stdout",
     "output_type": "stream",
     "text": [
      "35/64\n",
      "35\n",
      "64\n",
      "0.546875\n"
     ]
    }
   ],
   "source": [
    "# Getting numerator/denominator (获取分子/分母)\n",
    "\n",
    "c = a * b \n",
    "print(c)\n",
    "print(c.numerator)\n",
    "print(c.denominator) \n",
    "\n",
    "# Converting to a float\n",
    "print(float(c))"
   ]
  },
  {
   "cell_type": "code",
   "execution_count": 14,
   "metadata": {},
   "outputs": [
    {
     "name": "stdout",
     "output_type": "stream",
     "text": [
      "4/7\n",
      "29/53\n",
      "35/64\n"
     ]
    }
   ],
   "source": [
    "# Limiting the denominator of a value (限制分母的值来取得一个与float最接近的分数)\n",
    "print(c.limit_denominator(8)) \n",
    "print(c.limit_denominator(60)) \n",
    "print(c.limit_denominator(64)) "
   ]
  },
  {
   "cell_type": "markdown",
   "metadata": {},
   "source": [
    "<li>as_integer_ratio()函数</li>\n",
    "返回由两个整数组成的元组，两数之比等于该分数的值且其分母为正数。"
   ]
  },
  {
   "cell_type": "code",
   "execution_count": 17,
   "metadata": {},
   "outputs": [
    {
     "name": "stdout",
     "output_type": "stream",
     "text": [
      "15/4\n"
     ]
    }
   ],
   "source": [
    "# Converting a float to a fraction (转浮点为分数)\n",
    "x = 3.75 \n",
    "y = Fraction(*x.as_integer_ratio()) #将元组传入Fraction中\n",
    "print(y)"
   ]
  },
  {
   "cell_type": "markdown",
   "metadata": {},
   "source": [
    "在大多数程序中，涉及分数的计算问题并不常见。但是在有些场景中使用分数还是有道理的。比如，允许程序接受以分数形式给出的单位计量并执行相应的计算，这样可以避免用户手动将数据转换为Decimal对象或浮点数。"
   ]
  },
  {
   "cell_type": "markdown",
   "metadata": {},
   "source": [
    "##### decimal --- 十进制定点和浮点运算\n",
    "<li>描述:</li>\n",
    "Decimal 数字的表示是完全精确的。 相比之下，1.1 和 2.2 这样的数字在二进制浮点中没有精确的表示。 最终用户通常不希望 1.1 + 2.2 如二进制浮点数表示那样被显示为 3.3000000000000003。\n",
    "<li>用法</li>\n",
    "<div>from decimal import Decimal </div>\n",
    "<div>a = Decimal('4.2')  </div>\n",
    "<div>b = Decimal('2.1')  </div>\n",
    "<div>c=a + b  </div>\n",
    "<div>print(c) </div>\n",
    "<div>print(c==Decimal('6.3')) </div>"
   ]
  }
 ],
 "metadata": {
  "interpreter": {
   "hash": "9e68ebf596df7713ab296bba418491aae41f185aff501f4839864b40868f87cf"
  },
  "kernelspec": {
   "display_name": "Python 3.9.12 64-bit (windows store)",
   "language": "python",
   "name": "python3"
  },
  "language_info": {
   "codemirror_mode": {
    "name": "ipython",
    "version": 3
   },
   "file_extension": ".py",
   "mimetype": "text/x-python",
   "name": "python",
   "nbconvert_exporter": "python",
   "pygments_lexer": "ipython3",
   "version": "3.9.12"
  },
  "orig_nbformat": 4
 },
 "nbformat": 4,
 "nbformat_minor": 2
}
