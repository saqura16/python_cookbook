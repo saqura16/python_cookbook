{
 "cells": [
  {
   "cell_type": "markdown",
   "metadata": {},
   "source": [
    "##### 问题\n",
    "我们需要对大型的数据集比如数组或网格（grid）进行计算。"
   ]
  },
  {
   "cell_type": "markdown",
   "metadata": {},
   "source": [
    "##### 解决方案:\n",
    "对于任何涉及数组的计算密集型任务，请使用NumPy库。NumPy的主要特性是为Python提供了数组对象，比标准Python中的列表有着更好的性能表现，因此更加适合于做数学计算。下面是一个简短的示例，用来说明列表同NumPy数组在行为上的几个重要不同之处："
   ]
  },
  {
   "cell_type": "code",
   "execution_count": 1,
   "metadata": {},
   "outputs": [
    {
     "data": {
      "text/plain": [
       "[1, 2, 3, 4, 1, 2, 3, 4]"
      ]
     },
     "execution_count": 1,
     "metadata": {},
     "output_type": "execute_result"
    }
   ],
   "source": [
    "#Python lists \n",
    "x = [1, 2, 3, 4] \n",
    "y = [5, 6, 7, 8] \n",
    "x * 2 #每个数值由一个变成了两个\n"
   ]
  },
  {
   "cell_type": "code",
   "execution_count": 2,
   "metadata": {},
   "outputs": [],
   "source": [
    "#x+10 #报错"
   ]
  },
  {
   "cell_type": "code",
   "execution_count": 3,
   "metadata": {},
   "outputs": [
    {
     "data": {
      "text/plain": [
       "[1, 2, 3, 4, 5, 6, 7, 8]"
      ]
     },
     "execution_count": 3,
     "metadata": {},
     "output_type": "execute_result"
    }
   ],
   "source": [
    "x + y  "
   ]
  },
  {
   "cell_type": "code",
   "execution_count": 4,
   "metadata": {},
   "outputs": [
    {
     "name": "stdout",
     "output_type": "stream",
     "text": [
      "[2 4 6 8]\n",
      "[11 12 13 14]\n",
      "[ 6  8 10 12]\n",
      "[ 5 12 21 32]\n"
     ]
    }
   ],
   "source": [
    "# Numpy arrays \n",
    "import numpy as numpy \n",
    "ax = numpy.array([1, 2, 3, 4]) \n",
    "ay = numpy.array([5, 6, 7, 8]) \n",
    "print(ax * 2 )\n",
    "print(ax + 10)  \n",
    "print(ax + ay) \n",
    "print(ax * ay)"
   ]
  },
  {
   "cell_type": "markdown",
   "metadata": {},
   "source": [
    "可以看到，有关数组的几个基本数学运算在行为上都有所不同。特别是，NumPy中的数组在进行标量运算（例如  ax  *  2或ax + 10）时是针对逐个元素进行计算的。"
   ]
  },
  {
   "cell_type": "markdown",
   "metadata": {},
   "source": [
    "此外，当两个操作数都是数组时，NumPy数组在进行数学运算时会针对数组的所有元素进行计算，并产生出一个新的数组作为结果。"
   ]
  },
  {
   "cell_type": "markdown",
   "metadata": {},
   "source": [
    "由于数学操作会同时施加于所有的元素之上，这一事实使得对整个数组的计算变得非常简单和快速。比方说，如果想计算多项式的值："
   ]
  },
  {
   "cell_type": "code",
   "execution_count": 5,
   "metadata": {},
   "outputs": [
    {
     "data": {
      "text/plain": [
       "array([ 8, 15, 28, 47])"
      ]
     },
     "execution_count": 5,
     "metadata": {},
     "output_type": "execute_result"
    }
   ],
   "source": [
    "def f(x): \n",
    "    return 3*x**2 - 2*x + 7 \n",
    "f(ax) #对数组中所有的值进行函数运算"
   ]
  },
  {
   "cell_type": "markdown",
   "metadata": {},
   "source": [
    "NumPy提供了一些“通用函数”的集合，它们也能对数组进行操作。这些通用函数可作为math模块中所对应函数的替代。示例如下："
   ]
  },
  {
   "cell_type": "code",
   "execution_count": 6,
   "metadata": {},
   "outputs": [
    {
     "name": "stdout",
     "output_type": "stream",
     "text": [
      "[1.         1.41421356 1.73205081 2.        ]\n",
      "[ 0.54030231 -0.41614684 -0.9899925  -0.65364362]\n"
     ]
    }
   ],
   "source": [
    "\n",
    "print(numpy.sqrt(ax))\n",
    "print(numpy.cos(ax))"
   ]
  },
  {
   "cell_type": "markdown",
   "metadata": {},
   "source": [
    "使用NumPy中的通用函数，其效率要比对数组进行迭代然后使用math模块中的函数每次只处理一个元素快上百倍。因此，只要有可能就应该使用这些通用函数。"
   ]
  },
  {
   "cell_type": "markdown",
   "metadata": {},
   "source": [
    "在底层，NumPy数组的内存分配方式和C或者Fortran一样。即，它们是大块的连续内存，由同一种类型的数据组成。正是因为这样，NumPy才能创建比通常Python中的列表要大得多的数组。例如，如果想创建一个10000×10000的二维浮点数组，这根本不是问题："
   ]
  },
  {
   "cell_type": "code",
   "execution_count": 1,
   "metadata": {},
   "outputs": [
    {
     "ename": "NameError",
     "evalue": "name 'numpy' is not defined",
     "output_type": "error",
     "traceback": [
      "\u001b[1;31m---------------------------------------------------------------------------\u001b[0m",
      "\u001b[1;31mNameError\u001b[0m                                 Traceback (most recent call last)",
      "\u001b[1;32mc:\\Users\\Windows\\Desktop\\python\\py_cookbook\\第3章-数字、日期和时间\\3.9处理大型数组的计算.ipynb.ipynb Cell 15'\u001b[0m in \u001b[0;36m<module>\u001b[1;34m\u001b[0m\n\u001b[1;32m----> <a href='vscode-notebook-cell:/c%3A/Users/Windows/Desktop/python/py_cookbook/%E7%AC%AC3%E7%AB%A0-%E6%95%B0%E5%AD%97%E3%80%81%E6%97%A5%E6%9C%9F%E5%92%8C%E6%97%B6%E9%97%B4/3.9%E5%A4%84%E7%90%86%E5%A4%A7%E5%9E%8B%E6%95%B0%E7%BB%84%E7%9A%84%E8%AE%A1%E7%AE%97.ipynb.ipynb#ch0000014?line=0'>1</a>\u001b[0m grid \u001b[39m=\u001b[39m numpy\u001b[39m.\u001b[39mzeros(shape\u001b[39m=\u001b[39m(\u001b[39m10\u001b[39m,\u001b[39m10\u001b[39m), dtype\u001b[39m=\u001b[39m\u001b[39mfloat\u001b[39m) \n\u001b[0;32m      <a href='vscode-notebook-cell:/c%3A/Users/Windows/Desktop/python/py_cookbook/%E7%AC%AC3%E7%AB%A0-%E6%95%B0%E5%AD%97%E3%80%81%E6%97%A5%E6%9C%9F%E5%92%8C%E6%97%B6%E9%97%B4/3.9%E5%A4%84%E7%90%86%E5%A4%A7%E5%9E%8B%E6%95%B0%E7%BB%84%E7%9A%84%E8%AE%A1%E7%AE%97.ipynb.ipynb#ch0000014?line=1'>2</a>\u001b[0m \u001b[39mprint\u001b[39m(grid)\n",
      "\u001b[1;31mNameError\u001b[0m: name 'numpy' is not defined"
     ]
    }
   ],
   "source": [
    "grid = numpy.zeros(shape=(10,10), dtype=float) \n",
    "print(grid)"
   ]
  },
  {
   "cell_type": "markdown",
   "metadata": {},
   "source": [
    "所有的常用操作仍然可以同时施加于所有的元素之上："
   ]
  },
  {
   "cell_type": "code",
   "execution_count": 8,
   "metadata": {},
   "outputs": [
    {
     "name": "stdout",
     "output_type": "stream",
     "text": [
      "[[10. 10. 10. 10. 10. 10. 10. 10. 10. 10.]\n",
      " [10. 10. 10. 10. 10. 10. 10. 10. 10. 10.]\n",
      " [10. 10. 10. 10. 10. 10. 10. 10. 10. 10.]\n",
      " [10. 10. 10. 10. 10. 10. 10. 10. 10. 10.]\n",
      " [10. 10. 10. 10. 10. 10. 10. 10. 10. 10.]\n",
      " [10. 10. 10. 10. 10. 10. 10. 10. 10. 10.]\n",
      " [10. 10. 10. 10. 10. 10. 10. 10. 10. 10.]\n",
      " [10. 10. 10. 10. 10. 10. 10. 10. 10. 10.]\n",
      " [10. 10. 10. 10. 10. 10. 10. 10. 10. 10.]\n",
      " [10. 10. 10. 10. 10. 10. 10. 10. 10. 10.]]\n"
     ]
    }
   ],
   "source": [
    "grid =grid+10\n",
    "print(grid)"
   ]
  },
  {
   "cell_type": "markdown",
   "metadata": {},
   "source": [
    "所有的常用操作仍然可以同时施加于所有的元素之上："
   ]
  },
  {
   "cell_type": "code",
   "execution_count": 9,
   "metadata": {},
   "outputs": [
    {
     "name": "stdout",
     "output_type": "stream",
     "text": [
      "[[16. 16. 16. 16. 16. 16. 16. 16. 16. 16.]\n",
      " [16. 16. 16. 16. 16. 16. 16. 16. 16. 16.]\n",
      " [16. 16. 16. 16. 16. 16. 16. 16. 16. 16.]\n",
      " [16. 16. 16. 16. 16. 16. 16. 16. 16. 16.]\n",
      " [16. 16. 16. 16. 16. 16. 16. 16. 16. 16.]\n",
      " [16. 16. 16. 16. 16. 16. 16. 16. 16. 16.]\n",
      " [16. 16. 16. 16. 16. 16. 16. 16. 16. 16.]\n",
      " [16. 16. 16. 16. 16. 16. 16. 16. 16. 16.]\n",
      " [16. 16. 16. 16. 16. 16. 16. 16. 16. 16.]\n",
      " [16. 16. 16. 16. 16. 16. 16. 16. 16. 16.]]\n"
     ]
    }
   ],
   "source": [
    "import random\n",
    "grid =grid+random.randint(0,10)\n",
    "print(grid)"
   ]
  },
  {
   "cell_type": "code",
   "execution_count": 10,
   "metadata": {},
   "outputs": [
    {
     "name": "stdout",
     "output_type": "stream",
     "text": [
      "[[4. 4. 4. 4. 4. 4. 4. 4. 4. 4.]\n",
      " [4. 4. 4. 4. 4. 4. 4. 4. 4. 4.]\n",
      " [4. 4. 4. 4. 4. 4. 4. 4. 4. 4.]\n",
      " [4. 4. 4. 4. 4. 4. 4. 4. 4. 4.]\n",
      " [4. 4. 4. 4. 4. 4. 4. 4. 4. 4.]\n",
      " [4. 4. 4. 4. 4. 4. 4. 4. 4. 4.]\n",
      " [4. 4. 4. 4. 4. 4. 4. 4. 4. 4.]\n",
      " [4. 4. 4. 4. 4. 4. 4. 4. 4. 4.]\n",
      " [4. 4. 4. 4. 4. 4. 4. 4. 4. 4.]\n",
      " [4. 4. 4. 4. 4. 4. 4. 4. 4. 4.]]\n"
     ]
    }
   ],
   "source": [
    "\n",
    "print(numpy.sqrt(grid))"
   ]
  },
  {
   "cell_type": "markdown",
   "metadata": {},
   "source": [
    "关于NumPy，一个特别值得提起的方面就是NumPy扩展了Python列表的索引功能—尤其是针对多维数组时更是如此。为了说明，我们先构造一个简单的二维数组然后做些试验："
   ]
  },
  {
   "cell_type": "code",
   "execution_count": 11,
   "metadata": {},
   "outputs": [
    {
     "name": "stdout",
     "output_type": "stream",
     "text": [
      "[[ 1  2  3  4]\n",
      " [ 5  6  7  8]\n",
      " [ 9 10 11 12]]\n"
     ]
    }
   ],
   "source": [
    "a = numpy.array([[1, 2, 3, 4], [5, 6, 7, 8], [9, 10, 11, 12]])\n",
    "print(a)"
   ]
  },
  {
   "cell_type": "code",
   "execution_count": 12,
   "metadata": {},
   "outputs": [
    {
     "data": {
      "text/plain": [
       "array([5, 6, 7, 8])"
      ]
     },
     "execution_count": 12,
     "metadata": {},
     "output_type": "execute_result"
    }
   ],
   "source": [
    "# Select row 1 \n",
    "a[1] #数组从0开始计数"
   ]
  },
  {
   "cell_type": "code",
   "execution_count": 13,
   "metadata": {},
   "outputs": [
    {
     "data": {
      "text/plain": [
       "array([ 2,  6, 10])"
      ]
     },
     "execution_count": 13,
     "metadata": {},
     "output_type": "execute_result"
    }
   ],
   "source": [
    "# Select column 1 \n",
    "a[:,1] #数组从0开始计数"
   ]
  },
  {
   "cell_type": "code",
   "execution_count": 14,
   "metadata": {},
   "outputs": [
    {
     "name": "stdout",
     "output_type": "stream",
     "text": [
      "[[ 6  7]\n",
      " [10 11]]\n",
      "\n",
      "\n",
      "[[ 1  2  3  4]\n",
      " [ 5 16 17  8]\n",
      " [ 9 20 21 12]]\n"
     ]
    }
   ],
   "source": [
    "# Select a subregion and change it \n",
    "print(a[1:3, 1:3])\n",
    "print('\\n')\n",
    "a[1:3, 1:3] += 10\n",
    "print(a)"
   ]
  },
  {
   "cell_type": "code",
   "execution_count": 15,
   "metadata": {},
   "outputs": [
    {
     "name": "stdout",
     "output_type": "stream",
     "text": [
      "[[101 103 105 107]\n",
      " [105 117 119 111]\n",
      " [109 121 123 115]]\n",
      "\n",
      "\n",
      "[[ 1  2  3  4]\n",
      " [ 5 16 17  8]\n",
      " [ 9 20 21 12]]\n"
     ]
    }
   ],
   "source": [
    "# Broadcast a row vector across an operation on all rows \n",
    "print(a + [100, 101, 102, 103] )\n",
    "print('\\n')\n",
    "print(a)"
   ]
  },
  {
   "cell_type": "markdown",
   "metadata": {},
   "source": [
    "<li>numpy.where()</li>\n",
    "<div>numpy.where()分两种调用方式：</div>\n",
    "<div>1、三个参数np.where(cond,x,y)：满足条件（cond）输出x，不满足输出y</div>\n",
    "<div>2、一个参数np.where(arry)：输出arry中‘真’值的坐标(‘真’也可以理解为非零)</div>"
   ]
  },
  {
   "cell_type": "code",
   "execution_count": 16,
   "metadata": {},
   "outputs": [
    {
     "data": {
      "text/plain": [
       "array([[ 1,  2,  3,  4],\n",
       "       [ 5, 10, 10,  8],\n",
       "       [ 9, 10, 10, 10]])"
      ]
     },
     "execution_count": 16,
     "metadata": {},
     "output_type": "execute_result"
    }
   ],
   "source": [
    "# Conditional assignment on an array\n",
    "numpy.where(a < 10, a, 10) #如果小于10输出a,大于10输出10"
   ]
  },
  {
   "cell_type": "markdown",
   "metadata": {},
   "source": [
    "Python中大量的科学和工程类函数库都以NumPy作为基础，它也是广泛使用中的最为庞大和复杂的模块之一。尽管如此，对于NumPy我们还是可以从构建简单的例子开始，逐步试验，最后实现一些有用的应用。"
   ]
  },
  {
   "cell_type": "markdown",
   "metadata": {},
   "source": [
    "提到NumPy的用法，一个相对来说比较常见的导入方式是import numpy as np，正如我们给出的示例中那样，这么做缩短了名称，方便我们每次在程序中输入。(为了记住numpy，本节代码并没有使用import numpy as np,在日常我么可以这样使用以方便输入)"
   ]
  }
 ],
 "metadata": {
  "interpreter": {
   "hash": "9e68ebf596df7713ab296bba418491aae41f185aff501f4839864b40868f87cf"
  },
  "kernelspec": {
   "display_name": "Python 3.9.12 64-bit (windows store)",
   "language": "python",
   "name": "python3"
  },
  "language_info": {
   "codemirror_mode": {
    "name": "ipython",
    "version": 3
   },
   "file_extension": ".py",
   "mimetype": "text/x-python",
   "name": "python",
   "nbconvert_exporter": "python",
   "pygments_lexer": "ipython3",
   "version": "3.9.12"
  },
  "orig_nbformat": 4
 },
 "nbformat": 4,
 "nbformat_minor": 2
}
