{
 "cells": [
  {
   "cell_type": "markdown",
   "metadata": {},
   "source": [
    "##### 问题：\n",
    "我们的代码在同最新的Web认证方案交互时遇到了奇点（singularity）问题，而唯一的解决方案是在复平面解决。或者也许只需要利用复数完成一些计算就可以了。"
   ]
  },
  {
   "cell_type": "markdown",
   "metadata": {},
   "source": [
    "##### 解决方案：\n",
    "复数可以通过complex(real,  imag)函数来指定，或者通过浮点数再加上后缀j来指定也行。示例如下："
   ]
  },
  {
   "cell_type": "code",
   "execution_count": 1,
   "metadata": {},
   "outputs": [
    {
     "name": "stdout",
     "output_type": "stream",
     "text": [
      "(2+4j)\n",
      "(3-5j)\n"
     ]
    }
   ],
   "source": [
    "a = complex(2, 4)\n",
    "b = 3 - 5j\n",
    "print(a)\n",
    "print(b)\n"
   ]
  },
  {
   "cell_type": "markdown",
   "metadata": {},
   "source": [
    "实部、虚部以及共轭值可以很方便地提取出来，示例如下："
   ]
  },
  {
   "cell_type": "code",
   "execution_count": 2,
   "metadata": {},
   "outputs": [
    {
     "name": "stdout",
     "output_type": "stream",
     "text": [
      "2.0\n",
      "4.0\n",
      "(2-4j)\n"
     ]
    }
   ],
   "source": [
    "print(a.real)\n",
    "print(a.imag) \n",
    "print(a.conjugate()) "
   ]
  },
  {
   "cell_type": "markdown",
   "metadata": {},
   "source": [
    "此外，所有常见的算术运算操作都适用于复数："
   ]
  },
  {
   "cell_type": "code",
   "execution_count": 3,
   "metadata": {},
   "outputs": [
    {
     "name": "stdout",
     "output_type": "stream",
     "text": [
      "(5-1j)\n",
      "(26+2j)\n",
      "(-0.4117647058823529+0.6470588235294118j)\n",
      "4.47213595499958\n"
     ]
    }
   ],
   "source": [
    "print(a + b )\n",
    "print(a * b )\n",
    "print(a / b )\n",
    "print(abs(a)) # 对复数取绝对值相当于取模,等于实部与虚部平方和开根号后的值"
   ]
  },
  {
   "cell_type": "markdown",
   "metadata": {},
   "source": [
    "最后，如果要执行有关复数的函数操作，例如求正弦、余弦或平方根，可以使用cmath模块："
   ]
  },
  {
   "cell_type": "code",
   "execution_count": 4,
   "metadata": {},
   "outputs": [
    {
     "name": "stdout",
     "output_type": "stream",
     "text": [
      "(24.83130584894638-11.356612711218174j)\n",
      "(-11.36423470640106-24.814651485634187j)\n",
      "(-4.829809383269385-5.5920560936409816j)\n"
     ]
    }
   ],
   "source": [
    "import cmath\n",
    "print(cmath.sin(a))\n",
    "print(cmath.cos(a))\n",
    "print(cmath.exp(a))"
   ]
  },
  {
   "cell_type": "markdown",
   "metadata": {},
   "source": [
    "Python中大部分和数学相关的模块都可适用于复数。例如，如果使用numpy模块，可以很直接地创建复数数组，并对它们执行操作:"
   ]
  },
  {
   "cell_type": "code",
   "execution_count": 5,
   "metadata": {},
   "outputs": [
    {
     "name": "stdout",
     "output_type": "stream",
     "text": [
      "[2.+3.j 4.+5.j 6.-7.j 8.+9.j]\n",
      "[ 4.+3.j  6.+5.j  8.-7.j 10.+9.j]\n",
      "[   9.15449915  -4.16890696j  -56.16227422 -48.50245524j\n",
      " -153.20827755-526.47684926j 4008.42651446-589.49948373j]\n"
     ]
    }
   ],
   "source": [
    "import numpy\n",
    "a = numpy.array([2+3j, 4+5j, 6-7j, 8+9j]) \n",
    "print(a)\n",
    "print(a + 2)\n",
    "print(numpy.sin(a))\n"
   ]
  },
  {
   "cell_type": "markdown",
   "metadata": {},
   "source": [
    "Python中的标准数学函数默认情况下不会产生复数值，因此像这样的值不会意外地出现在代码里。例如:"
   ]
  },
  {
   "cell_type": "code",
   "execution_count": 6,
   "metadata": {},
   "outputs": [
    {
     "ename": "ValueError",
     "evalue": "math domain error",
     "output_type": "error",
     "traceback": [
      "\u001b[1;31m---------------------------------------------------------------------------\u001b[0m",
      "\u001b[1;31mValueError\u001b[0m                                Traceback (most recent call last)",
      "\u001b[1;32mc:\\Users\\Windows\\Desktop\\python\\py_cookbook\\第3章-数字、日期和时间\\3.6复数运算.ipynb Cell 13'\u001b[0m in \u001b[0;36m<module>\u001b[1;34m\u001b[0m\n\u001b[0;32m      <a href='vscode-notebook-cell:/c%3A/Users/Windows/Desktop/python/py_cookbook/%E7%AC%AC3%E7%AB%A0-%E6%95%B0%E5%AD%97%E3%80%81%E6%97%A5%E6%9C%9F%E5%92%8C%E6%97%B6%E9%97%B4/3.6%E5%A4%8D%E6%95%B0%E8%BF%90%E7%AE%97.ipynb#ch0000012?line=0'>1</a>\u001b[0m \u001b[39mimport\u001b[39;00m \u001b[39mmath\u001b[39;00m \n\u001b[1;32m----> <a href='vscode-notebook-cell:/c%3A/Users/Windows/Desktop/python/py_cookbook/%E7%AC%AC3%E7%AB%A0-%E6%95%B0%E5%AD%97%E3%80%81%E6%97%A5%E6%9C%9F%E5%92%8C%E6%97%B6%E9%97%B4/3.6%E5%A4%8D%E6%95%B0%E8%BF%90%E7%AE%97.ipynb#ch0000012?line=2'>3</a>\u001b[0m math\u001b[39m.\u001b[39;49msqrt(\u001b[39m-\u001b[39;49m\u001b[39m1\u001b[39;49m)\n",
      "\u001b[1;31mValueError\u001b[0m: math domain error"
     ]
    }
   ],
   "source": [
    "import math \n",
    "\n",
    "math.sqrt(-1) \n"
   ]
  },
  {
   "cell_type": "markdown",
   "metadata": {},
   "source": [
    "如果希望产生复数结果，那必须明确使用cmath模块或者在可以感知复数的库中声明对复数类型的使用。示例如下:"
   ]
  },
  {
   "cell_type": "code",
   "execution_count": null,
   "metadata": {},
   "outputs": [
    {
     "data": {
      "text/plain": [
       "1j"
      ]
     },
     "execution_count": 19,
     "metadata": {},
     "output_type": "execute_result"
    }
   ],
   "source": [
    "import cmath \n",
    "cmath.sqrt(-1) "
   ]
  }
 ],
 "metadata": {
  "interpreter": {
   "hash": "9e68ebf596df7713ab296bba418491aae41f185aff501f4839864b40868f87cf"
  },
  "kernelspec": {
   "display_name": "Python 3.9.12 64-bit (windows store)",
   "language": "python",
   "name": "python3"
  },
  "language_info": {
   "codemirror_mode": {
    "name": "ipython",
    "version": 3
   },
   "file_extension": ".py",
   "mimetype": "text/x-python",
   "name": "python",
   "nbconvert_exporter": "python",
   "pygments_lexer": "ipython3",
   "version": "3.9.12"
  },
  "orig_nbformat": 4
 },
 "nbformat": 4,
 "nbformat_minor": 2
}
