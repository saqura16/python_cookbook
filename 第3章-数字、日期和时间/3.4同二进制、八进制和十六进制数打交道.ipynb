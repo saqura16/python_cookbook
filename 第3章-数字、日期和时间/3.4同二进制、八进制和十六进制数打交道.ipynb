{
 "cells": [
  {
   "cell_type": "markdown",
   "metadata": {},
   "source": [
    "##### 问题:\n",
    "我们需要对以二进制、八进制或十六进制表示的数值做转换或输出。"
   ]
  },
  {
   "cell_type": "markdown",
   "metadata": {},
   "source": [
    "##### 解决方案:\n",
    "要将一个整数转换为二进制、八进制或十六进制的文本字符串形式，只要分别使用内建的bin()、oct()和hex()函数即可，示例如下："
   ]
  },
  {
   "cell_type": "code",
   "execution_count": 6,
   "metadata": {},
   "outputs": [
    {
     "name": "stdout",
     "output_type": "stream",
     "text": [
      "0b10011010010\n",
      "0o2322\n",
      "0x4d2\n"
     ]
    }
   ],
   "source": [
    "x = 1234\n",
    "print(bin(x))\n",
    "print(oct(x))\n",
    "print(hex(x))"
   ]
  },
  {
   "cell_type": "markdown",
   "metadata": {},
   "source": [
    "此外，如果不希望出现0b、0o或者0x这样的前缀，可以使用format()函数。示例如下："
   ]
  },
  {
   "cell_type": "code",
   "execution_count": 7,
   "metadata": {},
   "outputs": [
    {
     "name": "stdout",
     "output_type": "stream",
     "text": [
      "10011010010\n",
      "2322\n",
      "4d2\n"
     ]
    }
   ],
   "source": [
    "print(format(x, 'b'))\n",
    "print(format(x, 'o'))\n",
    "print(format(x, 'x'))"
   ]
  },
  {
   "cell_type": "markdown",
   "metadata": {},
   "source": [
    "整数是有符号的，因此如果要处理负数的话，输出中也会带上一个符号。示例如下："
   ]
  },
  {
   "cell_type": "code",
   "execution_count": 1,
   "metadata": {},
   "outputs": [
    {
     "data": {
      "text/plain": [
       "'-10011010010'"
      ]
     },
     "execution_count": 1,
     "metadata": {},
     "output_type": "execute_result"
    }
   ],
   "source": [
    "x = -1234 \n",
    "format(x, 'b')"
   ]
  },
  {
   "cell_type": "code",
   "execution_count": 2,
   "metadata": {},
   "outputs": [
    {
     "data": {
      "text/plain": [
       "'-4d2'"
      ]
     },
     "execution_count": 2,
     "metadata": {},
     "output_type": "execute_result"
    }
   ],
   "source": [
    "format(x, 'x') "
   ]
  },
  {
   "cell_type": "markdown",
   "metadata": {},
   "source": [
    "要将字符串形式的整数转换为不同的进制，只需要使用int()函数再配合适当的进制即可。示例如下："
   ]
  },
  {
   "cell_type": "code",
   "execution_count": 3,
   "metadata": {},
   "outputs": [
    {
     "name": "stdout",
     "output_type": "stream",
     "text": [
      "1234\n",
      "1234\n"
     ]
    }
   ],
   "source": [
    "print(int('4d2', 16))\n",
    "print(int('10011010010', 2) )"
   ]
  },
  {
   "cell_type": "markdown",
   "metadata": {},
   "source": [
    "最后，对于那些用到了八进制数的程序员来说还有一个地方需要注意。在Python中指定八进制数的语法和许多其他编程语言稍有不同。比方说，如果试着做如下的操作，则会得到一个语法错误："
   ]
  },
  {
   "cell_type": "code",
   "execution_count": null,
   "metadata": {},
   "outputs": [],
   "source": [
    "'''\n",
    "\n",
    "import os \n",
    "os.chmod('script.py', 0755)   \n",
    "File \"<stdin>\", line 1    \n",
    "os.chmod('script.py', 0755)  \n",
    "                      ^ \n",
    "SyntaxError: invalid token \n",
    "\n",
    "'''"
   ]
  },
  {
   "cell_type": "markdown",
   "metadata": {},
   "source": [
    "请确保在八进制数前添加0o前缀，就像这样："
   ]
  },
  {
   "cell_type": "code",
   "execution_count": 6,
   "metadata": {},
   "outputs": [
    {
     "ename": "FileNotFoundError",
     "evalue": "[WinError 2] 系统找不到指定的文件。: '1.py'",
     "output_type": "error",
     "traceback": [
      "\u001b[1;31m---------------------------------------------------------------------------\u001b[0m",
      "\u001b[1;31mFileNotFoundError\u001b[0m                         Traceback (most recent call last)",
      "\u001b[1;32mc:\\Users\\Windows\\Desktop\\python\\py_cookbook\\第3章-数字、日期和时间\\3.4同二进制、八进制和十六进制数打交道.ipynb Cell 14'\u001b[0m in \u001b[0;36m<module>\u001b[1;34m\u001b[0m\n\u001b[0;32m      <a href='vscode-notebook-cell:/c%3A/Users/Windows/Desktop/python/py_cookbook/%E7%AC%AC3%E7%AB%A0-%E6%95%B0%E5%AD%97%E3%80%81%E6%97%A5%E6%9C%9F%E5%92%8C%E6%97%B6%E9%97%B4/3.4%E5%90%8C%E4%BA%8C%E8%BF%9B%E5%88%B6%E3%80%81%E5%85%AB%E8%BF%9B%E5%88%B6%E5%92%8C%E5%8D%81%E5%85%AD%E8%BF%9B%E5%88%B6%E6%95%B0%E6%89%93%E4%BA%A4%E9%81%93.ipynb#ch0000013?line=0'>1</a>\u001b[0m \u001b[39mimport\u001b[39;00m \u001b[39mos\u001b[39;00m\n\u001b[1;32m----> <a href='vscode-notebook-cell:/c%3A/Users/Windows/Desktop/python/py_cookbook/%E7%AC%AC3%E7%AB%A0-%E6%95%B0%E5%AD%97%E3%80%81%E6%97%A5%E6%9C%9F%E5%92%8C%E6%97%B6%E9%97%B4/3.4%E5%90%8C%E4%BA%8C%E8%BF%9B%E5%88%B6%E3%80%81%E5%85%AB%E8%BF%9B%E5%88%B6%E5%92%8C%E5%8D%81%E5%85%AD%E8%BF%9B%E5%88%B6%E6%95%B0%E6%89%93%E4%BA%A4%E9%81%93.ipynb#ch0000013?line=1'>2</a>\u001b[0m os\u001b[39m.\u001b[39;49mchmod(\u001b[39m'\u001b[39;49m\u001b[39m1.py\u001b[39;49m\u001b[39m'\u001b[39;49m, \u001b[39m0o755\u001b[39;49m)\n",
      "\u001b[1;31mFileNotFoundError\u001b[0m: [WinError 2] 系统找不到指定的文件。: '1.py'"
     ]
    }
   ],
   "source": [
    "import os\n",
    "os.chmod('ce.py', 0o755) #这一行没啥用,记住要加0o就行"
   ]
  }
 ],
 "metadata": {
  "interpreter": {
   "hash": "9e68ebf596df7713ab296bba418491aae41f185aff501f4839864b40868f87cf"
  },
  "kernelspec": {
   "display_name": "Python 3.9.12 64-bit (windows store)",
   "language": "python",
   "name": "python3"
  },
  "language_info": {
   "codemirror_mode": {
    "name": "ipython",
    "version": 3
   },
   "file_extension": ".py",
   "mimetype": "text/x-python",
   "name": "python",
   "nbconvert_exporter": "python",
   "pygments_lexer": "ipython3",
   "version": "3.9.12"
  },
  "orig_nbformat": 4
 },
 "nbformat": 4,
 "nbformat_minor": 2
}
