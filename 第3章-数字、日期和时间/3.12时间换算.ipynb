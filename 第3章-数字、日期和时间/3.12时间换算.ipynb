{
 "cells": [
  {
   "cell_type": "markdown",
   "metadata": {},
   "source": [
    "##### 问题:\n",
    "我们的代码需要进行简单的时间转换工作，比如将日转换为秒，将小时转换为分钟等。"
   ]
  },
  {
   "cell_type": "markdown",
   "metadata": {},
   "source": [
    "##### 解决方案:\n",
    "我们可以利用datetime模块来完成不同时间单位间的换算。例如，要表示一个时间间隔，可以像这样创建一个timedelta实例："
   ]
  },
  {
   "cell_type": "code",
   "execution_count": 21,
   "metadata": {},
   "outputs": [
    {
     "name": "stdout",
     "output_type": "stream",
     "text": [
      "2\n",
      "37800\n",
      "10.5\n",
      "58.5\n"
     ]
    }
   ],
   "source": [
    "from datetime import timedelta\n",
    "a = timedelta(days=2, hours=6)\n",
    "b = timedelta(hours=4.5)\n",
    "c = a + b\n",
    "print(c.days)\n",
    "print(c.seconds)\n",
    "print(c.seconds / 3600)\n",
    "print(c.total_seconds() / 3600)"
   ]
  },
  {
   "cell_type": "markdown",
   "metadata": {},
   "source": [
    "如果需要表示特定的日期和时间，可以创建datetime实例并使用标准的数学运算来操纵它们。示例如下："
   ]
  },
  {
   "cell_type": "code",
   "execution_count": 22,
   "metadata": {},
   "outputs": [
    {
     "name": "stdout",
     "output_type": "stream",
     "text": [
      "2012-10-03 00:00:00\n"
     ]
    }
   ],
   "source": [
    "from datetime import datetime \n",
    "a = datetime(2012, 9, 23) \n",
    "print(a + timedelta(days=10))"
   ]
  },
  {
   "cell_type": "code",
   "execution_count": 23,
   "metadata": {},
   "outputs": [
    {
     "name": "stdout",
     "output_type": "stream",
     "text": [
      "89\n"
     ]
    }
   ],
   "source": [
    "b = datetime(2012, 12, 21) \n",
    "d = b - a \n",
    "print(d.days) "
   ]
  },
  {
   "cell_type": "code",
   "execution_count": 24,
   "metadata": {},
   "outputs": [
    {
     "name": "stdout",
     "output_type": "stream",
     "text": [
      "2022-04-08 16:30:35.079923\n",
      "2022-04-08 16:40:35.079923\n"
     ]
    }
   ],
   "source": [
    "now = datetime.today()\n",
    "print(now)\n",
    "print(now + timedelta(minutes=10))"
   ]
  },
  {
   "cell_type": "markdown",
   "metadata": {},
   "source": [
    "当执行计算时，应该要注意的是datetime模块是可正确处理闰年的。示例如下："
   ]
  },
  {
   "cell_type": "code",
   "execution_count": 25,
   "metadata": {},
   "outputs": [
    {
     "name": "stdout",
     "output_type": "stream",
     "text": [
      "2\n",
      "1\n"
     ]
    }
   ],
   "source": [
    "#2012是闰年,在2月28到3月1总共两天\n",
    "a = datetime(2012, 3, 1)\n",
    "b = datetime(2012, 2, 28)\n",
    "print((a - b).days)\n",
    "\n",
    "#2013是平年,在2月28到3月1总共两天\n",
    "c = datetime(2013, 3, 1) \n",
    "d = datetime(2013, 2, 28) \n",
    "print((c - d).days)"
   ]
  },
  {
   "cell_type": "markdown",
   "metadata": {},
   "source": [
    "于大部分基本的日期和时间操控问题，datetime模块已足够满足要求了。如果需要处理更为复杂的日期问题，比如处理时区、模糊时间范围、计算节日的日期等，可以试试dateutil模块。"
   ]
  },
  {
   "cell_type": "markdown",
   "metadata": {},
   "source": [
    "为了举例说明，可以使用dateutil.relativedelta()函数完成许多同datetime模块相似的时间计算。然而，dateutil的一个显著特点是在处理有关月份的问题时能填补一些datetime模块留下的空缺（可正确处理不同月份中的天数）。示例如下："
   ]
  },
  {
   "cell_type": "code",
   "execution_count": 33,
   "metadata": {},
   "outputs": [
    {
     "name": "stdout",
     "output_type": "stream",
     "text": [
      "2012-03-01 00:00:00\n",
      "2012-04-01 00:00:00\n"
     ]
    },
    {
     "data": {
      "text/plain": [
       "datetime.datetime(2012, 4, 1, 0, 0)"
      ]
     },
     "execution_count": 33,
     "metadata": {},
     "output_type": "execute_result"
    }
   ],
   "source": [
    "from dateutil.relativedelta import relativedelta\n",
    "print(a)\n",
    "print(a + relativedelta(months=+1))\n",
    "\n",
    "a + relativedelta(months=+1)"
   ]
  },
  {
   "cell_type": "code",
   "execution_count": 36,
   "metadata": {},
   "outputs": [
    {
     "name": "stdout",
     "output_type": "stream",
     "text": [
      "2012-07-01 00:00:00\n"
     ]
    },
    {
     "data": {
      "text/plain": [
       "datetime.datetime(2012, 7, 1, 0, 0)"
      ]
     },
     "execution_count": 36,
     "metadata": {},
     "output_type": "execute_result"
    }
   ],
   "source": [
    "print(a + relativedelta(months=+4))\n",
    "\n",
    "a + relativedelta(months=+4)\n"
   ]
  },
  {
   "cell_type": "code",
   "execution_count": 37,
   "metadata": {},
   "outputs": [
    {
     "name": "stdout",
     "output_type": "stream",
     "text": [
      "295 days, 0:00:00\n"
     ]
    }
   ],
   "source": [
    "# Time between two dates \n",
    "# a = datetime(2012, 9, 23) \n",
    "\n",
    "b = datetime(2012, 12, 21)\n",
    "d = b - a \n",
    "print(d)"
   ]
  },
  {
   "cell_type": "code",
   "execution_count": 50,
   "metadata": {},
   "outputs": [
    {
     "name": "stdout",
     "output_type": "stream",
     "text": [
      "relativedelta(months=+9, days=+20)\n",
      "20\n",
      "9\n"
     ]
    }
   ],
   "source": [
    "d = relativedelta(b, a)\n",
    "print(d,d.days,d.months,sep='\\n')"
   ]
  }
 ],
 "metadata": {
  "interpreter": {
   "hash": "9e68ebf596df7713ab296bba418491aae41f185aff501f4839864b40868f87cf"
  },
  "kernelspec": {
   "display_name": "Python 3.9.12 64-bit (windows store)",
   "language": "python",
   "name": "python3"
  },
  "language_info": {
   "codemirror_mode": {
    "name": "ipython",
    "version": 3
   },
   "file_extension": ".py",
   "mimetype": "text/x-python",
   "name": "python",
   "nbconvert_exporter": "python",
   "pygments_lexer": "ipython3",
   "version": "3.9.12"
  },
  "orig_nbformat": 4
 },
 "nbformat": 4,
 "nbformat_minor": 2
}
