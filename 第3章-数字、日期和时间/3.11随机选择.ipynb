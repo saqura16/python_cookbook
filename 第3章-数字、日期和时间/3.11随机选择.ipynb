{
 "cells": [
  {
   "cell_type": "markdown",
   "metadata": {},
   "source": [
    "##### 问题:\n",
    "我们想从序列中随机挑选出元素，或者想生成随机数。"
   ]
  },
  {
   "cell_type": "markdown",
   "metadata": {},
   "source": [
    "##### 解决方案:\n",
    "random模块中有各种函数可用于需要随机数和随机选择的场景。例如，要从序列中随机挑选出元素，可以使用random.choice()："
   ]
  },
  {
   "cell_type": "code",
   "execution_count": 5,
   "metadata": {},
   "outputs": [
    {
     "name": "stdout",
     "output_type": "stream",
     "text": [
      "5\n",
      "6\n",
      "6\n",
      "4\n",
      "3\n"
     ]
    }
   ],
   "source": [
    "import random\n",
    "values = [1, 2, 3, 4, 5, 6]\n",
    "for i in range(0,5):\n",
    "    print(random.choice(values))"
   ]
  },
  {
   "cell_type": "markdown",
   "metadata": {},
   "source": [
    "如果想取样出N个元素，将选出的元素移除以做进一步的考察，可以使用random.sample()："
   ]
  },
  {
   "cell_type": "code",
   "execution_count": 6,
   "metadata": {},
   "outputs": [
    {
     "name": "stdout",
     "output_type": "stream",
     "text": [
      "[4, 2]\n",
      "[2, 5, 4, 1]\n"
     ]
    }
   ],
   "source": [
    "print(random.sample(values, 2))\n",
    "print(random.sample(values, 4))"
   ]
  },
  {
   "cell_type": "markdown",
   "metadata": {},
   "source": [
    "如果只是想在序列中原地打乱元素的顺序（洗牌），可以使用random.shuffle()："
   ]
  },
  {
   "cell_type": "code",
   "execution_count": 11,
   "metadata": {},
   "outputs": [
    {
     "name": "stdout",
     "output_type": "stream",
     "text": [
      "[3, 2, 1, 4, 6, 5]\n"
     ]
    }
   ],
   "source": [
    "random.shuffle(values)\n",
    "print(values)"
   ]
  },
  {
   "cell_type": "markdown",
   "metadata": {},
   "source": [
    "要产生随机整数，可以使用random.randint()："
   ]
  },
  {
   "cell_type": "code",
   "execution_count": 13,
   "metadata": {},
   "outputs": [
    {
     "name": "stdout",
     "output_type": "stream",
     "text": [
      "54\n",
      "10\n",
      "41\n",
      "46\n",
      "36\n"
     ]
    }
   ],
   "source": [
    "for i in range(5):\n",
    "    x=random.randint(0,100)\n",
    "    print(x)"
   ]
  },
  {
   "cell_type": "markdown",
   "metadata": {},
   "source": [
    "要产生0到1之间均匀分布的浮点数值，可以使用random.random()："
   ]
  },
  {
   "cell_type": "code",
   "execution_count": 17,
   "metadata": {},
   "outputs": [
    {
     "name": "stdout",
     "output_type": "stream",
     "text": [
      "0.48140429532945006\n",
      "0.4957595101687665\n",
      "0.11771865721953922\n",
      "0.9113603848199023\n",
      "0.5326065816677845\n"
     ]
    }
   ],
   "source": [
    "for i in range(5):\n",
    "    x=random.random()\n",
    "    print(x)"
   ]
  },
  {
   "cell_type": "markdown",
   "metadata": {},
   "source": [
    "如果要得到由N个随机比特位所表示的整数，可以使用random.getrandbits()："
   ]
  },
  {
   "cell_type": "code",
   "execution_count": 21,
   "metadata": {},
   "outputs": [
    {
     "data": {
      "text/plain": [
       "873"
      ]
     },
     "execution_count": 21,
     "metadata": {},
     "output_type": "execute_result"
    }
   ],
   "source": [
    "random.getrandbits(10) #即在0-1024随机一个整数"
   ]
  },
  {
   "cell_type": "markdown",
   "metadata": {},
   "source": [
    "除了以上展示的功能外，random模块还包含有计算均匀分布、高斯分布和其他概率分布的函数。比如，random.uniform()可以计算均匀分布值，而random.gauss()则可计算正态分布值。请查阅文档以获得对其他所支持的分布的相关信息。"
   ]
  }
 ],
 "metadata": {
  "interpreter": {
   "hash": "9e68ebf596df7713ab296bba418491aae41f185aff501f4839864b40868f87cf"
  },
  "kernelspec": {
   "display_name": "Python 3.9.12 64-bit (windows store)",
   "language": "python",
   "name": "python3"
  },
  "language_info": {
   "codemirror_mode": {
    "name": "ipython",
    "version": 3
   },
   "file_extension": ".py",
   "mimetype": "text/x-python",
   "name": "python",
   "nbconvert_exporter": "python",
   "pygments_lexer": "ipython3",
   "version": "3.9.12"
  },
  "orig_nbformat": 4
 },
 "nbformat": 4,
 "nbformat_minor": 2
}
