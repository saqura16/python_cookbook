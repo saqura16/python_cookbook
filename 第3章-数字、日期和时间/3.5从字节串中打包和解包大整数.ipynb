{
 "cells": [
  {
   "cell_type": "markdown",
   "metadata": {},
   "source": [
    "##### 问题:\n",
    "我们有一个字节串，需要将其解包为一个整型数值。此外，还需要将一个大整数重新数字、日期和时间转换为一个字节串。"
   ]
  },
  {
   "cell_type": "markdown",
   "metadata": {},
   "source": [
    "##### 解决方案:\n",
    "假设程序需要处理一个有着16个元素的字节串，其中保存着一个128位的整数。示例如下："
   ]
  },
  {
   "cell_type": "code",
   "execution_count": 1,
   "metadata": {},
   "outputs": [
    {
     "name": "stdout",
     "output_type": "stream",
     "text": [
      "b'\\x00\\x124V\\x00x\\x90\\xab\\x00\\xcd\\xef\\x01\\x00#\\x004'\n"
     ]
    }
   ],
   "source": [
    "data = b'\\x00\\x124V\\x00x\\x90\\xab\\x00\\xcd\\xef\\x01\\x00#\\x004' \n",
    "print(data)"
   ]
  },
  {
   "cell_type": "markdown",
   "metadata": {},
   "source": [
    "要将字节解释为整数，可以使用int.from_bytes()，然后像这样指定字节序即可:"
   ]
  },
  {
   "cell_type": "code",
   "execution_count": 2,
   "metadata": {},
   "outputs": [
    {
     "data": {
      "text/plain": [
       "16"
      ]
     },
     "execution_count": 2,
     "metadata": {},
     "output_type": "execute_result"
    }
   ],
   "source": [
    "len(data)"
   ]
  },
  {
   "cell_type": "code",
   "execution_count": 3,
   "metadata": {},
   "outputs": [
    {
     "data": {
      "text/plain": [
       "69120565665751139577663547927094891008"
      ]
     },
     "execution_count": 3,
     "metadata": {},
     "output_type": "execute_result"
    }
   ],
   "source": [
    "int.from_bytes(data, 'little') "
   ]
  },
  {
   "cell_type": "code",
   "execution_count": 4,
   "metadata": {},
   "outputs": [
    {
     "data": {
      "text/plain": [
       "94522842520747284487117727783387188"
      ]
     },
     "execution_count": 4,
     "metadata": {},
     "output_type": "execute_result"
    }
   ],
   "source": [
    "int.from_bytes(data, 'big') "
   ]
  },
  {
   "cell_type": "markdown",
   "metadata": {},
   "source": [
    "要将一个大整数重新转换为字节串，可以使用int.to_bytes()方法，只要指定字节数和字节序即可。示例如下："
   ]
  },
  {
   "cell_type": "code",
   "execution_count": 5,
   "metadata": {},
   "outputs": [
    {
     "name": "stdout",
     "output_type": "stream",
     "text": [
      "b'\\x00\\x124V\\x00x\\x90\\xab\\x00\\xcd\\xef\\x01\\x00#\\x004'\n",
      "b'4\\x00#\\x00\\x01\\xef\\xcd\\x00\\xab\\x90x\\x00V4\\x12\\x00'\n"
     ]
    }
   ],
   "source": [
    "x = 94522842520747284487117727783387188 \n",
    "print(x.to_bytes(16, 'big'))\n",
    "print(x.to_bytes(16, 'little') )"
   ]
  },
  {
   "cell_type": "markdown",
   "metadata": {},
   "source": [
    "作为本节中技术的替代方案，我们可能会倾向于使用struct模块来完成解包，具体可参见6.11节。这行得通，但是struct模块可解包的整数大小是有限制的。因此，需要解包多个值，然后再将它们合并起来以得到最终的结果。示例如下:"
   ]
  },
  {
   "cell_type": "code",
   "execution_count": 6,
   "metadata": {},
   "outputs": [
    {
     "data": {
      "text/plain": [
       "94522842520747284487117727783387188"
      ]
     },
     "execution_count": 6,
     "metadata": {},
     "output_type": "execute_result"
    }
   ],
   "source": [
    "import struct\n",
    "hi, lo = struct.unpack('>QQ', data)\n",
    "(hi << 64) + lo "
   ]
  },
  {
   "cell_type": "markdown",
   "metadata": {},
   "source": [
    "字节序的规范（大端或小端）指定了组成整数的字节是从低位到高位排列还是从高位到低位排列。只要我们精心构造一个十六进制数，就能很容易看出这其中的意义："
   ]
  },
  {
   "cell_type": "code",
   "execution_count": 7,
   "metadata": {},
   "outputs": [
    {
     "name": "stdout",
     "output_type": "stream",
     "text": [
      "b'\\x01\\x02\\x03\\x04'\n",
      "b'\\x04\\x03\\x02\\x01'\n"
     ]
    }
   ],
   "source": [
    "x = 0x01020304 \n",
    "print(x.to_bytes(4, 'big'))\n",
    "print(x.to_bytes(4, 'little'))"
   ]
  },
  {
   "cell_type": "markdown",
   "metadata": {},
   "source": [
    "如果尝试将一个整数打包成字节串，但字节大小不合适的话就会得到一个错误信息。如果需要的话，可以使用int.bit_length()方法来确定需要用到多少位才能保存这个值。"
   ]
  },
  {
   "cell_type": "code",
   "execution_count": 8,
   "metadata": {},
   "outputs": [
    {
     "name": "stdout",
     "output_type": "stream",
     "text": [
      "335381300113661875107536852714019056160355655333978849017944067\n"
     ]
    }
   ],
   "source": [
    "x = 523 ** 23\n",
    "print(x) \n",
    "# x.to_bytes(16, 'little') "
   ]
  },
  {
   "cell_type": "markdown",
   "metadata": {},
   "source": [
    "#x.to_bytes(16, 'little') 会报错如下：\n",
    "<img src=\"3.5.png\" width=\"140%\">"
   ]
  },
  {
   "cell_type": "markdown",
   "metadata": {},
   "source": [
    "\n",
    "<li>Python divmod() 函数</li>\n",
    "python divmod() 函数把除数和余数运算结果结合起来，返回一个包含商和余数的元组(a // b, a % b)。\n",
    "\n",
    "<li>函数语法</li>\n",
    "divmod(a, b)\n",
    "<li>函数实例</li>\n",
    "divmod(7, 2)\n",
    "<div>输出：(3, 1)</div>\n"
   ]
  },
  {
   "cell_type": "code",
   "execution_count": 9,
   "metadata": {},
   "outputs": [
    {
     "name": "stdout",
     "output_type": "stream",
     "text": [
      "208\n",
      "26 0\n",
      "26 0\n"
     ]
    },
    {
     "data": {
      "text/plain": [
       "b'\\x03X\\xf1\\x82iT\\x96\\xac\\xc7c\\x16\\xf3\\xb9\\xcf\\x18\\xee\\xec\\x91\\xd1\\x98\\xa2\\xc8\\xd9R\\xb5\\xd0'"
      ]
     },
     "execution_count": 9,
     "metadata": {},
     "output_type": "execute_result"
    }
   ],
   "source": [
    "print(x.bit_length())\n",
    "nbytes, rem = divmod(x.bit_length(), 8) \n",
    "print(nbytes,rem)\n",
    "if rem: \n",
    "    nbytes += 1  \n",
    "print(nbytes,rem)\n",
    "x.to_bytes(nbytes, 'little') "
   ]
  }
 ],
 "metadata": {
  "interpreter": {
   "hash": "9e68ebf596df7713ab296bba418491aae41f185aff501f4839864b40868f87cf"
  },
  "kernelspec": {
   "display_name": "Python 3.9.12 64-bit (windows store)",
   "language": "python",
   "name": "python3"
  },
  "language_info": {
   "codemirror_mode": {
    "name": "ipython",
    "version": 3
   },
   "file_extension": ".py",
   "mimetype": "text/x-python",
   "name": "python",
   "nbconvert_exporter": "python",
   "pygments_lexer": "ipython3",
   "version": "3.9.12"
  },
  "orig_nbformat": 4
 },
 "nbformat": 4,
 "nbformat_minor": 2
}
