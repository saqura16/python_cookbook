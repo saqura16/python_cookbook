{
 "cells": [
  {
   "cell_type": "markdown",
   "metadata": {},
   "source": [
    "##### 问题：\n",
    "评估多线程应用的性能。"
   ]
  },
  {
   "cell_type": "markdown",
   "metadata": {},
   "source": [
    "在本节中，我们将验证GIL的影响，评估多线程应用的性能。前文已经介绍过，GIL是CPython解释器引入的锁，GIL在解释器层面阻止了真正的并行运行。解释器在执行任何线程之前，必须等待当前正在运行的线程释放GIL。事实上，解释器会强迫想要运行的线程必须拿到GIL才能访问解释器的任何资源，例如栈或Python对象等。这也正是GIL的目的——阻止不同的线程并发访问Python对象。这样GIL可以保护解释器的内存，让垃圾回收工作正常。但事实上，这却造成了程序员无法通过并行执行多线程来提高程序的性能。如果我们去掉CPython的GIL，就可以让多线程真正并行执行。GIL并没有影响多处理器并行的线程，只是限制了一个解释器只能有一个线程在运行。"
   ]
  },
  {
   "cell_type": "markdown",
   "metadata": {},
   "source": [
    "下面的代码是用来评估多线程应用性能的简单工具。下面的每一个测试都循环调用函数100次，重复执行多次，取速度最快的一次。在 for 循环中，我们调用 non_threaded 和 threaded 函数。同时，我们会不断增加调用次数和线程数来重复执行这个测试。我们会尝试使用1，2，3，4和8线程数来调用线程。在非线程的测试中，我们顺序调用函数与对应线程数一样多的次数。为了保持简单，度量的指标使用Python的内建模块timer。"
   ]
  },
  {
   "cell_type": "markdown",
   "metadata": {},
   "source": [
    "代码如下："
   ]
  },
  {
   "cell_type": "code",
   "execution_count": 1,
   "metadata": {},
   "outputs": [
    {
     "name": "stdout",
     "output_type": "stream",
     "text": [
      "Starting tests\n",
      "non_threaded (1 iters)  0.000001 seconds\n",
      "threaded (1 threads)    0.000124 seconds\n",
      "Iterations complete\n",
      "non_threaded (2 iters)  0.000001 seconds\n",
      "threaded (2 threads)    0.000252 seconds\n",
      "Iterations complete\n",
      "non_threaded (4 iters)  0.000002 seconds\n",
      "threaded (4 threads)    0.000540 seconds\n",
      "Iterations complete\n",
      "non_threaded (8 iters)  0.000003 seconds\n",
      "threaded (8 threads)    0.001139 seconds\n",
      "Iterations complete\n"
     ]
    }
   ],
   "source": [
    "from threading import Thread\n",
    "\n",
    "class threads_object(Thread):\n",
    "    def run(self):\n",
    "        function_to_run()\n",
    "\n",
    "class nothreads_object(object):\n",
    "    def run(self):\n",
    "        function_to_run()\n",
    "\n",
    "def non_threaded(num_iter):\n",
    "    funcs = []\n",
    "    for i in range(int(num_iter)):\n",
    "        funcs.append(nothreads_object())\n",
    "    for i in funcs:\n",
    "        i.run()\n",
    "\n",
    "def threaded(num_threads):\n",
    "    funcs = []\n",
    "    for i in range(int(num_threads)):\n",
    "        funcs.append(threads_object())\n",
    "    for i in funcs:\n",
    "        i.start()\n",
    "    for i in funcs:\n",
    "        i.join()\n",
    "\n",
    "def function_to_run():\n",
    "    pass\n",
    "\n",
    "def show_results(func_name, results):\n",
    "    print(\"%-23s %4.6f seconds\" % (func_name, results))\n",
    "\n",
    "if __name__ == \"__main__\":\n",
    "    import sys\n",
    "    from timeit import Timer\n",
    "    repeat = 100\n",
    "    number = 1\n",
    "    num_threads = [1, 2, 4, 8]\n",
    "    print('Starting tests')\n",
    "    for i in num_threads:\n",
    "        t = Timer(\"non_threaded(%s)\" % i, \"from __main__ import non_threaded\")\n",
    "        best_result = min(t.repeat(repeat=repeat, number=number))\n",
    "        show_results(\"non_threaded (%s iters)\" % i, best_result)\n",
    "        t = Timer(\"threaded(%s)\" % i, \"from __main__ import threaded\")\n",
    "        best_result = min(t.repeat(repeat=repeat, number=number))\n",
    "        show_results(\"threaded (%s threads)\" % i, best_result)\n",
    "        print('Iterations complete')"
   ]
  },
  {
   "cell_type": "markdown",
   "metadata": {},
   "source": [
    "我们一共进行了四次测试，每一次都会使用不同的function进行测试，只要改变 function_to_run() 就可以了。"
   ]
  },
  {
   "cell_type": "markdown",
   "metadata": {},
   "source": [
    "你应该记住，增加线程并不会提高应用启动的时间，但是可以支持并发。例如，一次性创建一个线程池，并重用worker会很有用。这可以让我们切分一个大的数据集，用同样的函数处理不同的部分（生产者消费者模型）。上面这些测试并不是并发应用的模型，只是尽量简单的测试。那么GIL会成为试图发挥多线程应用潜能的纯Python开发的瓶颈吗？是的。线程是编程语言的架构，CPython解释器是线程和操作系统的桥梁。这就是为什么Jython，IronPython没有GIL的原因（Pypy也没有），因为它不是必要的。\n",
    "\n"
   ]
  }
 ],
 "metadata": {
  "interpreter": {
   "hash": "b3ba2566441a7c06988d0923437866b63cedc61552a5af99d1f4fb67d367b25f"
  },
  "kernelspec": {
   "display_name": "Python 3.9.7 ('base')",
   "language": "python",
   "name": "python3"
  },
  "language_info": {
   "codemirror_mode": {
    "name": "ipython",
    "version": 3
   },
   "file_extension": ".py",
   "mimetype": "text/x-python",
   "name": "python",
   "nbconvert_exporter": "python",
   "pygments_lexer": "ipython3",
   "version": "3.9.7"
  },
  "orig_nbformat": 4
 },
 "nbformat": 4,
 "nbformat_minor": 2
}
