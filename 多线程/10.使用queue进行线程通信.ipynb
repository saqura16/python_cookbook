{
 "cells": [
  {
   "cell_type": "markdown",
   "metadata": {},
   "source": [
    "前面我们已经讨论到，当线程之间如果要共享资源或数据的时候，可能变的非常复杂。如你所见，Python的threading模块提供了很多同步原语，包括信号量，条件变量，事件和锁。如果可以使用这些原语的话，应该优先考虑使用这些，而不是使用queue（队列）模块。队列操作起来更容易，也使多线程编程更安全，因为队列可以将资源的使用通过单线程进行完全控制，并且允许使用更加整洁和可读性更高的设计模式。"
   ]
  },
  {
   "cell_type": "markdown",
   "metadata": {},
   "source": [
    "Queue常用的方法有以下四个：\n",
    "<li>put(): 往queue中放一个item</li>\n",
    "<li>get(): 从queue删除一个item，并返回删除的这个item</li>\n",
    "<li>task_done(): 每次item被处理的时候需要调用这个方法</li>\n",
    "<li>join(): 所有item都被处理之前一直阻塞</li>"
   ]
  },
  {
   "cell_type": "markdown",
   "metadata": {},
   "source": [
    "在本例中，我们将学习如何在threading模块中使用queue。同样，本例中将会有两个实体试图共享临界资源，一个队列。代码如下："
   ]
  },
  {
   "cell_type": "code",
   "execution_count": 1,
   "metadata": {},
   "outputs": [
    {
     "name": "stdout",
     "output_type": "stream",
     "text": [
      "Producer notify: item N° 132 appended to queue by Thread-3\n",
      "Consumer notify : 132 popped from queue by Thread-4\n",
      "Producer notify: item N° 55 appended to queue by Thread-3Consumer notify : 55 popped from queue by Thread-4\n",
      "\n",
      "Producer notify: item N° 195 appended to queue by Thread-3Consumer notify : 195 popped from queue by Thread-5\n",
      "\n",
      "Producer notify: item N° 246 appended to queue by Thread-3Consumer notify : 246 popped from queue by Thread-6\n",
      "\n",
      "Producer notify: item N° 46 appended to queue by Thread-3Consumer notify : 46 popped from queue by Thread-4\n",
      "\n",
      "Producer notify: item N° 20 appended to queue by Thread-3\n",
      "Consumer notify : 20 popped from queue by Thread-5\n",
      "Producer notify: item N° 145 appended to queue by Thread-3Consumer notify : 145 popped from queue by Thread-6\n",
      "\n",
      "Producer notify: item N° 55 appended to queue by Thread-3\n",
      "Consumer notify : 55 popped from queue by Thread-4\n",
      "Producer notify: item N° 99 appended to queue by Thread-3\n",
      "Consumer notify : 99 popped from queue by Thread-5\n",
      "Producer notify: item N° 209 appended to queue by Thread-3Consumer notify : 209 popped from queue by Thread-6\n",
      "\n"
     ]
    }
   ],
   "source": [
    "from threading import Thread\n",
    "from queue import Queue\n",
    "import time\n",
    "import random\n",
    "class producer(Thread):\n",
    "    def __init__(self, queue):\n",
    "        Thread.__init__(self)\n",
    "        self.queue = queue\n",
    "\n",
    "    def run(self) :\n",
    "        for i in range(10):\n",
    "            item = random.randint(0, 256)\n",
    "            self.queue.put(item)\n",
    "            print('Producer notify: item N° %d appended to queue by %s' % (item, self.name))\n",
    "            time.sleep(1)\n",
    "\n",
    "class consumer(Thread):\n",
    "    def __init__(self, queue):\n",
    "        Thread.__init__(self)\n",
    "        self.queue = queue\n",
    "\n",
    "    def run(self):\n",
    "        while True:\n",
    "            item = self.queue.get()  #内置阻塞\n",
    "            print('Consumer notify : %d popped from queue by %s' % (item, self.name))\n",
    "            self.queue.task_done()\n",
    "\n",
    "if __name__ == '__main__':\n",
    "    queue = Queue()\n",
    "    t1 = producer(queue)\n",
    "    t2 = consumer(queue)\n",
    "    t3 = consumer(queue)\n",
    "    t4 = consumer(queue)\n",
    "    t1.start()\n",
    "    t2.start()\n",
    "    t3.start()\n",
    "    t4.start()\n",
    "    t1.join()\n",
    "    t2.join()\n",
    "    t3.join()\n",
    "    t4.join()"
   ]
  },
  {
   "cell_type": "markdown",
   "metadata": {},
   "source": [
    "生产者使用 Queue.put(item [,block[, timeout]]) 来往queue中插入数据。Queue是同步的，在插入数据之前内部有一个内置的锁机制。"
   ]
  },
  {
   "cell_type": "markdown",
   "metadata": {},
   "source": [
    "可能发生两种情况："
   ]
  },
  {
   "cell_type": "markdown",
   "metadata": {},
   "source": [
    "<li>如果 block 为 True ， timeout 为 None （这也是默认的选项，本例中使用默认选项），那么可能会阻塞掉，直到出现可用的位置。如果 timeout 是正整数，那么阻塞直到这个时间，就会抛出一个异常。</li>\n",
    "<li>如果 block 为 False ，如果队列有闲置那么会立即插入，否则就立即抛出异常（ timeout 将会被忽略）。本例中， put() 检查队列是否已满，然后调用 wait() 开始等待。</li>"
   ]
  },
  {
   "cell_type": "markdown",
   "metadata": {},
   "source": [
    "消费者从队列中取出整数然后用 task_done() 方法将其标为任务已处理。"
   ]
  },
  {
   "cell_type": "markdown",
   "metadata": {},
   "source": [
    "<font color=red>消费者使用 Queue.get([block[, timeout]]) 从队列中取回数据，queue内部也会经过锁的处理。如果队列为空，消费者阻塞。</font>"
   ]
  },
  {
   "cell_type": "markdown",
   "metadata": {},
   "source": [
    "生产者和消费者之间的操作可以用下图来描述："
   ]
  },
  {
   "cell_type": "markdown",
   "metadata": {},
   "source": [
    "<img src=\"4.png\" width=\"50% \">"
   ]
  }
 ],
 "metadata": {
  "interpreter": {
   "hash": "9e68ebf596df7713ab296bba418491aae41f185aff501f4839864b40868f87cf"
  },
  "kernelspec": {
   "display_name": "Python 3.9.12 64-bit (windows store)",
   "language": "python",
   "name": "python3"
  },
  "language_info": {
   "codemirror_mode": {
    "name": "ipython",
    "version": 3
   },
   "file_extension": ".py",
   "mimetype": "text/x-python",
   "name": "python",
   "nbconvert_exporter": "python",
   "pygments_lexer": "ipython3",
   "version": "3.9.12"
  },
  "orig_nbformat": 4
 },
 "nbformat": 4,
 "nbformat_minor": 2
}
