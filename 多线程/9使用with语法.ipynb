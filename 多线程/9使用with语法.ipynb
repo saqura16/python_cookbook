{
 "cells": [
  {
   "cell_type": "markdown",
   "metadata": {},
   "source": [
    "python从2.5版本开始引入了 with 语法。此语法非常实用，在有两个相关的操作需要在一部分代码块前后分别执行的时候，可以使用 with 语法自动完成。同事，使用 with 语法可以在特定的地方分配和释放资源，因此， with 语法也叫做“上下文管理器”。在threading模块中，所有带有 acquire() 方法和 release() 方法的对象都可以使用上下文管理器。"
   ]
  },
  {
   "cell_type": "markdown",
   "metadata": {},
   "source": [
    "也就是说，下面的对象可以使用 with 语法：\n",
    "\n",
    "<li>Lock</li>\n",
    "<li>RLock</li>\n",
    "<li>Condition</li>\n",
    "<li>Semaphore</li>"
   ]
  },
  {
   "cell_type": "markdown",
   "metadata": {},
   "source": [
    "在本节中，我们将使用 with 语法简单地尝试这四个对象。"
   ]
  },
  {
   "cell_type": "markdown",
   "metadata": {},
   "source": [
    "下面的例子展示了 with 语法的基本用法，我们有一系列的同步原语，下面尝试用 with 来使用它们："
   ]
  },
  {
   "cell_type": "code",
   "execution_count": 1,
   "metadata": {},
   "outputs": [
    {
     "name": "stderr",
     "output_type": "stream",
     "text": [
      "(Thread-3  ) <locked _thread.lock object at 0x000001CDB12E60C0> acquired via with\n",
      "(Thread-4  ) <locked _thread.lock object at 0x000001CDB12E60C0> acquired directly\n",
      "(Thread-5  ) <locked _thread.RLock object owner=9328 count=1 at 0x000001CDB12E6210> acquired via with\n",
      "(Thread-6  ) <locked _thread.RLock object owner=14536 count=1 at 0x000001CDB12E6210> acquired directly\n",
      "(Thread-7  ) <Condition(<locked _thread.RLock object owner=15520 count=1 at 0x000001CDB132F090>, 0)> acquired via with\n",
      "(Thread-8  ) <Condition(<locked _thread.RLock object owner=9936 count=1 at 0x000001CDB132F090>, 0)> acquired directly\n",
      "(Thread-9  ) <threading.Semaphore object at 0x000001CDB132F040> acquired via with\n",
      "(Thread-10 ) <threading.Semaphore object at 0x000001CDB132F040> acquired directly\n"
     ]
    }
   ],
   "source": [
    "import threading\n",
    "import logging\n",
    "logging.basicConfig(level=logging.DEBUG, format='(%(threadName)-10s) %(message)s',)\n",
    "\n",
    "def threading_with(statement):\n",
    "    with statement:\n",
    "        logging.debug('%s acquired via with' % statement)\n",
    "\n",
    "def threading_not_with(statement):\n",
    "    statement.acquire()\n",
    "    try:\n",
    "        logging.debug('%s acquired directly' % statement )\n",
    "    finally:\n",
    "        statement.release()\n",
    "\n",
    "if __name__ == '__main__':\n",
    "    # let's create a test battery\n",
    "    lock = threading.Lock()\n",
    "    rlock = threading.RLock()\n",
    "    condition = threading.Condition()\n",
    "    mutex = threading.Semaphore(1)\n",
    "    threading_synchronization_list = [lock, rlock, condition, mutex]\n",
    "    # in the for cycle we call the threading_with e threading_no_with function\n",
    "    for statement in threading_synchronization_list :\n",
    "       t1 = threading.Thread(target=threading_with, args=(statement,))\n",
    "       t2 = threading.Thread(target=threading_not_with, args=(statement,))\n",
    "       t1.start()\n",
    "       t2.start()\n",
    "       t1.join()\n",
    "       t2.join()"
   ]
  }
 ],
 "metadata": {
  "interpreter": {
   "hash": "9e68ebf596df7713ab296bba418491aae41f185aff501f4839864b40868f87cf"
  },
  "kernelspec": {
   "display_name": "Python 3.9.12 64-bit (windows store)",
   "language": "python",
   "name": "python3"
  },
  "language_info": {
   "codemirror_mode": {
    "name": "ipython",
    "version": 3
   },
   "file_extension": ".py",
   "mimetype": "text/x-python",
   "name": "python",
   "nbconvert_exporter": "python",
   "pygments_lexer": "ipython3",
   "version": "3.9.12"
  },
  "orig_nbformat": 4
 },
 "nbformat": 4,
 "nbformat_minor": 2
}
