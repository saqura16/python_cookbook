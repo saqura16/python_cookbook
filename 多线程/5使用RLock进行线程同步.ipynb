{
 "cells": [
  {
   "cell_type": "markdown",
   "metadata": {},
   "source": [
    "##### 问题：\n",
    "使用RLock进行线程同步。"
   ]
  },
  {
   "cell_type": "markdown",
   "metadata": {},
   "source": [
    "如果你想让只有拿到锁的线程才能释放该锁，那么应该使用 RLock() 对象。和 Lock() 对象一样， RLock() 对象有两个方法： acquire() 和 release() 。当你需要在类外面保证线程安全，又要在类内使用同样方法的时候 RLock() 就很实用了。"
   ]
  },
  {
   "cell_type": "markdown",
   "metadata": {},
   "source": [
    "<li>关于Rlock</li>\n",
    "RLock其实叫做“Reentrant Lock”，就是可以重复进入的锁，也叫做“递归锁”。这种锁对比Lock有是三个特点：\n",
    "<li>1. 谁拿到谁释放。如果线程A拿到锁，线程B无法释放这个锁，只有A可以释放.</li>\n",
    "<li>2. 同一线程可以多次拿到该锁，即可以acquire多次.</li>\n",
    "<li>3. acquire多少次就必须release多少次，只有最后一次release才能改变RLock的状态为unlocked.</li>"
   ]
  },
  {
   "cell_type": "markdown",
   "metadata": {},
   "source": [
    "##### 解决方法：\n",
    "在示例代码中，我们引入了 Box 类，有 add() 方法和 remove() 方法，提供了进入 execute() 方法的入口。 execute() 的执行由 Rlock() 控制："
   ]
  },
  {
   "cell_type": "code",
   "execution_count": 6,
   "metadata": {},
   "outputs": [
    {
     "name": "stdout",
     "output_type": "stream",
     "text": [
      "putting 5 items in the box \n",
      "adding 1 item in the box\n",
      "removing 1 item in the box\n",
      "removing 1 item in the boxadding 1 item in the box\n",
      "\n",
      "adding 1 item in the box\n",
      "removing 1 item in the box\n",
      "adding 1 item in the boxremoving 1 item in the box\n",
      "\n",
      "adding 1 item in the boxremoving 1 item in the box\n",
      "\n",
      "0 items still remain in the box \n"
     ]
    }
   ],
   "source": [
    "import threading\n",
    "import time\n",
    "\n",
    "class Box(object):\n",
    "    lock = threading.RLock()\n",
    "\n",
    "    def __init__(self):\n",
    "        self.total_items = 0\n",
    "\n",
    "    def execute(self, n):\n",
    "        Box.lock.acquire()\n",
    "        self.total_items += n\n",
    "        Box.lock.release()\n",
    "\n",
    "    def add(self):\n",
    "        Box.lock.acquire()\n",
    "        self.execute(1)\n",
    "        Box.lock.release()\n",
    "\n",
    "    def remove(self):\n",
    "        Box.lock.acquire()\n",
    "        self.execute(-1)\n",
    "        Box.lock.release()\n",
    "\n",
    "## These two functions run n in separate\n",
    "## threads and call the Box's methods\n",
    "def adder(box, items):\n",
    "    while items > 0:\n",
    "        print(\"adding 1 item in the box\")\n",
    "        box.add()\n",
    "        time.sleep(1)\n",
    "        items -= 1\n",
    "\n",
    "def remover(box, items):\n",
    "    while items > 0:\n",
    "        print(\"removing 1 item in the box\")\n",
    "        box.remove()\n",
    "        time.sleep(1)\n",
    "        items -= 1\n",
    "\n",
    "## the main program build some\n",
    "## threads and make sure it works\n",
    "if __name__ == \"__main__\":\n",
    "    items = 5\n",
    "    print(\"putting %s items in the box \" % items)\n",
    "    box = Box()\n",
    "    t1 = threading.Thread(target=adder, args=(box, items))\n",
    "    t2 = threading.Thread(target=remover, args=(box, items))\n",
    "    t1.start()\n",
    "    t2.start()\n",
    "\n",
    "    t1.join()\n",
    "    t2.join()\n",
    "    print(\"%s items still remain in the box \" % box.total_items)"
   ]
  },
  {
   "cell_type": "markdown",
   "metadata": {},
   "source": [
    "主程序的代码几乎和之前的例子一样。两个线程 t1 和 t2 分别分配了 adder() 函数和 remover() 函数。当item的数量大于0的时候，函数工作。调用 RLock() 的位置是在 Box 类内："
   ]
  },
  {
   "cell_type": "code",
   "execution_count": 2,
   "metadata": {},
   "outputs": [],
   "source": [
    "class Box(object):\n",
    "    lock = threading.RLock()"
   ]
  },
  {
   "cell_type": "markdown",
   "metadata": {},
   "source": [
    "adder() 和 remover() 两个函数在 Box 类内操作items，即调用 Box 类的方法： add() 和 remove() 。每一次方法调用，都会有一次拿到资源然后释放资源的过程。至于 lock() 对象， RLock() 对象有 acquire() 和 release() 方法可以拿到或释放资源；然后每一次方法调用中，我们都有以下操作："
   ]
  },
  {
   "cell_type": "code",
   "execution_count": 3,
   "metadata": {},
   "outputs": [],
   "source": [
    "Box.lock.acquire()\n",
    "# ...do something\n",
    "Box.lock.release()"
   ]
  }
 ],
 "metadata": {
  "interpreter": {
   "hash": "9e68ebf596df7713ab296bba418491aae41f185aff501f4839864b40868f87cf"
  },
  "kernelspec": {
   "display_name": "Python 3.9.12 64-bit (windows store)",
   "language": "python",
   "name": "python3"
  },
  "language_info": {
   "codemirror_mode": {
    "name": "ipython",
    "version": 3
   },
   "file_extension": ".py",
   "mimetype": "text/x-python",
   "name": "python",
   "nbconvert_exporter": "python",
   "pygments_lexer": "ipython3",
   "version": "3.9.12"
  },
  "orig_nbformat": 4
 },
 "nbformat": 4,
 "nbformat_minor": 2
}
