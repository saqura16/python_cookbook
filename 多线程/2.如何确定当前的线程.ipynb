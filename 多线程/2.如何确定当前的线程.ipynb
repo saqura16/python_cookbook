{
 "cells": [
  {
   "cell_type": "markdown",
   "metadata": {},
   "source": [
    "##### 问题：\n",
    "如何确定当前的线程。"
   ]
  },
  {
   "cell_type": "markdown",
   "metadata": {},
   "source": [
    "使用参数来确认或命名线程是笨拙且没有必要的。每一个 Thread 实例创建的时候都有一个带默认值的名字，并且可以修改。在服务端通常一个服务进程都有多个线程服务，负责不同的操作，这时候命名线程是很实用的。"
   ]
  },
  {
   "cell_type": "markdown",
   "metadata": {},
   "source": [
    "##### 解决方法:\n",
    "为了演示如何确定正在运行的线程，我们创建了三个目标函数，并且引入了 time 在运行期间挂起2s，让结果更明显。"
   ]
  },
  {
   "cell_type": "code",
   "execution_count": 3,
   "metadata": {},
   "outputs": [
    {
     "name": "stdout",
     "output_type": "stream",
     "text": [
      "first_function is Starting \n",
      "second_function is Starting \n",
      "third_function is Starting \n",
      "second_function is Exiting first_function is Exiting third_function is Exiting \n",
      "\n",
      "\n"
     ]
    }
   ],
   "source": [
    "import threading\n",
    "import time\n",
    "\n",
    "def first_function():\n",
    "    print(threading.currentThread().getName() + str(' is Starting '))\n",
    "    time.sleep(2)\n",
    "    print (threading.currentThread().getName() + str(' is Exiting '))\n",
    "    return\n",
    "\n",
    "def second_function():\n",
    "    print(threading.currentThread().getName() + str(' is Starting '))\n",
    "    time.sleep(2)\n",
    "    print (threading.currentThread().getName() + str(' is Exiting '))\n",
    "    return\n",
    "\n",
    "def third_function():\n",
    "    print(threading.currentThread().getName() + str(' is Starting '))\n",
    "    time.sleep(2)\n",
    "    print(threading.currentThread().getName() + str(' is Exiting '))\n",
    "    return\n",
    "\n",
    "if __name__ == \"__main__\":\n",
    "    t1 = threading.Thread(name='first_function', target=first_function)\n",
    "    t2 = threading.Thread(name='second_function', target=second_function)\n",
    "    t3 = threading.Thread(name='third_function', target=third_function)\n",
    "    t1.start()\n",
    "    t2.start()\n",
    "    t3.start()\n",
    "    t1.join()\n",
    "    t2.join()\n",
    "    t3.join()\n"
   ]
  },
  {
   "cell_type": "markdown",
   "metadata": {},
   "source": [
    "我们使用目标函数实例化线程。同时，我们传入 name 参数作为线程的名字，如果不传这个参数，将使用默认的参数："
   ]
  },
  {
   "cell_type": "code",
   "execution_count": 4,
   "metadata": {},
   "outputs": [
    {
     "name": "stdout",
     "output_type": "stream",
     "text": [
      "Thread-6 is Starting Thread-7 is Starting \n",
      "\n",
      "Thread-8 is Starting \n",
      "Thread-7 is Exiting Thread-6 is Exiting \n",
      "\n",
      "Thread-8 is Exiting \n"
     ]
    }
   ],
   "source": [
    "t1 = threading.Thread(target=first_function)\n",
    "t2 = threading.Thread(target=second_function)\n",
    "t3 = threading.Thread(target=third_function)\n",
    "t1.start()\n",
    "t2.start()\n",
    "t3.start()\n",
    "t1.join()\n",
    "t2.join()\n",
    "t3.join()"
   ]
  }
 ],
 "metadata": {
  "interpreter": {
   "hash": "9e68ebf596df7713ab296bba418491aae41f185aff501f4839864b40868f87cf"
  },
  "kernelspec": {
   "display_name": "Python 3.9.12 64-bit (windows store)",
   "language": "python",
   "name": "python3"
  },
  "language_info": {
   "codemirror_mode": {
    "name": "ipython",
    "version": 3
   },
   "file_extension": ".py",
   "mimetype": "text/x-python",
   "name": "python",
   "nbconvert_exporter": "python",
   "pygments_lexer": "ipython3",
   "version": "3.9.12"
  },
  "orig_nbformat": 4
 },
 "nbformat": 4,
 "nbformat_minor": 2
}
