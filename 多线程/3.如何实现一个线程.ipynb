{
 "cells": [
  {
   "cell_type": "markdown",
   "metadata": {},
   "source": [
    "##### 问题：\n",
    "如何实现一个线程。"
   ]
  },
  {
   "cell_type": "markdown",
   "metadata": {},
   "source": [
    "##### 解决方法：\n",
    "使用threading模块实现一个新的线程，需要下面3步：\n",
    "<li>定义一个 Thread 类的子类</li>\n",
    "<li>重写 __init__(self [,args]) 方法，可以添加额外的参数</li>\n",
    "<li>最后，需要重写 run(self, [,args]) 方法来实现线程要做的事情</li>\n",
    "当你创建了新的 Thread 子类的时候，你可以实例化这个类，调用 start() 方法来启动它。线程启动之后将会执行 run() 方法。\n"
   ]
  },
  {
   "cell_type": "markdown",
   "metadata": {},
   "source": [
    "为了在子类中实现线程，我们定义了 myThread 类。其中有两个方法需要手动实现："
   ]
  },
  {
   "cell_type": "code",
   "execution_count": 4,
   "metadata": {},
   "outputs": [
    {
     "name": "stdout",
     "output_type": "stream",
     "text": [
      "Starting Thread-1\n",
      "Starting Thread-2\n",
      "Thread-1: Tue Apr 12 20:13:29 2022\n",
      "Thread-1: Tue Apr 12 20:13:30 2022Thread-2: Tue Apr 12 20:13:30 2022\n",
      "\n",
      "Thread-1: Tue Apr 12 20:13:31 2022\n",
      "Thread-2: Tue Apr 12 20:13:32 2022\n",
      "Thread-1: Tue Apr 12 20:13:32 2022\n",
      "Thread-1: Tue Apr 12 20:13:33 2022\n",
      "Exiting Thread-1\n",
      "Thread-2: Tue Apr 12 20:13:34 2022\n",
      "Thread-2: Tue Apr 12 20:13:36 2022\n",
      "Thread-2: Tue Apr 12 20:13:38 2022\n",
      "Exiting Thread-2\n",
      "Exiting Main Thread\n"
     ]
    }
   ],
   "source": [
    "import threading\n",
    "import time\n",
    "\n",
    "exitFlag = 0\n",
    "\n",
    "class myThread (threading.Thread):\n",
    "    def __init__(self, threadID, name, counter):\n",
    "        threading.Thread.__init__(self)\n",
    "        self.threadID = threadID\n",
    "        self.name = name\n",
    "        self.counter = counter\n",
    "\n",
    "    def run(self):\n",
    "        print(\"Starting \" + self.name)\n",
    "        print_time(self.name, self.counter, 5)\n",
    "        print(\"Exiting \" + self.name)\n",
    "\n",
    "def print_time(threadName, delay, counter):\n",
    "    while counter:\n",
    "        if exitFlag:\n",
    "            threading.exit()\n",
    "        time.sleep(delay)\n",
    "        print(\"%s: %s\" % (threadName, time.ctime(time.time())))\n",
    "        counter -= 1\n",
    "\n",
    "# Create new threads\n",
    "thread1 = myThread(1, \"Thread-1\", 1)\n",
    "thread2 = myThread(2, \"Thread-2\", 2)\n",
    "\n",
    "# Start new Threads\n",
    "thread1.start()\n",
    "thread2.start()\n",
    "\n",
    "thread1.join()\n",
    "thread2.join()\n",
    "print(\"Exiting Main Thread\")"
   ]
  },
  {
   "cell_type": "markdown",
   "metadata": {},
   "source": [
    "##### 线程模块\n",
    "<div>Python3 通过两个标准库 _thread 和 threading 提供对线程的支持。</div>\n",
    "\n",
    "<div>_thread 提供了低级别的、原始的线程以及一个简单的锁，它相比于 threading 模块的功能还是比较有限的。</div>\n",
    "\n",
    "<div>threading 模块除了包含 _thread 模块中的所有方法外，还提供的其他方法：</div>\n",
    "\n",
    "<li>threading.currentThread(): 返回当前的线程变量。</li>\n",
    "<li>threading.enumerate(): 返回一个包含正在运行的线程的list。正在运行指线程启动后、结束前，不包括启动前和终止后的线程。</li>\n",
    "<li>threading.activeCount(): 返回正在运行的线程数量，与len(threading.enumerate())有相同的结果。</li>\n",
    "<div>除了使用方法外，线程模块同样提供了Thread类来处理线程，Thread类提供了以下方法:</div>\n",
    "\n",
    "<li>run(): 用以表示线程活动的方法。</li>\n",
    "<li>start():启动线程活动。</li>\n",
    "<li>join([time]): 等待至线程中止。这阻塞调用线程直至线程的join() 方法被调用中止-正常退出或者抛出未处理的异常-或者是可选的超时发生。</li>\n",
    "<li>isAlive(): 返回线程是否活动的。</li>\n",
    "\n",
    "<li>getName(): 返回线程名。</li>\n",
    "\n",
    "<li>setName(): 设置线程名</li>"
   ]
  },
  {
   "cell_type": "markdown",
   "metadata": {},
   "source": [
    "threading 模块是创建和管理线程的首选形式。每一个线程都通过一个继承 Thread 类，重写 run() 方法来实现逻辑，这个方法是线程的入口。在主程序中，我们创建了多个 myThread 的类型实例，然后执行 start() 方法启动它们。调用 Thread.\\_\\_init\\_\\_ 构造器方法是必须的，通过它我们可以给线程定义一些名字或分组之类的属性。调用 start() 之后线程变为活跃状态，并且持续直到 run() 结束，或者中间出现异常。所有的线程都执行完成之后，程序结束。"
   ]
  }
 ],
 "metadata": {
  "interpreter": {
   "hash": "9e68ebf596df7713ab296bba418491aae41f185aff501f4839864b40868f87cf"
  },
  "kernelspec": {
   "display_name": "Python 3.9.12 64-bit (windows store)",
   "language": "python",
   "name": "python3"
  },
  "language_info": {
   "codemirror_mode": {
    "name": "ipython",
    "version": 3
   },
   "file_extension": ".py",
   "mimetype": "text/x-python",
   "name": "python",
   "nbconvert_exporter": "python",
   "pygments_lexer": "ipython3",
   "version": "3.9.12"
  },
  "orig_nbformat": 4
 },
 "nbformat": 4,
 "nbformat_minor": 2
}
