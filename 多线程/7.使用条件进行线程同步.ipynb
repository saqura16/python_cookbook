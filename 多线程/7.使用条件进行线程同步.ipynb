{
 "cells": [
  {
   "cell_type": "markdown",
   "metadata": {},
   "source": [
    "##### 问题：\n",
    "使用条件进行线程同步。"
   ]
  },
  {
   "cell_type": "markdown",
   "metadata": {},
   "source": [
    "条件指的是应用程序状态的改变。这是另一种同步机制，其中某些线程在等待某一条件发生，其他的线程会在该条件发生的时候进行通知。一旦条件发生，线程会拿到共享资源的唯一权限。"
   ]
  },
  {
   "cell_type": "markdown",
   "metadata": {},
   "source": [
    "解释条件机制最好的例子还是生产者-消费者问题。在本例中，只要缓存不满，生产者一直向缓存生产；只要缓存不空，消费者一直从缓存取出（之后销毁）。当缓冲队列不为空的时候，生产者将通知消费者；当缓冲队列不满的时候，消费者将通知生产者。"
   ]
  },
  {
   "cell_type": "markdown",
   "metadata": {},
   "source": [
    "为了演示条件机制，我们将再一次使用生产者-消费者的例子："
   ]
  },
  {
   "cell_type": "code",
   "execution_count": 1,
   "metadata": {},
   "outputs": [
    {
     "name": "stdout",
     "output_type": "stream",
     "text": [
      "Producer notify : total items producted 1\n",
      "Consumer notify : consumed 1 item\n",
      "Consumer notify : items to consume are 0\n",
      "Producer notify : total items producted 1\n",
      "Producer notify : total items producted 2\n",
      "Producer notify : total items producted 3\n",
      "Consumer notify : consumed 1 item\n",
      "Consumer notify : items to consume are 2\n",
      "Producer notify : total items producted 3\n",
      "Consumer notify : consumed 1 item\n",
      "Consumer notify : items to consume are 2\n",
      "Producer notify : total items producted 3\n",
      "Producer notify : total items producted 4\n",
      "Consumer notify : consumed 1 item\n",
      "Consumer notify : items to consume are 3\n",
      "Producer notify : total items producted 4\n",
      "Producer notify : total items producted 5\n",
      "Consumer notify : consumed 1 item\n",
      "Consumer notify : items to consume are 4\n",
      "Producer notify : total items producted 5\n",
      "Producer notify : total items producted 6\n",
      "Consumer notify : consumed 1 item\n",
      "Consumer notify : items to consume are 5\n",
      "Producer notify : total items producted 6\n",
      "Producer notify : total items producted 7\n",
      "Consumer notify : consumed 1 item\n",
      "Consumer notify : items to consume are 6\n",
      "Producer notify : total items producted 7\n",
      "Producer notify : total items producted 8\n",
      "Consumer notify : consumed 1 item\n",
      "Consumer notify : items to consume are 7\n",
      "Producer notify : total items producted 8\n",
      "Producer notify : total items producted 9\n",
      "Consumer notify : consumed 1 item\n",
      "Consumer notify : items to consume are 8\n",
      "Producer notify : total items producted 9\n",
      "Producer notify : total items producted 10\n",
      "Consumer notify : consumed 1 item\n",
      "Consumer notify : items to consume are 9\n",
      "Producer notify : total items producted 10\n",
      "Consumer notify : consumed 1 item\n",
      "Consumer notify : items to consume are 9\n",
      "Consumer notify : consumed 1 item\n",
      "Consumer notify : items to consume are 8\n",
      "Consumer notify : consumed 1 item\n",
      "Consumer notify : items to consume are 7\n",
      "Consumer notify : consumed 1 item\n",
      "Consumer notify : items to consume are 6\n",
      "Consumer notify : consumed 1 item\n",
      "Consumer notify : items to consume are 5\n",
      "Consumer notify : consumed 1 item\n",
      "Consumer notify : items to consume are 4\n",
      "Consumer notify : consumed 1 item\n",
      "Consumer notify : items to consume are 3\n",
      "Consumer notify : consumed 1 item\n",
      "Consumer notify : items to consume are 2\n",
      "Consumer notify : consumed 1 item\n",
      "Consumer notify : items to consume are 1\n",
      "Consumer notify : consumed 1 item\n",
      "Consumer notify : items to consume are 0\n"
     ]
    }
   ],
   "source": [
    "from threading import Thread, Condition\n",
    "import time\n",
    "\n",
    "items = []\n",
    "condition = Condition()\n",
    "\n",
    "class consumer(Thread):\n",
    "\n",
    "    def __init__(self):\n",
    "        Thread.__init__(self)\n",
    "\n",
    "    def consume(self):\n",
    "        global condition\n",
    "        global items\n",
    "        condition.acquire()\n",
    "        if len(items) == 0:\n",
    "            condition.wait()\n",
    "            print(\"Consumer notify : no item to consume\")\n",
    "        items.pop()\n",
    "        print(\"Consumer notify : consumed 1 item\")\n",
    "        print(\"Consumer notify : items to consume are \" + str(len(items)))\n",
    "\n",
    "        condition.notify()\n",
    "        condition.release()\n",
    "\n",
    "    def run(self):\n",
    "        for i in range(0, 20):\n",
    "            time.sleep(2)\n",
    "            self.consume()\n",
    "\n",
    "class producer(Thread):\n",
    "\n",
    "    def __init__(self):\n",
    "        Thread.__init__(self)\n",
    "\n",
    "    def produce(self):\n",
    "        global condition\n",
    "        global items\n",
    "        condition.acquire()\n",
    "        if len(items) == 10:\n",
    "            condition.wait()\n",
    "            print(\"Producer notify : items producted are \" + str(len(items)))\n",
    "            print(\"Producer notify : stop the production!!\")\n",
    "        items.append(1)\n",
    "        print(\"Producer notify : total items producted \" + str(len(items)))\n",
    "        condition.notify()\n",
    "        condition.release()\n",
    "\n",
    "    def run(self):\n",
    "        for i in range(0, 20):\n",
    "            time.sleep(1)\n",
    "            self.produce()\n",
    "\n",
    "if __name__ == \"__main__\":\n",
    "    producer = producer()\n",
    "    consumer = consumer()\n",
    "    producer.start()\n",
    "    consumer.start()\n",
    "    producer.join()\n",
    "    consumer.join()"
   ]
  },
  {
   "cell_type": "markdown",
   "metadata": {},
   "source": [
    "乍一看这段代码好像会死锁，因为 condition.acquire() 之后就在 .wait() 了，好像会一直持有锁。其实 .wait() 会将锁释放，然后等待其他线程 .notify() 之后会重新尝试获得锁。但是要注意 .notify() 并不会自动释放锁，所以代码中有两行，先 .notify() 然后再 .release() 。"
   ]
  },
  {
   "cell_type": "markdown",
   "metadata": {},
   "source": [
    "消费者通过拿到锁来修改共享的资源 items[] ：\n",
    "<div>condition.acquire()</div>\n",
    "<div></div>\n",
    "如果list的长度为0，那么消费者就进入等待状态：\n",
    "<div></div>\n",
    "<div>if len(items) == 0:</div>\n",
    "<div>..........condition.wait()</div>\n",
    "<div></div>\n",
    "<div>否则就通过 pop 操作消费一个item：</div>\n",
    "<div></div>\n",
    "<div>items.pop()</div>\n",
    "<div></div>\n",
    "<div>然后，消费者的状态被通知给生产者，同时共享资源释放：</div>\n",
    "<div></div>\n",
    "<div>condition.notify()</div>\n",
    "<div>condition.release()</div>\n",
    "<div></div>\n",
    "生产者拿到共享资源，然后确认缓冲队列是否已满（在我们的这个例子中，最大可以存放10个item），如果已经满了，那么生产者进入等待状态，直到被唤醒：\n",
    "<div></div>\n",
    "<div>condition.acquire()</div>\n",
    "<div>if len(items) == 10:</div>\n",
    "<div>..........condition.wait()</div>\n",
    "<div></div>\n",
    "如果队列没有满，就生产1个item，通知状态并释放资源：\n",
    "<div></div>\n",
    "<div>condition.notify()</div>\n",
    "<div>condition.release()</div>"
   ]
  }
 ],
 "metadata": {
  "interpreter": {
   "hash": "9e68ebf596df7713ab296bba418491aae41f185aff501f4839864b40868f87cf"
  },
  "kernelspec": {
   "display_name": "Python 3.9.12 64-bit (windows store)",
   "language": "python",
   "name": "python3"
  },
  "language_info": {
   "codemirror_mode": {
    "name": "ipython",
    "version": 3
   },
   "file_extension": ".py",
   "mimetype": "text/x-python",
   "name": "python",
   "nbconvert_exporter": "python",
   "pygments_lexer": "ipython3",
   "version": "3.9.12"
  },
  "orig_nbformat": 4
 },
 "nbformat": 4,
 "nbformat_minor": 2
}
