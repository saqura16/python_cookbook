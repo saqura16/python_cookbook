{
 "cells": [
  {
   "cell_type": "markdown",
   "metadata": {},
   "source": [
    "##### 问题：\n",
    "使用事件进行线程同步。\n"
   ]
  },
  {
   "cell_type": "markdown",
   "metadata": {},
   "source": [
    "事件是线程之间用于通讯的对象。有的线程等待信号，有的线程发出信号。基本上事件对象都会维护一个内部变量，可以通过 set() 方法设置为 true ，也可以通过 clear() 方法设置为 false 。 wait() 方法将会阻塞线程，直到内部变量为 true 。"
   ]
  },
  {
   "cell_type": "markdown",
   "metadata": {},
   "source": [
    "通过threading.Event()可以创建一个事件管理标志，该标志（event）默认为False，event对象主要有四种方法可以调用：\n",
    "<li>event.wait(timeout=None)：调用该方法的线程会被阻塞，如果设置了timeout参数，超时后，线程会停止阻塞继续执行；</li>\n",
    "<li>event.set()：将event的标志设置为True，调用wait方法的所有线程将被唤醒；</li>\n",
    "<li>event.clear()：将event的标志设置为False，调用wait方法的所有线程将被阻塞；</li>\n",
    "<li>event.isSet()：判断event的标志是否为True。</li>\n"
   ]
  },
  {
   "cell_type": "markdown",
   "metadata": {},
   "source": [
    "为了理解通过事件对象实现的线程同步，让我们再一次回到生产者-消费者问题上："
   ]
  },
  {
   "cell_type": "code",
   "execution_count": 1,
   "metadata": {},
   "outputs": [
    {
     "name": "stdout",
     "output_type": "stream",
     "text": [
      "Producer notify : item N° 133 appended to list by Thread-3\n",
      "Producer notify : event set by Thread-3\n",
      "Produce notify : event cleared by Thread-3 \n",
      "Consumer notify : 133 popped from list by Thread-4\n",
      "Producer notify : item N° 236 appended to list by Thread-3\n",
      "Producer notify : event set by Thread-3\n",
      "Produce notify : event cleared by Thread-3 \n",
      "Consumer notify : 236 popped from list by Thread-4\n",
      "Producer notify : item N° 174 appended to list by Thread-3\n",
      "Producer notify : event set by Thread-3\n",
      "Produce notify : event cleared by Thread-3 \n",
      "Consumer notify : 174 popped from list by Thread-4\n",
      "Producer notify : item N° 105 appended to list by Thread-3\n",
      "Producer notify : event set by Thread-3\n",
      "Produce notify : event cleared by Thread-3 \n",
      "Producer notify : item N° 219 appended to list by Thread-3\n",
      "Producer notify : event set by Thread-3\n",
      "Produce notify : event cleared by Thread-3 \n",
      "Consumer notify : 219 popped from list by Thread-4\n",
      "Producer notify : item N° 144 appended to list by Thread-3\n",
      "Producer notify : event set by Thread-3\n",
      "Produce notify : event cleared by Thread-3 \n",
      "Consumer notify : 144 popped from list by Thread-4\n",
      "Producer notify : item N° 8 appended to list by Thread-3\n",
      "Producer notify : event set by Thread-3\n",
      "Produce notify : event cleared by Thread-3 \n",
      "Consumer notify : 8 popped from list by Thread-4\n",
      "Producer notify : item N° 41 appended to list by Thread-3\n",
      "Producer notify : event set by Thread-3\n",
      "Produce notify : event cleared by Thread-3 \n",
      "Producer notify : item N° 167 appended to list by Thread-3\n",
      "Producer notify : event set by Thread-3\n",
      "Produce notify : event cleared by Thread-3 \n",
      "Consumer notify : 167 popped from list by Thread-4\n",
      "Producer notify : item N° 115 appended to list by Thread-3\n",
      "Producer notify : event set by Thread-3\n",
      "Produce notify : event cleared by Thread-3 \n",
      "Consumer notify : 115 popped from list by Thread-4\n",
      "Producer notify : item N° 223 appended to list by Thread-3\n",
      "Producer notify : event set by Thread-3\n",
      "Produce notify : event cleared by Thread-3 \n",
      "Producer notify : item N° 255 appended to list by Thread-3\n",
      "Producer notify : event set by Thread-3\n",
      "Produce notify : event cleared by Thread-3 \n",
      "Consumer notify : 255 popped from list by Thread-4\n",
      "Producer notify : item N° 134 appended to list by Thread-3\n",
      "Producer notify : event set by Thread-3\n",
      "Produce notify : event cleared by Thread-3 \n",
      "Producer notify : item N° 156 appended to list by Thread-3\n",
      "Producer notify : event set by Thread-3\n",
      "Produce notify : event cleared by Thread-3 \n",
      "Consumer notify : 156 popped from list by Thread-4\n",
      "Producer notify : item N° 242 appended to list by Thread-3\n",
      "Producer notify : event set by Thread-3\n",
      "Produce notify : event cleared by Thread-3 \n",
      "Consumer notify : 242 popped from list by Thread-4\n",
      "Producer notify : item N° 109 appended to list by Thread-3\n",
      "Producer notify : event set by Thread-3\n",
      "Produce notify : event cleared by Thread-3 \n",
      "Consumer notify : 109 popped from list by Thread-4\n",
      "Producer notify : item N° 96 appended to list by Thread-3\n",
      "Producer notify : event set by Thread-3\n",
      "Produce notify : event cleared by Thread-3 \n",
      "Consumer notify : 96 popped from list by Thread-4\n",
      "Producer notify : item N° 231 appended to list by Thread-3\n",
      "Producer notify : event set by Thread-3\n",
      "Produce notify : event cleared by Thread-3 \n",
      "Consumer notify : 231 popped from list by Thread-4\n",
      "Producer notify : item N° 224 appended to list by Thread-3\n",
      "Producer notify : event set by Thread-3\n",
      "Produce notify : event cleared by Thread-3 \n",
      "Producer notify : item N° 175 appended to list by Thread-3\n",
      "Producer notify : event set by Thread-3\n",
      "Produce notify : event cleared by Thread-3 \n",
      "Consumer notify : 175 popped from list by Thread-4\n",
      "Producer notify : item N° 130 appended to list by Thread-3\n",
      "Producer notify : event set by Thread-3\n",
      "Produce notify : event cleared by Thread-3 \n",
      "Consumer notify : 130 popped from list by Thread-4\n",
      "Producer notify : item N° 57 appended to list by Thread-3\n",
      "Producer notify : event set by Thread-3\n",
      "Produce notify : event cleared by Thread-3 \n",
      "Consumer notify : 57 popped from list by Thread-4\n",
      "Producer notify : item N° 218 appended to list by Thread-3\n",
      "Producer notify : event set by Thread-3\n",
      "Produce notify : event cleared by Thread-3 \n",
      "Consumer notify : 218 popped from list by Thread-4\n",
      "Producer notify : item N° 76 appended to list by Thread-3\n",
      "Producer notify : event set by Thread-3\n",
      "Produce notify : event cleared by Thread-3 \n",
      "Consumer notify : 76 popped from list by Thread-4\n",
      "Producer notify : item N° 129 appended to list by Thread-3\n",
      "Producer notify : event set by Thread-3\n",
      "Produce notify : event cleared by Thread-3 \n",
      "Consumer notify : 129 popped from list by Thread-4\n",
      "Producer notify : item N° 242 appended to list by Thread-3\n",
      "Producer notify : event set by Thread-3\n",
      "Produce notify : event cleared by Thread-3 \n",
      "Consumer notify : 242 popped from list by Thread-4\n",
      "Producer notify : item N° 202 appended to list by Thread-3\n",
      "Producer notify : event set by Thread-3\n",
      "Produce notify : event cleared by Thread-3 \n",
      "Consumer notify : 202 popped from list by Thread-4\n",
      "Producer notify : item N° 111 appended to list by Thread-3\n",
      "Producer notify : event set by Thread-3\n",
      "Produce notify : event cleared by Thread-3 \n",
      "Consumer notify : 111 popped from list by Thread-4\n",
      "Producer notify : item N° 61 appended to list by Thread-3\n",
      "Producer notify : event set by Thread-3\n",
      "Produce notify : event cleared by Thread-3 \n",
      "Consumer notify : 61 popped from list by Thread-4\n",
      "Producer notify : item N° 69 appended to list by Thread-3\n",
      "Producer notify : event set by Thread-3\n",
      "Produce notify : event cleared by Thread-3 Consumer notify : 69 popped from list by Thread-4\n",
      "\n",
      "Producer notify : item N° 205 appended to list by Thread-3\n",
      "Producer notify : event set by Thread-3\n",
      "Produce notify : event cleared by Thread-3 \n",
      "Consumer notify : 205 popped from list by Thread-4\n",
      "Producer notify : item N° 47 appended to list by Thread-3\n",
      "Producer notify : event set by Thread-3\n",
      "Produce notify : event cleared by Thread-3 \n",
      "Consumer notify : 47 popped from list by Thread-4\n",
      "Producer notify : item N° 233 appended to list by Thread-3\n",
      "Producer notify : event set by Thread-3\n",
      "Produce notify : event cleared by Thread-3 \n",
      "Consumer notify : 233 popped from list by Thread-4\n"
     ]
    }
   ],
   "source": [
    "import time\n",
    "from threading import Thread, Event\n",
    "import random\n",
    "items = []\n",
    "event = Event()\n",
    "\n",
    "class consumer(Thread):\n",
    "    def __init__(self, items, event):\n",
    "        Thread.__init__(self)\n",
    "        self.items = items\n",
    "        self.event = event\n",
    "\n",
    "    def run(self):\n",
    "        while True:\n",
    "            time.sleep(2)\n",
    "            self.event.wait()\n",
    "            item = self.items.pop()\n",
    "            print('Consumer notify : %d popped from list by %s' % (item, self.name))\n",
    "\n",
    "class producer(Thread):\n",
    "    def __init__(self, items, event):\n",
    "        Thread.__init__(self)\n",
    "        self.items = items\n",
    "        self.event = event\n",
    "\n",
    "    def run(self):\n",
    "        global item\n",
    "        for i in range(100):\n",
    "            time.sleep(2)\n",
    "            item = random.randint(0, 256)\n",
    "            self.items.append(item)\n",
    "            print('Producer notify : item N° %d appended to list by %s' % (item, self.name))\n",
    "            print('Producer notify : event set by %s' % self.name)\n",
    "            self.event.set()\n",
    "            print('Produce notify : event cleared by %s '% self.name)\n",
    "            self.event.clear()\n",
    "\n",
    "if __name__ == '__main__':\n",
    "    t1 = producer(items, event)\n",
    "    t2 = consumer(items, event)\n",
    "    t1.start()\n",
    "    t2.start()\n",
    "    t1.join()\n",
    "    t2.join()"
   ]
  },
  {
   "cell_type": "markdown",
   "metadata": {},
   "source": [
    "<font size=\"4\" color=\"red\">线程t1在list最后添加值，然后设置event来通知消费者。消费者通过 wait() 阻塞，直到收到信号的时候从list中取出元素消费。</font>"
   ]
  },
  {
   "cell_type": "markdown",
   "metadata": {},
   "source": [
    "wait的阻塞需要使用set解开，而使用clear又会使其重新阻塞"
   ]
  },
  {
   "cell_type": "markdown",
   "metadata": {},
   "source": [
    "producer 类初始化时定义了item的list和 Event ，与条件对象时候的例子不同，这里的list并不是全局的，而是通过参数传入的："
   ]
  },
  {
   "cell_type": "code",
   "execution_count": null,
   "metadata": {},
   "outputs": [],
   "source": [
    "class consumer(Thread):\n",
    "    def __init__(self, items, event):\n",
    "        Thread.__init__(self)\n",
    "        self.items = items\n",
    "        self.event = event"
   ]
  },
  {
   "cell_type": "markdown",
   "metadata": {},
   "source": [
    "在run方法中，每当item创建， producer 类将新item添加到list末尾然后发出事件通知。使用事件有两步，第一步："
   ]
  },
  {
   "cell_type": "code",
   "execution_count": null,
   "metadata": {},
   "outputs": [],
   "source": [
    "# self.event.set()"
   ]
  },
  {
   "cell_type": "markdown",
   "metadata": {},
   "source": [
    "第二步："
   ]
  },
  {
   "cell_type": "code",
   "execution_count": null,
   "metadata": {},
   "outputs": [],
   "source": [
    "# self.event.clear()"
   ]
  },
  {
   "cell_type": "markdown",
   "metadata": {},
   "source": [
    "consumer 类初始化时也定义了item的list和 Event() 。当item进来的时候，它将其取出："
   ]
  },
  {
   "cell_type": "code",
   "execution_count": null,
   "metadata": {},
   "outputs": [],
   "source": [
    "def run(self):\n",
    "    while True:\n",
    "        time.sleep(2)\n",
    "        self.event.wait()\n",
    "        item = self.items.pop()\n",
    "        print('Consumer notify : %d popped from list by %s' % (item, self.name))"
   ]
  },
  {
   "cell_type": "markdown",
   "metadata": {},
   "source": [
    "下图可以帮我们认识 producer 和 consumer ："
   ]
  },
  {
   "cell_type": "markdown",
   "metadata": {},
   "source": [
    "<img src=\"3.png\" width=\"50% \">"
   ]
  }
 ],
 "metadata": {
  "interpreter": {
   "hash": "9e68ebf596df7713ab296bba418491aae41f185aff501f4839864b40868f87cf"
  },
  "kernelspec": {
   "display_name": "Python 3.9.12 64-bit (windows store)",
   "language": "python",
   "name": "python3"
  },
  "language_info": {
   "codemirror_mode": {
    "name": "ipython",
    "version": 3
   },
   "file_extension": ".py",
   "mimetype": "text/x-python",
   "name": "python",
   "nbconvert_exporter": "python",
   "pygments_lexer": "ipython3",
   "version": "3.9.12"
  },
  "orig_nbformat": 4
 },
 "nbformat": 4,
 "nbformat_minor": 2
}
