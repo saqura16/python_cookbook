{
 "cells": [
  {
   "cell_type": "markdown",
   "metadata": {},
   "source": [
    "##### 问题:\n",
    "我们需要编写代码来处理或遍历一个由许多不同类型的对象组成的复杂数据结构，每\n",
    "种类型的对象处理的方式都不相同。例如遍历一个树结构，根据遇到的树节点的类型\n",
    "来执行不同的操作。"
   ]
  },
  {
   "cell_type": "markdown",
   "metadata": {},
   "source": [
    "##### 解决方案:\n",
    "本节提到的这个问题常常出现在由大量不同类型的对象组成的数据结构的程序中。为\n",
    "了说明，假设我们正在编写一个表示数学运算的程序。要实现这个功能，程序中会用\n",
    "到一些类，示例如下："
   ]
  },
  {
   "cell_type": "code",
   "execution_count": 14,
   "metadata": {},
   "outputs": [],
   "source": [
    "class Node:\n",
    "    pass\n",
    "\n",
    "class UnaryOperator(Node):\n",
    "    def __init__(self, operand):\n",
    "        self.operand = operand\n",
    "\n",
    "class BinaryOperator(Node):\n",
    "    def __init__(self, left, right):\n",
    "        self.left = left\n",
    "        self.right = right\n",
    "\n",
    "class Add(BinaryOperator):\n",
    "    pass\n",
    "\n",
    "class Sub(BinaryOperator):\n",
    "    pass\n",
    "\n",
    "class Mul(BinaryOperator):\n",
    "    pass\n",
    "\n",
    "class Div(BinaryOperator):\n",
    "    pass\n",
    "\n",
    "class Negate(UnaryOperator):\n",
    "    pass\n",
    "\n",
    "class Number(Node):\n",
    "    def __init__(self, value):\n",
    "        self.value = value\n"
   ]
  },
  {
   "cell_type": "markdown",
   "metadata": {},
   "source": [
    "之后，我们可以用这些类来构建嵌套式的数据结构，就像这样："
   ]
  },
  {
   "cell_type": "code",
   "execution_count": 15,
   "metadata": {},
   "outputs": [],
   "source": [
    "\n",
    "# Representation of 1 + 2 * (3 - 4) / 5\n",
    "t1 = Sub(Number(3), Number(4))\n",
    "t2 = Mul(Number(2), t1)\n",
    "t3 = Div(t2, Number(5))\n",
    "t4 = Add(Number(1), t3)"
   ]
  },
  {
   "cell_type": "markdown",
   "metadata": {},
   "source": [
    "问题不在创建这些数据结构上，而是在稍后编写处理它们的代码时。例如，给定一个\n",
    "表达式，程序可能要做很多事情，比如产生输出、生成指令、执行字节码到机器码的\n",
    "翻译等。"
   ]
  },
  {
   "cell_type": "markdown",
   "metadata": {},
   "source": [
    "为了能让处理过程变得通用，一种常见的解决方案就是实现所谓的“访问者模式”。我\n",
    "们需要使用类似下面这样的类："
   ]
  },
  {
   "cell_type": "code",
   "execution_count": 16,
   "metadata": {},
   "outputs": [],
   "source": [
    "class NodeVisitor:\n",
    "    def visit(self, node):\n",
    "        methname = 'visit_' + type(node).__name__\n",
    "        meth = getattr(self, methname, None)\n",
    "        if meth is None:\n",
    "            meth = self.generic_visit\n",
    "        return meth(node)\n",
    "    def generic_visit(self, node):\n",
    "        raise RuntimeError('No {} method'.format('visit_' + type(node).__name__)) "
   ]
  },
  {
   "cell_type": "markdown",
   "metadata": {},
   "source": [
    "要使用这个类，程序员从该类中继承并实现各种 visit_Name()方法，这里的 Name 应该\n",
    "由节点的类型来替换。例如，如果想对表达式求值，那么可以编写这样的代码："
   ]
  },
  {
   "cell_type": "code",
   "execution_count": 17,
   "metadata": {},
   "outputs": [],
   "source": [
    "class Evaluator(NodeVisitor):\n",
    "    def visit_Number(self, node):\n",
    "        return node.value\n",
    "    def visit_Add(self, node):\n",
    "        return self.visit(node.left) + self.visit(node.right)\n",
    "    def visit_Sub(self, node):\n",
    "        return self.visit(node.left) - self.visit(node.right)\n",
    "    def visit_Mul(self, node):\n",
    "        return self.visit(node.left) * self.visit(node.right)\n",
    "    def visit_Div(self, node):\n",
    "        return self.visit(node.left) / self.visit(node.right)\n",
    "    def visit_Negate(self, node):\n",
    "        return -node.operand\n"
   ]
  },
  {
   "cell_type": "markdown",
   "metadata": {},
   "source": [
    "下面这个例子展示如何使用这个类来计算前面生成的表达式："
   ]
  },
  {
   "cell_type": "code",
   "execution_count": 18,
   "metadata": {},
   "outputs": [
    {
     "data": {
      "text/plain": [
       "0.6"
      ]
     },
     "execution_count": 18,
     "metadata": {},
     "output_type": "execute_result"
    }
   ],
   "source": [
    "\n",
    "e = Evaluator()\n",
    "e.visit(t4)"
   ]
  },
  {
   "cell_type": "code",
   "execution_count": 19,
   "metadata": {},
   "outputs": [
    {
     "name": "stdout",
     "output_type": "stream",
     "text": [
      "0.6\n"
     ]
    }
   ],
   "source": [
    "class Node:\n",
    "    pass\n",
    "\n",
    "class UnaryOperator(Node):\n",
    "    def __init__(self, operand):\n",
    "        self.operand = operand\n",
    "\n",
    "class BinaryOperator(Node):\n",
    "    def __init__(self, left, right):\n",
    "        self.left = left\n",
    "        self.right = right\n",
    "\n",
    "class Add(BinaryOperator):\n",
    "    pass\n",
    "\n",
    "class Sub(BinaryOperator):\n",
    "    pass\n",
    "\n",
    "class Mul(BinaryOperator):\n",
    "    pass\n",
    "\n",
    "class Div(BinaryOperator):\n",
    "    pass\n",
    "\n",
    "class Negate(UnaryOperator):\n",
    "    pass\n",
    "\n",
    "class Number(Node):\n",
    "    def __init__(self, value):\n",
    "        self.value = value\n",
    "\n",
    "class NodeVisitor:\n",
    "    def visit(self, node):\n",
    "        methname = 'visit_' + type(node).__name__\n",
    "        meth = getattr(self, methname, None)  #存在就获取属性值,不存在返回none\n",
    "        if meth is None:\n",
    "            meth = self.generic_visit\n",
    "        return meth(node)\n",
    "    def generic_visit(self, node):\n",
    "        raise RuntimeError('No {} method'.format('visit_' + type(node).__name__)) \n",
    "class Evaluator(NodeVisitor):\n",
    "    def visit_Number(self, node):\n",
    "        return node.value\n",
    "    def visit_Add(self, node):\n",
    "        return self.visit(node.left) + self.visit(node.right)\n",
    "    def visit_Sub(self, node):\n",
    "        return self.visit(node.left) - self.visit(node.right)\n",
    "    def visit_Mul(self, node):\n",
    "        return self.visit(node.left) * self.visit(node.right)\n",
    "    def visit_Div(self, node):\n",
    "        return self.visit(node.left) / self.visit(node.right)\n",
    "    def visit_Negate(self, node):\n",
    "        return -node.operand\n",
    "    \n",
    "    \n",
    "\n",
    "# Representation of 1 + 2 * (3 - 4) / 5\n",
    "t1 = Sub(Number(3), Number(4))\n",
    "t2 = Mul(Number(2), t1)\n",
    "t3 = Div(t2, Number(5))\n",
    "t4 = Add(Number(1), t3)\n",
    "e = Evaluator()\n",
    "print(e.visit(t4))"
   ]
  },
  {
   "cell_type": "markdown",
   "metadata": {},
   "source": [
    "作为另一个完全不同的例子，下面这个类可以将表达式翻译为堆栈机（stack machine）\n",
    "上的指令序列："
   ]
  },
  {
   "cell_type": "code",
   "execution_count": 20,
   "metadata": {},
   "outputs": [],
   "source": [
    "class StackCode(NodeVisitor):\n",
    "    def generate_code(self, node):\n",
    "        self.instructions = []\n",
    "        self.visit(node)\n",
    "        return self.instructions\n",
    "    def visit_Number(self, node):\n",
    "        self.instructions.append(('PUSH', node.value))\n",
    "    def binop(self, node, instruction):\n",
    "        self.visit(node.left)\n",
    "        self.visit(node.right)\n",
    "        self.instructions.append((instruction,))\n",
    "    def visit_Add(self, node):\n",
    "        self.binop(node, 'ADD')\n",
    "    def visit_Sub(self, node):\n",
    "        self.binop(node, 'SUB')\n",
    "    def visit_Mul(self, node):\n",
    "        self.binop(node, 'MUL')\n",
    "    def visit_Div(self, node):\n",
    "        self.binop(node, 'DIV')\n",
    "    def unaryop(self, node, instruction):\n",
    "        self.visit(node.operand)\n",
    "        self.instructions.append((instruction,))\n",
    "    def visit_Negate(self, node):\n",
    "        self.unaryop(node, 'NEG')\n",
    "    \n"
   ]
  },
  {
   "cell_type": "markdown",
   "metadata": {},
   "source": [
    "如何使用这个类呢？示例如下："
   ]
  },
  {
   "cell_type": "code",
   "execution_count": 21,
   "metadata": {},
   "outputs": [
    {
     "data": {
      "text/plain": [
       "[('PUSH', 1),\n",
       " ('PUSH', 2),\n",
       " ('PUSH', 3),\n",
       " ('PUSH', 4),\n",
       " ('SUB',),\n",
       " ('MUL',),\n",
       " ('PUSH', 5),\n",
       " ('DIV',),\n",
       " ('ADD',)]"
      ]
     },
     "execution_count": 21,
     "metadata": {},
     "output_type": "execute_result"
    }
   ],
   "source": [
    "s = StackCode()\n",
    "s.generate_code(t4)"
   ]
  },
  {
   "cell_type": "markdown",
   "metadata": {},
   "source": [
    "本节涵盖了两个核心思想。首先是设计策略，即把操作复杂数据结构的代码和数据结构本身进行解耦。也就是说，本节中没有任何一个 Node 类的实现有对数据进行操作。\n",
    "相反，所有对数据的处理都放在特定的 NodeVisitor 类中实现。这种隔离使得代码变得\n",
    "非常通用。"
   ]
  },
  {
   "cell_type": "markdown",
   "metadata": {},
   "source": [
    "本节的第二个核心思想在于对访问者类本身的实现。在访问者中，你想根据某些值比\n",
    "如节点类型来调度不同的处理方法。一种幼稚的做法是会编写大量的 if 语句，就像下\n",
    "面这样："
   ]
  },
  {
   "cell_type": "code",
   "execution_count": null,
   "metadata": {},
   "outputs": [],
   "source": [
    "'''\n",
    "class NodeVisitor:\n",
    "    def visit(self, node):\n",
    "        nodetype = type(node).__name__\n",
    "        if nodetype == 'Number':\n",
    "            return self.visit_Number(node)\n",
    "        elif nodetype == 'Add':\n",
    "            return self.visit_Add(node)\n",
    "        elif nodetype == 'Sub':\n",
    "            return self.visit_Sub(node)\n",
    "'''"
   ]
  },
  {
   "cell_type": "markdown",
   "metadata": {},
   "source": [
    "但是，很快就会发现这种做法明显行不通。除了非常繁琐之外，运行速度也很慢。如\n",
    "果想添加或修改要处理的节点类型则会难以维护。相反，如果通过一些小技巧将方法\n",
    "名构建出来，再利用 getattr()函数来获取方法则会好得多。解决方案中的 generic_visit()不\n",
    "应该匹配到任何处理方法，它是一种异常回退机制。在本节中，generic_visit()会抛出一\n",
    "个异常来警告程序员遇到了一个未知的节点类型。"
   ]
  },
  {
   "cell_type": "markdown",
   "metadata": {},
   "source": [
    "在每个访问者类中，常常会通过对 visit()方法进行递归调用来完成计算。示例如下：\n"
   ]
  },
  {
   "cell_type": "code",
   "execution_count": null,
   "metadata": {},
   "outputs": [],
   "source": [
    "'''\n",
    "class Evaluator(NodeVisitor):\n",
    "    ...\n",
    "    def visit_Add(self, node):\n",
    "        return self.visit(node.left) + self.visit(node.right)\n",
    "'''"
   ]
  },
  {
   "cell_type": "markdown",
   "metadata": {},
   "source": [
    "正是由于递归才使得访问者类可以遍历整个数据结构。本质上说就是不断调用 visit()\n",
    "直到到达某个终止节点，比如示例中的 Number。递归和其他操作的确切顺序完全取决\n",
    "于应用程序。"
   ]
  },
  {
   "cell_type": "markdown",
   "metadata": {},
   "source": [
    "访问者模式的一个缺点就是需要重度依赖于递归。如果要处理一个深度嵌套的数据结\n",
    "构，那么有可能会达到 Python 的递归深度限制（查看 sys.getrecursionlimit()的结果）。\n",
    "要避免这个问题，可以在构建数据结构时做一些特定的选择。例如，可以使用普通的\n",
    "Python 列表来替代链表，或者在每个节点中聚合更多数据，使得数据变得扁平化而不\n",
    "是深度嵌套。"
   ]
  },
  {
   "cell_type": "code",
   "execution_count": 22,
   "metadata": {},
   "outputs": [
    {
     "data": {
      "text/plain": [
       "3000"
      ]
     },
     "execution_count": 22,
     "metadata": {},
     "output_type": "execute_result"
    }
   ],
   "source": [
    "import sys\n",
    "sys.getrecursionlimit()"
   ]
  },
  {
   "cell_type": "markdown",
   "metadata": {},
   "source": [
    "也可以尝试利用生成器和迭代器实现非递归式的遍历算法"
   ]
  },
  {
   "cell_type": "markdown",
   "metadata": {},
   "source": [
    "在有关解析和编译的程序中使用访问者模式是非常常见的。在 Python 自带的 ast 模块\n",
    "中可以找到一个实现。除了可以遍历树结构之外，在遍历的同时还允许对数据结构进\n",
    "行改写或转换（例如添加节点或移除节点）。具体细节可查看 ast 模块的源码。9.24 节\n",
    "中展示了一个利用 ast 模块来处理 Python 源代码的例子。"
   ]
  }
 ],
 "metadata": {
  "interpreter": {
   "hash": "cf9b60c5a2fa413cd21cce5a70eb54d8233b7f3c2bf217096b02f2c4f88c6a2d"
  },
  "kernelspec": {
   "display_name": "Python 3.9.13 64-bit (windows store)",
   "language": "python",
   "name": "python3"
  },
  "language_info": {
   "codemirror_mode": {
    "name": "ipython",
    "version": 3
   },
   "file_extension": ".py",
   "mimetype": "text/x-python",
   "name": "python",
   "nbconvert_exporter": "python",
   "pygments_lexer": "ipython3",
   "version": "3.9.13"
  },
  "orig_nbformat": 4
 },
 "nbformat": 4,
 "nbformat_minor": 2
}
