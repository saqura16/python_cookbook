{
 "cells": [
  {
   "cell_type": "markdown",
   "metadata": {},
   "source": [
    "函数传递函数"
   ]
  },
  {
   "cell_type": "code",
   "execution_count": 3,
   "metadata": {},
   "outputs": [
    {
     "name": "stdout",
     "output_type": "stream",
     "text": [
      "4\n",
      "6\n"
     ]
    }
   ],
   "source": [
    "def get_multiple_func(n):\n",
    "\n",
    "    def multiple(x):\n",
    "        return n*x\n",
    "    return multiple #返回一个函数,可调用\n",
    "\n",
    "double=get_multiple_func(2)  #double是一个可调用的对象\n",
    "triple=get_multiple_func(3)  #triple是一个可调用的对象\n",
    "\n",
    "print(double(2))\n",
    "print(triple(2))"
   ]
  },
  {
   "cell_type": "markdown",
   "metadata": {},
   "source": [
    "理解解释器"
   ]
  },
  {
   "cell_type": "code",
   "execution_count": 4,
   "metadata": {},
   "outputs": [
    {
     "name": "stdout",
     "output_type": "stream",
     "text": [
      "0.0\n",
      "4\n"
     ]
    }
   ],
   "source": [
    "import time\n",
    "def timeit(f):\n",
    "    def wrapper(x):\n",
    "        start=time.time()\n",
    "        res=f(x)\n",
    "        print(abs(start-time.time()))\n",
    "        return res\n",
    "    return wrapper\n",
    "\n",
    "\n",
    "@timeit\n",
    "def my_func(x):\n",
    "    time.sleep(x)\n",
    "\n",
    "@timeit\n",
    "def other(x):\n",
    "    return x*2\n",
    "\n",
    "#my_func(1)\n",
    "\n",
    "print(other(2))"
   ]
  },
  {
   "cell_type": "markdown",
   "metadata": {},
   "source": [
    "上下等价"
   ]
  },
  {
   "cell_type": "code",
   "execution_count": 5,
   "metadata": {},
   "outputs": [
    {
     "name": "stdout",
     "output_type": "stream",
     "text": [
      "1.0106487274169922\n"
     ]
    }
   ],
   "source": [
    "import time\n",
    "def timeit(f):\n",
    "    def wrapper(x):\n",
    "        start=time.time()\n",
    "        res=f(x) #这里的f指的就是下面调用的函数,也就是f是my_func()\n",
    "        print(abs(start-time.time()))\n",
    "        return res\n",
    "    return wrapper\n",
    "\n",
    "\n",
    "\n",
    "def my_func(x):\n",
    "    time.sleep(x)\n",
    "\n",
    "a=timeit(my_func)\n",
    "a(1)"
   ]
  },
  {
   "cell_type": "code",
   "execution_count": 6,
   "metadata": {},
   "outputs": [
    {
     "name": "stdout",
     "output_type": "stream",
     "text": [
      "0.0\n"
     ]
    },
    {
     "data": {
      "text/plain": [
       "4"
      ]
     },
     "execution_count": 6,
     "metadata": {},
     "output_type": "execute_result"
    }
   ],
   "source": [
    "def timeit(iteration):\n",
    "    def inner(f):\n",
    "        def wrapper(*args,**kwargs):\n",
    "            start=time.time()\n",
    "            for _ in range(iteration):\n",
    "                ret=f(*args,**kwargs)\n",
    "            print(time.time()-start)\n",
    "            return ret\n",
    "        return wrapper\n",
    "    return inner\n",
    "\n",
    "@timeit(1000)\n",
    "def double(x):\n",
    "    return x*2\n",
    "\n",
    "double(2)\n"
   ]
  },
  {
   "cell_type": "markdown",
   "metadata": {},
   "source": [
    "上下代码等价"
   ]
  },
  {
   "cell_type": "code",
   "execution_count": 7,
   "metadata": {},
   "outputs": [
    {
     "name": "stdout",
     "output_type": "stream",
     "text": [
      "0.0\n"
     ]
    },
    {
     "data": {
      "text/plain": [
       "4"
      ]
     },
     "execution_count": 7,
     "metadata": {},
     "output_type": "execute_result"
    }
   ],
   "source": [
    "import time\n",
    "def timeit(iteration):\n",
    "    def inner(f):\n",
    "        def wrapper(*args,**kwargs):\n",
    "            start=time.time()\n",
    "            for _ in range(iteration):\n",
    "                ret=f(*args,**kwargs)\n",
    "            print(time.time()-start)\n",
    "            return ret\n",
    "        return wrapper\n",
    "    return inner\n",
    "\n",
    "\n",
    "def double(x):\n",
    "    return x*2\n",
    "\n",
    "inner=timeit(1000)\n",
    "double=inner(double)\n",
    "double(2)\n"
   ]
  }
 ],
 "metadata": {
  "interpreter": {
   "hash": "c428d4300b96006bd89c7861a64ca1379b2ef13eb8daabe066e18431431e18b4"
  },
  "kernelspec": {
   "display_name": "Python 3.9.12 64-bit",
   "language": "python",
   "name": "python3"
  },
  "language_info": {
   "codemirror_mode": {
    "name": "ipython",
    "version": 3
   },
   "file_extension": ".py",
   "mimetype": "text/x-python",
   "name": "python",
   "nbconvert_exporter": "python",
   "pygments_lexer": "ipython3",
   "version": "3.9.12"
  },
  "orig_nbformat": 4
 },
 "nbformat": 4,
 "nbformat_minor": 2
}
