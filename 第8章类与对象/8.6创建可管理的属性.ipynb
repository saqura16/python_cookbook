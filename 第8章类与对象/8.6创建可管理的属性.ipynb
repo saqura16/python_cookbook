{
 "cells": [
  {
   "cell_type": "markdown",
   "metadata": {},
   "source": [
    "##### 问题:\n",
    "在对实例属性的获取和设定上，我们希望增加一些额外的处理过程（比如类型检查或者验证）。"
   ]
  },
  {
   "cell_type": "markdown",
   "metadata": {},
   "source": [
    "##### 解决方案：\n",
    "要自定义对属性的访问，一种简单的方式是将其定义为property。比如说，下面的代码定义了一个property，增加了对属性的类型检查："
   ]
  },
  {
   "cell_type": "code",
   "execution_count": 8,
   "metadata": {},
   "outputs": [],
   "source": [
    "class Person: \n",
    "    def __init__(self, first_name):\n",
    "        self.first_name = first_name \n",
    "        # Getter function\n",
    "    @property \n",
    "    def first_name(self): \n",
    "        return self._first_name\n",
    "    # Setter function\n",
    "    @first_name.setter \n",
    "    def first_name(self, value): \n",
    "        if not isinstance(value, str): \n",
    "            raise TypeError('Expected a string') \n",
    "        self._first_name = value \n",
    "    \n",
    "    # Deleter function (optional)\n",
    "    @first_name.deleter \n",
    "    def first_name(self): \n",
    "        raise AttributeError(\"Can't delete attribute\") "
   ]
  },
  {
   "cell_type": "markdown",
   "metadata": {},
   "source": [
    "在上述代码中，一共有三个互相关联的方法，它们必须有着相同的名称。第一个方法是一个getter函数，并且将first_name定义为了property属性。其他两个方法将可选的setter和deleter函数附加到了first_name属性上。需要重点强调的是，除非first_name已经通过@property的方式定义为了property属性，否则是不能定义@first_name.setter和@first_name.deleter装饰器的。"
   ]
  },
  {
   "cell_type": "markdown",
   "metadata": {},
   "source": [
    "property的重要特性就是它看起来就像一个普通的属性，但是根据访问它的不同方式，会自动触发getter、setter以及deleter方法。示例如下："
   ]
  },
  {
   "cell_type": "code",
   "execution_count": 9,
   "metadata": {},
   "outputs": [
    {
     "data": {
      "text/plain": [
       "'Guido'"
      ]
     },
     "execution_count": 9,
     "metadata": {},
     "output_type": "execute_result"
    }
   ],
   "source": [
    "a = Person('Guido')\n",
    "a.first_name"
   ]
  },
  {
   "cell_type": "code",
   "execution_count": 10,
   "metadata": {},
   "outputs": [
    {
     "ename": "TypeError",
     "evalue": "Expected a string",
     "output_type": "error",
     "traceback": [
      "\u001b[1;31m---------------------------------------------------------------------------\u001b[0m",
      "\u001b[1;31mTypeError\u001b[0m                                 Traceback (most recent call last)",
      "\u001b[1;32m~\\AppData\\Local\\Temp/ipykernel_19576/172135346.py\u001b[0m in \u001b[0;36m<module>\u001b[1;34m\u001b[0m\n\u001b[1;32m----> 1\u001b[1;33m \u001b[0ma\u001b[0m\u001b[1;33m.\u001b[0m\u001b[0mfirst_name\u001b[0m \u001b[1;33m=\u001b[0m \u001b[1;36m42\u001b[0m\u001b[1;33m\u001b[0m\u001b[1;33m\u001b[0m\u001b[0m\n\u001b[0m",
      "\u001b[1;32m~\\AppData\\Local\\Temp/ipykernel_19576/2024324576.py\u001b[0m in \u001b[0;36mfirst_name\u001b[1;34m(self, value)\u001b[0m\n\u001b[0;32m     10\u001b[0m     \u001b[1;32mdef\u001b[0m \u001b[0mfirst_name\u001b[0m\u001b[1;33m(\u001b[0m\u001b[0mself\u001b[0m\u001b[1;33m,\u001b[0m \u001b[0mvalue\u001b[0m\u001b[1;33m)\u001b[0m\u001b[1;33m:\u001b[0m\u001b[1;33m\u001b[0m\u001b[1;33m\u001b[0m\u001b[0m\n\u001b[0;32m     11\u001b[0m         \u001b[1;32mif\u001b[0m \u001b[1;32mnot\u001b[0m \u001b[0misinstance\u001b[0m\u001b[1;33m(\u001b[0m\u001b[0mvalue\u001b[0m\u001b[1;33m,\u001b[0m \u001b[0mstr\u001b[0m\u001b[1;33m)\u001b[0m\u001b[1;33m:\u001b[0m\u001b[1;33m\u001b[0m\u001b[1;33m\u001b[0m\u001b[0m\n\u001b[1;32m---> 12\u001b[1;33m             \u001b[1;32mraise\u001b[0m \u001b[0mTypeError\u001b[0m\u001b[1;33m(\u001b[0m\u001b[1;34m'Expected a string'\u001b[0m\u001b[1;33m)\u001b[0m\u001b[1;33m\u001b[0m\u001b[1;33m\u001b[0m\u001b[0m\n\u001b[0m\u001b[0;32m     13\u001b[0m         \u001b[0mself\u001b[0m\u001b[1;33m.\u001b[0m\u001b[0m_first_name\u001b[0m \u001b[1;33m=\u001b[0m \u001b[0mvalue\u001b[0m\u001b[1;33m\u001b[0m\u001b[1;33m\u001b[0m\u001b[0m\n\u001b[0;32m     14\u001b[0m \u001b[1;33m\u001b[0m\u001b[0m\n",
      "\u001b[1;31mTypeError\u001b[0m: Expected a string"
     ]
    }
   ],
   "source": [
    "a.first_name = 42"
   ]
  },
  {
   "cell_type": "markdown",
   "metadata": {},
   "source": [
    "当我们实现一个property时，底层的数据（如果有的话）仍然需要被保存到某个地方。因此在get和set方法中，可以看到我们是直接对_first_name进行操作的，这就是数据实际保存的地方。此外，你可能会问为什么在__init__()方法中设定的是self.first_name而不是self._first_name呢？在这个例子中，property的全部意义就在于我们设置属性时可以执行类型检查。因此，很有可能你想让这种类型检查在初始化的时候也可以进行。\n"
   ]
  },
  {
   "cell_type": "markdown",
   "metadata": {},
   "source": [
    "因此，在__init__()中设置self.first_name，实际上会调用到setter方法（因此就会跳过self.first_name而去访问self._first_name）"
   ]
  },
  {
   "cell_type": "markdown",
   "metadata": {},
   "source": [
    "对于已经存在的get和set方法，同样也可以将它们定义为property。示例如下："
   ]
  },
  {
   "cell_type": "code",
   "execution_count": null,
   "metadata": {},
   "outputs": [],
   "source": [
    "class Person: \n",
    "    def __init__(self, first_name):\n",
    "        self.set_first_name(first_name) \n",
    "    \n",
    "    # Getter function\n",
    "    def get_first_name(self): \n",
    "        return self._first_name \n",
    "        \n",
    "    # Setter function\n",
    "    def set_first_name(self, value): \n",
    "        if not isinstance(value, str): \n",
    "            raise TypeError('Expected a string')\n",
    "        self._first_name = value \n",
    "    \n",
    "    # Deleter function (optional)\n",
    "    def del_first_name(self): \n",
    "        raise AttributeError(\"Can't delete attribute\")\n",
    "        \n",
    "    # Make a property from existing get/set methods\n",
    "    \n",
    "    name = property(get_first_name, set_first_name, del_first_name)"
   ]
  },
  {
   "cell_type": "markdown",
   "metadata": {},
   "source": [
    "property属性实际上就是把一系列的方法绑定到一起。如果检查类的property属性，就会发现property自身所持有的属性fget、fset和fdel所代表的原始方法。示例如下："
   ]
  },
  {
   "cell_type": "code",
   "execution_count": 11,
   "metadata": {},
   "outputs": [
    {
     "data": {
      "text/plain": [
       "<function __main__.Person.first_name(self)>"
      ]
     },
     "execution_count": 11,
     "metadata": {},
     "output_type": "execute_result"
    }
   ],
   "source": [
    "Person.first_name.fget "
   ]
  },
  {
   "cell_type": "markdown",
   "metadata": {},
   "source": [
    "一般来说我们不会直接去调用fget或者fset，但是当我们访问property属性时会自动触发对这些方法的调用。"
   ]
  }
 ],
 "metadata": {
  "interpreter": {
   "hash": "ad2bdc8ecc057115af97d19610ffacc2b4e99fae6737bb82f5d7fb13d2f2c186"
  },
  "kernelspec": {
   "display_name": "Python 3.9.7 ('base')",
   "language": "python",
   "name": "python3"
  },
  "language_info": {
   "codemirror_mode": {
    "name": "ipython",
    "version": 3
   },
   "file_extension": ".py",
   "mimetype": "text/x-python",
   "name": "python",
   "nbconvert_exporter": "python",
   "pygments_lexer": "ipython3",
   "version": "3.9.7"
  },
  "orig_nbformat": 4
 },
 "nbformat": 4,
 "nbformat_minor": 2
}
