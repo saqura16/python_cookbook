{
 "cells": [
  {
   "cell_type": "markdown",
   "metadata": {},
   "source": [
    "### 问题:\n",
    "我们想实现一个状态机，或者让对象可以在不同的状态中进行操作。但是我们并不希\n",
    "望代码里会因此出现大量的条件判断。"
   ]
  },
  {
   "cell_type": "markdown",
   "metadata": {},
   "source": [
    "##### 解决方案:\n",
    "在某些应用程序中，我们可能会让对象根据某种内部状态来进行不同的操作。例如，\n",
    "考虑下面这个代表网络连接的类："
   ]
  },
  {
   "cell_type": "code",
   "execution_count": 13,
   "metadata": {},
   "outputs": [],
   "source": [
    "class Connection:\n",
    "    def __init__(self):\n",
    "        self.state = 'CLOSED'\n",
    "    def read(self):\n",
    "        if self.state != 'OPEN':\n",
    "            raise RuntimeError('Not open')\n",
    "        print('reading')\n",
    "    def write(self, data):\n",
    "        if self.state != 'OPEN':\n",
    "            raise RuntimeError('Not open')\n",
    "        print('writing')\n",
    "    def open(self):\n",
    "        if self.state == 'OPEN':\n",
    "            raise RuntimeError('Already open')\n",
    "        self.state = 'OPEN'\n",
    "    def close(self):\n",
    "        if self.state == 'CLOSED':\n",
    "            raise RuntimeError('Already closed')\n",
    "        self.state = 'CLOSED'"
   ]
  },
  {
   "cell_type": "markdown",
   "metadata": {},
   "source": [
    "这份代码为我们提出了几个难题。首先，由于代码中引入了许多针对状态的条件检查，\n",
    "代码变得很复杂。其次，程序的性能下降了。因为普通的操作如读（read()）和写（write()）\n",
    "总是要在处理前先检查状态。"
   ]
  },
  {
   "cell_type": "markdown",
   "metadata": {},
   "source": [
    "一个更加优雅的方式是将每种操作状态以一个单独的类来定义，然后在 Connection 类\n",
    "中使用这些状态类。示例如下："
   ]
  },
  {
   "cell_type": "code",
   "execution_count": 14,
   "metadata": {},
   "outputs": [
    {
     "name": "stdout",
     "output_type": "stream",
     "text": [
      "<class '__main__.ClosedConnectionState'>\n",
      "<class '__main__.OpenConnectionState'>\n",
      "reading\n",
      "writing\n",
      "<class '__main__.ClosedConnectionState'>\n"
     ]
    }
   ],
   "source": [
    "class Connection:\n",
    "    def __init__(self):\n",
    "        self.new_state(ClosedConnectionState)  #此处传入一个类的地址\n",
    "    def new_state(self, newstate):\n",
    "        self._state = newstate  #类似实例化一个类\n",
    "    # Delegate to the state class\n",
    "    def read(self):\n",
    "        return self._state.read(self)\n",
    "    def write(self, data):\n",
    "        return self._state.write(self, data)\n",
    "    def open(self):\n",
    "        return self._state.open(self)\n",
    "    def close(self):\n",
    "        return self._state.close(self)\n",
    "\n",
    "# Connection state base class\n",
    "class ConnectionState:                          #基类\n",
    "    @staticmethod\n",
    "    def read(conn):\n",
    "        raise NotImplementedError()\n",
    "    @staticmethod\n",
    "    def write(conn, data):\n",
    "        raise NotImplementedError()\n",
    "    @staticmethod\n",
    "    def open(conn):\n",
    "        raise NotImplementedError()\n",
    "    @staticmethod\n",
    "    def close(conn):\n",
    "        raise NotImplementedError()\n",
    "        \n",
    "# Implementation of different states        \n",
    "class ClosedConnectionState(ConnectionState):   #close类\n",
    "    @staticmethod\n",
    "    def read(conn):\n",
    "        raise RuntimeError('Not open')\n",
    "    @staticmethod\n",
    "    def write(conn, data):\n",
    "        raise RuntimeError('Not open')\n",
    "    @staticmethod\n",
    "    def open(conn):\n",
    "        conn.new_state(OpenConnectionState)   #切换为open类\n",
    "    @staticmethod\n",
    "    def close(conn):\n",
    "        raise RuntimeError('Already closed')\n",
    "\n",
    "class OpenConnectionState(ConnectionState):     #open类  \n",
    "    @staticmethod\n",
    "    def read(conn):\n",
    "        print('reading')\n",
    "    @staticmethod\n",
    "    def write(conn, data):\n",
    "        print('writing')\n",
    "    @staticmethod\n",
    "    def open(conn):\n",
    "        raise RuntimeError('Already open')\n",
    "    @staticmethod\n",
    "    def close(conn):\n",
    "        conn.new_state(ClosedConnectionState) \n",
    "\n",
    "c = Connection()\n",
    "print(c._state)\n",
    "c.open()\n",
    "print(c._state)\n",
    "c.read()\n",
    "c.write('hello')\n",
    "c.close()\n",
    "print(c._state) "
   ]
  },
  {
   "cell_type": "markdown",
   "metadata": {},
   "source": [
    "编写含有大量复杂的条件判断并和各种状态纠缠在一起的代码是难以维护和解读的。\n",
    "本节给出的解决方案通过将各个状态分解为单独的类来避免这个问题。"
   ]
  },
  {
   "cell_type": "markdown",
   "metadata": {},
   "source": [
    "可能看起来有些奇怪，这里每种状态都用类和静态方法来实现，在每个静态方法中都\n",
    "把 Connection 类的实例作为第一个参数。产生这种设计的原因在于我们决定在不同的\n",
    "状态类中不保存任何实例数据。相反，所有的实例数据应该保存在 Connection 实例中。\n",
    "将所有的状态放在一个公共的基类下，这么做的大部分原因是为了帮助组织代码，并\n",
    "确保适当的方法得到了实现。在基类方法中出现的 NotImplementedError 异常是为了确\n",
    "保在子类中实现了所需的方法。作为替代方案，可以考虑使用 8.12 节中描述过的抽象\n",
    "基类。"
   ]
  },
  {
   "cell_type": "markdown",
   "metadata": {},
   "source": [
    "另一种实现方法是考虑去直接修改实例的__class__属性。示例如下："
   ]
  },
  {
   "cell_type": "code",
   "execution_count": 15,
   "metadata": {},
   "outputs": [
    {
     "name": "stdout",
     "output_type": "stream",
     "text": [
      "writing\n"
     ]
    }
   ],
   "source": [
    "class Connection:\n",
    "    def __init__(self):\n",
    "        self.new_state(ClosedConnection)\n",
    "    def new_state(self, newstate):\n",
    "        self.__class__ = newstate\n",
    "    def read(self):\n",
    "        raise NotImplementedError()\n",
    "    def write(self, data):\n",
    "        raise NotImplementedError()\n",
    "    def open(self):\n",
    "        raise NotImplementedError()\n",
    "    def close(self):\n",
    "        raise NotImplementedError()\n",
    "\n",
    "class ClosedConnection(Connection):\n",
    "    def read(self):\n",
    "        raise RuntimeError('Not open')\n",
    "    def write(self, data):\n",
    "        raise RuntimeError('Not open')\n",
    "    def open(self):\n",
    "        self.new_state(OpenConnection)\n",
    "    def close(self):\n",
    "        raise RuntimeError('Already closed')\n",
    "    def state(self):\n",
    "        return self.__class__\n",
    "\n",
    "class OpenConnection(Connection):\n",
    "    def read(self):\n",
    "        print('reading')\n",
    "    def write(self, data):\n",
    "        print('writing')\n",
    "    def open(self):\n",
    "        raise RuntimeError('Already open')  \n",
    "    def close(self):\n",
    "        self.new_state(ClosedConnection)\n",
    "    def state(self):\n",
    "        return self.__class__\n",
    "\n",
    "c=Connection()\n",
    "c.open()\n",
    "c.write('hello')\n",
    "c.close()\n"
   ]
  },
  {
   "cell_type": "markdown",
   "metadata": {},
   "source": [
    "这种实现方法的主要特点就是消除了额外的间接关系。这里不再将 Connection 和\n",
    "ConnectionState 作为单独的类来实现，现在我们将它们合并在一起了。随着状态的改\n",
    "变，实例也会修改自己的类型。示例如下："
   ]
  },
  {
   "cell_type": "code",
   "execution_count": 16,
   "metadata": {},
   "outputs": [
    {
     "name": "stdout",
     "output_type": "stream",
     "text": [
      "<class '__main__.ClosedConnection'>\n",
      "<class '__main__.OpenConnection'>\n",
      "<class '__main__.ClosedConnection'>\n"
     ]
    }
   ],
   "source": [
    "c = Connection() \n",
    "print(c.state())\n",
    "c.open()\n",
    "print(c.state())\n",
    "c.close()\n",
    "print(c.state())"
   ]
  },
  {
   "cell_type": "markdown",
   "metadata": {},
   "source": [
    "面向对象编程的拥趸不喜欢这种直接修改实例的__class__属性的做法。但是在技术上\n",
    "是允许这么做的。此外，这么做也会让代码的执行速度更快些，因为现在调用 connection\n",
    "上的所有方法都不必再经过一层额外的间接步骤了。"
   ]
  },
  {
   "cell_type": "markdown",
   "metadata": {},
   "source": [
    "最后，无论上面哪种技术对于实现复杂的状态机都是很有用的——尤其是在那些可能\n",
    "出现大量的 if-elif-else 块的代码中。"
   ]
  }
 ],
 "metadata": {
  "interpreter": {
   "hash": "cf9b60c5a2fa413cd21cce5a70eb54d8233b7f3c2bf217096b02f2c4f88c6a2d"
  },
  "kernelspec": {
   "display_name": "Python 3.9.12 64-bit (windows store)",
   "language": "python",
   "name": "python3"
  },
  "language_info": {
   "codemirror_mode": {
    "name": "ipython",
    "version": 3
   },
   "file_extension": ".py",
   "mimetype": "text/x-python",
   "name": "python",
   "nbconvert_exporter": "python",
   "pygments_lexer": "ipython3",
   "version": "3.9.13"
  },
  "orig_nbformat": 4
 },
 "nbformat": 4,
 "nbformat_minor": 2
}
