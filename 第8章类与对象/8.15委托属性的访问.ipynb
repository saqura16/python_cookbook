{
 "cells": [
  {
   "cell_type": "markdown",
   "metadata": {},
   "source": [
    "##### 问题:\n",
    "我们想在访问实例的属性时能够将其委托（delegate）到一个内部持有的对象上，这可\n",
    "以作为继承的替代方案或者是为了实现一种代理机制。"
   ]
  },
  {
   "cell_type": "markdown",
   "metadata": {},
   "source": [
    "##### 解决方案：\n",
    "简单地说，委托是一种编程模式。我们将某个特定的操作转交给（委托）另一个不同\n",
    "的对象实现。通常来说，最简单的委托形式看起来是这样的："
   ]
  },
  {
   "cell_type": "code",
   "execution_count": 31,
   "metadata": {},
   "outputs": [],
   "source": [
    "class A:\n",
    "    def spam(self, x):\n",
    "        pass\n",
    "    def foo(self):\n",
    "        pass\n",
    "class B:\n",
    "    def __init__(self):\n",
    "        self._a = A()  #创建一个A的实例\n",
    "    def spam(self, x):\n",
    "    # Delegate to the internal self._a instance\n",
    "        return self._a.spam(x)\n",
    "    def foo(self):\n",
    "    # Delegate to the internal self._a instance\n",
    "        return self._a.foo()\n",
    "    def bar(self):\n",
    "        pass \n"
   ]
  },
  {
   "cell_type": "markdown",
   "metadata": {},
   "source": [
    "如果仅有几个方法需要委托，编写像上面那样的代码是非常简单的。但是，如果有许\n",
    "多方法都需要委托，另一种实现方式是定义__getattr__()方法，就像下面这样："
   ]
  },
  {
   "cell_type": "code",
   "execution_count": 32,
   "metadata": {},
   "outputs": [],
   "source": [
    "class A:\n",
    "    def spam(self, x):\n",
    "        pass\n",
    "    def foo(self):\n",
    "        pass\n",
    "class B:\n",
    "    def __init__(self):\n",
    "        self._a = A()\n",
    "    def bar(self):\n",
    "        pass\n",
    "    # Expose all of the methods defined on class A\n",
    "    def __getattr__(self, name):\n",
    "        return getattr(self._a, name) "
   ]
  },
  {
   "cell_type": "markdown",
   "metadata": {},
   "source": [
    "\\_\\_getattr\\_\\_()方法能用来查找所有的属性。如果代码中尝试访问一个并不存在的属性，\n",
    "就会调用这个方法。在上面的代码中，我们在访问 B 中未定义的方法时就能把这个操\n",
    "作委托给 A。示例如下："
   ]
  },
  {
   "cell_type": "code",
   "execution_count": 33,
   "metadata": {},
   "outputs": [],
   "source": [
    "b = B()\n",
    "b.bar()\n",
    "b.spam(42) "
   ]
  },
  {
   "cell_type": "markdown",
   "metadata": {},
   "source": [
    "委托的另一个例子就是在实现代理时。示例如下："
   ]
  },
  {
   "cell_type": "code",
   "execution_count": 34,
   "metadata": {},
   "outputs": [],
   "source": [
    "class Proxy:\n",
    "    def __init__(self, obj):\n",
    "        self._obj = obj\n",
    "    # Delegate attribute lookup to internal obj\n",
    "    def __getattr__(self, name):\n",
    "        print('getattr:', name)\n",
    "        return getattr(self._obj, name)\n",
    "    # Delegate attribute assignment\n",
    "    def __setattr__(self, name, value):\n",
    "        if name.startswith('_'):\n",
    "            super().__setattr__(name, value)\n",
    "        else:\n",
    "            print('setattr:', name, value)\n",
    "            setattr(self._obj, name, value)\n",
    "    # Delegate attribute deletion\n",
    "    def __delattr__(self, name):\n",
    "        if name.startswith('_'):\n",
    "            super().__delattr__(name)\n",
    "        else:\n",
    "            print('delattr:', name)\n",
    "            delattr(self._obj, name)"
   ]
  },
  {
   "cell_type": "markdown",
   "metadata": {},
   "source": [
    "要使用这个代理类，只要简单地用它包装另一个实例即可。示例如下："
   ]
  },
  {
   "cell_type": "code",
   "execution_count": 35,
   "metadata": {},
   "outputs": [
    {
     "name": "stdout",
     "output_type": "stream",
     "text": [
      "getattr: x\n",
      "2\n",
      "getattr: bar\n",
      "Spam.bar: 2 3\n",
      "setattr: x 37\n"
     ]
    }
   ],
   "source": [
    "class Spam:\n",
    "    def __init__(self, x):\n",
    "        self.x = x\n",
    "    def bar(self, y):\n",
    "        print('Spam.bar:', self.x, y)\n",
    "# Create an instance\n",
    "s = Spam(2)\n",
    "# Create a proxy around it\n",
    "p = Proxy(s)\n",
    "# Access the proxy\n",
    "print(p.x) # Outputs 2\n",
    "p.bar(3) # Outputs \"Spam.bar: 2 3\"\n",
    "p.x = 37 # Changes s.x to 37"
   ]
  },
  {
   "cell_type": "markdown",
   "metadata": {},
   "source": [
    "通过自定义实现属性的访问方法，就可以对代理进行定制化处理，让其表现出不同的\n",
    "行为（例如，访问日志、只允许只读访问等）。"
   ]
  },
  {
   "cell_type": "markdown",
   "metadata": {},
   "source": [
    "委托有时候可以作为继承的替代方案。例如，不要编写下面这样的代码："
   ]
  },
  {
   "cell_type": "code",
   "execution_count": 36,
   "metadata": {},
   "outputs": [],
   "source": [
    "class A:\n",
    "    def spam(self, x):\n",
    "        print('A.spam', x)\n",
    "    def foo(self):\n",
    "        print('A.foo')\n",
    "class B(A):\n",
    "    def spam(self, x):\n",
    "        print('B.spam')\n",
    "        super().spam(x)\n",
    "    def bar(self):\n",
    "        print('B.bar')"
   ]
  },
  {
   "cell_type": "markdown",
   "metadata": {},
   "source": [
    "用到了委托的实现方案则会是这样："
   ]
  },
  {
   "cell_type": "code",
   "execution_count": 37,
   "metadata": {},
   "outputs": [],
   "source": [
    "class A:\n",
    "    def spam(self, x):\n",
    "        print('A.spam', x)\n",
    "    def foo(self):\n",
    "        print('A.foo')\n",
    "\n",
    "class B:\n",
    "    def __init__(self):\n",
    "        self._a = A()   #直接实例化A,发挥继承的效果\n",
    "    def spam(self, x):\n",
    "        print('B.spam', x)\n",
    "        self._a.spam(x)\n",
    "    def bar(self):\n",
    "        print('B.bar')\n",
    "    def __getattr__(self, name):\n",
    "        return getattr(self._a, name)"
   ]
  },
  {
   "cell_type": "markdown",
   "metadata": {},
   "source": [
    "有时候当直接使用继承可能没多大意义，或者我们想更多地控制对象之间的关系（例\n",
    "如只暴露出特定的方法、实现接口等），此时使用委托会很有用。"
   ]
  },
  {
   "cell_type": "markdown",
   "metadata": {},
   "source": [
    "当使用委托来实现代理时，这里还有几个细节需要注意。首先，\\_\\_getattr\\_\\_()实际上是\n",
    "一个回滚（fallback）方法，它只会在某个属性没有找到的时候才会调用。因此，如果\n",
    "访问的是代理实例本身的属性（例如本例中的_obj 属性），这个方法就不会被触发调\n",
    "用。其次，__setattr__()和__delattr__()方法需要添加一点额外的逻辑来区分代理实例本\n",
    "身的属性和内部对象_obj 上的属性。常用的惯例是代理类只委托那些不以下划线开头\n",
    "的属性（即，代理类只暴露内部对象中的“公有”属性）。"
   ]
  },
  {
   "cell_type": "markdown",
   "metadata": {},
   "source": [
    "同样需要重点强调的是__getattr__()方法通常不适用于大部分名称以双下划线开头和结\n",
    "尾的特殊方法。例如，考虑下面这个类："
   ]
  },
  {
   "cell_type": "code",
   "execution_count": 38,
   "metadata": {},
   "outputs": [],
   "source": [
    "class ListLike:\n",
    "    def __init__(self):\n",
    "        self._items = []\n",
    "    def __getattr__(self, name):\n",
    "        return getattr(self._items, name)"
   ]
  },
  {
   "cell_type": "markdown",
   "metadata": {},
   "source": [
    "如果尝试创建一个 ListLike 对象，就会发现它能支持常见的列表方法，例如 append()\n",
    "和 insert()。但是，却无法支持 len()、查找元素等操作。示例如下："
   ]
  },
  {
   "cell_type": "code",
   "execution_count": 39,
   "metadata": {},
   "outputs": [],
   "source": [
    "a = ListLike()\n",
    "a.append(2)\n",
    "a.insert(0, 1)\n",
    "a.sort() \n",
    "#a[0]  # TypeError: 'ListLike' object is not subscriptable"
   ]
  },
  {
   "cell_type": "markdown",
   "metadata": {},
   "source": [
    "要支持不同的操作，必须自行手动委托相应的特殊方法。示例如下："
   ]
  },
  {
   "cell_type": "code",
   "execution_count": null,
   "metadata": {},
   "outputs": [],
   "source": [
    "class ListLike:\n",
    "    def __init__(self):\n",
    "        self._items = []\n",
    "    def __getattr__(self, name):\n",
    "        return getattr(self._items, name)\n",
    "    # Added special methods to support certain list operations\n",
    "    def __len__(self):  #增加len方法\n",
    "        return len(self._items)\n",
    "    def __getitem__(self, index): #增加index并访问\n",
    "        return self._items[index]\n",
    "    def __setitem__(self, index, value): #增加index并修改\n",
    "        self._items[index] = value\n",
    "    def __delitem__(self, index):  #增加index并删除\n",
    "        del self._items[index] "
   ]
  }
 ],
 "metadata": {
  "interpreter": {
   "hash": "cf9b60c5a2fa413cd21cce5a70eb54d8233b7f3c2bf217096b02f2c4f88c6a2d"
  },
  "kernelspec": {
   "display_name": "Python 3.9.12 64-bit (windows store)",
   "language": "python",
   "name": "python3"
  },
  "language_info": {
   "codemirror_mode": {
    "name": "ipython",
    "version": 3
   },
   "file_extension": ".py",
   "mimetype": "text/x-python",
   "name": "python",
   "nbconvert_exporter": "python",
   "pygments_lexer": "ipython3",
   "version": "3.9.12"
  },
  "orig_nbformat": 4
 },
 "nbformat": 4,
 "nbformat_minor": 2
}
