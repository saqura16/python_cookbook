{
 "cells": [
  {
   "cell_type": "markdown",
   "metadata": {},
   "source": [
    "##### 问题:\n",
    "我们需要创建一个实例，但是出于某些原因想绕过__init__()方法，用别的方式来创建。"
   ]
  },
  {
   "cell_type": "markdown",
   "metadata": {},
   "source": [
    "##### 解决方案:\n",
    "可以直接调用类的__new__()方法来创建一个未初始化的实例。例如，考虑下面这\n",
    "个类："
   ]
  },
  {
   "cell_type": "code",
   "execution_count": 8,
   "metadata": {},
   "outputs": [],
   "source": [
    "class Date:\n",
    "    def __init__(self, year, month, day):\n",
    "        self.year = year\n",
    "        self.month = month\n",
    "        self.day = day "
   ]
  },
  {
   "cell_type": "markdown",
   "metadata": {},
   "source": [
    "采用下面的方法可以在不调用__init__()的情况下创建一个 Date 实例："
   ]
  },
  {
   "cell_type": "code",
   "execution_count": 9,
   "metadata": {},
   "outputs": [
    {
     "name": "stdout",
     "output_type": "stream",
     "text": [
      "<__main__.Date object at 0x0000015C466A9A30>\n"
     ]
    }
   ],
   "source": [
    "d = Date.__new__(Date) \n",
    "print(d)\n",
    "# print(d.year) #AttributeError: 'Date' object has no attribute 'year'"
   ]
  },
  {
   "cell_type": "markdown",
   "metadata": {},
   "source": [
    "可以看到，得到的实例是未经初始化的。因此，给实例变量设定合适的初始值现在就\n",
    "成了我们的责任。示例如下：\n"
   ]
  },
  {
   "cell_type": "code",
   "execution_count": 10,
   "metadata": {},
   "outputs": [
    {
     "name": "stdout",
     "output_type": "stream",
     "text": [
      "2012\n",
      "8\n"
     ]
    }
   ],
   "source": [
    "data = {'year':2012, 'month':8, 'day':29}\n",
    "for key, value in data.items():\n",
    "    setattr(d, key, value)\n",
    "print(d.year) \n",
    "print(d.month)"
   ]
  },
  {
   "cell_type": "markdown",
   "metadata": {},
   "source": [
    "当需要以非标准的方式来创建实例时常常会遇到需要绕过__init__()的情况。比如反序\n",
    "列化（deserializing）数据，或者实现一个类方法将其作为备选的构造函数，都属于这\n",
    "种情况。例如，在前面给出的 Date 类中，有人可能会定义一个可选的构造函数 today()："
   ]
  },
  {
   "cell_type": "code",
   "execution_count": null,
   "metadata": {},
   "outputs": [],
   "source": [
    "from time import localtime\n",
    "class Date:\n",
    "    def __init__(self, year, month, day):\n",
    "        self.year = year\n",
    "        self.month = month\n",
    "        self.day = day\n",
    "    @classmethod\n",
    "    def today(cls):\n",
    "        d = cls.__new__(cls)\n",
    "        t = localtime()\n",
    "        d.year = t.tm_year\n",
    "        d.month = t.tm_mon\n",
    "        d.day = t.tm_mday\n",
    "        return d"
   ]
  },
  {
   "cell_type": "markdown",
   "metadata": {},
   "source": [
    "类似地，假设正在反序列化 JSON 数据，要产生一个下面这样的字典："
   ]
  },
  {
   "cell_type": "code",
   "execution_count": null,
   "metadata": {},
   "outputs": [],
   "source": [
    "data = { 'year': 2012, 'month': 8, 'day': 29 }"
   ]
  },
  {
   "cell_type": "markdown",
   "metadata": {},
   "source": [
    "如果想将这个字典转换为一个 Date 实例，只要使用解决方案中给出的技术即可。\n"
   ]
  },
  {
   "cell_type": "markdown",
   "metadata": {},
   "source": [
    "当需要以非标准的方式创建实例时，通常最好不要对它们的实现做过多假设。因此，\n",
    "一般来说不要编写直接操纵底层实例字典__dict__的代码，除非能保证它已被定义。否\n",
    "则，如果类中使用了__slots__、property 属性、描述符或者其他高级技术，那么代码就\n",
    "会崩溃。通过使用 setattr()来为属性设定值，代码就会尽可能的通用。"
   ]
  }
 ],
 "metadata": {
  "interpreter": {
   "hash": "cf9b60c5a2fa413cd21cce5a70eb54d8233b7f3c2bf217096b02f2c4f88c6a2d"
  },
  "kernelspec": {
   "display_name": "Python 3.9.12 64-bit (windows store)",
   "language": "python",
   "name": "python3"
  },
  "language_info": {
   "codemirror_mode": {
    "name": "ipython",
    "version": 3
   },
   "file_extension": ".py",
   "mimetype": "text/x-python",
   "name": "python",
   "nbconvert_exporter": "python",
   "pygments_lexer": "ipython3",
   "version": "3.9.12"
  },
  "orig_nbformat": 4
 },
 "nbformat": 4,
 "nbformat_minor": 2
}
