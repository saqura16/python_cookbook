{
 "cells": [
  {
   "cell_type": "markdown",
   "metadata": {},
   "source": [
    "##### 问题:\n",
    "我们想调用一个父类中的方法，这个方法在子类中已经被覆盖了。"
   ]
  },
  {
   "cell_type": "markdown",
   "metadata": {},
   "source": [
    "##### 解决方案:\n",
    "要调用父类（或称超类）中的方法，可以使用 super()函数完成。示例如下："
   ]
  },
  {
   "cell_type": "code",
   "execution_count": 80,
   "metadata": {},
   "outputs": [],
   "source": [
    "class A:\n",
    "    def spam(self):\n",
    "        print('A.spam')\n",
    "class B(A):\n",
    " def spam(self):\n",
    "    print('B.spam')\n",
    "    super().spam() # Call parent spam()\n"
   ]
  },
  {
   "cell_type": "markdown",
   "metadata": {},
   "source": [
    "super()函数的一种常见用途是调用父类的__init__()方法，确保父类被正确地初始化了："
   ]
  },
  {
   "cell_type": "code",
   "execution_count": 81,
   "metadata": {},
   "outputs": [],
   "source": [
    "class A:\n",
    "    def __init__(self):\n",
    "        self.x = 0\n",
    "class B(A):\n",
    " def __init__(self):\n",
    "    super().__init__()\n",
    "    self.y = 1"
   ]
  },
  {
   "cell_type": "markdown",
   "metadata": {},
   "source": [
    "另一种常见用途是当覆盖了 Python 中的特殊方法时，示例如下："
   ]
  },
  {
   "cell_type": "code",
   "execution_count": 82,
   "metadata": {},
   "outputs": [],
   "source": [
    "class Proxy:\n",
    "    def __init__(self, obj):\n",
    "        self._obj = obj\n",
    "    # Delegate attribute lookup to internal obj\n",
    "    def __getattr__(self, name):\n",
    "        return getattr(self._obj, name)\n",
    " # Delegate attribute assignment\n",
    "    def __setattr__(self, name, value):\n",
    "        if name.startswith('_'):\n",
    "            super().__setattr__(name, value) # Call original __setattr__\n",
    "        else:\n",
    "            setattr(self._obj, name, value)"
   ]
  },
  {
   "cell_type": "markdown",
   "metadata": {},
   "source": [
    "在上述代码中，\\_\\_setattr\\_\\_()的实现里包含了对名称的检查。如果名称是以一个下划线\n",
    "（_）开头的，它就通过 super()去调用原始的__setattr__()实现。否则，就转而对内部持\n",
    "有的对象 self._obj 进行操作。这看起来有点意思，但是 super()即使在没有显式列出基\n",
    "类的情况下也是可以工作的。"
   ]
  },
  {
   "cell_type": "markdown",
   "metadata": {},
   "source": [
    "如何正确使用 super()函数，这实际上是人们在 Python 中理解的最差的知识点之一。偶\n",
    "尔我们会看到一些代码直接调用父类中的方法，就像这样："
   ]
  },
  {
   "cell_type": "code",
   "execution_count": 83,
   "metadata": {},
   "outputs": [],
   "source": [
    "class Base:\n",
    "    def __init__(self):\n",
    "        print('Base.__init__')\n",
    "class A(Base):\n",
    "    def __init__(self):\n",
    "        Base.__init__(self)\n",
    "        print('A.__init__')"
   ]
  },
  {
   "cell_type": "markdown",
   "metadata": {},
   "source": [
    "尽管对于大部分代码来说这么做都“行得通”，但是在涉及多重继承的代码里，就会导\n",
    "致出现奇怪的麻烦。比如，考虑下面这个例子："
   ]
  },
  {
   "cell_type": "code",
   "execution_count": 84,
   "metadata": {},
   "outputs": [],
   "source": [
    "class Base:\n",
    "    def __init__(self):\n",
    "        print('Base.__init__')\n",
    "class A(Base):\n",
    "    def __init__(self):\n",
    "        Base.__init__(self)\n",
    "        print('A.__init__')\n",
    "class B(Base):\n",
    "    def __init__(self):\n",
    "        Base.__init__(self)\n",
    "        print('B.__init__')\n",
    "class C(A,B):\n",
    "    def __init__(self):\n",
    "        A.__init__(self)\n",
    "        B.__init__(self)\n",
    "        print('C.__init__')"
   ]
  },
  {
   "cell_type": "markdown",
   "metadata": {},
   "source": [
    "如果运行上面的代码，会发现 Base.\\_\\_init\\_\\_()方法被调用了两次。如下所示："
   ]
  },
  {
   "cell_type": "code",
   "execution_count": 85,
   "metadata": {},
   "outputs": [
    {
     "name": "stdout",
     "output_type": "stream",
     "text": [
      "Base.__init__\n",
      "A.__init__\n",
      "Base.__init__\n",
      "B.__init__\n",
      "C.__init__\n"
     ]
    }
   ],
   "source": [
    "c = C() \n"
   ]
  },
  {
   "cell_type": "markdown",
   "metadata": {},
   "source": [
    "也许调用两次 Base.\\_\\_init\\_\\_()并没什么害处，但是也可能刚好相反。如果从另一方面考\n",
    "虑，将代码修改为使用 super()，那么一切就都能正常工作了："
   ]
  },
  {
   "cell_type": "code",
   "execution_count": 86,
   "metadata": {},
   "outputs": [],
   "source": [
    "class Base:\n",
    "    def __init__(self):\n",
    "        print('Base.__init__')\n",
    "class A(Base):\n",
    "    def __init__(self):\n",
    "        super().__init__()\n",
    "        print('A.__init__')\n",
    "class B(Base):\n",
    "    def __init__(self):\n",
    "        super().__init__()\n",
    "        print('B.__init__')\n",
    "class C(A,B):\n",
    "    def __init__(self):\n",
    "        super().__init__() # Only one call to super() here\n",
    "        print('C.__init__') "
   ]
  },
  {
   "cell_type": "markdown",
   "metadata": {},
   "source": [
    "当使用这个新版的代码时，就会发现每个__init__()方法都只调用了一次："
   ]
  },
  {
   "cell_type": "code",
   "execution_count": 87,
   "metadata": {},
   "outputs": [
    {
     "name": "stdout",
     "output_type": "stream",
     "text": [
      "Base.__init__\n",
      "B.__init__\n",
      "A.__init__\n",
      "C.__init__\n"
     ]
    }
   ],
   "source": [
    "c = C()"
   ]
  },
  {
   "cell_type": "markdown",
   "metadata": {},
   "source": [
    "要理解其中的缘由，我们需要退一步，先讨论一下 Python 是如何实现继承的。针对每\n",
    "一个定义的类，Python 都会计算出一个称为方法解析顺序（MRO）的列表①\n",
    "。MRO 列\n",
    "表只是简单地对所有的基类进行线性排列。示例如下："
   ]
  },
  {
   "cell_type": "code",
   "execution_count": 88,
   "metadata": {},
   "outputs": [
    {
     "data": {
      "text/plain": [
       "(__main__.C, __main__.A, __main__.B, __main__.Base, object)"
      ]
     },
     "execution_count": 88,
     "metadata": {},
     "output_type": "execute_result"
    }
   ],
   "source": [
    "C.__mro__\n"
   ]
  },
  {
   "cell_type": "markdown",
   "metadata": {},
   "source": [
    "要实现继承，Python 从 MRO 列表中最左边的类开始，从左到右依次查找，直到找到待\n",
    "查的属性时为止。\n"
   ]
  },
  {
   "cell_type": "markdown",
   "metadata": {},
   "source": [
    "而 MRO 列表本身又是如何确定的呢？这里用到了一种称为 C3 线性化处理（C3\n",
    "Linearization）的技术。为了不陷入到艰深的数学理论中，简单来说这就是针对父类的\n",
    "一种归并排序，它需要满足 3 个约束：\n"
   ]
  },
  {
   "cell_type": "markdown",
   "metadata": {},
   "source": [
    "<li>先检查子类再检查父类；</li>\n",
    "<li>有多个父类时，按照 MRO 列表的顺序依次检查；</li>\n",
    "<li>如果下一个待选的类出现了两个合法的选择，那么就从第一个父类中选取。</li>"
   ]
  },
  {
   "cell_type": "markdown",
   "metadata": {},
   "source": [
    "老实说，所有需要的知道的就是 MRO 列表中对类的排序几乎适用于任何定义的类层次\n",
    "结构（class hierarchy）。"
   ]
  },
  {
   "cell_type": "markdown",
   "metadata": {},
   "source": [
    "当使用 super()函数时，Python 会继续从 MRO 中的下一个类开始搜索。只要每一个重\n",
    "新定义过的方法（也就是覆盖方法）都使用了 super()，并且只调用了它一次，那么控\n",
    "制流最终就可以遍历整个 MRO 列表，并且让每个方法只会被调用一次。这就是为什\n",
    "么在第二个例子中 Base.__init__()不会被调用两次的原因。"
   ]
  },
  {
   "cell_type": "markdown",
   "metadata": {},
   "source": [
    "关于 super()，一个有些令人惊讶的方面是，它并不是一定要关联到某个类的直接父类\n",
    "上，甚至可以在没有直接父类的类中使用它。例如，考虑下面这个类："
   ]
  },
  {
   "cell_type": "code",
   "execution_count": 89,
   "metadata": {},
   "outputs": [],
   "source": [
    "class A:\n",
    "    def spam(self):\n",
    "        print('A.spam')\n",
    "        super().spam()"
   ]
  },
  {
   "cell_type": "markdown",
   "metadata": {},
   "source": [
    "如果试着使用这个类，会发现这完全行不通："
   ]
  },
  {
   "cell_type": "code",
   "execution_count": 90,
   "metadata": {},
   "outputs": [
    {
     "name": "stdout",
     "output_type": "stream",
     "text": [
      "A.spam\n"
     ]
    },
    {
     "ename": "AttributeError",
     "evalue": "'super' object has no attribute 'spam'",
     "output_type": "error",
     "traceback": [
      "\u001b[1;31m---------------------------------------------------------------------------\u001b[0m",
      "\u001b[1;31mAttributeError\u001b[0m                            Traceback (most recent call last)",
      "\u001b[1;32mc:\\Users\\Windows\\Desktop\\python\\py_cookbook\\第8章类与对象\\8.7调用父类中的方法.ipynb Cell 29'\u001b[0m in \u001b[0;36m<module>\u001b[1;34m\u001b[0m\n\u001b[0;32m      <a href='vscode-notebook-cell:/c%3A/Users/Windows/Desktop/python/py_cookbook/%E7%AC%AC8%E7%AB%A0%E7%B1%BB%E4%B8%8E%E5%AF%B9%E8%B1%A1/8.7%E8%B0%83%E7%94%A8%E7%88%B6%E7%B1%BB%E4%B8%AD%E7%9A%84%E6%96%B9%E6%B3%95.ipynb#ch0000029?line=0'>1</a>\u001b[0m a \u001b[39m=\u001b[39m A()\n\u001b[1;32m----> <a href='vscode-notebook-cell:/c%3A/Users/Windows/Desktop/python/py_cookbook/%E7%AC%AC8%E7%AB%A0%E7%B1%BB%E4%B8%8E%E5%AF%B9%E8%B1%A1/8.7%E8%B0%83%E7%94%A8%E7%88%B6%E7%B1%BB%E4%B8%AD%E7%9A%84%E6%96%B9%E6%B3%95.ipynb#ch0000029?line=1'>2</a>\u001b[0m a\u001b[39m.\u001b[39;49mspam()\n",
      "\u001b[1;32mc:\\Users\\Windows\\Desktop\\python\\py_cookbook\\第8章类与对象\\8.7调用父类中的方法.ipynb Cell 27'\u001b[0m in \u001b[0;36mA.spam\u001b[1;34m(self)\u001b[0m\n\u001b[0;32m      <a href='vscode-notebook-cell:/c%3A/Users/Windows/Desktop/python/py_cookbook/%E7%AC%AC8%E7%AB%A0%E7%B1%BB%E4%B8%8E%E5%AF%B9%E8%B1%A1/8.7%E8%B0%83%E7%94%A8%E7%88%B6%E7%B1%BB%E4%B8%AD%E7%9A%84%E6%96%B9%E6%B3%95.ipynb#ch0000028?line=1'>2</a>\u001b[0m \u001b[39mdef\u001b[39;00m \u001b[39mspam\u001b[39m(\u001b[39mself\u001b[39m):\n\u001b[0;32m      <a href='vscode-notebook-cell:/c%3A/Users/Windows/Desktop/python/py_cookbook/%E7%AC%AC8%E7%AB%A0%E7%B1%BB%E4%B8%8E%E5%AF%B9%E8%B1%A1/8.7%E8%B0%83%E7%94%A8%E7%88%B6%E7%B1%BB%E4%B8%AD%E7%9A%84%E6%96%B9%E6%B3%95.ipynb#ch0000028?line=2'>3</a>\u001b[0m     \u001b[39mprint\u001b[39m(\u001b[39m'\u001b[39m\u001b[39mA.spam\u001b[39m\u001b[39m'\u001b[39m)\n\u001b[1;32m----> <a href='vscode-notebook-cell:/c%3A/Users/Windows/Desktop/python/py_cookbook/%E7%AC%AC8%E7%AB%A0%E7%B1%BB%E4%B8%8E%E5%AF%B9%E8%B1%A1/8.7%E8%B0%83%E7%94%A8%E7%88%B6%E7%B1%BB%E4%B8%AD%E7%9A%84%E6%96%B9%E6%B3%95.ipynb#ch0000028?line=3'>4</a>\u001b[0m     \u001b[39msuper\u001b[39;49m()\u001b[39m.\u001b[39;49mspam()\n",
      "\u001b[1;31mAttributeError\u001b[0m: 'super' object has no attribute 'spam'"
     ]
    }
   ],
   "source": [
    "a = A()\n",
    "a.spam()"
   ]
  },
  {
   "cell_type": "markdown",
   "metadata": {},
   "source": [
    "但是，如果把这个类用于多重继承时看看会发生什么："
   ]
  },
  {
   "cell_type": "code",
   "execution_count": null,
   "metadata": {},
   "outputs": [
    {
     "name": "stdout",
     "output_type": "stream",
     "text": [
      "A.spam\n",
      "B.spam\n"
     ]
    }
   ],
   "source": [
    "class B:\n",
    "    def spam(self):\n",
    "        print('B.spam')\n",
    "\n",
    "class C(A,B):\n",
    "    pass\n",
    "\n",
    "c = C()\n",
    "c.spam()"
   ]
  },
  {
   "cell_type": "markdown",
   "metadata": {},
   "source": [
    "这里我们会发现在类 A 中使用的 super().spam()实际上居然调用到了类 B 中的 spam()\n",
    "方法——B 和 A 是完全不相关的！这一切都可以用类 C 的 MRO 列表来解释："
   ]
  },
  {
   "cell_type": "code",
   "execution_count": null,
   "metadata": {},
   "outputs": [
    {
     "data": {
      "text/plain": [
       "(__main__.C, __main__.A, __main__.B, __main__.Base, object)"
      ]
     },
     "execution_count": 68,
     "metadata": {},
     "output_type": "execute_result"
    }
   ],
   "source": [
    "C.__mro__\n"
   ]
  },
  {
   "cell_type": "markdown",
   "metadata": {},
   "source": [
    "我们常常会在定义混合类（mixin class）时以这种方式使用 super()"
   ]
  },
  {
   "cell_type": "markdown",
   "metadata": {},
   "source": [
    "但是，由于 super()可能会调用到我们不希望调用的方法，那么这里有一些应该遵守的\n",
    "基本准则。首先，确保在继承体系中所有同名的方法都有可兼容的调用签名（即，参\n",
    "数数量相同，参数名称也相同）。如果 super()尝试去调用非直接父类的方法，那么这就\n",
    "可以确保不会遇到麻烦。其次，确保最顶层的类实现了这个方法通常是个好主意。这\n",
    "样沿着 MRO 列表展开的查询链会因为最终找到了实际的方法而终止。"
   ]
  },
  {
   "cell_type": "markdown",
   "metadata": {},
   "source": [
    "在 Python 社区中，关于 super()的使用有时候会成为争论的焦点。但是，公平地说，我\n",
    "们应该在现代的代码中使用它。Raymond Hettinger 在博客中写过一篇题为“Python’s\n",
    "super() considered Super!”的文章，文章中列举了更多的示例和理由来说明为什么 super()\n",
    "会是超级有用的工具。"
   ]
  }
 ],
 "metadata": {
  "interpreter": {
   "hash": "cf9b60c5a2fa413cd21cce5a70eb54d8233b7f3c2bf217096b02f2c4f88c6a2d"
  },
  "kernelspec": {
   "display_name": "Python 3.9.12 64-bit (windows store)",
   "language": "python",
   "name": "python3"
  },
  "language_info": {
   "codemirror_mode": {
    "name": "ipython",
    "version": 3
   },
   "file_extension": ".py",
   "mimetype": "text/x-python",
   "name": "python",
   "nbconvert_exporter": "python",
   "pygments_lexer": "ipython3",
   "version": "3.9.12"
  },
  "orig_nbformat": 4
 },
 "nbformat": 4,
 "nbformat_minor": 2
}
