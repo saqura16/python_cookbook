{
 "cells": [
  {
   "cell_type": "markdown",
   "metadata": {},
   "source": [
    "##### 问题:\n",
    "我们想将一个只读的属性定义为 property 属性方法，只有在访问它时才参与计算。但是，\n",
    "一旦访问了该属性，我们希望把计算出的值缓存起来，不要每次访问它时都重新计算。"
   ]
  },
  {
   "cell_type": "markdown",
   "metadata": {},
   "source": [
    "##### 解决方案:\n",
    "定义一个惰性属性最有效的方式就是利用描述符类来完成，示例如下："
   ]
  },
  {
   "cell_type": "code",
   "execution_count": 11,
   "metadata": {},
   "outputs": [
    {
     "name": "stdout",
     "output_type": "stream",
     "text": [
      "<class '__main__.lazyproperty'> <class '__main__.Circle'> <class 'function'>\n",
      "Computing area\n",
      "50.26548245743669\n",
      "<class '__main__.lazyproperty'> <class '__main__.Circle'> <class 'function'>\n",
      "Computing perimeter\n",
      "25.132741228718345\n",
      "50.26548245743669\n",
      "25.132741228718345\n"
     ]
    }
   ],
   "source": [
    "class lazyproperty:\n",
    "    def __init__(self, func):\n",
    "        self.func = func\n",
    "\n",
    "    def __get__(self, instance, cls):\n",
    "        if instance is None:\n",
    "            return self\n",
    "        else:\n",
    "            print(type(self),type(instance),type(self.func)) #这里的func应该是代表装饰器下面的函数\n",
    "            value = self.func(instance) #我这里认为是回调Cirle中的函数,instance在这里是Circle类\n",
    "            setattr(instance, self.func.__name__, value) #setattr() 函数对应函数 getattr()，用于设置属性值，该属性不一定是存在的。\n",
    "            return value\n",
    "\n",
    "import math\n",
    "class Circle:\n",
    "    def __init__(self, radius):\n",
    "        self.radius = radius\n",
    "    @lazyproperty\n",
    "    def area(self):\n",
    "        print('Computing area')\n",
    "        return math.pi * self.radius ** 2 \n",
    "    @lazyproperty\n",
    "    def perimeter(self):\n",
    "        print('Computing perimeter')\n",
    "        return 2 * math.pi * self.radius\n",
    "    \n",
    "c=Circle(4)\n",
    "print(c.area)\n",
    "print(c.perimeter)\n",
    "\n",
    "print(c.area)\n",
    "print(c.perimeter)"
   ]
  },
  {
   "cell_type": "markdown",
   "metadata": {},
   "source": [
    "请注意，这里的“Computing area”和“Computing perimeter”只打印了一次。"
   ]
  },
  {
   "cell_type": "markdown",
   "metadata": {},
   "source": [
    "在大部分情况下，让属性具有惰性求值能力的全部意义就在于提升程序性能。例\n",
    "如，除非确实需要用到这个属性，否则就可以避免进行无意义的计算。本节给出的\n",
    "解决方案正是应对于此，而且利用了描述符的微妙特性，使得能够以高效的方式\n",
    "来达成。"
   ]
  },
  {
   "cell_type": "markdown",
   "metadata": {},
   "source": [
    " 8.9 节中讲过，当把描述符放到类的定义体中时，访问它的属性会触发_\\_get__()、\n",
    "\\_\\_set\\_\\_()和__delete__()方法得到执行。但是，如果一个描述符只定义了_\\_get__()方法，\n",
    "则它的绑定关系比一般情况下要弱化很多（much weaker binding）。特别是，只有当被\n",
    "访问的属性不在底层的实例字典中时，_\\_get__()方法才会得到调用。\n"
   ]
  },
  {
   "cell_type": "markdown",
   "metadata": {},
   "source": [
    "示例中的 lazyproperty 类通过让__get__()方法以 property 属性相同的名称来保存计算出\n",
    "的值。这么做会让值保存在实例字典中，可以阻止该 property 属性重复进行计算。仔细\n",
    "观察下面的示例就能发现这一点："
   ]
  },
  {
   "cell_type": "code",
   "execution_count": null,
   "metadata": {},
   "outputs": [],
   "source": [
    "c = Circle(4.0) \n",
    "print(vars(c))\n",
    "print(c.area)\n",
    "print(vars(c))\n",
    "print(c.area )  # Notice access doesn't invoke property anymore\n",
    "\n",
    "del c.area \n",
    "print(vars(c))\n",
    "\n",
    "print(c.area)"
   ]
  },
  {
   "cell_type": "markdown",
   "metadata": {},
   "source": [
    "本节讨论的技术有一个潜在的缺点，即，计算出的值在创建之后就变成可变的（mutable）\n",
    "了。示例如下："
   ]
  },
  {
   "cell_type": "code",
   "execution_count": null,
   "metadata": {},
   "outputs": [],
   "source": [
    "print(c.area)\n",
    "c.area=25\n",
    "print(c.area)"
   ]
  },
  {
   "cell_type": "markdown",
   "metadata": {},
   "source": [
    "如果需要考虑可变性的问题，可以使用另外一种方式实现，但执行效率会稍打折扣："
   ]
  },
  {
   "cell_type": "code",
   "execution_count": 2,
   "metadata": {},
   "outputs": [
    {
     "name": "stdout",
     "output_type": "stream",
     "text": [
      "<class '__main__.Circle'>\n",
      "Computing area\n",
      "50.26548245743669\n",
      "50.26548245743669\n"
     ]
    }
   ],
   "source": [
    "def lazyproperty(func):\n",
    "    name = '_lazy_' + func.__name__\n",
    "    @property\n",
    "    def lazy(self):\n",
    "        if hasattr(self, name):  #hasattr()函数用于判断对象是否包含对应的属性\n",
    "            return getattr(self, name)\n",
    "        else:\n",
    "            value = func(self) #我这里认为是回调他自己,func指的是area函数,self指Circle对象c,这两个连用也就是执行area(self)\n",
    "            setattr(self, name, value) #写入value\n",
    "            return value\n",
    "    return lazy\n",
    "\n",
    "import math\n",
    "class Circle:\n",
    "    def __init__(self, radius):\n",
    "        self.radius = radius\n",
    "    @lazyproperty\n",
    "    def area(self):\n",
    "        print('Computing area')\n",
    "        return math.pi * self.radius ** 2 \n",
    "    @lazyproperty\n",
    "    def perimeter(self):\n",
    "        print('Computing perimeter')\n",
    "        return 2 * math.pi * self.radius \n",
    "\n",
    "c = Circle(4.0) \n",
    "print(c.area )\n",
    "print(c.area )"
   ]
  },
  {
   "cell_type": "markdown",
   "metadata": {},
   "source": [
    "如果使用这个版本的实现，就会发现 set 操作是不允许执行的。示例如下"
   ]
  },
  {
   "cell_type": "code",
   "execution_count": 2,
   "metadata": {},
   "outputs": [
    {
     "name": "stdout",
     "output_type": "stream",
     "text": [
      "Computing area\n",
      "50.26548245743669\n",
      "50.26548245743669\n"
     ]
    }
   ],
   "source": [
    "c = Circle(4.0) \n",
    "print(c.area )\n",
    "print(c.area )\n",
    "# c.area = 25  # AttributeError: can't set attribute\n",
    "# print(c.area )"
   ]
  },
  {
   "cell_type": "markdown",
   "metadata": {},
   "source": [
    "但是，这种方式的缺点就是所有的 get 操作都必须经由属性的 getter 函数来处理。这比\n",
    "直接在实例字典中查找相应的值要慢一些。"
   ]
  }
 ],
 "metadata": {
  "interpreter": {
   "hash": "cf9b60c5a2fa413cd21cce5a70eb54d8233b7f3c2bf217096b02f2c4f88c6a2d"
  },
  "kernelspec": {
   "display_name": "Python 3.9.12 64-bit (windows store)",
   "language": "python",
   "name": "python3"
  },
  "language_info": {
   "codemirror_mode": {
    "name": "ipython",
    "version": 3
   },
   "file_extension": ".py",
   "mimetype": "text/x-python",
   "name": "python",
   "nbconvert_exporter": "python",
   "pygments_lexer": "ipython3",
   "version": "3.9.12"
  },
  "orig_nbformat": 4
 },
 "nbformat": 4,
 "nbformat_minor": 2
}
