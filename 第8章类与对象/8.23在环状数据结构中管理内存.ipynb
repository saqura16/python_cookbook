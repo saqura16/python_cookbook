{
 "cells": [
  {
   "cell_type": "markdown",
   "metadata": {},
   "source": [
    "##### 问题:(这一节问题较多，尚未明确)\n",
    "我们的程序中创建了环状的数据结构（例如树、图、观察者模式等），但是在内存管理\n",
    "上却遇到了麻烦。"
   ]
  },
  {
   "cell_type": "markdown",
   "metadata": {},
   "source": [
    "##### 解决方案:\n",
    "环状数据结构的一个简单例子就是树了，这里父节点指向它的孩子，而孩子节点又会\n",
    "指回它们的父节点。对于像这样的代码，我们应该考虑让其中一条连接使用 weakref\n",
    "库中提供的弱引用机制。示例如下："
   ]
  },
  {
   "cell_type": "code",
   "execution_count": 1,
   "metadata": {},
   "outputs": [],
   "source": [
    "import weakref\n",
    "class Node:\n",
    "    def __init__(self, value):\n",
    "        self.value = value\n",
    "        self._parent = None\n",
    "        self.children = []\n",
    "\n",
    "    def __repr__(self):\n",
    "        return 'Node({!r:})'.format(self.value)\n",
    "\n",
    "    # property that manages the parent as a weak-reference\n",
    "    @property\n",
    "    def parent(self):\n",
    "        return self._parent if self._parent is None else self._parent()\n",
    "\n",
    "    @parent.setter\n",
    "    def parent(self, node):\n",
    "        self._parent = weakref.ref(node)\n",
    "\n",
    "    def add_child(self, child):\n",
    "        self.children.append(child)\n",
    "        child.parent = self \n",
    "\n"
   ]
  },
  {
   "cell_type": "markdown",
   "metadata": {},
   "source": [
    "这种实现可以让父节点安静地被回收。示例如下:"
   ]
  },
  {
   "cell_type": "code",
   "execution_count": 2,
   "metadata": {},
   "outputs": [
    {
     "name": "stdout",
     "output_type": "stream",
     "text": [
      "Node('parent')\n",
      "None\n"
     ]
    }
   ],
   "source": [
    "root = Node('parent')\n",
    "c1 = Node('child')\n",
    "root.add_child(c1)\n",
    "print(c1.parent)\n",
    "del root\n",
    "print(c1.parent)"
   ]
  },
  {
   "cell_type": "markdown",
   "metadata": {},
   "source": [
    "环状数据结构是 Python 中一个多少需要一些技巧才能处理好的方面，需要仔细学习。\n",
    "因为普通的垃圾收集规则并不适用于环状数据结构。例如，考虑下面的代码："
   ]
  },
  {
   "cell_type": "code",
   "execution_count": 3,
   "metadata": {},
   "outputs": [],
   "source": [
    "# Class just to illustrate when deletion occurs\n",
    "class Data:\n",
    "    def __del__(self):\n",
    "        print('Data.__del__')\n",
    "# Node class involving a cycle\n",
    "class Node:\n",
    "    def __init__(self):\n",
    "        self.data = Data()\n",
    "        self.parent = None\n",
    "        self.children = []\n",
    "    def add_child(self, child):\n",
    "        self.children.append(child)\n",
    "        child.parent = self"
   ]
  },
  {
   "cell_type": "markdown",
   "metadata": {},
   "source": [
    "现在，试用上面的代码，做些试验来看看有关垃圾收集中的一些微妙问题："
   ]
  },
  {
   "cell_type": "code",
   "execution_count": 4,
   "metadata": {},
   "outputs": [
    {
     "name": "stdout",
     "output_type": "stream",
     "text": [
      "Data.__del__\n"
     ]
    }
   ],
   "source": [
    "a = Data()\n",
    "del a                    # Immediately deleted#"
   ]
  },
  {
   "cell_type": "code",
   "execution_count": 5,
   "metadata": {},
   "outputs": [
    {
     "name": "stdout",
     "output_type": "stream",
     "text": [
      "Data.__del__\n"
     ]
    }
   ],
   "source": [
    "a = Node()\n",
    "del a                   # Immediately deleted#"
   ]
  },
  {
   "cell_type": "code",
   "execution_count": 6,
   "metadata": {},
   "outputs": [
    {
     "name": "stdout",
     "output_type": "stream",
     "text": [
      "<__main__.Node object at 0x000001B09CF28400>\n",
      "over\n"
     ]
    }
   ],
   "source": [
    "a = Node()\n",
    "a.add_child(Node())\n",
    "print(a)\n",
    "del a   # Not deleted (no message)\n",
    "#但是如果打印a会被告知a未定义,我的理解是:a是Node类型,因为删除了部分(Data)但未完全删除a,导致a不完整,无法访问。\n",
    "#又因为py在运行结束时会自动回收内存,所以可能会在py终端运行时输出两个Data.__del__\n",
    "print('over')\n"
   ]
  },
  {
   "cell_type": "markdown",
   "metadata": {},
   "source": [
    "可以看到，除了最后那种涉及成环的情况，其他的对象都可以立刻得到删除。原因在\n",
    "于 Python 的垃圾收集器是基于简单的引用计数规则来实现的。当对象的引用计数为 0\n",
    "时就会被立刻删除掉。而对于环状数据结构来说这绝不可能发生。因为在最后那种情\n",
    "况中，由于父节点和子节点互相引用对方，引用计数不会为 0。"
   ]
  },
  {
   "cell_type": "markdown",
   "metadata": {},
   "source": [
    "要处理环状数据结构，还有一个单独的垃圾收集器会定期运行。但是，一般来说我们不\n",
    "知道它会在何时运行。因此，没法知道环状数据结构具体会在何时被回收。如果有必要\n",
    "的话，可以强制运行垃圾收集器，但这么做相比于全自动的垃圾收集会有一些笨拙。"
   ]
  },
  {
   "cell_type": "code",
   "execution_count": 7,
   "metadata": {},
   "outputs": [
    {
     "name": "stdout",
     "output_type": "stream",
     "text": [
      "Data.__del__\n",
      "Data.__del__\n"
     ]
    },
    {
     "data": {
      "text/plain": [
       "177"
      ]
     },
     "execution_count": 7,
     "metadata": {},
     "output_type": "execute_result"
    }
   ],
   "source": [
    "# Class just to illustrate when deletion occurs\n",
    "class Data:\n",
    "    def __del__(self):\n",
    "        print('Data.__del__')\n",
    "# Node class involving a cycle\n",
    "class Node:\n",
    "    def __init__(self):\n",
    "        self.data = Data()\n",
    "        self.parent = None\n",
    "        self.children = []\n",
    "    def add_child(self, child):\n",
    "        self.children.append(child)\n",
    "        child.parent = self\n",
    "\n",
    "import gc\n",
    "b = Node()\n",
    "b.add_child(Node())\n",
    "gc.collect()            # Force collection。注意这里只有jupyter第一次运行是可以成功,第二次运行就会报错,但毋庸置疑的是强制回收有效"
   ]
  },
  {
   "cell_type": "markdown",
   "metadata": {},
   "source": [
    "如果环中的对象实现了自己的__del__方法的话，则情况会更糟。例如，假设有下面这\n",
    "样的代码："
   ]
  },
  {
   "cell_type": "code",
   "execution_count": 8,
   "metadata": {},
   "outputs": [],
   "source": [
    "# Class just to illustrate when deletion occurs\n",
    "class Data:\n",
    "    def __del__(self):\n",
    "        print('Data.__del__')\n",
    "# Node class involving a cycle\n",
    "class Node:\n",
    "    def __init__(self):\n",
    "        self.data = Data()\n",
    "        self.parent = None\n",
    "        self.children = []\n",
    "\n",
    "    # NEVER DEFINE LIKE THIS.\n",
    "    # Only here to illustrate pathological behavior\n",
    "    def __del__(self):\n",
    "        del self.data\n",
    "        del parent\n",
    "        del children\n",
    "        print('Node.__del__')\n",
    "    def add_child(self, child):\n",
    "        self.children.append(child)\n",
    "        child.parent = self \n",
    "\n",
    "\n"
   ]
  },
  {
   "cell_type": "markdown",
   "metadata": {},
   "source": [
    "在这种情况下，数据结构对象永远不会被垃圾收集，我们的程序会因此而出现内存泄\n",
    "露！如果动手尝试一下，会发现 Data.__del__消息完全没有被打印出来——即使是强制\n",
    "执行垃圾收集也不会："
   ]
  },
  {
   "cell_type": "code",
   "execution_count": 9,
   "metadata": {},
   "outputs": [
    {
     "data": {
      "text/plain": [
       "0"
      ]
     },
     "execution_count": 9,
     "metadata": {},
     "output_type": "execute_result"
    }
   ],
   "source": [
    "c = Node()\n",
    "c.add_child(Node())\n",
    "import gc\n",
    "gc.collect()"
   ]
  },
  {
   "cell_type": "markdown",
   "metadata": {},
   "source": [
    "弱引用通过消除循环引用来解决这个问题。本质上说，弱引用就是一个指向对象的指\n",
    "针，但不会增加对象本身的引用计数。可以通过 weakref 库来创建弱引用。示例如下："
   ]
  },
  {
   "cell_type": "code",
   "execution_count": 10,
   "metadata": {},
   "outputs": [
    {
     "name": "stdout",
     "output_type": "stream",
     "text": [
      "<weakref at 0x000001B09DB73040; to 'Node' at 0x000001B09CE9F6A0>\n"
     ]
    }
   ],
   "source": [
    "# Class just to illustrate when deletion occurs\n",
    "class Data:\n",
    "    def __del__(self):\n",
    "        print('Data.__del__')\n",
    "# Node class involving a cycle\n",
    "class Node:\n",
    "    def __init__(self):\n",
    "        self.data = Data()\n",
    "        self.parent = None\n",
    "        self.children = []\n",
    "    def add_child(self, child):\n",
    "        self.children.append(child)\n",
    "        child.parent = self\n",
    "\n",
    "\n",
    "import weakref\n",
    "d= Node()\n",
    "d_ref = weakref.ref(d)\n",
    "print(d_ref) "
   ]
  },
  {
   "cell_type": "markdown",
   "metadata": {},
   "source": [
    "要提领（dereference）一个弱引用，可以像函数一样来调用它。如果提领后得到的对象\n",
    "还依然存在，那么就返回对象，否则就返回 None。由于原始对象的引用计数并没有增\n",
    "加，因此可以按照普通的方式来删除它。示例如下：\n"
   ]
  },
  {
   "cell_type": "code",
   "execution_count": 11,
   "metadata": {},
   "outputs": [
    {
     "name": "stdout",
     "output_type": "stream",
     "text": [
      "<__main__.Node object at 0x000001B09CE9F6A0>\n",
      "Data.__del__\n",
      "None\n"
     ]
    }
   ],
   "source": [
    "print(d_ref())\n",
    "del d\n",
    "\n",
    "print(d_ref())"
   ]
  },
  {
   "cell_type": "markdown",
   "metadata": {},
   "source": [
    "通过使用弱引用，就会发现因为循环引用而出现的问题都不存在了。一旦某个对象不\n",
    "再被使用了，会立刻执行垃圾收集处理。"
   ]
  }
 ],
 "metadata": {
  "interpreter": {
   "hash": "cf9b60c5a2fa413cd21cce5a70eb54d8233b7f3c2bf217096b02f2c4f88c6a2d"
  },
  "kernelspec": {
   "display_name": "Python 3.9.13 64-bit (windows store)",
   "language": "python",
   "name": "python3"
  },
  "language_info": {
   "codemirror_mode": {
    "name": "ipython",
    "version": 3
   },
   "file_extension": ".py",
   "mimetype": "text/x-python",
   "name": "python",
   "nbconvert_exporter": "python",
   "pygments_lexer": "ipython3",
   "version": "3.9.13"
  },
  "orig_nbformat": 4
 },
 "nbformat": 4,
 "nbformat_minor": 2
}
