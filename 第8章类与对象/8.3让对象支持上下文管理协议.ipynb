{
 "cells": [
  {
   "cell_type": "markdown",
   "metadata": {},
   "source": [
    "##### 问题:\n",
    "我们想让对象支持上下文管理协议（context-management protocol，通过with语句触发）。"
   ]
  },
  {
   "cell_type": "markdown",
   "metadata": {},
   "source": [
    "##### 解决方案:\n",
    "要让对象能够兼容with语句，需要实现__enter__()和__exit__()方法。比方说，考虑下面这个表示网络连接的类："
   ]
  },
  {
   "cell_type": "code",
   "execution_count": 2,
   "metadata": {},
   "outputs": [],
   "source": [
    "from socket import socket, AF_INET, SOCK_STREAM \n",
    "class LazyConnection: \n",
    "    def __init__(self, address, family=AF_INET, type=SOCK_STREAM):\n",
    "        self.address = address\n",
    "        self.family = AF_INET\n",
    "        self.type = SOCK_STREAM\n",
    "        self.sock = None \n",
    "    def __enter__(self): \n",
    "        if self.sock is not None: \n",
    "            raise RuntimeError('Already connected')\n",
    "        self.sock = socket(self.family, self.type)\n",
    "        self.sock.connect(self.address) \n",
    "        return self.sock \n",
    "    def __exit__(self, exc_ty, exc_val, tb): \n",
    "        self.sock.close() \n",
    "        self.sock = None \n"
   ]
  },
  {
   "cell_type": "markdown",
   "metadata": {},
   "source": [
    "这个类的核心功能就是表示一条网络连接，但是实际上在初始状态下它并不会做任何事情（比如，它并不会建立一条连接）。相反，网络连接是通过with语句来建立和关闭的（这正是上下文管理的基本需求）。示例如下："
   ]
  },
  {
   "cell_type": "code",
   "execution_count": 3,
   "metadata": {},
   "outputs": [],
   "source": [
    "from functools import partial \n",
    "conn = LazyConnection(('www.python.org', 80)) # Connection closed\n",
    "with conn as s:\n",
    "# conn.__enter__() executes: connection open\n",
    "\n",
    "    s.send(b'GET /index.html HTTP/1.0\\r\\n')\n",
    "    s.send(b'Host: www.python.org\\r\\n')\n",
    "    s.send(b'\\r\\n')\n",
    "    resp = b''.join(iter(partial(s.recv, 8192), b''))  \n",
    "      \n",
    "# conn.__exit__() executes: connection closed "
   ]
  },
  {
   "cell_type": "markdown",
   "metadata": {},
   "source": [
    "要编写一个上下文管理器，其背后的主要原则就是我们编写的代码需要包含在由with语句定义的代码块中。当遇到with语句时，\\_\\_enter\\_\\_()方法首先被触发执行。\\_\\_enter\\_\\_()的返回值（如果有的话）被放置在由as限定的变量当中。之后开始执行with代码块中的语句。最后，\\_\\_exit\\_\\_()方法被触发来执行清理工作。"
   ]
  },
  {
   "cell_type": "markdown",
   "metadata": {},
   "source": [
    "这种形式的控制流与with语句块中发生了什么情况是没有关联的，出现异常时也是如此。实际上，\\_\\_exit\\_\\_()方法的三个参数就包含了异常类型、值和对挂起异常的追溯（如果出现异常的话）。\\_\\_exit\\_\\_()方法可以选择以某种方式来使用异常信息，或者什么也不干直接忽略它并返回None作为结果。如果\\_\\_exit\\_\\_()返回True，异常就会被清理干净，好像什么都没发生过一样，而程序也会立刻继续执行with语句块之后的代码。"
   ]
  },
  {
   "cell_type": "markdown",
   "metadata": {},
   "source": [
    "这项技术有一个微妙的地方，那就是LazyConnection类是否可以通过多个with语句以嵌套的方式使用socket连接。正如我们给出的代码那样，一次只允许创建一条单独的socket连接。当socket已经在使用时，如果尝试重复使用with语句就会产生异常。我们可以对这个实现稍做修改来绕过这个限制，示例如下："
   ]
  },
  {
   "cell_type": "code",
   "execution_count": null,
   "metadata": {},
   "outputs": [],
   "source": [
    "from socket import socket, AF_INET, SOCK_STREAM \n",
    "class LazyConnection: \n",
    "    def __init__(self, address, family=AF_INET, type=SOCK_STREAM):\n",
    "        self.address = address\n",
    "        self.family = AF_INET\n",
    "        self.type = SOCK_STREAM \n",
    "        self.connections = []\n",
    "    def __enter__(self):\n",
    "        sock = socket(self.family, self.type) \n",
    "        sock.connect(self.address) \n",
    "        self.connections.append(sock) \n",
    "        return sock \n",
    "    def __exit__(self, exc_ty, exc_val, tb): \n",
    "        self.connections.pop().close() \n",
    "# Example use\n",
    "from functools import partial \n",
    "conn = LazyConnection(('www.python.org', 80)) \n",
    "with conn as s1:     \n",
    "    pass\n",
    "with conn as s2:\n",
    "    pass"
   ]
  },
  {
   "cell_type": "markdown",
   "metadata": {},
   "source": [
    "在第二个版本中，LazyConnection成了一个专门生产网络连接的工厂类。在内部实现中，我们把一个列表当成栈使用来保存连接。每当__enter__()执行时，由它产生一个新的连接并添加到栈中。而__exit__()方法只是简单地将最近加入的那个连接从栈中弹出并关闭它。这个修改很微不足道，但是这样就可以允许用嵌套式的with语句一次创建出多个连接了。"
   ]
  },
  {
   "cell_type": "markdown",
   "metadata": {},
   "source": [
    "上下文管理器最常用在需要管理类似文件、网络连接和锁这样的资源的程序中。这些资源的关键点在于它们必须显式地进行关闭或释放才能正确工作。例如，如果获得了一个锁，之后就必须确保要释放它，否则就会有死锁的风险。通过实现__enter__()和__exit__()，并且利用with语句来触发，这类问题就可以很容易地避免了。因为__exit__()方法中的清理代码无论如何都会保证运行的。"
   ]
  }
 ],
 "metadata": {
  "interpreter": {
   "hash": "cf9b60c5a2fa413cd21cce5a70eb54d8233b7f3c2bf217096b02f2c4f88c6a2d"
  },
  "kernelspec": {
   "display_name": "Python 3.9.12 64-bit (windows store)",
   "language": "python",
   "name": "python3"
  },
  "language_info": {
   "codemirror_mode": {
    "name": "ipython",
    "version": 3
   },
   "file_extension": ".py",
   "mimetype": "text/x-python",
   "name": "python",
   "nbconvert_exporter": "python",
   "pygments_lexer": "ipython3",
   "version": "3.9.12"
  },
  "orig_nbformat": 4
 },
 "nbformat": 4,
 "nbformat_minor": 2
}
