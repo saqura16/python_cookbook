{
 "cells": [
  {
   "cell_type": "markdown",
   "metadata": {},
   "source": [
    "##### 问题:\n",
    "我们想修改打印实例所产生的输出，使输出结果能更有意义。"
   ]
  },
  {
   "cell_type": "markdown",
   "metadata": {},
   "source": [
    "##### 解决方案:\n",
    "要修改实例的字符串表示，可以通过定义__str__()和__repr__()方法来实现。示例如下："
   ]
  },
  {
   "cell_type": "code",
   "execution_count": 13,
   "metadata": {},
   "outputs": [],
   "source": [
    "class Pair:\n",
    "    def __init__(self, x, y):\n",
    "        self.x = x       \n",
    "        self.y = y \n",
    "    def __repr__(self): \n",
    "        return 'Pair({0.x!r}, {0.y!r})'.format(self) \n",
    "    def __str__(self): \n",
    "        return '({0.x!s}, {0.y!s})'.format(self)"
   ]
  },
  {
   "cell_type": "markdown",
   "metadata": {},
   "source": [
    "特殊方法__repr__()返回的是实例的代码表示（code representation），通常可以用它返回的字符串文本来重新创建这个实例①。内建的repr()函数可以用来返回这个字符串，当缺少交互式解释环境时可用它来检查实例的值。特殊方法__str__()将实例转换为一个字符串，这也是由str()和print()函数所产生的输出。示例如下："
   ]
  },
  {
   "cell_type": "code",
   "execution_count": 14,
   "metadata": {},
   "outputs": [
    {
     "name": "stdout",
     "output_type": "stream",
     "text": [
      "(3, 4)\n"
     ]
    }
   ],
   "source": [
    "p = Pair(3, 4)\n",
    "print(p)"
   ]
  },
  {
   "cell_type": "markdown",
   "metadata": {},
   "source": [
    "本节给出的实现中也展示了在进行格式化输出时应该如何使用不同的字符串表示。尤其是，特殊的格式化代码!r表示应该使用__repr__()的输出，而不是默认的__str__()。我们可以在前文给出的Pair类上做做实验："
   ]
  },
  {
   "cell_type": "code",
   "execution_count": 15,
   "metadata": {},
   "outputs": [
    {
     "name": "stdout",
     "output_type": "stream",
     "text": [
      "p is Pair(3, 4)\n",
      "p is (3, 4)\n"
     ]
    }
   ],
   "source": [
    "p = Pair(3, 4)\n",
    "print('p is {0!r}'.format(p))\n",
    "print('p is {0}'.format(p))"
   ]
  },
  {
   "cell_type": "markdown",
   "metadata": {},
   "source": [
    "定义__repr__()和__str__()通常被认为是好的编程实践，因为这么做可以简化调试过程和实例的输出。比方说，我们只用通过打印实例，程序员就能了解到更多有关这个实例内容的有用信息。"
   ]
  },
  {
   "cell_type": "markdown",
   "metadata": {},
   "source": [
    "对于__repr__()，标准的做法是让它产生的字符串文本能够满足eval(repr(x)) == x。如果不可能办到或者说不希望有这种行为，那么通常就让它产生一段有帮助意义的文本，并且以<和>括起来。示例如下："
   ]
  },
  {
   "cell_type": "code",
   "execution_count": 16,
   "metadata": {},
   "outputs": [
    {
     "data": {
      "text/plain": [
       "<_io.TextIOWrapper name='file.dat' mode='r' encoding='cp936'>"
      ]
     },
     "execution_count": 16,
     "metadata": {},
     "output_type": "execute_result"
    }
   ],
   "source": [
    "f = open('file.dat')\n",
    "f"
   ]
  },
  {
   "cell_type": "markdown",
   "metadata": {},
   "source": [
    "如果没有定义__str__()，那么就用__repr__()的输出当做备份。"
   ]
  },
  {
   "cell_type": "markdown",
   "metadata": {},
   "source": [
    "解决方案中对format()函数的使用看起来似乎有点意思。格式化代码{0.x}用来指代参数0的x属性。因此在下面的函数中，0实际上就代表实例self："
   ]
  },
  {
   "cell_type": "code",
   "execution_count": 17,
   "metadata": {},
   "outputs": [],
   "source": [
    "def __repr__(self): \n",
    "    return 'Pair({0.x!r}, {0.y!r})'.format(self)"
   ]
  },
  {
   "cell_type": "markdown",
   "metadata": {},
   "source": [
    "这个实现还可以有另外一种方式，可以使用%操作符和下面的代码来完成"
   ]
  },
  {
   "cell_type": "code",
   "execution_count": 18,
   "metadata": {},
   "outputs": [],
   "source": [
    "def __repr__(self): \n",
    "    return 'Pair(%r, %r)' % (self.x, self.y)"
   ]
  }
 ],
 "metadata": {
  "interpreter": {
   "hash": "c428d4300b96006bd89c7861a64ca1379b2ef13eb8daabe066e18431431e18b4"
  },
  "kernelspec": {
   "display_name": "Python 3.9.12 64-bit",
   "language": "python",
   "name": "python3"
  },
  "language_info": {
   "codemirror_mode": {
    "name": "ipython",
    "version": 3
   },
   "file_extension": ".py",
   "mimetype": "text/x-python",
   "name": "python",
   "nbconvert_exporter": "python",
   "pygments_lexer": "ipython3",
   "version": "3.9.12"
  },
  "orig_nbformat": 4
 },
 "nbformat": 4,
 "nbformat_minor": 2
}
