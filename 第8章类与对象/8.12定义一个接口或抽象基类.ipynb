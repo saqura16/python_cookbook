{
 "cells": [
  {
   "cell_type": "markdown",
   "metadata": {},
   "source": [
    "##### 问题:\n",
    "我们想定义一个类作为接口或者是抽象基类，这样可以在此之上执行类型检查并确保\n",
    "在子类中实现特定的方法。"
   ]
  },
  {
   "cell_type": "markdown",
   "metadata": {},
   "source": [
    "##### 解决方案:\n",
    "要定义一个抽象基类，可以使用 abc 模块。示例如下："
   ]
  },
  {
   "cell_type": "code",
   "execution_count": 29,
   "metadata": {},
   "outputs": [],
   "source": [
    "from abc import ABCMeta, abstractmethod\n",
    "class IStream(metaclass=ABCMeta):\n",
    "    @abstractmethod\n",
    "    def read(self, maxbytes=-1):\n",
    "        pass\n",
    "    @abstractmethod\n",
    "    def write(self, data):\n",
    "        pass "
   ]
  },
  {
   "cell_type": "markdown",
   "metadata": {},
   "source": [
    "抽象基类的核心特征就是不能被直接实例化。例如，如果尝试这么做，会得到错误提示："
   ]
  },
  {
   "cell_type": "code",
   "execution_count": 30,
   "metadata": {},
   "outputs": [],
   "source": [
    "#a = IStream()"
   ]
  },
  {
   "cell_type": "markdown",
   "metadata": {},
   "source": [
    "相反，抽象基类是用来给其他的类当做基类使用的，这些子类需要实现基类中要求的\n",
    "那些方法。示例如下："
   ]
  },
  {
   "cell_type": "code",
   "execution_count": 31,
   "metadata": {},
   "outputs": [],
   "source": [
    "class SocketStream(IStream):\n",
    "    def read(self, maxbytes=-1):\n",
    "        pass\n",
    "    def write(self, data): \n",
    "        pass\n"
   ]
  },
  {
   "cell_type": "markdown",
   "metadata": {},
   "source": [
    "抽象基类的主要用途是强制规定所需的编程接口。例如，一种看待 IStream 基类的方式\n",
    "就是在高层次上指定一个接口规范，使其允许读取和写入数据。显式检查这个接口的\n",
    "代码可以写成如下形式："
   ]
  },
  {
   "cell_type": "code",
   "execution_count": 32,
   "metadata": {},
   "outputs": [],
   "source": [
    "def serialize(obj, stream):\n",
    "    if not isinstance(stream, IStream):\n",
    "        raise TypeError('Expected an IStream') \n"
   ]
  },
  {
   "cell_type": "markdown",
   "metadata": {},
   "source": [
    "我们可能会认为这种形式的类型检查只有在子类化抽象基类（ABC）时才能工作，但是抽象基类也允许其他的类向其注册，然后实现所需的接口。例如，我们可以这样做："
   ]
  },
  {
   "cell_type": "code",
   "execution_count": 33,
   "metadata": {},
   "outputs": [
    {
     "data": {
      "text/plain": [
       "True"
      ]
     },
     "execution_count": 33,
     "metadata": {},
     "output_type": "execute_result"
    }
   ],
   "source": [
    "import io\n",
    "# Register the built-in I/O classes as supporting our interface\n",
    "IStream.register(io.IOBase)\n",
    "# Open a normal file and type check\n",
    "f = open('foo.txt')\n",
    "isinstance(f, IStream) # Returns True"
   ]
  },
  {
   "cell_type": "markdown",
   "metadata": {},
   "source": [
    "应该提到的是，@abstractmethod 同样可以施加到静态方法、类方法和 property 属性上。\n",
    "只要确保以合适的顺序进行添加即可，这里@abstractmethod 要紧挨着函数定义。示例\n",
    "如下："
   ]
  },
  {
   "cell_type": "code",
   "execution_count": 34,
   "metadata": {},
   "outputs": [],
   "source": [
    "from abc import ABCMeta, abstractmethod\n",
    "class A(metaclass=ABCMeta):\n",
    "    @property\n",
    "    @abstractmethod\n",
    "    def name(self):\n",
    "        pass\n",
    "    @name.setter\n",
    "    @abstractmethod\n",
    "    def name(self, value):\n",
    "        pass\n",
    "    @classmethod\n",
    "    @abstractmethod\n",
    "    def method1(cls):\n",
    "        pass\n",
    "    @staticmethod\n",
    "    @abstractmethod\n",
    "    def method2():\n",
    "        pass"
   ]
  },
  {
   "cell_type": "markdown",
   "metadata": {},
   "source": [
    "标准库中已经预定义好了一些抽象基类。collections 模块中定义了多个和容器还有迭代\n",
    "器（序列、映射、集合等）相关的抽象基类。numbers 库中定义了和数值对象（整数、\n",
    "浮点数、复数等）相关的抽象基类。io 库中定义了和 I/O 处理相关的抽象基类。\n",
    "可以使用这些预定义好的抽象基类来执行更加一般化的类型检查。下面是一些例子："
   ]
  },
  {
   "cell_type": "code",
   "execution_count": 35,
   "metadata": {},
   "outputs": [],
   "source": [
    "import collections\n",
    "x=[]\n",
    "# Check if x is a sequence\n",
    "if isinstance(x, collections.Sequence):\n",
    "    pass\n",
    "# Check if x is iterable\n",
    "if isinstance(x, collections.Iterable):\n",
    "    pass\n",
    "# Check if x has a size\n",
    "if isinstance(x, collections.Sized):\n",
    "    pass\n",
    "# Check if x is a mapping\n",
    "if isinstance(x, collections.Mapping):\n",
    "    pass"
   ]
  },
  {
   "cell_type": "markdown",
   "metadata": {},
   "source": [
    "应该提到的是，在写作本节时，某些库和模块并没有像我们所期望的那样利用预定义\n",
    "好的抽象基类。例如："
   ]
  },
  {
   "cell_type": "code",
   "execution_count": 36,
   "metadata": {},
   "outputs": [
    {
     "data": {
      "text/plain": [
       "False"
      ]
     },
     "execution_count": 36,
     "metadata": {},
     "output_type": "execute_result"
    }
   ],
   "source": [
    "from decimal import Decimal\n",
    "import numbers\n",
    "x = Decimal('3.4')\n",
    "isinstance(x, numbers.Real) # Returns False"
   ]
  },
  {
   "cell_type": "markdown",
   "metadata": {},
   "source": [
    "虽然从技术上说 3.4 是一个实数，由于我们无意中将浮点数和小数混在一起，这里的类\n",
    "型检查没有起到应有的作用。因此，如果使用了抽象基类的功能，明智的做法是仔细\n",
    "编写测试用例来验证其行为是否是所期待的。"
   ]
  },
  {
   "cell_type": "markdown",
   "metadata": {},
   "source": [
    "尽管抽象基类使得类型检查变得更容易了，但不应该在程序中过度使用它。Python 的\n",
    "核心在于它是一种动态语言，它带来了极大的灵活性。如果处处都强制实行类型约束，\n",
    "则会使得代码变得更加复杂，而这本不应该如此。我们应该拥抱 Python 的灵活性。"
   ]
  }
 ],
 "metadata": {
  "interpreter": {
   "hash": "c428d4300b96006bd89c7861a64ca1379b2ef13eb8daabe066e18431431e18b4"
  },
  "kernelspec": {
   "display_name": "Python 3.9.12 64-bit",
   "language": "python",
   "name": "python3"
  },
  "language_info": {
   "codemirror_mode": {
    "name": "ipython",
    "version": 3
   },
   "file_extension": ".py",
   "mimetype": "text/x-python",
   "name": "python",
   "nbconvert_exporter": "python",
   "pygments_lexer": "ipython3",
   "version": "3.9.12"
  },
  "orig_nbformat": 4
 },
 "nbformat": 4,
 "nbformat_minor": 2
}
