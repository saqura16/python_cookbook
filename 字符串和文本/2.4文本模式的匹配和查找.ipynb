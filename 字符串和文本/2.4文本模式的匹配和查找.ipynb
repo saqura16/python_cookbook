{
 "cells": [
  {
   "cell_type": "markdown",
   "metadata": {},
   "source": [
    "##### 问题:\n",
    "我们想要按照特定的文本模式进行匹配或查找."
   ]
  },
  {
   "cell_type": "markdown",
   "metadata": {},
   "source": [
    "##### 解决方案:\n",
    "如果想要匹配的只是简单的文字，那么通常只需要用基本的字符串方法就可以了，比如 str.find()、str.endswith()、str.startswith()或类似的函数。示例如下："
   ]
  },
  {
   "cell_type": "code",
   "execution_count": 6,
   "metadata": {},
   "outputs": [
    {
     "data": {
      "text/plain": [
       "True"
      ]
     },
     "execution_count": 6,
     "metadata": {},
     "output_type": "execute_result"
    }
   ],
   "source": [
    "# Match at start or end\n",
    "text = 'yeah, but no, but yeah, but no, but yeah' \n",
    "text.startswith('yeah')\n"
   ]
  },
  {
   "cell_type": "code",
   "execution_count": 7,
   "metadata": {},
   "outputs": [
    {
     "data": {
      "text/plain": [
       "10"
      ]
     },
     "execution_count": 7,
     "metadata": {},
     "output_type": "execute_result"
    }
   ],
   "source": [
    "# Search for the location of the first occurrence\n",
    "text.find('no')"
   ]
  },
  {
   "cell_type": "markdown",
   "metadata": {},
   "source": [
    "对于更为复杂的匹配则需要使用正则表达式以及 re 模块。为了说明使用正则表达式的\n",
    "基本流程，假设我们想匹配以数字形式构成的日期，比如“11/27/2012”"
   ]
  },
  {
   "cell_type": "code",
   "execution_count": 8,
   "metadata": {},
   "outputs": [
    {
     "name": "stdout",
     "output_type": "stream",
     "text": [
      "yes\n"
     ]
    }
   ],
   "source": [
    "text1 = '11/27/2012'\n",
    "text2 = 'Nov 27, 2012'\n",
    "\n",
    "import re \n",
    "# Simple matching: \\d+ means match one or more digits\n",
    "if re.match(r'\\d+/\\d+/\\d+', text1):\n",
    "    print('yes')\n",
    "else:\n",
    "    print('no')"
   ]
  },
  {
   "cell_type": "markdown",
   "metadata": {},
   "source": [
    "如果打算针对同一种模式做多次匹配，那么通常会先将正则表达式模式预编译成一个\n",
    "模式对象，比如："
   ]
  },
  {
   "cell_type": "code",
   "execution_count": 9,
   "metadata": {},
   "outputs": [
    {
     "name": "stdout",
     "output_type": "stream",
     "text": [
      "yes\n"
     ]
    }
   ],
   "source": [
    "datepat = re.compile(r'\\d+/\\d+/\\d+') \n",
    "if datepat.match(text1):\n",
    "    print('yes') \n",
    "else: \n",
    "    print('no') "
   ]
  },
  {
   "cell_type": "code",
   "execution_count": 10,
   "metadata": {},
   "outputs": [
    {
     "name": "stdout",
     "output_type": "stream",
     "text": [
      "no\n"
     ]
    }
   ],
   "source": [
    "if datepat.match(text2):\n",
    "    print('yes')\n",
    "else:\n",
    "    print('no') "
   ]
  },
  {
   "cell_type": "markdown",
   "metadata": {},
   "source": [
    "match()方法总是尝试在字符串的开头找到匹配项。如果想针对整个文本搜索出所有的\n",
    "匹配项，那么就应该使用 findall()方法。例如："
   ]
  },
  {
   "cell_type": "code",
   "execution_count": 11,
   "metadata": {},
   "outputs": [
    {
     "data": {
      "text/plain": [
       "['11/27/2012', '3/13/2013']"
      ]
     },
     "execution_count": 11,
     "metadata": {},
     "output_type": "execute_result"
    }
   ],
   "source": [
    "text = 'Today is 11/27/2012. PyCon starts 3/13/2013.'\n",
    "datepat.findall(text) "
   ]
  },
  {
   "cell_type": "markdown",
   "metadata": {},
   "source": [
    "当定义正则表达式时，我们常会将部分模式用括号包起来的方式引入捕获组。例如："
   ]
  },
  {
   "cell_type": "code",
   "execution_count": 14,
   "metadata": {},
   "outputs": [
    {
     "name": "stdout",
     "output_type": "stream",
     "text": [
      "re.compile('(\\\\d+)/(\\\\d+)/(\\\\d+)')\n"
     ]
    }
   ],
   "source": [
    "datepat = re.compile(r'(\\d+)/(\\d+)/(\\d+)')\n",
    "print(datepat)"
   ]
  },
  {
   "cell_type": "markdown",
   "metadata": {},
   "source": [
    "捕获组通常能简化后续对匹配文本的处理，因为每个组的内容都可以单独提取出来"
   ]
  },
  {
   "cell_type": "code",
   "execution_count": 22,
   "metadata": {},
   "outputs": [
    {
     "name": "stdout",
     "output_type": "stream",
     "text": [
      "<re.Match object; span=(0, 10), match='11/27/2012'>\n",
      "11/27/2012\n",
      "11\n",
      "27\n",
      "2012\n",
      "('11', '27', '2012')\n"
     ]
    }
   ],
   "source": [
    "m = datepat.match('11/27/2012')\n",
    "print(m)\n",
    "print(m.group(0))\n",
    "print(m.group(1))\n",
    "print(m.group(2))\n",
    "print(m.group(3))\n",
    "print(m.groups())\n"
   ]
  },
  {
   "cell_type": "code",
   "execution_count": 24,
   "metadata": {},
   "outputs": [
    {
     "name": "stdout",
     "output_type": "stream",
     "text": [
      "11 27 2012\n"
     ]
    }
   ],
   "source": [
    "month, day, year = m.groups() \n",
    "print(month,day,year)"
   ]
  },
  {
   "cell_type": "code",
   "execution_count": 26,
   "metadata": {},
   "outputs": [
    {
     "name": "stdout",
     "output_type": "stream",
     "text": [
      "2012-11-27\n",
      "2013-3-13\n"
     ]
    }
   ],
   "source": [
    "# Find all matches (notice splitting into tuples) \n",
    "text='Today is 11/27/2012. PyCon starts 3/13/2013.' \n",
    "datepat.findall(text)\n",
    "for month, day, year in datepat.findall(text):\n",
    "    print('{}-{}-{}'.format(year, month, day)) "
   ]
  },
  {
   "cell_type": "markdown",
   "metadata": {},
   "source": [
    "findall()方法搜索整个文本并找出所有的匹配项然后将它们以列表的形式返回。如果想\n",
    "以迭代的方式找出匹配项，可以使用 finditer()方法。示例如下："
   ]
  },
  {
   "cell_type": "code",
   "execution_count": 27,
   "metadata": {},
   "outputs": [
    {
     "name": "stdout",
     "output_type": "stream",
     "text": [
      "('11', '27', '2012')\n",
      "('3', '13', '2013')\n"
     ]
    }
   ],
   "source": [
    "for m in datepat.finditer(text):\n",
    "    print(m.groups()) "
   ]
  },
  {
   "cell_type": "markdown",
   "metadata": {},
   "source": [
    "本节向您展示了利用 re 模块来对文本做匹配和搜索的基础。基本功能是首先用 re.compile()对模式进行编译，然\n",
    "后使用像 match()、findall()或 finditer()这样的方法做匹配和搜索。"
   ]
  },
  {
   "cell_type": "markdown",
   "metadata": {},
   "source": [
    "当指定模式时我们通常会使用原始字符串，比如 r'(\\d+)/(\\d+)/(\\d+)'。这样的字符串不会\n",
    "对反斜线字符转义，这在正则表达式上下文中会很有用。否则，我们需要用双反斜线\n",
    "来表示一个单独的'\\'，例如'(\\\\d+)/(\\\\d+)/(\\\\d+)'。"
   ]
  },
  {
   "cell_type": "markdown",
   "metadata": {},
   "source": [
    "请注意 match()方法只会检查字符串的开头"
   ]
  },
  {
   "cell_type": "markdown",
   "metadata": {},
   "source": [
    "如果想要精确匹配，请确保在模式中包含一个结束标记（$）"
   ]
  },
  {
   "cell_type": "code",
   "execution_count": 28,
   "metadata": {},
   "outputs": [
    {
     "data": {
      "text/plain": [
       "<re.Match object; span=(0, 10), match='11/27/2012'>"
      ]
     },
     "execution_count": 28,
     "metadata": {},
     "output_type": "execute_result"
    }
   ],
   "source": [
    "datepat = re.compile(r'(\\d+)/(\\d+)/(\\d+)$')\n",
    "datepat.match('11/27/2012abcdef')\n",
    "datepat.match('11/27/2012') "
   ]
  },
  {
   "cell_type": "markdown",
   "metadata": {},
   "source": [
    "最后，如果只是想执行简单的文本匹配和搜索操作，通常可以省略编译步骤，直接使\n",
    "用 re 模块中的函数即可。例如："
   ]
  },
  {
   "cell_type": "code",
   "execution_count": 29,
   "metadata": {},
   "outputs": [
    {
     "data": {
      "text/plain": [
       "[('11', '27', '2012'), ('3', '13', '2013')]"
      ]
     },
     "execution_count": 29,
     "metadata": {},
     "output_type": "execute_result"
    }
   ],
   "source": [
    "re.findall(r'(\\d+)/(\\d+)/(\\d+)', text)"
   ]
  },
  {
   "cell_type": "markdown",
   "metadata": {},
   "source": [
    "请注意，如果打算执行很多匹配或查找操作的话，通常需要先将模式编译然后再重复\n",
    "使用。模块级的函数会对最近编译过的模式做缓存处理，因此这里并不会有巨大的性\n",
    "能差异。"
   ]
  }
 ],
 "metadata": {
  "interpreter": {
   "hash": "9e68ebf596df7713ab296bba418491aae41f185aff501f4839864b40868f87cf"
  },
  "kernelspec": {
   "display_name": "Python 3.9.12 64-bit (windows store)",
   "language": "python",
   "name": "python3"
  },
  "language_info": {
   "codemirror_mode": {
    "name": "ipython",
    "version": 3
   },
   "file_extension": ".py",
   "mimetype": "text/x-python",
   "name": "python",
   "nbconvert_exporter": "python",
   "pygments_lexer": "ipython3",
   "version": "3.9.12"
  },
  "orig_nbformat": 4
 },
 "nbformat": 4,
 "nbformat_minor": 2
}
