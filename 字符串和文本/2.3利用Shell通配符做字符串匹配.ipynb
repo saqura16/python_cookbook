{
 "cells": [
  {
   "cell_type": "markdown",
   "metadata": {},
   "source": [
    "问题:当工作在 UNIX Shell 下时，我们想使用常见的通配符模式（即，*.py、Dat[0-9]*.csv等）来对文本做匹配。"
   ]
  },
  {
   "cell_type": "markdown",
   "metadata": {},
   "source": [
    "解决方案:fnmatch 模块提供了两个函数—fnmatch()和 fnmatchcase()—可用来执行这样的匹配。"
   ]
  },
  {
   "cell_type": "markdown",
   "metadata": {},
   "source": [
    "fnmatch()的用法:fnmatch(待匹配项,匹配模式)"
   ]
  },
  {
   "cell_type": "code",
   "execution_count": 3,
   "metadata": {},
   "outputs": [
    {
     "name": "stdout",
     "output_type": "stream",
     "text": [
      "2.1针对任意多的分隔符拆分字符串.ipynb\n",
      "2.2在字符串的开头或结尾处做文本匹配.ipynb\n",
      "2.3利用Shell通配符做字符串匹配.ipynb\n"
     ]
    }
   ],
   "source": [
    "import os\n",
    "import fnmatch\n",
    "\n",
    "for filename in os.listdir('.'):\n",
    "    if fnmatch.fnmatch(filename,'*.ipynb'): #匹配模式为星号，表示任意的字符\n",
    "        print(filename)"
   ]
  },
  {
   "cell_type": "code",
   "execution_count": 4,
   "metadata": {},
   "outputs": [
    {
     "data": {
      "text/plain": [
       "True"
      ]
     },
     "execution_count": 4,
     "metadata": {},
     "output_type": "execute_result"
    }
   ],
   "source": [
    "from fnmatch import fnmatch, fnmatchcase\n",
    "fnmatch('foo.txt', '*.txt')"
   ]
  },
  {
   "cell_type": "code",
   "execution_count": 5,
   "metadata": {},
   "outputs": [
    {
     "data": {
      "text/plain": [
       "['Dat1.csv', 'Dat2.csv']"
      ]
     },
     "execution_count": 5,
     "metadata": {},
     "output_type": "execute_result"
    }
   ],
   "source": [
    "names = ['Dat1.csv', 'Dat2.csv', 'config.ini', 'foo.py']\n",
    "[name for name in names if fnmatch(name, 'Dat*.csv')] \n"
   ]
  },
  {
   "cell_type": "markdown",
   "metadata": {},
   "source": [
    "一般来说，fnmatch()的匹配模式所采用的大小写区分规则和底层文件系统相同（根据\n",
    "操作系统的不同而有所不同）。例如：\n",
    "#### On OS X (Mac)\n",
    "fnmatch('foo.txt', '*.TXT')\n",
    "##### 输出：False\n",
    "#### On Windows\n",
    "fnmatch('foo.txt', '*.TXT')\n",
    "##### 输出:True\n"
   ]
  },
  {
   "cell_type": "markdown",
   "metadata": {},
   "source": [
    "如果这个区别对我们而言很重要，就应该使用 fnmatchcase()。它完全根据我们提供的大小写方式来匹配"
   ]
  },
  {
   "cell_type": "code",
   "execution_count": 12,
   "metadata": {},
   "outputs": [
    {
     "data": {
      "text/plain": [
       "False"
      ]
     },
     "execution_count": 12,
     "metadata": {},
     "output_type": "execute_result"
    },
    {
     "data": {
      "application/javascript": "\n            setTimeout(function() {\n                var nbb_cell_id = 12;\n                var nbb_unformatted_code = \"fnmatchcase('foo.txt', '*.TXT') \";\n                var nbb_formatted_code = \"fnmatchcase(\\\"foo.txt\\\", \\\"*.TXT\\\")\";\n                var nbb_cells = Jupyter.notebook.get_cells();\n                for (var i = 0; i < nbb_cells.length; ++i) {\n                    if (nbb_cells[i].input_prompt_number == nbb_cell_id) {\n                        if (nbb_cells[i].get_text() == nbb_unformatted_code) {\n                             nbb_cells[i].set_text(nbb_formatted_code);\n                        }\n                        break;\n                    }\n                }\n            }, 500);\n            ",
      "text/plain": [
       "<IPython.core.display.Javascript object>"
      ]
     },
     "metadata": {},
     "output_type": "display_data"
    }
   ],
   "source": [
    "fnmatchcase('foo.txt', '*.TXT') "
   ]
  },
  {
   "cell_type": "markdown",
   "metadata": {},
   "source": [
    "关于这些函数，一个常被忽略的特性是它们在处理非文件名式的字符串时的潜在用途。\n",
    "例如，假设有一组街道地址，就像这样："
   ]
  },
  {
   "cell_type": "code",
   "execution_count": 13,
   "metadata": {},
   "outputs": [
    {
     "data": {
      "text/plain": [
       "['5412 N CLARK ST', '1060 W ADDISON ST', '2122 N CLARK ST']"
      ]
     },
     "execution_count": 13,
     "metadata": {},
     "output_type": "execute_result"
    },
    {
     "data": {
      "application/javascript": "\n            setTimeout(function() {\n                var nbb_cell_id = 13;\n                var nbb_unformatted_code = \"addresses = [\\n '5412 N CLARK ST',\\n '1060 W ADDISON ST',\\n '1039 W GRANVILLE AVE',\\n '2122 N CLARK ST',\\n '4802 N BROADWAY',\\n] \\n\\n#\\u53ef\\u4ee5\\u50cf\\u4e0b\\u9762\\u8fd9\\u6837\\u5199\\u5217\\u8868\\u63a8\\u5bfc\\u5f0f\\uff1a\\nfrom fnmatch import fnmatchcase\\n[addr for addr in addresses if fnmatchcase(addr, '* ST')]\";\n                var nbb_formatted_code = \"addresses = [\\n    \\\"5412 N CLARK ST\\\",\\n    \\\"1060 W ADDISON ST\\\",\\n    \\\"1039 W GRANVILLE AVE\\\",\\n    \\\"2122 N CLARK ST\\\",\\n    \\\"4802 N BROADWAY\\\",\\n]\\n\\n# \\u53ef\\u4ee5\\u50cf\\u4e0b\\u9762\\u8fd9\\u6837\\u5199\\u5217\\u8868\\u63a8\\u5bfc\\u5f0f\\uff1a\\nfrom fnmatch import fnmatchcase\\n\\n[addr for addr in addresses if fnmatchcase(addr, \\\"* ST\\\")]\";\n                var nbb_cells = Jupyter.notebook.get_cells();\n                for (var i = 0; i < nbb_cells.length; ++i) {\n                    if (nbb_cells[i].input_prompt_number == nbb_cell_id) {\n                        if (nbb_cells[i].get_text() == nbb_unformatted_code) {\n                             nbb_cells[i].set_text(nbb_formatted_code);\n                        }\n                        break;\n                    }\n                }\n            }, 500);\n            ",
      "text/plain": [
       "<IPython.core.display.Javascript object>"
      ]
     },
     "metadata": {},
     "output_type": "display_data"
    }
   ],
   "source": [
    "addresses = [\n",
    " '5412 N CLARK ST',\n",
    " '1060 W ADDISON ST',\n",
    " '1039 W GRANVILLE AVE',\n",
    " '2122 N CLARK ST',\n",
    " '4802 N BROADWAY',\n",
    "] \n",
    "\n",
    "#可以像下面这样写列表推导式：\n",
    "from fnmatch import fnmatchcase\n",
    "[addr for addr in addresses if fnmatchcase(addr, '* ST')]"
   ]
  },
  {
   "cell_type": "code",
   "execution_count": 14,
   "metadata": {},
   "outputs": [
    {
     "data": {
      "text/plain": [
       "['5412 N CLARK ST']"
      ]
     },
     "execution_count": 14,
     "metadata": {},
     "output_type": "execute_result"
    },
    {
     "data": {
      "application/javascript": "\n            setTimeout(function() {\n                var nbb_cell_id = 14;\n                var nbb_unformatted_code = \"[addr for addr in addresses if fnmatchcase(addr, '54[0-9][0-9] *CLARK*')]\";\n                var nbb_formatted_code = \"[addr for addr in addresses if fnmatchcase(addr, \\\"54[0-9][0-9] *CLARK*\\\")]\";\n                var nbb_cells = Jupyter.notebook.get_cells();\n                for (var i = 0; i < nbb_cells.length; ++i) {\n                    if (nbb_cells[i].input_prompt_number == nbb_cell_id) {\n                        if (nbb_cells[i].get_text() == nbb_unformatted_code) {\n                             nbb_cells[i].set_text(nbb_formatted_code);\n                        }\n                        break;\n                    }\n                }\n            }, 500);\n            ",
      "text/plain": [
       "<IPython.core.display.Javascript object>"
      ]
     },
     "metadata": {},
     "output_type": "display_data"
    }
   ],
   "source": [
    "[addr for addr in addresses if fnmatchcase(addr, '54[0-9][0-9] *CLARK*')]"
   ]
  },
  {
   "cell_type": "markdown",
   "metadata": {},
   "source": [
    "fnmatch 所完成的匹配操作有点介乎于简单的字符串方法和全功能的正则表达式之间。如果只是试着在处理数据时提供一种简单的机制以允许使用通配符，那么通常这都是个合理的解决方案。"
   ]
  }
 ],
 "metadata": {
  "interpreter": {
   "hash": "9e68ebf596df7713ab296bba418491aae41f185aff501f4839864b40868f87cf"
  },
  "kernelspec": {
   "display_name": "Python 3.9.12 64-bit (windows store)",
   "language": "python",
   "name": "python3"
  },
  "language_info": {
   "codemirror_mode": {
    "name": "ipython",
    "version": 3
   },
   "file_extension": ".py",
   "mimetype": "text/x-python",
   "name": "python",
   "nbconvert_exporter": "python",
   "pygments_lexer": "ipython3",
   "version": "3.9.12"
  },
  "orig_nbformat": 4
 },
 "nbformat": 4,
 "nbformat_minor": 2
}
