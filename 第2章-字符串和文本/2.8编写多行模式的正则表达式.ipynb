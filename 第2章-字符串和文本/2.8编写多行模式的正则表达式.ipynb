{
 "cells": [
  {
   "cell_type": "markdown",
   "metadata": {},
   "source": [
    "##### 问题:\n",
    "我们打算用正则表达式对一段文本块做匹配，但是希望在进行匹配时能够跨越多行。"
   ]
  },
  {
   "cell_type": "markdown",
   "metadata": {},
   "source": [
    "##### 解决方案:\n",
    "这个问题一般出现在希望使用句点（.）来匹配任意字符，但是忘记了句点并不能匹配换行符时。"
   ]
  },
  {
   "cell_type": "markdown",
   "metadata": {},
   "source": [
    "例如，假设想匹配C语言风格的注释："
   ]
  },
  {
   "cell_type": "code",
   "execution_count": 4,
   "metadata": {},
   "outputs": [
    {
     "name": "stdout",
     "output_type": "stream",
     "text": [
      "[' this is a comment ']\n",
      "[' this is a ...              \\n    multiline comment ']\n"
     ]
    }
   ],
   "source": [
    "import re\n",
    "comment = re.compile(r'/\\*(.*?)\\*/',re.S)\n",
    "text1 = '/* this is a comment */'\n",
    "text2 = '''/* this is a ...              \n",
    "    multiline comment */'''\n",
    "\n",
    "\n",
    "print(comment.findall(text1))\n",
    "print(comment.findall(text2))\n"
   ]
  },
  {
   "cell_type": "markdown",
   "metadata": {},
   "source": [
    "re.compile()函数可接受一个有用的标记—re.DOTALL(或者re.S)。这使得正则表达式中的句点(.)可以匹配所有的字符，也包括换行符"
   ]
  },
  {
   "cell_type": "markdown",
   "metadata": {},
   "source": [
    "##### 修饰符描述 \n",
    "re.I\t使匹配对大小写不敏感\n"
   ]
  },
  {
   "cell_type": "markdown",
   "metadata": {},
   "source": [
    "re.L\t做本地化识别（locale-aware）匹配"
   ]
  },
  {
   "cell_type": "markdown",
   "metadata": {},
   "source": [
    "re.M\t多行匹配，影响 ^ 和 $"
   ]
  },
  {
   "cell_type": "markdown",
   "metadata": {},
   "source": [
    "re.S或者re.DOTALL\t使点 . 可以匹配包括换行在内的所有字符"
   ]
  },
  {
   "cell_type": "markdown",
   "metadata": {},
   "source": [
    "re.U\t根据Unicode字符集解析字符。这个标志影响 \\w, \\W, \\b, \\B."
   ]
  },
  {
   "cell_type": "markdown",
   "metadata": {},
   "source": [
    "re.X\t该标志通过给予你更灵活的格式以便你将正则表达式写得更易于理解。"
   ]
  }
 ],
 "metadata": {
  "interpreter": {
   "hash": "9e68ebf596df7713ab296bba418491aae41f185aff501f4839864b40868f87cf"
  },
  "kernelspec": {
   "display_name": "Python 3.9.12 64-bit (windows store)",
   "language": "python",
   "name": "python3"
  },
  "language_info": {
   "codemirror_mode": {
    "name": "ipython",
    "version": 3
   },
   "file_extension": ".py",
   "mimetype": "text/x-python",
   "name": "python",
   "nbconvert_exporter": "python",
   "pygments_lexer": "ipython3",
   "version": "3.9.12"
  },
  "orig_nbformat": 4
 },
 "nbformat": 4,
 "nbformat_minor": 2
}
