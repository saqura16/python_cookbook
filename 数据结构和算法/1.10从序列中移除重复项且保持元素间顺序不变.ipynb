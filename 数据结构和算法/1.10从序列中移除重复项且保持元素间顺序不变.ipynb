{
 "cells": [
  {
   "cell_type": "markdown",
   "metadata": {},
   "source": [
    "问题:我们想去除序列中出现的重复元素，但仍然保持剩下的元素顺序不变。"
   ]
  },
  {
   "cell_type": "markdown",
   "metadata": {},
   "source": [
    "解决方案:如果序列中的值是可哈希（hashable）的，那么这个问题可以通过使用集合和生成器轻松解决。"
   ]
  },
  {
   "cell_type": "code",
   "execution_count": 2,
   "metadata": {},
   "outputs": [
    {
     "name": "stdout",
     "output_type": "stream",
     "text": [
      "1 5 2 9 10 "
     ]
    }
   ],
   "source": [
    "def k(items):\n",
    "    seen=set()\n",
    "    for item in items:\n",
    "        if item not in seen:\n",
    "            yield item\n",
    "            seen.add(item)\n",
    "\n",
    "if __name__ == \"__main__\":\n",
    "    a = [1, 5, 2, 1, 9, 1, 5, 10] \n",
    "    list = (k(a))\n",
    "    for i in list:\n",
    "        print(i,end=\" \")"
   ]
  },
  {
   "cell_type": "markdown",
   "metadata": {},
   "source": [
    "只有当序列中的元素是可哈希的时候才能这么做。如果想在不可哈希的对象（比如列\n",
    "表）序列中去除重复项，需要对上述代码稍作修改："
   ]
  },
  {
   "cell_type": "code",
   "execution_count": 2,
   "metadata": {},
   "outputs": [
    {
     "name": "stdout",
     "output_type": "stream",
     "text": [
      "[{'x': 1, 'y': 2}, {'x': 1, 'y': 3}, {'x': 2, 'y': 4}]\n",
      "[{'x': 1, 'y': 2}, {'x': 2, 'y': 4}]\n"
     ]
    }
   ],
   "source": [
    "#运行下面代码的时候重启一下python\n",
    "def dedupe(items, key=None):\n",
    "    seen = set()\n",
    "    for item in items:\n",
    "        val = item if key is None else key(item)#不理解\n",
    "        if val not in seen:\n",
    "            yield item\n",
    "            seen.add(val) \n",
    "if __name__ == \"__main__\":\n",
    "    a = [ {'x':1, 'y':2}, {'x':1, 'y':3}, {'x':1, 'y':2}, {'x':2, 'y':4}] \n",
    "    print(list(dedupe(a, key=lambda d: (d['x'],d['y']))) )#(我理解的是和max或者min里的key的用法一样)\n",
    "    print(list(dedupe(a, key=lambda d: d['x'])) )"
   ]
  },
  {
   "cell_type": "markdown",
   "metadata": {},
   "source": [
    "这里参数 key 的作用是指定一个函数用来将序列中的元素转换为可哈希的类型，这么\n",
    "做的目的是为了检测重复项。"
   ]
  },
  {
   "cell_type": "markdown",
   "metadata": {},
   "source": [
    "（我理解的是和max或者min里的key的用法一样）"
   ]
  },
  {
   "cell_type": "markdown",
   "metadata": {},
   "source": [
    "如果想要做的只是去除重复项，那么通常足够简单的办法就是构建一个集合。"
   ]
  },
  {
   "cell_type": "code",
   "execution_count": 3,
   "metadata": {},
   "outputs": [
    {
     "name": "stdout",
     "output_type": "stream",
     "text": [
      "{1, 2, 5, 9, 10}\n"
     ]
    }
   ],
   "source": [
    "a=[1, 5, 2, 1, 9, 1, 5, 10]\n",
    "print(set(a))\n"
   ]
  },
  {
   "cell_type": "markdown",
   "metadata": {},
   "source": [
    "但是这种方法不能保证元素间的顺序不变，因此得到的结果会被打乱。前面展示的解决方案可避免出现这个问题。"
   ]
  },
  {
   "cell_type": "markdown",
   "metadata": {},
   "source": [
    "本节中对生成器的使用反映出一个事实，那就是我们可能会希望这个函数尽可能的通\n",
    "用—不必绑定在只能对列表进行处理。"
   ]
  },
  {
   "cell_type": "markdown",
   "metadata": {},
   "source": [
    "比如，如果想读一个文件，去除其中重复的文本行，可以只需这样处理：\n"
   ]
  },
  {
   "cell_type": "markdown",
   "metadata": {},
   "source": [
    "#with open(somefile,'r') as f:\n",
    "    # for line in dedupe(f): "
   ]
  },
  {
   "cell_type": "markdown",
   "metadata": {},
   "source": [
    "我们的 dedupe()函数也模仿了内置函数 sorted()、min()以及 max()对 key 函数的使用方\n",
    "式。"
   ]
  }
 ],
 "metadata": {
  "interpreter": {
   "hash": "9e68ebf596df7713ab296bba418491aae41f185aff501f4839864b40868f87cf"
  },
  "kernelspec": {
   "display_name": "Python 3 (ipykernel)",
   "language": "python",
   "name": "python3"
  },
  "language_info": {
   "codemirror_mode": {
    "name": "ipython",
    "version": 3
   },
   "file_extension": ".py",
   "mimetype": "text/x-python",
   "name": "python",
   "nbconvert_exporter": "python",
   "pygments_lexer": "ipython3",
   "version": "3.9.12"
  }
 },
 "nbformat": 4,
 "nbformat_minor": 2
}
