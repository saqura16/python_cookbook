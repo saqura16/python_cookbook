{
 "cells": [
  {
   "cell_type": "markdown",
   "metadata": {},
   "source": [
    "问题:我们想在某个集合中找出最大或最小的 N 个元素。\n",
    "解决方案heapq 模块中有两个函数—nlargest()和 nsmallest()"
   ]
  },
  {
   "cell_type": "code",
   "execution_count": 1,
   "metadata": {},
   "outputs": [
    {
     "name": "stdout",
     "output_type": "stream",
     "text": [
      "[42, 37, 23]\n",
      "[-4, 1, 2]\n"
     ]
    }
   ],
   "source": [
    "import heapq\n",
    "nums = [1, 8, 2, 23, 7, -4, 18, 23, 42, 37, 2] \n",
    "print(heapq.nlargest(3, nums)) # Prints [42, 37, 23]\n",
    "print(heapq.nsmallest(3, nums)) # Prints [-4, 1, 2]"
   ]
  },
  {
   "cell_type": "markdown",
   "metadata": {},
   "source": [
    "这两个函数都可以接受一个参数 key，从而允许它们工作在更加复杂的数据结构之上。"
   ]
  },
  {
   "cell_type": "code",
   "execution_count": 2,
   "metadata": {},
   "outputs": [
    {
     "name": "stdout",
     "output_type": "stream",
     "text": [
      "[{'name': 'YHOO', 'shares': 45, 'price': 16.35}, {'name': 'FB', 'shares': 200, 'price': 21.09}, {'name': 'HPQ', 'shares': 35, 'price': 31.75}]\n",
      "[{'name': 'AAPL', 'shares': 50, 'price': 543.22}, {'name': 'ACME', 'shares': 75, 'price': 115.65}, {'name': 'IBM', 'shares': 100, 'price': 91.1}]\n"
     ]
    }
   ],
   "source": [
    "portfolio = [\n",
    " {'name': 'IBM', 'shares': 100, 'price': 91.1},\n",
    " {'name': 'AAPL', 'shares': 50, 'price': 543.22},\n",
    " {'name': 'FB', 'shares': 200, 'price': 21.09},\n",
    " {'name': 'HPQ', 'shares': 35, 'price': 31.75},\n",
    " {'name': 'YHOO', 'shares': 45, 'price': 16.35},\n",
    " {'name': 'ACME', 'shares': 75, 'price': 115.65}\n",
    "] \n",
    "cheap = heapq.nsmallest(3, portfolio, key=lambda s: s['price'])\n",
    "expensive = heapq.nlargest(3, portfolio, key=lambda s: s['price']) \n",
    "print(cheap,expensive,sep='\\n')"
   ]
  },
  {
   "cell_type": "markdown",
   "metadata": {},
   "source": [
    "如果正在寻找最大或最小的 N 个元素，且同集合中元素的总数目相比，N 很小，那么\n",
    "下面这些函数可以提供更好的性能。这些函数首先会在底层将数据转化成列表，且元\n",
    "素会以堆的顺序排列。这个操作的复杂度是 O(logN)"
   ]
  },
  {
   "cell_type": "code",
   "execution_count": 3,
   "metadata": {},
   "outputs": [
    {
     "name": "stdout",
     "output_type": "stream",
     "text": [
      "[-4, 2, 1, 23, 7, 2, 18, 23, 42, 37, 8]\n"
     ]
    }
   ],
   "source": [
    "nums = [1, 8, 2, 23, 7, -4, 18, 23, 42, 37, 2]\n",
    "import heapq\n",
    "heap = list(nums)\n",
    "heapq.heapify(heap)#会在底层将数据转化成列表，且元素会以堆的顺序排列。\n",
    "print(heap)\n",
    "#heap[0]永远是最小值\n"
   ]
  },
  {
   "cell_type": "code",
   "execution_count": 4,
   "metadata": {},
   "outputs": [
    {
     "name": "stdout",
     "output_type": "stream",
     "text": [
      "-4\n",
      "1\n",
      "2\n"
     ]
    }
   ],
   "source": [
    "print(heapq.heappop(heap))\n",
    "print(heapq.heappop(heap))\n",
    "print(heapq.heappop(heap))\n"
   ]
  },
  {
   "cell_type": "markdown",
   "metadata": {},
   "source": [
    "注意：当所要找的元素数量相对较小时，函数 nlargest()和 nsmallest()才是最适用的。"
   ]
  },
  {
   "cell_type": "markdown",
   "metadata": {},
   "source": [
    "如果只是简单地想找到最小或最大的元素（N=1 时），那么用 min()和 max()会更加快。"
   ]
  },
  {
   "cell_type": "markdown",
   "metadata": {},
   "source": [
    "同样，如\n",
    "果 N 和集合本身的大小差不多大，通常更快的方法是先对集合排序，然后做切片操作\n",
    "（例如，使用 sorted(items)[:N]或者 sorted(items)[-N:]）。"
   ]
  },
  {
   "cell_type": "markdown",
   "metadata": {},
   "source": [
    "应该要注意的是，nlargest()和\n",
    "nsmallest()的实际实现会根据使用它们的方式而有所不同，可能会相应作出一些优化措\n",
    "施（比如，当 N 的大小同输入大小很接近时，就会采用排序的方法）。"
   ]
  }
 ],
 "metadata": {
  "interpreter": {
   "hash": "9e68ebf596df7713ab296bba418491aae41f185aff501f4839864b40868f87cf"
  },
  "kernelspec": {
   "display_name": "Python 3.9.12 64-bit (windows store)",
   "language": "python",
   "name": "python3"
  },
  "language_info": {
   "codemirror_mode": {
    "name": "ipython",
    "version": 3
   },
   "file_extension": ".py",
   "mimetype": "text/x-python",
   "name": "python",
   "nbconvert_exporter": "python",
   "pygments_lexer": "ipython3",
   "version": "3.9.12"
  },
  "orig_nbformat": 4
 },
 "nbformat": 4,
 "nbformat_minor": 2
}
