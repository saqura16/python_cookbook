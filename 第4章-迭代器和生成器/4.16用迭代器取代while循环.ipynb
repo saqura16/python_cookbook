{
 "cells": [
  {
   "cell_type": "markdown",
   "metadata": {},
   "source": [
    "##### 问题:\n",
    "我们的代码采用while循环来迭代处理数据，因为这其中涉及调用某个函数或有某种不常见的测试条件，而这些东西没法归类为常见的迭代模式。"
   ]
  },
  {
   "cell_type": "markdown",
   "metadata": {},
   "source": [
    "##### 解决方案:\n",
    "在涉及I/O处理的程序中，编写这样的代码是很常见的："
   ]
  },
  {
   "cell_type": "code",
   "execution_count": 32,
   "metadata": {},
   "outputs": [],
   "source": [
    "CHUNKSIZE = 8192 \n",
    "def reader(s): \n",
    "    while True:\n",
    "        data = s.recv(CHUNKSIZE) \n",
    "        if data == b'': \n",
    "            break         \n",
    "        process_data(data)"
   ]
  },
  {
   "cell_type": "markdown",
   "metadata": {},
   "source": [
    "这样的代码常常可以用iter()来替换，比如："
   ]
  },
  {
   "cell_type": "code",
   "execution_count": 33,
   "metadata": {},
   "outputs": [],
   "source": [
    "def reader(s): \n",
    "    for chunk in iter(lambda: s.recv(CHUNKSIZE), b''):\n",
    "             process_data(data) "
   ]
  },
  {
   "cell_type": "markdown",
   "metadata": {},
   "source": [
    "如果对这样的代码能否正常工作持有怀疑态度，可以用一个有关文件处理的类似例子试验一下："
   ]
  },
  {
   "cell_type": "code",
   "execution_count": 34,
   "metadata": {},
   "outputs": [
    {
     "name": "stdout",
     "output_type": "stream",
     "text": [
      "hello\n",
      "\n",
      "hello\n",
      "\n",
      "world\n",
      "\n",
      "world"
     ]
    }
   ],
   "source": [
    "import sys\n",
    "f = open('4.10.txt')\n",
    "for chunk in iter(lambda: f.read(2),''):  #不可以，不知什么原因\n",
    "    n = sys.stdout.write(chunk) \n"
   ]
  },
  {
   "cell_type": "markdown",
   "metadata": {},
   "source": [
    "关于内建函数iter()，一个少有人知的特性是它可以选择性接受一个无参的可调用对象以及一个哨兵（结束）值作为输入。当以这种方式使用时，iter()会创建一个迭代器，然后重复调用用户提供的可调用对象，直到它返回哨兵值为止。"
   ]
  },
  {
   "cell_type": "markdown",
   "metadata": {},
   "source": [
    "这种特定的方式对于需要重复调用函数的情况，比如这些涉及I/O的问题，有很好的效果。比如，如果想从socket或文件中按块读取数据，通常会重复调用read()或者recv()，然后紧跟着检测是否到达文件结尾。而我们给出的解决方案简单地将这两个功能合并为一个单独的iter()调用。解决方案中对lambda的使用是为了创建一个不带参数的可调用对象，但是还是可以对recv()或read()提供所需要的参数。"
   ]
  }
 ],
 "metadata": {
  "interpreter": {
   "hash": "9e68ebf596df7713ab296bba418491aae41f185aff501f4839864b40868f87cf"
  },
  "kernelspec": {
   "display_name": "Python 3.9.12 64-bit (windows store)",
   "language": "python",
   "name": "python3"
  },
  "language_info": {
   "codemirror_mode": {
    "name": "ipython",
    "version": 3
   },
   "file_extension": ".py",
   "mimetype": "text/x-python",
   "name": "python",
   "nbconvert_exporter": "python",
   "pygments_lexer": "ipython3",
   "version": "3.9.12"
  },
  "orig_nbformat": 4
 },
 "nbformat": 4,
 "nbformat_minor": 2
}
