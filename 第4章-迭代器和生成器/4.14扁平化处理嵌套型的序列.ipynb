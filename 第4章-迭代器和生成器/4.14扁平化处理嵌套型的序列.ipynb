{
 "cells": [
  {
   "cell_type": "markdown",
   "metadata": {},
   "source": [
    "##### 问题:\n",
    "我们有一个嵌套型的序列，想将它扁平化处理为一列单独的值。"
   ]
  },
  {
   "cell_type": "markdown",
   "metadata": {},
   "source": [
    "##### 解决方案:\n",
    "这个问题可以很容易地通过写一个带有yield from语句的递归生成器函数来解决。示例如下：\n"
   ]
  },
  {
   "cell_type": "code",
   "execution_count": 1,
   "metadata": {},
   "outputs": [
    {
     "name": "stdout",
     "output_type": "stream",
     "text": [
      "1\n",
      "2\n",
      "3\n",
      "4\n",
      "5\n",
      "6\n",
      "7\n",
      "8\n"
     ]
    }
   ],
   "source": [
    "\n",
    "from collections.abc import Iterable\n",
    "def flatten(items, ignore_types=(str, bytes)):   \n",
    "    for x in items:         \n",
    "        if isinstance(x, Iterable) and not isinstance(x, ignore_types):\n",
    "            yield from flatten(x)        \n",
    "        else:\n",
    "            yield x \n",
    "                \n",
    "items = [1, 2, [3, 4, [5, 6], 7], 8] \n",
    "# Produces 1 2 3 4 5 6 7 8 \n",
    "for x in flatten(items):\n",
    "    print(x)"
   ]
  },
  {
   "cell_type": "markdown",
   "metadata": {},
   "source": [
    "在上述代码中，isinstance(x, Iterable)简单地检查是否有某个元素是可迭代的。如果确实有，那么就用yield from将这个可迭代对象作为一种子例程进行递归，将它所有的值都产生出来。最后得到的结果就是一个没有嵌套的单值序列。"
   ]
  },
  {
   "cell_type": "markdown",
   "metadata": {},
   "source": [
    "代码中额外的参数ignore_types和对not isinstance(x, ignore_types)的检查是为了避免将字符串和字节串解释为可迭代对象，进而将它们展开为单独的一个个字符。这使得嵌套型的字符串列表能够以大多数人所期望的方式工作。示例如下："
   ]
  },
  {
   "cell_type": "code",
   "execution_count": 3,
   "metadata": {},
   "outputs": [
    {
     "name": "stdout",
     "output_type": "stream",
     "text": [
      "Dave\n",
      "Paula\n",
      "Thomas\n",
      "Lewis\n"
     ]
    }
   ],
   "source": [
    "tems = ['Dave', 'Paula', ['Thomas', 'Lewis']]\n",
    "for x in flatten(tems): \n",
    "    print(x) "
   ]
  },
  {
   "cell_type": "markdown",
   "metadata": {},
   "source": [
    "如果想编写生成器用来把其他的生成器当做子例程调用，yield from是个不错的快捷方式。如果不这么用，就需要编写有额外for循环的代码，比如这样："
   ]
  },
  {
   "cell_type": "code",
   "execution_count": 10,
   "metadata": {},
   "outputs": [
    {
     "name": "stdout",
     "output_type": "stream",
     "text": [
      "1\n",
      "2\n",
      "3\n",
      "4\n",
      "5\n",
      "6\n",
      "7\n",
      "8\n"
     ]
    }
   ],
   "source": [
    "\n",
    "def flatten1(items, ignore_types=(str, bytes)): \n",
    "    for x in items: \n",
    "        if isinstance(x, Iterable) and not isinstance(x, ignore_types):\n",
    "            for i in flatten1(x):\n",
    "                yield i \n",
    "        else: \n",
    "            yield x \n",
    "\n",
    "items = [1, 2, [3, 4, [5, 6], 7], 8] \n",
    "\n",
    "for i in flatten1(items):\n",
    "    print(i)\n"
   ]
  },
  {
   "cell_type": "markdown",
   "metadata": {},
   "source": [
    "尽管只是个小小的改变，但是使用yield from语句感觉更好，也使得代码变得更加清晰。"
   ]
  },
  {
   "cell_type": "markdown",
   "metadata": {},
   "source": [
    "前面提到，对字符串和字节串的额外检查是为了避免将这些类型的对象展开为单独的字符。如果还有其他类型是不想要展开的，可以为ignore_types参数提供不同的值来确定。"
   ]
  },
  {
   "cell_type": "markdown",
   "metadata": {},
   "source": [
    "最后应该要提到的是，yield  from在涉及协程（coroutine）和基于生成器的并发型高级程序中有着更加重要的作用。请参见12.12节中的另一个示例。"
   ]
  }
 ],
 "metadata": {
  "interpreter": {
   "hash": "9e68ebf596df7713ab296bba418491aae41f185aff501f4839864b40868f87cf"
  },
  "kernelspec": {
   "display_name": "Python 3.9.12 64-bit (windows store)",
   "language": "python",
   "name": "python3"
  },
  "language_info": {
   "codemirror_mode": {
    "name": "ipython",
    "version": 3
   },
   "file_extension": ".py",
   "mimetype": "text/x-python",
   "name": "python",
   "nbconvert_exporter": "python",
   "pygments_lexer": "ipython3",
   "version": "3.9.12"
  },
  "orig_nbformat": 4
 },
 "nbformat": 4,
 "nbformat_minor": 2
}
