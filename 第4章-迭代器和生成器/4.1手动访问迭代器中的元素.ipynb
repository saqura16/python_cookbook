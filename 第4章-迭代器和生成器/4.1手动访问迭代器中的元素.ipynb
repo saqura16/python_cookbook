{
 "cells": [
  {
   "cell_type": "markdown",
   "metadata": {},
   "source": [
    "##### 问题:\n",
    "我们需要处理某个可迭代对象中的元素，但是基于某种原因不能也不想使用for循环。"
   ]
  },
  {
   "cell_type": "markdown",
   "metadata": {},
   "source": [
    "##### 解决方案:\n",
    "要手动访问可迭代对象中的元素，可以使用next()函数，然后自己编写代码来捕获StopIteration异常。例如，下面这个例子采用手工方式从文件中读取文本行"
   ]
  },
  {
   "cell_type": "code",
   "execution_count": 20,
   "metadata": {},
   "outputs": [
    {
     "name": "stdout",
     "output_type": "stream",
     "text": [
      "1\n",
      "2\n",
      "3\n",
      "4\n",
      "5\n",
      "6\n",
      "7"
     ]
    }
   ],
   "source": [
    "with open('4.1.txt') as f:     \n",
    "    try:         \n",
    "        while True:\n",
    "            line = next(f)\n",
    "            print(line, end='')     \n",
    "    except StopIteration:         \n",
    "        pass"
   ]
  },
  {
   "cell_type": "markdown",
   "metadata": {},
   "source": [
    "一般来说，StopIteration异常是用来通知我们迭代结束的。但是，如果是手动使用next()（就像例子中那样），也可以命令它返回一个结束值，比如说None。示例如下："
   ]
  },
  {
   "cell_type": "code",
   "execution_count": 21,
   "metadata": {},
   "outputs": [
    {
     "name": "stdout",
     "output_type": "stream",
     "text": [
      "1\n",
      "2\n",
      "3\n",
      "4\n",
      "5\n",
      "6\n",
      "7"
     ]
    }
   ],
   "source": [
    "with open('4.1.txt') as f:\n",
    "    while True: \n",
    "        line = next(f, None)\n",
    "        if line is None:\n",
    "            break\n",
    "        print(line, end='')\n"
   ]
  },
  {
   "cell_type": "markdown",
   "metadata": {},
   "source": [
    "大多数情况下，我们会用for语句来访问可迭代对象中的元素。但是，偶尔也会碰到需要对底层迭代机制做更精细控制的情况。因此，了解迭代时实际发生了些什么是很有帮助的."
   ]
  },
  {
   "cell_type": "markdown",
   "metadata": {},
   "source": [
    "下面的交互式例子对迭代时发生的基本过程做了解释说明："
   ]
  },
  {
   "cell_type": "code",
   "execution_count": 23,
   "metadata": {},
   "outputs": [
    {
     "name": "stdout",
     "output_type": "stream",
     "text": [
      "1\n",
      "2\n",
      "3\n"
     ]
    }
   ],
   "source": [
    "items = [1, 2, 3]\n",
    "# Get the iterator\n",
    "it = iter(items)\n",
    "# Run the iterator \n",
    "print(next(it)) \n",
    "print(next(it))\n",
    "print(next(it))\n",
    "#print(next(it))  #报错！"
   ]
  },
  {
   "cell_type": "markdown",
   "metadata": {},
   "source": [
    "本章后面的示例将对迭代技术进行扩展，因此假定读者对基本的迭代协议已有所了解。请确保将这第一个例子深深刻在脑海里。"
   ]
  },
  {
   "cell_type": "markdown",
   "metadata": {},
   "source": [
    "用for访问迭代器，注意迭代器只能使用一次！"
   ]
  },
  {
   "cell_type": "code",
   "execution_count": 24,
   "metadata": {},
   "outputs": [
    {
     "name": "stdout",
     "output_type": "stream",
     "text": [
      "1\n",
      "2\n",
      "3\n"
     ]
    }
   ],
   "source": [
    "items = [1, 2, 3]\n",
    "# Get the iterator\n",
    "it = iter(items)\n",
    "for i in it:\n",
    "    print(i)"
   ]
  }
 ],
 "metadata": {
  "interpreter": {
   "hash": "9e68ebf596df7713ab296bba418491aae41f185aff501f4839864b40868f87cf"
  },
  "kernelspec": {
   "display_name": "Python 3.9.12 64-bit (windows store)",
   "language": "python",
   "name": "python3"
  },
  "language_info": {
   "codemirror_mode": {
    "name": "ipython",
    "version": 3
   },
   "file_extension": ".py",
   "mimetype": "text/x-python",
   "name": "python",
   "nbconvert_exporter": "python",
   "pygments_lexer": "ipython3",
   "version": "3.9.12"
  },
  "orig_nbformat": 4
 },
 "nbformat": 4,
 "nbformat_minor": 2
}
