{
 "cells": [
  {
   "cell_type": "markdown",
   "metadata": {},
   "source": [
    "##### 问题:\n",
    "我们正在构建一个自定义的对象，希望它可以支持迭代操作，但是也希望能有一种简单的方式来实现迭代协议"
   ]
  },
  {
   "cell_type": "markdown",
   "metadata": {},
   "source": [
    "\n",
    "##### 解决方案:\n",
    "目前来看，要在对象上实现可迭代功能，最简单的方式就是使用生成器函数。在4.2节中，我们用Node类来表示树结构。也许你想实现一个迭代器能够以深度优先的模式遍历树的节点。下面是可能的做法："
   ]
  },
  {
   "cell_type": "code",
   "execution_count": 3,
   "metadata": {},
   "outputs": [
    {
     "name": "stdout",
     "output_type": "stream",
     "text": [
      "Node(0)\n",
      "Node(1)\n",
      "Node(3)\n",
      "Node(4)\n",
      "Node(2)\n",
      "Node(5)\n"
     ]
    }
   ],
   "source": [
    "class Node:\n",
    "    def __init__(self, value):\n",
    "        self._value = value \n",
    "        self._children = [] \n",
    "    def __repr__(self):\n",
    "        return 'Node({!r})'.format(self._value) \n",
    "    def add_child(self, node):\n",
    "        self._children.append(node) \n",
    "    def __iter__(self):\n",
    "        return iter(self._children) \n",
    "    def depth_first(self):\n",
    "        yield self\n",
    "        for c in self:\n",
    "            yield from c.depth_first() \n",
    "# Example \n",
    "if __name__ == '__main__':\n",
    "    root = Node(0)\n",
    "    child1 = Node(1)\n",
    "    child2 = Node(2) \n",
    "    root.add_child(child1)\n",
    "    root.add_child(child2)\n",
    "    child1.add_child(Node(3))\n",
    "    child1.add_child(Node(4))\n",
    "    child2.add_child(Node(5))\n",
    "    for ch in root.depth_first():\n",
    "        print(ch)\n",
    "    # Outputs Node(0), Node(1), Node(3), Node(4), Node(2), Node(5)\n"
   ]
  }
 ],
 "metadata": {
  "interpreter": {
   "hash": "9e68ebf596df7713ab296bba418491aae41f185aff501f4839864b40868f87cf"
  },
  "kernelspec": {
   "display_name": "Python 3.9.12 64-bit (windows store)",
   "language": "python",
   "name": "python3"
  },
  "language_info": {
   "codemirror_mode": {
    "name": "ipython",
    "version": 3
   },
   "file_extension": ".py",
   "mimetype": "text/x-python",
   "name": "python",
   "nbconvert_exporter": "python",
   "pygments_lexer": "ipython3",
   "version": "3.9.12"
  },
  "orig_nbformat": 4
 },
 "nbformat": 4,
 "nbformat_minor": 2
}
