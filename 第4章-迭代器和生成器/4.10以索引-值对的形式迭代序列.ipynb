{
 "cells": [
  {
   "cell_type": "markdown",
   "metadata": {},
   "source": [
    "##### 问题:\n",
    "我们想迭代一个序列，但是又想记录下序列中当前处理到的元素索引。"
   ]
  },
  {
   "cell_type": "markdown",
   "metadata": {},
   "source": [
    "##### 解决方案:\n",
    "内建的enumerate()函数可以非常漂亮地解决这个问题："
   ]
  },
  {
   "cell_type": "code",
   "execution_count": 79,
   "metadata": {},
   "outputs": [
    {
     "name": "stdout",
     "output_type": "stream",
     "text": [
      "0 a\n",
      "1 b\n",
      "2 c\n"
     ]
    }
   ],
   "source": [
    "my_list = ['a', 'b', 'c'] \n",
    "for idx, val in enumerate(my_list): \n",
    "    print(idx, val)"
   ]
  },
  {
   "cell_type": "markdown",
   "metadata": {},
   "source": [
    "如果要打印出规范的行号（这种情况下一般是从1开始而不是0），可以传入一个start参数作为起始索引："
   ]
  },
  {
   "cell_type": "code",
   "execution_count": 80,
   "metadata": {},
   "outputs": [
    {
     "name": "stdout",
     "output_type": "stream",
     "text": [
      "1 a\n",
      "2 b\n",
      "3 c\n"
     ]
    }
   ],
   "source": [
    "my_list = ['a', 'b', 'c']\n",
    "for idx, val in enumerate(my_list, 1): \n",
    "    print(idx, val)"
   ]
  },
  {
   "cell_type": "markdown",
   "metadata": {},
   "source": [
    "这种情况特别适合于跟踪记录文件中的行号，当想在错误信息中加上行号时就特别有用了。示例如下："
   ]
  },
  {
   "cell_type": "code",
   "execution_count": 81,
   "metadata": {},
   "outputs": [],
   "source": [
    "def parse_data(filename):    \n",
    "    with open(filename, 'rt') as f:\n",
    "        for lineno, line in enumerate(f, 1):\n",
    "            fields = line.split()\n",
    "            try:\n",
    "                count = int(fields[1])\n",
    "                #代码不全，自己补充\n",
    "            except ValueError as e:\n",
    "                print('Line {}: Parse error: {}'.format(lineno, e))\n"
   ]
  },
  {
   "cell_type": "markdown",
   "metadata": {},
   "source": [
    "enumerate()可以方便地用来跟踪记录特定的值出现在列表中的偏移位置。比如，如果想将文件中的单词和它们所出现的行之间建立映射关系，则可以通过使用enumerate()来将每个单词映射到文件行相应的偏移位置来实现。示例如下：\n"
   ]
  },
  {
   "cell_type": "code",
   "execution_count": 82,
   "metadata": {},
   "outputs": [
    {
     "name": "stdout",
     "output_type": "stream",
     "text": [
      "defaultdict(<class 'list'>, {'hello': [0, 2], 'world': [4, 6]})\n"
     ]
    }
   ],
   "source": [
    "\n",
    "from collections import defaultdict\n",
    "word_summary = defaultdict(list) \n",
    "with open('4.10.txt', 'r') as f:\n",
    "    lines = f.readlines() \n",
    "for idx, line in enumerate(lines):\n",
    "# Create a list of words in current line\n",
    "    words = [w.strip().lower() for w in line.split()]\n",
    "    for word in words:\n",
    "        word_summary[word].append(idx)\n",
    "\n",
    "print(word_summary)"
   ]
  },
  {
   "cell_type": "markdown",
   "metadata": {},
   "source": [
    "理完文件之后，如果打印word_summary，将得到一个字典（准确地说是defaultdict），而且每个单词都是字典的键。每个单词键所对应的值就是由行号组成的列表，表示这个单词曾出现过的所有行。如果单词在一行之中出现过2次，那么这个行号就会记录2次，这使得我们可以识别出文本中各种简单的韵律。"
   ]
  },
  {
   "cell_type": "markdown",
   "metadata": {},
   "source": []
  },
  {
   "cell_type": "markdown",
   "metadata": {},
   "source": [
    "对于那些可能想自己保存一个计数器的场景，enumerate()函数是个不错的替代选择，而且会更加便捷。我们可以像这样编写代码："
   ]
  },
  {
   "cell_type": "code",
   "execution_count": null,
   "metadata": {},
   "outputs": [],
   "source": [
    "# for lineno, line in enumerate(f):     # Process line "
   ]
  },
  {
   "cell_type": "markdown",
   "metadata": {},
   "source": [
    "enumerate()的返回值是一个enumerate对象实例，它是一个迭代器，可返回连续的元组。元组由一个索引值和对传入的序列调用next()而得到的值组成。"
   ]
  },
  {
   "cell_type": "markdown",
   "metadata": {},
   "source": [
    "尽管只是个很小的问题，这里还是值得提一下。有时候，  当在元组序列上应用enumerate()时，如果元组本身也被分解展开的话就会出错。要正确处理元组序列，必须像这样编写代码："
   ]
  },
  {
   "cell_type": "code",
   "execution_count": 85,
   "metadata": {},
   "outputs": [
    {
     "name": "stdout",
     "output_type": "stream",
     "text": [
      "1 (1, 2)\n",
      "2 (3, 4)\n",
      "3 (5, 6)\n",
      "4 (7, 8)\n"
     ]
    }
   ],
   "source": [
    "data = [ (1, 2), (3, 4), (5, 6), (7, 8) ]\n",
    "# Correct! \n",
    "for n, (x, y) in enumerate(data,1): \n",
    "    print(n,(x,y))\n",
    "\n",
    "# Error! \n",
    "# for n, x, y in enumerate(data):"
   ]
  }
 ],
 "metadata": {
  "interpreter": {
   "hash": "9e68ebf596df7713ab296bba418491aae41f185aff501f4839864b40868f87cf"
  },
  "kernelspec": {
   "display_name": "Python 3.9.12 64-bit (windows store)",
   "language": "python",
   "name": "python3"
  },
  "language_info": {
   "codemirror_mode": {
    "name": "ipython",
    "version": 3
   },
   "file_extension": ".py",
   "mimetype": "text/x-python",
   "name": "python",
   "nbconvert_exporter": "python",
   "pygments_lexer": "ipython3",
   "version": "3.9.12"
  },
  "orig_nbformat": 4
 },
 "nbformat": 4,
 "nbformat_minor": 2
}
