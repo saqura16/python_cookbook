{
 "cells": [
  {
   "cell_type": "markdown",
   "metadata": {},
   "source": [
    "##### 问题:\n",
    "我们想实现一个自定义的迭代模式，使其区别于常见的内建函数（即range()、reversed ()等）。\n"
   ]
  },
  {
   "cell_type": "markdown",
   "metadata": {},
   "source": [
    "##### 解决方案:\n",
    "如果想实现一种新的迭代模式，可使用生成器函数来定义。这里有一个生成器可产生某个范围内的浮点数："
   ]
  },
  {
   "cell_type": "code",
   "execution_count": 2,
   "metadata": {},
   "outputs": [],
   "source": [
    "def frange(start, stop, increment):\n",
    "    x = start\n",
    "    while x < stop:\n",
    "        yield x\n",
    "        x += increment"
   ]
  },
  {
   "cell_type": "markdown",
   "metadata": {},
   "source": [
    "要使用这个函数，可以使用for循环对其迭代，或者通过其他可以访问可迭代对象中元素的函数（例如sum()、list()等）来使用。示例如下："
   ]
  },
  {
   "cell_type": "code",
   "execution_count": 3,
   "metadata": {},
   "outputs": [
    {
     "name": "stdout",
     "output_type": "stream",
     "text": [
      "0\n",
      "0.5\n",
      "1.0\n",
      "1.5\n",
      "2.0\n",
      "2.5\n",
      "3.0\n",
      "3.5\n"
     ]
    }
   ],
   "source": [
    "for n in frange(0, 4, 0.5):\n",
    "    print(n)"
   ]
  },
  {
   "cell_type": "code",
   "execution_count": 4,
   "metadata": {},
   "outputs": [
    {
     "data": {
      "text/plain": [
       "[0, 0.125, 0.25, 0.375, 0.5, 0.625, 0.75, 0.875]"
      ]
     },
     "execution_count": 4,
     "metadata": {},
     "output_type": "execute_result"
    }
   ],
   "source": [
    "list(frange(0, 1, 0.125))"
   ]
  },
  {
   "cell_type": "markdown",
   "metadata": {},
   "source": [
    "函数中只要出现了yield语句就会将其转变成一个生成器。与普通函数不同，生成器只会在响应迭代操作时才运行。这里有一个实验性的例子，我们可以试试看，以了解这样的函数的底层机制究竟是如何运转的："
   ]
  },
  {
   "cell_type": "code",
   "execution_count": 9,
   "metadata": {},
   "outputs": [
    {
     "name": "stdout",
     "output_type": "stream",
     "text": [
      "<generator object countdown at 0x000001D47659DC10>\n",
      "\n",
      "Starting to count from 3\n",
      "3\n",
      "\n",
      "2\n",
      "\n",
      "1\n",
      "\n",
      "Done!\n"
     ]
    },
    {
     "ename": "StopIteration",
     "evalue": "",
     "output_type": "error",
     "traceback": [
      "\u001b[1;31m---------------------------------------------------------------------------\u001b[0m",
      "\u001b[1;31mStopIteration\u001b[0m                             Traceback (most recent call last)",
      "\u001b[1;32mc:\\Users\\Windows\\Desktop\\python\\py_cookbook\\第4章-迭代器和生成器\\4.3用生成器创建新的迭代模式.ipynb Cell 8'\u001b[0m in \u001b[0;36m<module>\u001b[1;34m\u001b[0m\n\u001b[0;32m     <a href='vscode-notebook-cell:/c%3A/Users/Windows/Desktop/python/py_cookbook/%E7%AC%AC4%E7%AB%A0-%E8%BF%AD%E4%BB%A3%E5%99%A8%E5%92%8C%E7%94%9F%E6%88%90%E5%99%A8/4.3%E7%94%A8%E7%94%9F%E6%88%90%E5%99%A8%E5%88%9B%E5%BB%BA%E6%96%B0%E7%9A%84%E8%BF%AD%E4%BB%A3%E6%A8%A1%E5%BC%8F.ipynb#ch0000009?line=18'>19</a>\u001b[0m \u001b[39mprint\u001b[39m(\u001b[39mnext\u001b[39m(c)) \u001b[39m# Run to next yield \u001b[39;00m\n\u001b[0;32m     <a href='vscode-notebook-cell:/c%3A/Users/Windows/Desktop/python/py_cookbook/%E7%AC%AC4%E7%AB%A0-%E8%BF%AD%E4%BB%A3%E5%99%A8%E5%92%8C%E7%94%9F%E6%88%90%E5%99%A8/4.3%E7%94%A8%E7%94%9F%E6%88%90%E5%99%A8%E5%88%9B%E5%BB%BA%E6%96%B0%E7%9A%84%E8%BF%AD%E4%BB%A3%E6%A8%A1%E5%BC%8F.ipynb#ch0000009?line=20'>21</a>\u001b[0m \u001b[39mprint\u001b[39m()\n\u001b[1;32m---> <a href='vscode-notebook-cell:/c%3A/Users/Windows/Desktop/python/py_cookbook/%E7%AC%AC4%E7%AB%A0-%E8%BF%AD%E4%BB%A3%E5%99%A8%E5%92%8C%E7%94%9F%E6%88%90%E5%99%A8/4.3%E7%94%A8%E7%94%9F%E6%88%90%E5%99%A8%E5%88%9B%E5%BB%BA%E6%96%B0%E7%9A%84%E8%BF%AD%E4%BB%A3%E6%A8%A1%E5%BC%8F.ipynb#ch0000009?line=21'>22</a>\u001b[0m \u001b[39mprint\u001b[39m(\u001b[39mnext\u001b[39;49m(c))\n",
      "\u001b[1;31mStopIteration\u001b[0m: "
     ]
    }
   ],
   "source": [
    "def countdown(n): \n",
    "    print('Starting to count from', n) \n",
    "    while n > 0: \n",
    "        yield n \n",
    "        n -= 1 \n",
    "    print('Done!')\n",
    "\n",
    "# Create the generator, notice no output appears\n",
    "c = countdown(3)\n",
    "print(c)\n",
    "print()\n",
    "\n",
    "print(next(c))\n",
    "\n",
    "print()\n",
    "print(next(c)) # Run to the next yield\n",
    "\n",
    "print()\n",
    "print(next(c)) # Run to next yield \n",
    "\n",
    "print()\n",
    "print(next(c)) # Run to next yield "
   ]
  },
  {
   "cell_type": "markdown",
   "metadata": {},
   "source": [
    "这里的核心特性是生成器函数只会在响应迭代过程中的“next”操作时才会运行。一旦生成器函数返回，迭代也就停止了。但是，通常用来处理迭代的for语句替我们处理了这些细节，因此一般情况下不必为此操心。"
   ]
  }
 ],
 "metadata": {
  "interpreter": {
   "hash": "9e68ebf596df7713ab296bba418491aae41f185aff501f4839864b40868f87cf"
  },
  "kernelspec": {
   "display_name": "Python 3.9.12 64-bit (windows store)",
   "language": "python",
   "name": "python3"
  },
  "language_info": {
   "codemirror_mode": {
    "name": "ipython",
    "version": 3
   },
   "file_extension": ".py",
   "mimetype": "text/x-python",
   "name": "python",
   "nbconvert_exporter": "python",
   "pygments_lexer": "ipython3",
   "version": "3.9.12"
  },
  "orig_nbformat": 4
 },
 "nbformat": 4,
 "nbformat_minor": 2
}
