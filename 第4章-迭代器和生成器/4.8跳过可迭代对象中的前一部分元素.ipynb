{
 "cells": [
  {
   "cell_type": "markdown",
   "metadata": {},
   "source": [
    "##### 问题:\n",
    "我们想对某个可迭代对象做迭代处理，但是对于前面几个元素并不感兴趣，只想将它们丢弃掉。"
   ]
  },
  {
   "cell_type": "markdown",
   "metadata": {},
   "source": [
    "##### 解决方案:\n",
    "itertools模块中有一些函数可用来解决这个问题。第一个是itertools.dropwhile()函数。要使用它，只要提供一个函数和一个可迭代对象即可。该函数返回的迭代器会丢弃掉序列中的前面几个元素，只要它们在所提供的函数中返回True即可①。这之后，序列中剩余的全部元素都会产生出来。"
   ]
  },
  {
   "cell_type": "code",
   "execution_count": 33,
   "metadata": {},
   "outputs": [
    {
     "name": "stdout",
     "output_type": "stream",
     "text": [
      "### 11\n",
      "### 22\n",
      "python1\n",
      "python2\n",
      "python3\n",
      "## 娉ㄩ噴\n",
      "python4"
     ]
    }
   ],
   "source": [
    "with open('4.1.txt') as f: \n",
    "    for line in f: \n",
    "        print(line, end='')"
   ]
  },
  {
   "cell_type": "markdown",
   "metadata": {},
   "source": [
    "如果想跳过所有的初始注释行，这里有一种方法："
   ]
  },
  {
   "cell_type": "code",
   "execution_count": 34,
   "metadata": {},
   "outputs": [
    {
     "name": "stdout",
     "output_type": "stream",
     "text": [
      "python1\n",
      "python2\n",
      "python3\n",
      "## 注释\n",
      "python4"
     ]
    }
   ],
   "source": [
    "from itertools import dropwhile \n",
    "with open('4.1.txt',encoding='utf-8') as f:\n",
    "    for line in dropwhile(lambda line: line.startswith('#'), f):\n",
    "        print(line, end='')"
   ]
  },
  {
   "cell_type": "markdown",
   "metadata": {},
   "source": [
    "这个例子是根据测试函数的结果来跳过前面的元素。如果恰好知道要跳过多少个元素，那么可以使用itertools.islice()。示例如下:"
   ]
  },
  {
   "cell_type": "code",
   "execution_count": 35,
   "metadata": {},
   "outputs": [
    {
     "name": "stdout",
     "output_type": "stream",
     "text": [
      "1\n",
      "4\n",
      "10\n",
      "15\n"
     ]
    }
   ],
   "source": [
    "from itertools import islice \n",
    "items = ['a', 'b', 'c', 1, 4, 10, 15]\n",
    "for x in islice(items, 3, None): \n",
    "    print(x)"
   ]
  },
  {
   "cell_type": "markdown",
   "metadata": {},
   "source": [
    "在这个例子中，islice()的最后一个参数None用来表示想要前3个元素之外的所有元素，而不是只要前3个元素（即，表示切片[3:]，而不是[:3]）"
   ]
  },
  {
   "cell_type": "code",
   "execution_count": 36,
   "metadata": {},
   "outputs": [
    {
     "name": "stdout",
     "output_type": "stream",
     "text": [
      "a\n",
      "b\n",
      "c\n"
     ]
    }
   ],
   "source": [
    "from itertools import islice \n",
    "items = ['a', 'b', 'c', 1, 4, 10, 15]\n",
    "for x in islice(items, None, 3): \n",
    "    print(x)"
   ]
  },
  {
   "cell_type": "markdown",
   "metadata": {},
   "source": [
    "在这个例子中，islice()的第一个参数None用来表示想要前3个元素，而不是只要前3个元素（即，表示切片[:3]）"
   ]
  },
  {
   "cell_type": "code",
   "execution_count": 37,
   "metadata": {},
   "outputs": [
    {
     "name": "stdout",
     "output_type": "stream",
     "text": [
      "a\n",
      "c\n",
      "4\n",
      "15\n"
     ]
    }
   ],
   "source": [
    "from itertools import islice \n",
    "items = ['a', 'b', 'c', 1, 4, 10, 15]\n",
    "for x in islice(items, None, None,2): \n",
    "    print(x)"
   ]
  },
  {
   "cell_type": "markdown",
   "metadata": {},
   "source": [
    "第四个参数是步长！"
   ]
  },
  {
   "cell_type": "markdown",
   "metadata": {},
   "source": [
    "只丢弃可迭代对象中的前一部分元素和对全部元素进行过滤也是有所区别的。例如，本节第一个示例也许可以重写为如下代码："
   ]
  },
  {
   "cell_type": "code",
   "execution_count": 38,
   "metadata": {},
   "outputs": [
    {
     "name": "stdout",
     "output_type": "stream",
     "text": [
      "python1\n",
      "python2\n",
      "python3\n",
      "python4"
     ]
    }
   ],
   "source": [
    "with open('4.1.txt') as f:\n",
    "    lines = (line for line in f if not line.startswith('#'))\n",
    "    for line in lines:\n",
    "        print(line, end='')"
   ]
  },
  {
   "cell_type": "markdown",
   "metadata": {},
   "source": [
    "这么做显然会丢弃开始部分的注释行，但这同样会丢弃整个文件中出现的所有注释行。而本节开始给出的解决方案只会丢弃元素，直到有某个元素不满足测试函数为止。那之后的所有剩余元素全部会不经过筛选而直接返回。"
   ]
  }
 ],
 "metadata": {
  "interpreter": {
   "hash": "9e68ebf596df7713ab296bba418491aae41f185aff501f4839864b40868f87cf"
  },
  "kernelspec": {
   "display_name": "Python 3.9.12 64-bit (windows store)",
   "language": "python",
   "name": "python3"
  },
  "language_info": {
   "codemirror_mode": {
    "name": "ipython",
    "version": 3
   },
   "file_extension": ".py",
   "mimetype": "text/x-python",
   "name": "python",
   "nbconvert_exporter": "python",
   "pygments_lexer": "ipython3",
   "version": "3.9.12"
  },
  "orig_nbformat": 4
 },
 "nbformat": 4,
 "nbformat_minor": 2
}
