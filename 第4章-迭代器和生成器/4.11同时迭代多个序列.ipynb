{
 "cells": [
  {
   "cell_type": "markdown",
   "metadata": {},
   "source": [
    "##### 问题:\n",
    "我们想要迭代的元素包含在多个序列中，我们想同时对它们进行迭代。"
   ]
  },
  {
   "cell_type": "markdown",
   "metadata": {},
   "source": [
    "##### 解决方案:\n",
    "可以使用zip()函数来同时迭代多个序列。示例如下："
   ]
  },
  {
   "cell_type": "code",
   "execution_count": 15,
   "metadata": {},
   "outputs": [
    {
     "name": "stdout",
     "output_type": "stream",
     "text": [
      "1 101\n",
      "5 78\n",
      "4 37\n",
      "2 15\n",
      "10 62\n",
      "7 99\n"
     ]
    }
   ],
   "source": [
    "xpts = [1, 5, 4, 2, 10, 7] \n",
    "ypts = [101, 78, 37, 15, 62, 99] \n",
    "for x, y in zip(xpts, ypts): \n",
    "    print(x,y)"
   ]
  },
  {
   "cell_type": "markdown",
   "metadata": {},
   "source": [
    "zip(a, b)的工作原理是创建出一个迭代器，该迭代器可产生出元组(x, y)，这里的x取自序列a，而y取自序列b。当其中某个输入序列中没有元素可以继续迭代时，整个迭代过程结束。因此，整个迭代的长度和其中最短的输入序列长度相同。示例如下："
   ]
  },
  {
   "cell_type": "code",
   "execution_count": 16,
   "metadata": {},
   "outputs": [
    {
     "name": "stdout",
     "output_type": "stream",
     "text": [
      "(1, 'w')\n",
      "(2, 'x')\n",
      "(3, 'y')\n"
     ]
    }
   ],
   "source": [
    "a = [1, 2, 3] \n",
    "b = ['w', 'x', 'y', 'z'] \n",
    "for i in zip(a,b): \n",
    "    print(i)"
   ]
  },
  {
   "cell_type": "markdown",
   "metadata": {},
   "source": [
    "如果这种行为不是所需要的，可以使用itertools.zip_longest()来替代。示例如下："
   ]
  },
  {
   "cell_type": "code",
   "execution_count": 17,
   "metadata": {},
   "outputs": [
    {
     "name": "stdout",
     "output_type": "stream",
     "text": [
      "(1, 'w')\n",
      "(2, 'x')\n",
      "(3, 'y')\n",
      "(None, 'z')\n"
     ]
    }
   ],
   "source": [
    "from itertools import zip_longest \n",
    "for i in zip_longest(a,b): \n",
    "   print(i)"
   ]
  },
  {
   "cell_type": "code",
   "execution_count": 18,
   "metadata": {},
   "outputs": [
    {
     "name": "stdout",
     "output_type": "stream",
     "text": [
      "(1, 'w')\n",
      "(2, 'x')\n",
      "(3, 'y')\n",
      "(0, 'z')\n"
     ]
    }
   ],
   "source": [
    "for i in zip_longest(a, b, fillvalue=0):\n",
    "    print(i)"
   ]
  },
  {
   "cell_type": "markdown",
   "metadata": {},
   "source": [
    "zip()通常用在需要将不同的数据配对在一起时。例如，假设有一列标题和一列对应的值，示例如下:"
   ]
  },
  {
   "cell_type": "code",
   "execution_count": 19,
   "metadata": {},
   "outputs": [],
   "source": [
    "headers = ['name', 'shares', 'price'] \n",
    "values = ['ACME', 100, 490.1]\n"
   ]
  },
  {
   "cell_type": "markdown",
   "metadata": {},
   "source": [
    "使用zip()，可以将这些值配对在一起来构建一个字典，就像这样："
   ]
  },
  {
   "cell_type": "code",
   "execution_count": 20,
   "metadata": {},
   "outputs": [],
   "source": [
    "s = dict(zip(headers,values))"
   ]
  },
  {
   "cell_type": "markdown",
   "metadata": {},
   "source": [
    "此外，如果试着产生输出的话，可以编写这样的代码："
   ]
  },
  {
   "cell_type": "code",
   "execution_count": 21,
   "metadata": {},
   "outputs": [
    {
     "name": "stdout",
     "output_type": "stream",
     "text": [
      "name = ACME\n",
      "shares = 100\n",
      "price = 490.1\n"
     ]
    }
   ],
   "source": [
    "for name, val in zip(headers, values):\n",
    "    print(name, '=', val)"
   ]
  },
  {
   "cell_type": "markdown",
   "metadata": {},
   "source": [
    "尽管不常见，但是zip()可以接受多于2个序列作为输入。在这种情况下，得到的结果中元组里的元素数量和输入序列的数量相同。示例如下："
   ]
  },
  {
   "cell_type": "code",
   "execution_count": 22,
   "metadata": {},
   "outputs": [
    {
     "name": "stdout",
     "output_type": "stream",
     "text": [
      "(1, 10, 'x')\n",
      "(2, 11, 'y')\n",
      "(3, 12, 'z')\n"
     ]
    }
   ],
   "source": [
    "a = [1, 2, 3] \n",
    "b = [10, 11, 12] \n",
    "c = ['x','y','z'] \n",
    "for i in zip(a, b, c): \n",
    "    print(i)"
   ]
  },
  {
   "cell_type": "markdown",
   "metadata": {},
   "source": [
    "最后需要重点强调的是，zip()创建出的结果只是一个迭代器。如果需要将配对的数据保存为列表，那么请使用list()函数。示例如下："
   ]
  },
  {
   "cell_type": "code",
   "execution_count": 23,
   "metadata": {},
   "outputs": [
    {
     "data": {
      "text/plain": [
       "<zip at 0x26741a94ec0>"
      ]
     },
     "execution_count": 23,
     "metadata": {},
     "output_type": "execute_result"
    }
   ],
   "source": [
    "zip(a, b)"
   ]
  },
  {
   "cell_type": "code",
   "execution_count": 24,
   "metadata": {},
   "outputs": [
    {
     "data": {
      "text/plain": [
       "[(1, 10), (2, 11), (3, 12)]"
      ]
     },
     "execution_count": 24,
     "metadata": {},
     "output_type": "execute_result"
    }
   ],
   "source": [
    "list(zip(a, b))"
   ]
  }
 ],
 "metadata": {
  "interpreter": {
   "hash": "9e68ebf596df7713ab296bba418491aae41f185aff501f4839864b40868f87cf"
  },
  "kernelspec": {
   "display_name": "Python 3.9.12 64-bit (windows store)",
   "language": "python",
   "name": "python3"
  },
  "language_info": {
   "codemirror_mode": {
    "name": "ipython",
    "version": 3
   },
   "file_extension": ".py",
   "mimetype": "text/x-python",
   "name": "python",
   "nbconvert_exporter": "python",
   "pygments_lexer": "ipython3",
   "version": "3.9.12"
  },
  "orig_nbformat": 4
 },
 "nbformat": 4,
 "nbformat_minor": 2
}
