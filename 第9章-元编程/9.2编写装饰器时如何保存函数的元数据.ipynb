{
 "cells": [
  {
   "cell_type": "markdown",
   "metadata": {},
   "source": [
    "##### 问题:\n",
    "我们已经编写好了一个装饰器，但是当将它用在一个函数上时，一些重要的元数据比\n",
    "如函数名、文档字符串、函数注解以及调用签名都丢失了。"
   ]
  },
  {
   "cell_type": "markdown",
   "metadata": {},
   "source": [
    "##### 解决方案；\n",
    "每当定义一个装饰器时，应该总是记得为底层的包装函数添加 functools 库中的@wraps\n",
    "装饰器。示例如下："
   ]
  },
  {
   "cell_type": "code",
   "execution_count": 65,
   "metadata": {},
   "outputs": [],
   "source": [
    "import time\n",
    "from functools import wraps\n",
    "def timethis(func):\n",
    "    @wraps(func)\n",
    "    def wrapper(*args, **kwargs):\n",
    "        start = time.time()\n",
    "        result = func(*args, **kwargs)\n",
    "        end = time.time()\n",
    "        print(func.__name__, end-start)\n",
    "        return result\n",
    "    return wrapper "
   ]
  },
  {
   "cell_type": "code",
   "execution_count": 66,
   "metadata": {},
   "outputs": [],
   "source": [
    "@timethis\n",
    "def countdown(n:int):\n",
    "    while n > 0:\n",
    "        n -= 1"
   ]
  },
  {
   "cell_type": "code",
   "execution_count": 67,
   "metadata": {},
   "outputs": [
    {
     "name": "stdout",
     "output_type": "stream",
     "text": [
      "countdown 0.004986763000488281\n",
      "countdown\n",
      "None\n",
      "{'n': <class 'int'>}\n"
     ]
    }
   ],
   "source": [
    "countdown(100000) \n",
    "print(countdown.__name__)\n",
    "print(countdown.__doc__)\n",
    "print(countdown.__annotations__)\n"
   ]
  },
  {
   "cell_type": "markdown",
   "metadata": {},
   "source": [
    "编写装饰器的一个重要部分就是拷贝装饰器的元数据。如果忘记使用@wraps，就会发\n",
    "现被包装的函数丢失了所有有用的信息。例如，如果忽略@wraps，上面这个例子中的\n",
    "元数据看起来就是这样的："
   ]
  },
  {
   "cell_type": "code",
   "execution_count": 68,
   "metadata": {},
   "outputs": [
    {
     "name": "stdout",
     "output_type": "stream",
     "text": [
      "countdown 0.004980564117431641\n",
      "wrapper\n",
      "None\n",
      "{}\n"
     ]
    }
   ],
   "source": [
    "import time\n",
    "from functools import wraps\n",
    "def timethis(func):\n",
    "    def wrapper(*args, **kwargs):\n",
    "        start = time.time()\n",
    "        result = func(*args, **kwargs)\n",
    "        end = time.time()\n",
    "        print(func.__name__, end-start)\n",
    "        return result\n",
    "    return wrapper\n",
    "@timethis\n",
    "def countdown(n:int):\n",
    "    while n > 0:\n",
    "        n-= 1 \n",
    "countdown(100000) \n",
    "print(countdown.__name__)\n",
    "print(countdown.__doc__)\n",
    "print(countdown.__annotations__)\n"
   ]
  },
  {
   "cell_type": "markdown",
   "metadata": {},
   "source": [
    "@wraps 装饰器的一个重要特性就是它可以通过__wrapped__属性来访问被包装的那个\n",
    "函数。例如，如果希望直接访问被包装的函数，则可以这样做："
   ]
  },
  {
   "cell_type": "code",
   "execution_count": 69,
   "metadata": {},
   "outputs": [
    {
     "name": "stdout",
     "output_type": "stream",
     "text": [
      "countdown 0.0\n"
     ]
    }
   ],
   "source": [
    "import time\n",
    "from functools import wraps\n",
    "def timethis(func):\n",
    "    @wraps(func)\n",
    "    def wrapper(*args, **kwargs):\n",
    "        start = time.time()\n",
    "        result = func(*args, **kwargs)\n",
    "        end = time.time()\n",
    "        print(func.__name__, end-start)\n",
    "        return result\n",
    "    return wrapper\n",
    "@timethis\n",
    "def countdown(n:int):\n",
    "    while n > 0:\n",
    "        n-= 1 \n",
    "countdown(1)\n",
    "countdown.__wrapped__(100000)"
   ]
  },
  {
   "cell_type": "markdown",
   "metadata": {},
   "source": [
    "__wrapped__属性的存在同样使得装饰器函数可以合适地将底层被包装函数的签名暴\n",
    "露出来。例如：(函数签名指的是函数的传入参数的类型)"
   ]
  },
  {
   "cell_type": "code",
   "execution_count": 70,
   "metadata": {},
   "outputs": [
    {
     "name": "stdout",
     "output_type": "stream",
     "text": [
      "(n: int)\n"
     ]
    }
   ],
   "source": [
    "from inspect import signature\n",
    "print(signature(countdown))"
   ]
  },
  {
   "cell_type": "markdown",
   "metadata": {},
   "source": [
    "常会提到的一个问题是如何让装饰器直接拷贝被包装的原始函数的调用签名（即，不\n",
    "使用*args 和**kwargs）。一般来说，如果不采用涉及生成代码字符串和 exec()的技巧，那\n",
    "么这很难实现。坦白地说，通常我们最好还是使用@wraps。这样可以依赖于一个事实，\n",
    "即，底层的函数签名可以通过访问__wrapped__属性来传递。有关函数签名的更多信息\n",
    "可以参阅 9.16 节。"
   ]
  }
 ],
 "metadata": {
  "interpreter": {
   "hash": "cf9b60c5a2fa413cd21cce5a70eb54d8233b7f3c2bf217096b02f2c4f88c6a2d"
  },
  "kernelspec": {
   "display_name": "Python 3.9.13 64-bit (windows store)",
   "language": "python",
   "name": "python3"
  },
  "language_info": {
   "codemirror_mode": {
    "name": "ipython",
    "version": 3
   },
   "file_extension": ".py",
   "mimetype": "text/x-python",
   "name": "python",
   "nbconvert_exporter": "python",
   "pygments_lexer": "ipython3",
   "version": "3.9.13"
  },
  "orig_nbformat": 4
 },
 "nbformat": 4,
 "nbformat_minor": 2
}
