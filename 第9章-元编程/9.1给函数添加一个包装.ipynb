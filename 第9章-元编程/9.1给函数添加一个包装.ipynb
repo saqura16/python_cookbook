{
 "cells": [
  {
   "cell_type": "markdown",
   "metadata": {},
   "source": [
    "##### 问题:\n",
    "我们想给函数加上一个包装层（wrapper layer）以添加额外的处理（例如，记录日志、\n",
    "计时统计）。"
   ]
  },
  {
   "cell_type": "markdown",
   "metadata": {},
   "source": [
    "##### 解决方案:\n",
    "如果需要用额外的代码对函数做包装，可以定义一个装饰器函数。示例如下："
   ]
  },
  {
   "cell_type": "code",
   "execution_count": 1,
   "metadata": {},
   "outputs": [],
   "source": [
    "import time\n",
    "from functools import wraps    #wraps的作用用于防止修改变量\n",
    "def timethis(func):\n",
    "    @wraps(func)\n",
    "    def wrapper(*args, **kwargs):\n",
    "        start = time.time()\n",
    "        result = func(*args, **kwargs)\n",
    "        end = time.time()\n",
    "        print(func.__name__, end-start)\n",
    "        return result\n",
    "    return wrapper"
   ]
  },
  {
   "cell_type": "markdown",
   "metadata": {},
   "source": [
    "下面是使用这个装饰器的示例："
   ]
  },
  {
   "cell_type": "code",
   "execution_count": 2,
   "metadata": {},
   "outputs": [],
   "source": [
    "@timethis\n",
    "def countdown(n):\n",
    "    while n > 0:\n",
    "        n-= 1 "
   ]
  },
  {
   "cell_type": "code",
   "execution_count": 3,
   "metadata": {},
   "outputs": [
    {
     "name": "stdout",
     "output_type": "stream",
     "text": [
      "countdown 0.005983114242553711\n"
     ]
    }
   ],
   "source": [
    "countdown(100000)"
   ]
  },
  {
   "cell_type": "markdown",
   "metadata": {},
   "source": [
    "装饰器就是一个函数，它可以接受一个函数作为输入并返回一个新的函数作为输出。\n",
    "当像这样编写代码时："
   ]
  },
  {
   "cell_type": "code",
   "execution_count": null,
   "metadata": {},
   "outputs": [],
   "source": [
    "@timethis\n",
    "def countdown(n):\n",
    "    pass"
   ]
  },
  {
   "cell_type": "markdown",
   "metadata": {},
   "source": [
    "和单独执行下列步骤的效果是一样的："
   ]
  },
  {
   "cell_type": "code",
   "execution_count": null,
   "metadata": {},
   "outputs": [],
   "source": [
    "def countdown(n):\n",
    "    countdown = timethis(countdown)"
   ]
  },
  {
   "cell_type": "markdown",
   "metadata": {},
   "source": [
    "顺便插一句，内建的装饰器比如@staticmethod、@classmethod 以及@property 的工作方\n",
    "式也是一样的。比如说，下面这两个代码片段的效果是相同的："
   ]
  },
  {
   "cell_type": "code",
   "execution_count": null,
   "metadata": {},
   "outputs": [],
   "source": [
    "class A:\n",
    "    @classmethod\n",
    "    def method(cls):\n",
    "        pass\n",
    "\n",
    "class B:\n",
    " # Equivalent definition of a class method\n",
    "    def method(cls):\n",
    "        pass\n",
    "    method = classmethod(method)"
   ]
  },
  {
   "cell_type": "markdown",
   "metadata": {},
   "source": [
    "装饰器内部的代码一般会涉及创建一个新的函数，利用*args 和**kwargs 来接受任意的\n",
    "参数。本节示例中的 wrapper()函数正是这么做的。在这个函数内部，我们需要调用原\n",
    "来的输入函数（即被包装的那个函数，它是装饰器的输入参数）并返回它的结果。但\n",
    "是，也可以添加任何想要添加的额外代码（例如计时处理）。这个新创建的 wrapper 函\n",
    "数会作为装饰器的结果返回，取代了原来的函数。"
   ]
  },
  {
   "cell_type": "markdown",
   "metadata": {},
   "source": [
    "需要重点强调的是，装饰器一般来说不会修改调用签名，也不会修改被包装函数返回\n",
    "的结果。这里对*args 和**kwargs 的使用是为了确保可以接受任何形式的输入参数。装\n",
    "饰器的返回值几乎总是同调用 func(*args, **kwargs)的结果一致，这里的 func 就是那个\n",
    "未被包装过的原始函数。"
   ]
  },
  {
   "cell_type": "markdown",
   "metadata": {},
   "source": [
    "当初次学习装饰器时，通过一些简单的例子来入门是很容易的，就像本节给出的那个\n",
    "计时的例子一样。但是，如果打算在生产环境中编写装饰器，那么这里还有一些细节\n",
    "需要考虑。比方说，我们的解决方案中对装饰器@wraps(func)的使用就是一个容易忘\n",
    "记但是却很重要的技术，它可以用来保存函数的元数据。这方面的内容将在下一节中\n",
    "描述。如果我们要编写自己的装饰器函数，那么接下来的几节将会补充一些很重要的\n",
    "细节。\n"
   ]
  }
 ],
 "metadata": {
  "interpreter": {
   "hash": "ad2bdc8ecc057115af97d19610ffacc2b4e99fae6737bb82f5d7fb13d2f2c186"
  },
  "kernelspec": {
   "display_name": "Python 3.9.7 ('base')",
   "language": "python",
   "name": "python3"
  },
  "language_info": {
   "codemirror_mode": {
    "name": "ipython",
    "version": 3
   },
   "file_extension": ".py",
   "mimetype": "text/x-python",
   "name": "python",
   "nbconvert_exporter": "python",
   "pygments_lexer": "ipython3",
   "version": "3.9.7"
  },
  "orig_nbformat": 4
 },
 "nbformat": 4,
 "nbformat_minor": 2
}
