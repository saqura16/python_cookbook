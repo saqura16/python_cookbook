{
 "cells": [
  {
   "cell_type": "markdown",
   "metadata": {},
   "source": [
    "##### 问题:\n",
    "我们想编写一个可接受参数的装饰器函数。"
   ]
  },
  {
   "cell_type": "markdown",
   "metadata": {},
   "source": [
    "##### 解决方案:\n",
    "让我们用一个例子来说明接受参数的过程。假设我们想编写一个为函数添加日志功能\n",
    "的装饰器，但是又允许用户指定日志的等级以及一些其他的细节作为参数。下面是定\n",
    "义这个装饰器的可能做法："
   ]
  },
  {
   "cell_type": "code",
   "execution_count": 7,
   "metadata": {},
   "outputs": [
    {
     "name": "stdout",
     "output_type": "stream",
     "text": [
      "5\n",
      "Spam!\n"
     ]
    }
   ],
   "source": [
    "from functools import wraps\n",
    "import logging\n",
    "def logged(level, name=None, message=None):\n",
    "    def decorate(func):\n",
    "        logname = name if name else func.__module__\n",
    "        log = logging.getLogger(logname)\n",
    "        logmsg = message if message else func.__name__\n",
    "        @wraps(func)\n",
    "        def wrapper(*args, **kwargs):\n",
    "            log.log(level, logmsg)   #不知道log有什么用\n",
    "            return func(*args, **kwargs)\n",
    "        return wrapper\n",
    "    return decorate\n",
    "\n",
    "# Example use\n",
    "@logged(logging.DEBUG)\n",
    "def add(x, y):\n",
    "    return x + y\n",
    "\n",
    "@logged(logging.CRITICAL, 'example')\n",
    "def spam():\n",
    "    print('Spam!')\n",
    "\n",
    "\n",
    "print(add(2,3))\n",
    "spam()  #输出两个spam一个是log.log输出的,一个是spam函数的print"
   ]
  },
  {
   "cell_type": "markdown",
   "metadata": {},
   "source": [
    "初看上去这个实现显得很有技巧性，但其中的思想相对来说是很简单的。最外层的\n",
    "logged()函数接受所需的参数，并让它们对装饰器的内层函数可见。内层的 decorate()\n",
    "函数接受一个函数并给它加上一个包装层。关键部分在于这个包装层可以使用传递给\n",
    "logged()的参数。"
   ]
  },
  {
   "cell_type": "markdown",
   "metadata": {},
   "source": [
    "编写一个可接受参数的装饰器是需要一些技巧的，因为这会涉及底层的调用顺序。具\n",
    "体来说，如果有这样的代码："
   ]
  },
  {
   "cell_type": "code",
   "execution_count": 8,
   "metadata": {},
   "outputs": [
    {
     "data": {
      "text/plain": [
       "'\\n@decorator(x, y, z)\\ndef func(a, b):\\n    pass\\n'"
      ]
     },
     "execution_count": 8,
     "metadata": {},
     "output_type": "execute_result"
    }
   ],
   "source": [
    "'''\n",
    "@decorator(x, y, z)\n",
    "def func(a, b):\n",
    "    pass\n",
    "'''"
   ]
  },
  {
   "cell_type": "markdown",
   "metadata": {},
   "source": [
    "装饰的过程会按照下列方式来进行："
   ]
  },
  {
   "cell_type": "code",
   "execution_count": 9,
   "metadata": {},
   "outputs": [
    {
     "data": {
      "text/plain": [
       "'\\ndef func(a, b):\\n    pass\\nfunc = decorator(x, y, z)(func) \\n\\n'"
      ]
     },
     "execution_count": 9,
     "metadata": {},
     "output_type": "execute_result"
    }
   ],
   "source": [
    "'''\n",
    "def func(a, b):\n",
    "    pass\n",
    "func = decorator(x, y, z)(func) \n",
    "\n",
    "'''"
   ]
  },
  {
   "cell_type": "markdown",
   "metadata": {},
   "source": [
    "请仔细观察，decorator(x, y, z)的结果必须是一个可调用对象，这个对象反过来接受一\n",
    "个函数作为输入，并对其进行包装。请参见 9.7 节中另一个关于让装饰器接受参数的\n",
    "例子。"
   ]
  }
 ],
 "metadata": {
  "interpreter": {
   "hash": "cf9b60c5a2fa413cd21cce5a70eb54d8233b7f3c2bf217096b02f2c4f88c6a2d"
  },
  "kernelspec": {
   "display_name": "Python 3.9.13 64-bit (windows store)",
   "language": "python",
   "name": "python3"
  },
  "language_info": {
   "codemirror_mode": {
    "name": "ipython",
    "version": 3
   },
   "file_extension": ".py",
   "mimetype": "text/x-python",
   "name": "python",
   "nbconvert_exporter": "python",
   "pygments_lexer": "ipython3",
   "version": "3.9.13"
  },
  "orig_nbformat": 4
 },
 "nbformat": 4,
 "nbformat_minor": 2
}
