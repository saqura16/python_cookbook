{
 "cells": [
  {
   "cell_type": "markdown",
   "metadata": {},
   "source": [
    "##### 问题:\n",
    "我们想将print()函数的输出重定向到一个文件中。"
   ]
  },
  {
   "cell_type": "markdown",
   "metadata": {},
   "source": [
    "##### 解决方案:\n",
    "对于这个问题，只需要像这样为print()函数加上file关键字参数即可："
   ]
  },
  {
   "cell_type": "code",
   "execution_count": null,
   "metadata": {},
   "outputs": [],
   "source": [
    "with open('5.2.txt', 'w+') as f: \n",
    "    print('Hello World!', file=f)"
   ]
  },
  {
   "cell_type": "markdown",
   "metadata": {},
   "source": [
    "对于这个主题确实没多少东西可说。只是要确保文件是以文本模式打开的。如果文件是以二进制模式打开的话，打印就会失败。"
   ]
  },
  {
   "cell_type": "markdown",
   "metadata": {},
   "source": [
    "<div>open() 方法</div>\n",
    "<div>Python open() 方法用于打开一个文件，并返回文件对象，在对文件进行处理过程都需要使用到这个函数，如果该文件无法被打开，会抛出 OSError。</div>\n",
    "\n",
    "<div>注意：使用 open() 方法一定要保证关闭文件对象，即调用 close() 方法。</div>\n",
    "\n",
    "<div>open() 函数常用形式是接收两个参数：文件名(file)和模式(mode)。</div>\n",
    "\n",
    "<div>open(file, mode='r')</div>\n",
    "<div>完整的语法格式为：</div>\n",
    "\n",
    "<li>open(file, mode='r', buffering=-1, encoding=None, errors=None, newline=None, closefd=True, opener=None)</li>\n",
    "参数说明:\n",
    "\n",
    "<li>file: 必需，文件路径（相对或者绝对路径）。</li>\n",
    "<li>mode: 可选，文件打开模式</li>\n",
    "<li>buffering: 设置缓冲</li>\n",
    "<li>encoding: 一般使用utf8</li>\n",
    "<li>errors: 报错级别</li>\n",
    "<li>newline: 区分换行符</li>\n",
    "<li>closefd: 传入的file参数类型</li>\n",
    "<li>opener: 设置自定义开启器，开启器的返回值必须是一个打开的文件描述符。</li>\n",
    "<li>mode 参数有：</li>\n",
    "<div>file 对象\n",
    "<div>file 对象使用 open 函数来创建，下表列出了 file 对象常用的函数：</div>\n",
    "\n",
    "<img src=\"3.png\" width=\"80%\">\n",
    "\n",
    "<img src=\"4.png\" width=\"80%\">\n",
    "<h5>方法及描述:</h5>\n",
    "<li>file.close()\n",
    "关闭文件。关闭后文件不能再进行读写操作。\n",
    "<li>file.flush()\n",
    "刷新文件内部缓冲，直接把内部缓冲区的数据立刻写入文件, 而不是被动的等待输出缓冲区写入。\n",
    "<li>file.fileno()\n",
    "返回一个整型的文件描述符(file descriptor FD 整型), 可以用在如os模块的read方法等一些底层操作上。\n",
    "<li>file.isatty()\n",
    "如果文件连接到一个终端设备返回 True，否则返回 False。\n",
    "<li>file.next()\n",
    "Python 3 中的 File 对象不支持 next() 方法。\n",
    "返回文件下一行。\n",
    "<li>file.read([size])\n",
    "从文件读取指定的字节数，如果未给定或为负则读取所有。\n",
    "<li>file.readline([size])\n",
    "读取整行，包括 \"\\n\" 字符。\n",
    "<li>file.readlines([sizeint])\n",
    "读取所有行并返回列表，若给定sizeint>0，返回总和大约为sizeint字节的行, 实际读取值可能比 sizeint 较大, 因为需要填充缓冲区。\n",
    "<li>file.seek(offset[, whence])\n",
    "移动文件读取指针到指定位置\n",
    "<li>file.tell()\n",
    "返回文件当前位置。\n",
    "<li>file.truncate([size])\n",
    "从文件的首行首字符开始截断，截断文件为 size 个字符，无 size 表示从当前位置截断；截断之后后面的所有字符被删除，其中 windows 系统下的换行代表2个字符大小。\n",
    "<li>file.write(str)\n",
    "将字符串写入文件，返回的是写入的字符长度。\n",
    "<li>file.writelines(sequence)\n",
    "向文件写入一个序列字符串列表，如果需要换行则要自己加入每行的换行符。"
   ]
  }
 ],
 "metadata": {
  "interpreter": {
   "hash": "9e68ebf596df7713ab296bba418491aae41f185aff501f4839864b40868f87cf"
  },
  "kernelspec": {
   "display_name": "Python 3.9.12 64-bit (windows store)",
   "language": "python",
   "name": "python3"
  },
  "language_info": {
   "name": "python",
   "version": "3.9.12"
  },
  "orig_nbformat": 4
 },
 "nbformat": 4,
 "nbformat_minor": 2
}
