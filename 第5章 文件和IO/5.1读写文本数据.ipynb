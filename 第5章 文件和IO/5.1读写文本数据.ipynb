{
 "cells": [
  {
   "cell_type": "markdown",
   "metadata": {},
   "source": [
    "##### 问题:\n",
    "我们需要对文本数据进行读写操作，但这个过程有可能针对不同的文本编码进行，比如ASCII、UTF-8或UTF-16编码。"
   ]
  },
  {
   "cell_type": "markdown",
   "metadata": {},
   "source": [
    "##### 解决方案:\n",
    "可以使用open()函数配合rt模式来读取文本文件的内容。示例如下:"
   ]
  },
  {
   "cell_type": "code",
   "execution_count": 4,
   "metadata": {},
   "outputs": [
    {
     "name": "stdout",
     "output_type": "stream",
     "text": [
      "1\n",
      "2\n",
      "3\n",
      "4\n",
      "5\n"
     ]
    }
   ],
   "source": [
    "# Read the entire file as a single string\n",
    "with open('5.1.txt', 'rt') as f:\n",
    "    data = f.read()\n",
    "    print(data)"
   ]
  },
  {
   "cell_type": "code",
   "execution_count": 6,
   "metadata": {},
   "outputs": [
    {
     "name": "stdout",
     "output_type": "stream",
     "text": [
      "1\n",
      "2\n",
      "3\n",
      "4\n",
      "5"
     ]
    }
   ],
   "source": [
    "# Iterate over the lines of the file\n",
    "with open('5.1.txt', 'rt') as f: \n",
    "    for line in f: \n",
    "        print(line,end='')"
   ]
  },
  {
   "cell_type": "markdown",
   "metadata": {},
   "source": [
    "类似地，要对文本文件执行写入操作，可以使用open()函数的wt模式来完成。如果待操作的文件已存在，那么这会清除并覆盖其原先的内容。示例如下：\n"
   ]
  },
  {
   "cell_type": "code",
   "execution_count": 2,
   "metadata": {},
   "outputs": [],
   "source": [
    "#Write chunks of text data\n",
    "text1='123'\n",
    "text2='456'\n",
    "with open('5.1.txt', 'wt') as f:\n",
    "    f.write(text1)\n",
    "    f.write(text2)"
   ]
  },
  {
   "cell_type": "code",
   "execution_count": 3,
   "metadata": {},
   "outputs": [],
   "source": [
    "line1='123'\n",
    "line2='456'\n",
    "# Redirected print statement\n",
    "with open('5.1.txt', 'wt') as f:\n",
    "    print(line1, file=f)\n",
    "    print(line2, file=f)"
   ]
  },
  {
   "cell_type": "markdown",
   "metadata": {},
   "source": [
    "如果要在已存在文件的结尾处追加内容，可以使用open()函数的at模式。"
   ]
  },
  {
   "cell_type": "markdown",
   "metadata": {},
   "source": [
    "默认情况下，文件的读取和写入采用的都是系统默认的文本编码方式，这可以通过sys.getdefaultencoding()来查询。在大多数机器上，这项设定都被设置为utf-8。如果我们知道正在读取或写入的文本采用的是另外一种编码方式，那么可以为open()函数提供一个可选的编码参数。示例如下：\n",
    "<div>with open('somefile.txt', 'rt', encoding='latin-1') as f: <div>"
   ]
  },
  {
   "cell_type": "markdown",
   "metadata": {},
   "source": [
    "Python可以识别出几百种可能的文本编码。但是，一些常见的编码方式不外乎是ascii、latin-1、utf-8以及utf-16。如果要同Web应用程序打交道，采用utf-8编码通常是比较保险的。ascii编码对应于范围U+0000到U+007F中的7比特字符。latin-1编码则是字节0～255对Unicode字符U+0000到U+00FF的直接映射。关于latin-1编码，值得注意的一点是，当读取到未知编码的文本时是不会产生解码错误的。以latin-1方式读取文件可能不会产生完全正确的解码文本，但是要从中提取出有用的数据仍然是足够了。此外，如果稍后将数据重新写入到文件中，那么原始的输入数据将得到保留。"
   ]
  },
  {
   "cell_type": "markdown",
   "metadata": {},
   "source": [
    "一般来说，读写文本文件都是非常简单直接的。但是，这里还是有几个微妙的细节需要引起注意。首先，我们在示例中采用了with语句，这会为使用的文件创建一个上下文环境（context）。当程序的控制流程离开with语句块后，文件将自动关闭。我们并不是一定要使用with语句，但是如果不用的话请确保要记得手动关闭文件："
   ]
  },
  {
   "cell_type": "code",
   "execution_count": 4,
   "metadata": {},
   "outputs": [],
   "source": [
    "f = open('5.1.txt', 'rt') \n",
    "data = f.read() \n",
    "f.close() "
   ]
  },
  {
   "cell_type": "markdown",
   "metadata": {},
   "source": [
    "另一个细微的问题是关于换行符的识别，在UNIX和Windows上它们是不同的（即，\\n和\\r\\n之争）。默认情况下，Python工作在“通用型换行符”模式下。在该模式中，所有常见的换行格式都能识别出来。在读取时会将换行符转换成一个单独的\\n字符。同样地，在输出时换行符\\n会被转换为当前系统默认的换行符。如果你不想要这种“翻译”行为，可以给open()函数提供一个newline=' '的参数，示例如下：\n"
   ]
  },
  {
   "cell_type": "code",
   "execution_count": 5,
   "metadata": {},
   "outputs": [],
   "source": [
    "# Read with disabled newline translation\n",
    "with open('5.1.txt', 'rt', newline='') as f:\n",
    "    pass"
   ]
  },
  {
   "cell_type": "markdown",
   "metadata": {},
   "source": [
    "最后一个问题是关于文本文件中可能出现的编码错误。当我们读取或写入文本文件时，可能会遇到编码或解码错误。例如："
   ]
  },
  {
   "cell_type": "code",
   "execution_count": 8,
   "metadata": {},
   "outputs": [
    {
     "data": {
      "text/plain": [
       "'123456'"
      ]
     },
     "execution_count": 8,
     "metadata": {},
     "output_type": "execute_result"
    }
   ],
   "source": [
    "f = open('5.1.txt', 'rt', encoding='ascii')\n",
    "f.read()"
   ]
  },
  {
   "cell_type": "markdown",
   "metadata": {},
   "source": [
    "文本可能会报错:\n",
    "<img src=\"2.png\" width=120%>"
   ]
  },
  {
   "cell_type": "markdown",
   "metadata": {},
   "source": [
    "如果遇到这个错误，这通常表示没有以正确的编码方式来读取文件。应该仔细阅读要读取的文本的相关规范，并检查自己的操作是否正确（例如不要用latin-1编码方式读取，换成utf-8或者任何所需的编码方式）。如果还是有可能出现编码错误，则可以为open()函数提供一个可选的errors参数来处理错误。"
   ]
  }
 ],
 "metadata": {
  "interpreter": {
   "hash": "9e68ebf596df7713ab296bba418491aae41f185aff501f4839864b40868f87cf"
  },
  "kernelspec": {
   "display_name": "Python 3.9.12 64-bit (windows store)",
   "language": "python",
   "name": "python3"
  },
  "language_info": {
   "codemirror_mode": {
    "name": "ipython",
    "version": 3
   },
   "file_extension": ".py",
   "mimetype": "text/x-python",
   "name": "python",
   "nbconvert_exporter": "python",
   "pygments_lexer": "ipython3",
   "version": "3.9.12"
  },
  "orig_nbformat": 4
 },
 "nbformat": 4,
 "nbformat_minor": 2
}
