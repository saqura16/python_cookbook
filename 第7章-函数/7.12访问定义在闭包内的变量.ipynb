{
 "cells": [
  {
   "cell_type": "markdown",
   "metadata": {},
   "source": [
    "##### 问题:\n",
    "我们希望通过函数来扩展闭包，使得在闭包内层定义的变量可以被访问和修改。"
   ]
  },
  {
   "cell_type": "markdown",
   "metadata": {},
   "source": [
    "##### 解决方案:\n",
    "一般来说，在闭包内层定义的变量对于外界来说完全是隔离的。但是，可以通过编写\n",
    "存取函数（accessor function，即 getter/setter 方法）并将它们作为函数属性附加到闭包\n",
    "上来提供对内层变量的访问支持。示例如下："
   ]
  },
  {
   "cell_type": "code",
   "execution_count": 45,
   "metadata": {},
   "outputs": [],
   "source": [
    "def sample():\n",
    "    n = 0\n",
    " # Closure function\n",
    "    def func():\n",
    "        print('n=', n)\n",
    "    # Accessor methods for n\n",
    "    def get_n():\n",
    "        return n\n",
    "\n",
    "    def set_n(value):\n",
    "        nonlocal n\n",
    "        n = value\n",
    "\n",
    "    # Attach as function attributes\n",
    "    func.get_n = get_n\n",
    "    func.set_n = set_n\n",
    "    return func \n",
    "\n"
   ]
  },
  {
   "cell_type": "code",
   "execution_count": 46,
   "metadata": {},
   "outputs": [
    {
     "name": "stdout",
     "output_type": "stream",
     "text": [
      "n= 0\n",
      "n= 10\n"
     ]
    },
    {
     "data": {
      "text/plain": [
       "10"
      ]
     },
     "execution_count": 46,
     "metadata": {},
     "output_type": "execute_result"
    }
   ],
   "source": [
    "f = sample()\n",
    "f() \n",
    "f.set_n(10)     \n",
    "f() \n",
    "f.get_n() \n"
   ]
  },
  {
   "cell_type": "markdown",
   "metadata": {},
   "source": [
    "这里主要用到了两个特性使得本节讨论的技术得以成功实施。首先，nonlocal 声明使得\n",
    "编写函数来修改内层变量成为可能。其次，函数属性能够将存取函数以直接的方式附\n",
    "加到闭包函数上，它们工作起来很像实例的方法（尽管这里并没有涉及类）。"
   ]
  },
  {
   "cell_type": "markdown",
   "metadata": {},
   "source": [
    "对本节提到的技术稍作扩展就可以让闭包模拟成类实例。我们所要做的就是将内层函\n",
    "数拷贝到一个实例的字典中然后将它返回。示例如下："
   ]
  },
  {
   "cell_type": "code",
   "execution_count": 47,
   "metadata": {},
   "outputs": [],
   "source": [
    "import sys\n",
    "class ClosureInstance:\n",
    "    def __init__(self, locals=None):\n",
    "        if locals is None:\n",
    "            locals = sys._getframe(1).f_locals\n",
    "        # Update instance dictionary with callables\n",
    "        self.__dict__.update((key,value) for key, value in locals.items() if callable(value) )\n",
    "\n",
    " # Redirect special methods\n",
    "    def __len__(self):\n",
    "        return self.__dict__['__len__']()\n",
    "    # Example use\n",
    "\n",
    "def Stack():\n",
    "    items = []\n",
    "    def push(item):\n",
    "        items.append(item)\n",
    "    def pop():\n",
    "        return items.pop()\n",
    "    def __len__():\n",
    "        return len(items)\n",
    "    return ClosureInstance()"
   ]
  },
  {
   "cell_type": "code",
   "execution_count": 48,
   "metadata": {},
   "outputs": [
    {
     "name": "stdout",
     "output_type": "stream",
     "text": [
      "<__main__.ClosureInstance object at 0x000001FD1D202C40>\n",
      "3\n",
      "Hello\n",
      "20\n",
      "10\n"
     ]
    }
   ],
   "source": [
    "s = Stack() \n",
    "print(s)\n",
    "s.push(10)\n",
    "s.push(20)\n",
    "s.push('Hello')\n",
    "print(len(s)) \n",
    "print(s.pop())\n",
    "print(s.pop())\n",
    "print(s.pop())"
   ]
  },
  {
   "cell_type": "markdown",
   "metadata": {},
   "source": [
    "有趣的是，这份代码运行起来比使用一个普通的类定义要稍微快一些。比如，我们可\n",
    "能会用下面这个类来做对比测试："
   ]
  },
  {
   "cell_type": "code",
   "execution_count": 49,
   "metadata": {},
   "outputs": [],
   "source": [
    "class Stack2:\n",
    "    def __init__(self):\n",
    "        self.items = []\n",
    "    def push(self, item):\n",
    "        self.items.append(item)\n",
    "    def pop(self):\n",
    "        return self.items.pop()\n",
    "    def __len__(self):\n",
    "        return len(self.items)"
   ]
  },
  {
   "cell_type": "markdown",
   "metadata": {},
   "source": [
    "如果进行对比测试，将得到类似如下的结果："
   ]
  },
  {
   "cell_type": "code",
   "execution_count": 50,
   "metadata": {},
   "outputs": [
    {
     "name": "stdout",
     "output_type": "stream",
     "text": [
      "1.8519595000000209\n",
      "1.912212899999986\n"
     ]
    }
   ],
   "source": [
    "from timeit import timeit\n",
    "# Test involving closures\n",
    "s = Stack()\n",
    "print(timeit('s.push(1);s.pop()', 'from __main__ import s'))\n",
    "\n",
    "# Test involving a class\n",
    "s = Stack2()\n",
    "print(timeit('s.push(1);s.pop()', 'from __main__ import s'))"
   ]
  },
  {
   "cell_type": "markdown",
   "metadata": {},
   "source": [
    "我们可以看到，采用闭包的版本要快大约 8%。测试中的大部分时间都花在对实例变量\n",
    "的直接访问上，闭包要更快一些，这是因为不用涉及额外的 self 变量。"
   ]
  },
  {
   "cell_type": "markdown",
   "metadata": {},
   "source": [
    "Raymond Herringer 在这个思路的基础上设计出了一种更加“恐怖”的变种。但是，在\n",
    "自己的代码中应该对这种奇技淫巧持谨慎的态度。请注意，相比一个真正的类，这种\n",
    "方法是相当怪异的。比如，像继承、属性、描述符或者类方法这样的主要特性在这种\n",
    "方法中都是无法使用的。我们还需要玩一些花招才能让特殊方法正常工作（比如，参\n",
    "考 ClosureInstance 中对__len__()的实现）。"
   ]
  },
  {
   "cell_type": "markdown",
   "metadata": {},
   "source": [
    "最后，这么做会使得阅读你代码的人犯糊涂。他们会想知道这么做看起来和一个普通\n",
    "的类定义相比有什么区别（当然了，他们也想知道为什么这么做会运行的更快一些）。\n",
    "尽管如此，这仍然是个有趣的例子，它告诉我们对闭包内部提供访问机制能够实现出\n",
    "什么样的功能。"
   ]
  },
  {
   "cell_type": "markdown",
   "metadata": {},
   "source": [
    "从全局的角度考虑，为闭包增加方法可能会有着更多的实际用途，比如我们想重置内\n",
    "部状态、刷新缓冲区、清除缓存或者实现某种形式的反馈机制（feedback mechanism）。"
   ]
  }
 ],
 "metadata": {
  "interpreter": {
   "hash": "cf9b60c5a2fa413cd21cce5a70eb54d8233b7f3c2bf217096b02f2c4f88c6a2d"
  },
  "kernelspec": {
   "display_name": "Python 3.9.13 64-bit (windows store)",
   "language": "python",
   "name": "python3"
  },
  "language_info": {
   "codemirror_mode": {
    "name": "ipython",
    "version": 3
   },
   "file_extension": ".py",
   "mimetype": "text/x-python",
   "name": "python",
   "nbconvert_exporter": "python",
   "pygments_lexer": "ipython3",
   "version": "3.9.13"
  },
  "orig_nbformat": 4
 },
 "nbformat": 4,
 "nbformat_minor": 2
}
