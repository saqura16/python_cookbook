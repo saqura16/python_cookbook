{
 "cells": [
  {
   "cell_type": "markdown",
   "metadata": {},
   "source": [
    "##### 问题:\n",
    "我们想编写一个可接受任意数量参数的函数。"
   ]
  },
  {
   "cell_type": "markdown",
   "metadata": {},
   "source": [
    "##### 解决方案：\n",
    "要编写一个可接受任意数量的位置参数的函数，可以使用以*开头的参数。示例如下："
   ]
  },
  {
   "cell_type": "code",
   "execution_count": 1,
   "metadata": {},
   "outputs": [
    {
     "name": "stdout",
     "output_type": "stream",
     "text": [
      "1.5\n",
      "2.5\n"
     ]
    }
   ],
   "source": [
    "def avg(first, *rest): \n",
    "    return (first + sum(rest)) / (1 + len(rest))\n",
    "\n",
    "print(avg(1, 2))\n",
    "print(avg(1, 2, 3, 4))"
   ]
  },
  {
   "cell_type": "markdown",
   "metadata": {},
   "source": [
    "在这个示例中，rest是一个元组，它包含了其他所有传递过来的位置参数。代码在之后的计算中会将其视为一个序列来处理。"
   ]
  },
  {
   "cell_type": "markdown",
   "metadata": {},
   "source": [
    "如果要接受任意数量的关键字参数，可以使用以**开头的参数。示例如下："
   ]
  },
  {
   "cell_type": "code",
   "execution_count": 2,
   "metadata": {},
   "outputs": [
    {
     "name": "stdout",
     "output_type": "stream",
     "text": [
      "<item size=\"large\" quantity=\"6\">Albatross</item>\n"
     ]
    },
    {
     "data": {
      "text/plain": [
       "'<p>&lt;spam&gt;</p>'"
      ]
     },
     "execution_count": 2,
     "metadata": {},
     "output_type": "execute_result"
    }
   ],
   "source": [
    "import html\n",
    "\n",
    "def make_element(name, value, **attrs):\n",
    "    keyvals = [' %s=\"%s\"' % item for item in attrs.items()]\n",
    "    attr_str = ''.join(keyvals)\n",
    "    element = '<{name}{attrs}>{value}</{name}>'.format(name=name,attrs=attr_str,value=html.escape(value))\n",
    "    return element \n",
    "# Example\n",
    "# Creates '<item size=\"large\" quantity=\"6\">Albatross</item>'\n",
    "print(make_element('item', 'Albatross', size='large', quantity=6))\n",
    "# Creates '<p>&lt;spam&gt;</p>'\n",
    "make_element('p', '<spam>')"
   ]
  },
  {
   "cell_type": "markdown",
   "metadata": {},
   "source": [
    "在这里attrs是一个字典，它包含了所有传递过来的关键字参数（如果有的话）。"
   ]
  },
  {
   "cell_type": "markdown",
   "metadata": {},
   "source": [
    "如果想要函数能同时接受任意数量的位置参数和关键字参数，只要联合使用*和**即可。示例如下："
   ]
  },
  {
   "cell_type": "code",
   "execution_count": 3,
   "metadata": {},
   "outputs": [],
   "source": [
    "def anyargs(*args, **kwargs): \n",
    "    print(args)       # A tuple\n",
    "    print(kwargs)    # A dict"
   ]
  },
  {
   "cell_type": "markdown",
   "metadata": {},
   "source": [
    "在这个函数中，所有的位置参数都会放置在元组args中，而所有的关键字参数都会放置在字典kwargs中。    "
   ]
  },
  {
   "cell_type": "markdown",
   "metadata": {},
   "source": [
    "在函数定义中，以*打头的参数只能作为最后一个位置参数出现，而以**打头的参数只能作为最后一个参数出现。在函数定义中存在一个很微妙的特性，那就是在*打头的参数后仍然可以有其他的参数出现。"
   ]
  },
  {
   "cell_type": "code",
   "execution_count": 4,
   "metadata": {},
   "outputs": [],
   "source": [
    "def a(x, *args, y): \n",
    "    pass\n",
    "def b(x, *args, y, **kwargs):\n",
    "    pass"
   ]
  },
  {
   "cell_type": "markdown",
   "metadata": {},
   "source": [
    "这样的参数称之为keyword-only参数（即，出现在*args之后的参数只能作为关键字参数使用）。"
   ]
  }
 ],
 "metadata": {
  "interpreter": {
   "hash": "9e68ebf596df7713ab296bba418491aae41f185aff501f4839864b40868f87cf"
  },
  "kernelspec": {
   "display_name": "Python 3.9.12 64-bit (windows store)",
   "language": "python",
   "name": "python3"
  },
  "language_info": {
   "codemirror_mode": {
    "name": "ipython",
    "version": 3
   },
   "file_extension": ".py",
   "mimetype": "text/x-python",
   "name": "python",
   "nbconvert_exporter": "python",
   "pygments_lexer": "ipython3",
   "version": "3.9.12"
  },
  "orig_nbformat": 4
 },
 "nbformat": 4,
 "nbformat_minor": 2
}
