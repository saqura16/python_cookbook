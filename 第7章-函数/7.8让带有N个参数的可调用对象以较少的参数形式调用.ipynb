{
 "cells": [
  {
   "cell_type": "markdown",
   "metadata": {},
   "source": [
    "##### 问题:\n",
    "我们有一个可调用对象可能会以回调函数的形式同其他的Python代码交互。但是这个可调用对象需要的参数过多，如果直接调用的话会产生异常。"
   ]
  },
  {
   "cell_type": "markdown",
   "metadata": {},
   "source": [
    "##### 解决方案:\n",
    "如果需要减少函数的参数数量，应该使用functools.partial()。函数partial()允许我们给一个或多个参数指定固定的值，以此减少需要提供给之后调用的参数数量。为了说明这个过程，假设有这么一个函数："
   ]
  },
  {
   "cell_type": "code",
   "execution_count": 15,
   "metadata": {},
   "outputs": [],
   "source": [
    "def spam(a, b, c, d): \n",
    "    print(a, b, c, d)"
   ]
  },
  {
   "cell_type": "markdown",
   "metadata": {},
   "source": [
    "现在考虑用partial()来对参数赋固定的值："
   ]
  },
  {
   "cell_type": "code",
   "execution_count": 16,
   "metadata": {},
   "outputs": [
    {
     "name": "stdout",
     "output_type": "stream",
     "text": [
      "1 2 3 4\n",
      "1 4 5 6\n"
     ]
    }
   ],
   "source": [
    "from functools import partial \n",
    "s1 = partial(spam, 1)\n",
    "s1(2, 3, 4)\n",
    "s1(4, 5, 6)"
   ]
  },
  {
   "cell_type": "code",
   "execution_count": 17,
   "metadata": {},
   "outputs": [
    {
     "name": "stdout",
     "output_type": "stream",
     "text": [
      "1 2 3 42\n",
      "4 5 5 42\n"
     ]
    }
   ],
   "source": [
    "s2 = partial(spam, d=42)  # d = 42\n",
    "s2(1, 2, 3)\n",
    "s2(4, 5, 5)"
   ]
  },
  {
   "cell_type": "code",
   "execution_count": 18,
   "metadata": {},
   "outputs": [
    {
     "name": "stdout",
     "output_type": "stream",
     "text": [
      "1 2 3 42\n",
      "1 2 4 42\n"
     ]
    }
   ],
   "source": [
    "s3 = partial(spam, 1, 2, d=42)  # a = 1, b = 2, d = 42\n",
    "\n",
    "s3(3) \n",
    "s3(4)"
   ]
  },
  {
   "cell_type": "markdown",
   "metadata": {},
   "source": [
    "我们可以观察到partial()对特定的参数赋了固定值并返回了一个全新的可调用对象。这个新的可调用对象仍然需要通过指定那些未被赋值的参数来调用。这个新的可调用对象将传递给partial()的固定参数结合起来，统一将所有的参数传递给原始的函数。"
   ]
  }
 ],
 "metadata": {
  "interpreter": {
   "hash": "cf9b60c5a2fa413cd21cce5a70eb54d8233b7f3c2bf217096b02f2c4f88c6a2d"
  },
  "kernelspec": {
   "display_name": "Python 3.9.12 64-bit (windows store)",
   "language": "python",
   "name": "python3"
  },
  "language_info": {
   "name": "python",
   "version": "3.9.12"
  },
  "orig_nbformat": 4
 },
 "nbformat": 4,
 "nbformat_minor": 2
}
