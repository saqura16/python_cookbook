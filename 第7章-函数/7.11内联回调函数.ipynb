{
 "cells": [
  {
   "cell_type": "markdown",
   "metadata": {},
   "source": [
    "##### 问题:\n",
    "我们正在编写使用回调函数的代码，但是担心小型函数在代码中大肆泛滥，程序的控\n",
    "制流会因此而失控。我们希望能有某种方法使代码看起来更像一般的过程式步骤。\n"
   ]
  },
  {
   "cell_type": "markdown",
   "metadata": {},
   "source": [
    "##### 解决方案:\n",
    "我们可以通过生成器和协程将回调函数内联到一个函数中。为了说明，假设有一个函\n",
    "数会按照下面的方式调用回调函数（参见 7.10 节）："
   ]
  },
  {
   "cell_type": "code",
   "execution_count": 5,
   "metadata": {},
   "outputs": [],
   "source": [
    "def apply_async(func, args, *, callback):\n",
    "    # Compute the result\n",
    "    result = func(*args)\n",
    "    # Invoke the callback with the result\n",
    "    callback(result) \n"
   ]
  },
  {
   "cell_type": "markdown",
   "metadata": {},
   "source": [
    "现在看看接下来的支持代码，这里涉及一个 Async 类和 inlined_async 装饰器："
   ]
  },
  {
   "cell_type": "code",
   "execution_count": 6,
   "metadata": {},
   "outputs": [],
   "source": [
    "from queue import Queue\n",
    "from functools import wraps\n",
    "class Async:\n",
    "    def __init__(self, func, args):\n",
    "        self.func = func\n",
    "        self.args = args\n",
    "def inlined_async(func):\n",
    "    @wraps(func)\n",
    "    def wrapper(*args):\n",
    "        f = func(*args)\n",
    "        result_queue = Queue()\n",
    "        result_queue.put(None)  \n",
    "        while True:\n",
    "            result = result_queue.get()\n",
    "            try:\n",
    "                a = f.send(result)\n",
    "                apply_async(a.func, a.args, callback=result_queue.put)\n",
    "            except StopIteration:\n",
    "                break\n",
    "    return wrapper"
   ]
  },
  {
   "cell_type": "markdown",
   "metadata": {},
   "source": [
    "这两段代码允许我们通过 yield 语句将回调函数变为内联式的，示例如下:"
   ]
  },
  {
   "cell_type": "code",
   "execution_count": 7,
   "metadata": {},
   "outputs": [],
   "source": [
    "def add(x, y):\n",
    "    return x + y\n",
    "@inlined_async\n",
    "def test():\n",
    "    r = yield Async(add, (2, 3))\n",
    "    print(r)\n",
    "    r = yield Async(add, ('hello', 'world'))\n",
    "    print(r)\n",
    "    for n in range(10):\n",
    "        r = yield Async(add, (n, n))\n",
    "        print(r)\n",
    "    print('Goodbye')"
   ]
  },
  {
   "cell_type": "code",
   "execution_count": 8,
   "metadata": {},
   "outputs": [
    {
     "name": "stdout",
     "output_type": "stream",
     "text": [
      "5\n",
      "helloworld\n",
      "0\n",
      "2\n",
      "4\n",
      "6\n",
      "8\n",
      "10\n",
      "12\n",
      "14\n",
      "16\n",
      "18\n",
      "Goodbye\n"
     ]
    }
   ],
   "source": [
    "test()"
   ]
  },
  {
   "cell_type": "markdown",
   "metadata": {},
   "source": [
    "除了那个特殊的装饰器和对 yield 的使用之外，我们会发现代码中根本就没有出现回调\n",
    "函数（它们只是隐藏在幕后了）。"
   ]
  },
  {
   "cell_type": "markdown",
   "metadata": {},
   "source": [
    "本节将真正考验一下读者对回调函数、生成器以及程序控制流方面的掌控情况。"
   ]
  },
  {
   "cell_type": "markdown",
   "metadata": {},
   "source": [
    "首先，在涉及回调函数的代码中，问题的关键就在于当前的计算会被挂起，然后在稍\n",
    "后某个时刻再得到恢复。当计算得到恢复时，回调函数将得以继续处理执行。示例中\n",
    "的 apply_async()函数对执行回调函数的关键部分做了简单的说明，尽管在现实世界中这\n",
    "会复杂得多（涉及线程、进程、事件处理例程等）。"
   ]
  },
  {
   "cell_type": "markdown",
   "metadata": {},
   "source": [
    "将计算挂起之后再恢复，这个思想非常自然地同生成器函数对应了起来。具体来说就\n",
    "是 yield 操作使得生成器函数产生出一个值然后就挂起，后续调用生成器的__next__()\n",
    "或者 send()方法会使得它再次启动。"
   ]
  },
  {
   "cell_type": "markdown",
   "metadata": {},
   "source": [
    "鉴于此，本节的核心就在 inline_async()装饰器函数中。关键点就是对于生成器函数的\n",
    "所有 yield 语句装饰器都会逐条进行跟踪，一次一个。为了做到这点，我们创建了一\n",
    "个队列用来保存结果，初始时用 None 来填充。之后通过循环将结果从队列中取出，\n",
    "然后发送给生成器，这样就会产生下一次 yield，此时就会接收到 Async 的实例。然\n",
    "后在循环中查找函数和参数，开始异步计算 apply_async()。但是，这个过程中最为隐\n",
    "蔽的部分就在于这里没有使用普通的回调函数，回调过程被设定到队列的 put()方法\n",
    "中了。"
   ]
  },
  {
   "cell_type": "markdown",
   "metadata": {},
   "source": [
    "此时应该可以精确描述到底都发生了些什么。主循环会迅速回到顶层，并在队列中执\n",
    "行一个 get()操作。如果有数据存在，那它就一定是由 put()回调产生的结果。如果什么\n",
    "都没有，操作就会阻塞，等待之后某个时刻会有结果到来。至于结果要如何产生，这取\n",
    "决于 apply_async()函数的实现。\n"
   ]
  }
 ],
 "metadata": {
  "interpreter": {
   "hash": "cf9b60c5a2fa413cd21cce5a70eb54d8233b7f3c2bf217096b02f2c4f88c6a2d"
  },
  "kernelspec": {
   "display_name": "Python 3.9.13 64-bit (windows store)",
   "language": "python",
   "name": "python3"
  },
  "language_info": {
   "codemirror_mode": {
    "name": "ipython",
    "version": 3
   },
   "file_extension": ".py",
   "mimetype": "text/x-python",
   "name": "python",
   "nbconvert_exporter": "python",
   "pygments_lexer": "ipython3",
   "version": "3.9.13"
  },
  "orig_nbformat": 4
 },
 "nbformat": 4,
 "nbformat_minor": 2
}
