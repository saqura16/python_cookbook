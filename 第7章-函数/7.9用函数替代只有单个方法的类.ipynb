{
 "cells": [
  {
   "cell_type": "markdown",
   "metadata": {},
   "source": [
    "##### 问题:\n",
    "我们有一个只定义了一个方法的类（除__init__()方法外）。但是，为了简化代码，我们更希望能够只用一个简单的函数来替代。"
   ]
  },
  {
   "cell_type": "markdown",
   "metadata": {},
   "source": [
    "##### 解决方案:\n",
    "在许多情况下，只有单个方法的类可以通过闭包（closure）将其转换成函数。考虑下面这个例子，这个类允许用户通过某种模板方案来获取URL。"
   ]
  },
  {
   "cell_type": "markdown",
   "metadata": {},
   "source": [
    "from urllib.request import urlopen \n",
    "class UrlTemplate: \n",
    "    def __init__(self, template):\n",
    "            self.template = template \n",
    "    def open(self, **kwargs): \n",
    "        return urlopen(self.template.format_map(kwargs)) \n",
    "\n",
    "yahoo = UrlTemplate('http://finance.yahoo.com/d/quotes.csv?s={names}&f={fields}') \n",
    "for line in yahoo.open(names='IBM,AAPL,FB', fields='sl1c1v'):\n",
    "    print(line.decode('utf-8'))\n"
   ]
  },
  {
   "cell_type": "markdown",
   "metadata": {},
   "source": [
    "这个类可以用一个简单的函数来取代"
   ]
  },
  {
   "cell_type": "markdown",
   "metadata": {},
   "source": [
    "def urltemplate(template): \n",
    "    def opener(**kwargs): \n",
    "        return urlopen(template.format_map(kwargs)) \n",
    "    return opener \n",
    "#Example \n",
    "useyahoo = urltemplate('http://finance.yahoo.com/d/quotes.csv?s={names}&f={fields}') \n",
    "for line in yahoo(names='IBM,AAPL,FB', fields='sl1c1v'):\n",
    "    print(line.decode('utf-8'))"
   ]
  },
  {
   "cell_type": "markdown",
   "metadata": {},
   "source": [
    "在许多情况下，我们会使用只有单个方法的类的唯一原因就是保存额外的状态给类方法使用。比方说，UrlTemplate类的唯一目的就是将template的值保存在某处，这样就可以在open()方法中用上它了。按照我们给出的解决方案，使用嵌套函数或者说闭包常常会显得更加优雅。简单来说，闭包就是一个函数，但是它还保存着额外的变量环境，使得这些变量可以在函数中使用。闭包的核心特性就是它可以记住定义闭包时的环境。因此，在这个解决方案中，opener()函数可以记住参数template的值，然后在随后的调用中使用该值。无论何时，当在编写代码中遇到需要附加额外的状态给函数时，请考虑使用闭包。比起将函数放入一个“全副武装”的类中，基于闭包的解决方案通常更加简短也更加优雅"
   ]
  }
 ],
 "metadata": {
  "interpreter": {
   "hash": "cf9b60c5a2fa413cd21cce5a70eb54d8233b7f3c2bf217096b02f2c4f88c6a2d"
  },
  "kernelspec": {
   "display_name": "Python 3.9.12 64-bit (windows store)",
   "language": "python",
   "name": "python3"
  },
  "language_info": {
   "codemirror_mode": {
    "name": "ipython",
    "version": 3
   },
   "file_extension": ".py",
   "mimetype": "text/x-python",
   "name": "python",
   "nbconvert_exporter": "python",
   "pygments_lexer": "ipython3",
   "version": "3.9.12"
  },
  "orig_nbformat": 4
 },
 "nbformat": 4,
 "nbformat_minor": 2
}
