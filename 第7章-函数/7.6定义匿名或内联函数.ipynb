{
 "cells": [
  {
   "cell_type": "markdown",
   "metadata": {},
   "source": [
    "##### 问题:\n",
    "我们需要提供一个短小的回调函数为sort()这样的操作所用，但是又不想通过def语句编写一个单行的函数。相反，我们更希望能有一种简便的方式来定义“内联”式的函数。"
   ]
  },
  {
   "cell_type": "markdown",
   "metadata": {},
   "source": [
    "##### 解决方案:\n",
    "像这种仅仅完成表达式求值的简单函数可以通过lambda表达式来替代。示例如下："
   ]
  },
  {
   "cell_type": "code",
   "execution_count": 1,
   "metadata": {},
   "outputs": [
    {
     "data": {
      "text/plain": [
       "5"
      ]
     },
     "execution_count": 1,
     "metadata": {},
     "output_type": "execute_result"
    }
   ],
   "source": [
    "add = lambda x, y: x + y\n",
    "add(2,3)"
   ]
  },
  {
   "cell_type": "code",
   "execution_count": 2,
   "metadata": {},
   "outputs": [
    {
     "data": {
      "text/plain": [
       "'helloworld'"
      ]
     },
     "execution_count": 2,
     "metadata": {},
     "output_type": "execute_result"
    }
   ],
   "source": [
    "add('hello', 'world')"
   ]
  },
  {
   "cell_type": "markdown",
   "metadata": {},
   "source": [
    "这里用到的lambda表达式与下面的函数定义有着相同的功能："
   ]
  },
  {
   "cell_type": "code",
   "execution_count": 3,
   "metadata": {},
   "outputs": [
    {
     "data": {
      "text/plain": [
       "5"
      ]
     },
     "execution_count": 3,
     "metadata": {},
     "output_type": "execute_result"
    }
   ],
   "source": [
    "def add(x, y): \n",
    "    return x + y \n",
    "\n",
    "add(2,3)"
   ]
  },
  {
   "cell_type": "markdown",
   "metadata": {},
   "source": [
    "一般来说，lambda表达式可用在如下的上下文环境中，比如排序或者对数据进行整理时："
   ]
  },
  {
   "cell_type": "code",
   "execution_count": 10,
   "metadata": {},
   "outputs": [
    {
     "data": {
      "text/plain": [
       "['Ned Batchelder', 'David Beazley', 'Raymond Hettinger', 'Brian Jones']"
      ]
     },
     "execution_count": 10,
     "metadata": {},
     "output_type": "execute_result"
    }
   ],
   "source": [
    "names = ['David Beazley', 'Brian Jones', 'Raymond Hettinger', 'Ned Batchelder']\n",
    "\n",
    "sorted(names, key=lambda name: name.split()[-1].lower())  #name.split()[-1].lower()按空格切分取最后一片转化为小写"
   ]
  },
  {
   "cell_type": "markdown",
   "metadata": {},
   "source": [
    "尽管lambda表达式允许定义简单的函数，但它的局限性也很大。具体来说，我们只能指定一条单独的表达式，这个表达式的结果就是函数的返回值。这意味着其他的语言特性比如多行语句、条件分支、迭代和异常处理统统都无法使用。\n"
   ]
  },
  {
   "cell_type": "markdown",
   "metadata": {},
   "source": [
    "不使用lambda表达式也可以愉快地编写出大量的Python代码。但是，还是时不时会在一些程序中见到lambda的身影。比如有的人会编写很多微型函数来对各种表达式进行求值，或者在需要用户提供回调函数的时候，这时lambda表达式就能派上用场了"
   ]
  }
 ],
 "metadata": {
  "interpreter": {
   "hash": "cf9b60c5a2fa413cd21cce5a70eb54d8233b7f3c2bf217096b02f2c4f88c6a2d"
  },
  "kernelspec": {
   "display_name": "Python 3.9.12 64-bit (windows store)",
   "language": "python",
   "name": "python3"
  },
  "language_info": {
   "codemirror_mode": {
    "name": "ipython",
    "version": 3
   },
   "file_extension": ".py",
   "mimetype": "text/x-python",
   "name": "python",
   "nbconvert_exporter": "python",
   "pygments_lexer": "ipython3",
   "version": "3.9.12"
  },
  "orig_nbformat": 4
 },
 "nbformat": 4,
 "nbformat_minor": 2
}
